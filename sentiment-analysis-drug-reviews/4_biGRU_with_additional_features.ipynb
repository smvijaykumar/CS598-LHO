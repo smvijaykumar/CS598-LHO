{
 "cells": [
  {
   "cell_type": "markdown",
   "metadata": {},
   "source": [
    "# Build a biGRU neural network model with additional features\n",
    "\n",
    "In this notebook, we are going to build a bidirectional Gated Recurrent Unit neural network model, which will use the clean_review feature as in the previous notebook, but this time we will also use additional features that we created in the first tutorial. The extra features that will be passed to the model are the following: polarity, subjectivity, word count, Part-Of-Speech tags ratio, uppercase words ratio and digits ratio.\n",
    "\n",
    "In the end, the model will be evaluated on the test set to determine the generalization error.\n"
   ]
  },
  {
   "cell_type": "markdown",
   "metadata": {},
   "source": [
    "### Model's architecture\n",
    "<br>\n",
    "<div>\n",
    "<img src=\"assets/BiGRU_feat_schema.png\" width=\"900\" />\n",
    "</div>"
   ]
  },
  {
   "cell_type": "markdown",
   "metadata": {},
   "source": [
    "The changes that we need to do compared to the previous model are as follows, scaled additional features have to be passed to the forward method of our model, then after the GRU they will be concatenated together with max-pooled, avg-pooled and last hidden size. The concatenated tensor will be next passed to the linear layer, so we have to change its input size to hidden_size * 3 + num_features. Increasing the number of input features may cause that the model will be more susceptible to overfitting, thus some measures could be required to take to prevent that."
   ]
  },
  {
   "cell_type": "markdown",
   "metadata": {},
   "source": [
    "### Building and training the model\n",
    "\n",
    "Let's start with importing all indispensable libraries."
   ]
  },
  {
   "cell_type": "code",
   "execution_count": 1,
   "metadata": {},
   "outputs": [],
   "source": [
    "from batch_iterator import BatchIterator\n",
    "from early_stopping import EarlyStopping\n",
    "import pandas as pd\n",
    "import torch\n",
    "import torch.nn as nn\n",
    "import torch.nn.functional as F\n",
    "from torch import device\n",
    "from tqdm import tqdm_notebook\n",
    "import numpy as np\n",
    "import matplotlib.pyplot as plt\n",
    "import seaborn as sns\n",
    "from sklearn.metrics import confusion_matrix\n",
    "from sklearn.preprocessing import StandardScaler"
   ]
  },
  {
   "cell_type": "markdown",
   "metadata": {},
   "source": [
    "Now, we are going to load the tarining and validation sets. We will import sets with all columns except the review column."
   ]
  },
  {
   "cell_type": "code",
   "execution_count": 4,
   "metadata": {},
   "outputs": [],
   "source": [
    "# Import the dataset. \n",
    "train_dataset = pd.read_csv('dataset/drugreview_feat_clean/train_feat_clean.csv', \n",
    "                            usecols=['clean_review', 'polarity', 'subjectivity', 'word_count', 'UPPERCASE', 'DIGITS',\n",
    "                                      'PROPN', 'VERB', 'NOUN', 'PUNCT', 'ADJ', 'rating'])\n",
    "\n",
    "# Change columns order\n",
    "train_dataset['label'] = train_dataset.rating >= 5\n",
    "train_dataset = train_dataset[['clean_review', 'polarity', 'subjectivity', 'word_count', 'UPPERCASE', 'DIGITS',\n",
    "                               'PROPN', 'VERB', 'NOUN', 'PUNCT', 'ADJ', 'label']]"
   ]
  },
  {
   "cell_type": "code",
   "execution_count": 5,
   "metadata": {},
   "outputs": [
    {
     "data": {
      "text/html": [
       "<div>\n",
       "<style scoped>\n",
       "    .dataframe tbody tr th:only-of-type {\n",
       "        vertical-align: middle;\n",
       "    }\n",
       "\n",
       "    .dataframe tbody tr th {\n",
       "        vertical-align: top;\n",
       "    }\n",
       "\n",
       "    .dataframe thead th {\n",
       "        text-align: right;\n",
       "    }\n",
       "</style>\n",
       "<table border=\"1\" class=\"dataframe\">\n",
       "  <thead>\n",
       "    <tr style=\"text-align: right;\">\n",
       "      <th></th>\n",
       "      <th>clean_review</th>\n",
       "      <th>polarity</th>\n",
       "      <th>subjectivity</th>\n",
       "      <th>word_count</th>\n",
       "      <th>UPPERCASE</th>\n",
       "      <th>DIGITS</th>\n",
       "      <th>PROPN</th>\n",
       "      <th>VERB</th>\n",
       "      <th>NOUN</th>\n",
       "      <th>PUNCT</th>\n",
       "      <th>ADJ</th>\n",
       "      <th>label</th>\n",
       "    </tr>\n",
       "  </thead>\n",
       "  <tbody>\n",
       "    <tr>\n",
       "      <td>2</td>\n",
       "      <td>young suffering severe extreme neck pain resul...</td>\n",
       "      <td>-0.04166</td>\n",
       "      <td>0.4026</td>\n",
       "      <td>120.0</td>\n",
       "      <td>0.08330</td>\n",
       "      <td>0.00000</td>\n",
       "      <td>0.02500</td>\n",
       "      <td>0.2333</td>\n",
       "      <td>0.2417</td>\n",
       "      <td>0.1333</td>\n",
       "      <td>0.08330</td>\n",
       "      <td>True</td>\n",
       "    </tr>\n",
       "    <tr>\n",
       "      <td>5</td>\n",
       "      <td>found work helping good nights sleep don&amp;#039;...</td>\n",
       "      <td>0.70000</td>\n",
       "      <td>0.6000</td>\n",
       "      <td>22.0</td>\n",
       "      <td>0.09090</td>\n",
       "      <td>0.00000</td>\n",
       "      <td>0.00000</td>\n",
       "      <td>0.0000</td>\n",
       "      <td>0.0000</td>\n",
       "      <td>0.0000</td>\n",
       "      <td>0.00000</td>\n",
       "      <td>True</td>\n",
       "    </tr>\n",
       "    <tr>\n",
       "      <td>9</td>\n",
       "      <td>given medication gastroenterologist office wor...</td>\n",
       "      <td>0.00000</td>\n",
       "      <td>0.0000</td>\n",
       "      <td>36.0</td>\n",
       "      <td>0.08330</td>\n",
       "      <td>0.02777</td>\n",
       "      <td>0.02777</td>\n",
       "      <td>0.2778</td>\n",
       "      <td>0.1389</td>\n",
       "      <td>0.1945</td>\n",
       "      <td>0.05554</td>\n",
       "      <td>False</td>\n",
       "    </tr>\n",
       "    <tr>\n",
       "      <td>12</td>\n",
       "      <td>recently laparoscopic hysterectomy know anesth...</td>\n",
       "      <td>-0.29400</td>\n",
       "      <td>0.6970</td>\n",
       "      <td>98.0</td>\n",
       "      <td>0.05103</td>\n",
       "      <td>0.01020</td>\n",
       "      <td>0.00000</td>\n",
       "      <td>0.0000</td>\n",
       "      <td>0.0000</td>\n",
       "      <td>0.0000</td>\n",
       "      <td>0.00000</td>\n",
       "      <td>True</td>\n",
       "    </tr>\n",
       "    <tr>\n",
       "      <td>13</td>\n",
       "      <td>mirena year experienced effects effects watch ...</td>\n",
       "      <td>0.80000</td>\n",
       "      <td>0.9000</td>\n",
       "      <td>37.0</td>\n",
       "      <td>0.02702</td>\n",
       "      <td>0.00000</td>\n",
       "      <td>0.00000</td>\n",
       "      <td>0.0000</td>\n",
       "      <td>0.0000</td>\n",
       "      <td>0.0000</td>\n",
       "      <td>0.00000</td>\n",
       "      <td>False</td>\n",
       "    </tr>\n",
       "  </tbody>\n",
       "</table>\n",
       "</div>"
      ],
      "text/plain": [
       "                                         clean_review  polarity  subjectivity  \\\n",
       "2   young suffering severe extreme neck pain resul...  -0.04166        0.4026   \n",
       "5   found work helping good nights sleep don&#039;...   0.70000        0.6000   \n",
       "9   given medication gastroenterologist office wor...   0.00000        0.0000   \n",
       "12  recently laparoscopic hysterectomy know anesth...  -0.29400        0.6970   \n",
       "13  mirena year experienced effects effects watch ...   0.80000        0.9000   \n",
       "\n",
       "    word_count  UPPERCASE   DIGITS    PROPN    VERB    NOUN   PUNCT      ADJ  \\\n",
       "2        120.0    0.08330  0.00000  0.02500  0.2333  0.2417  0.1333  0.08330   \n",
       "5         22.0    0.09090  0.00000  0.00000  0.0000  0.0000  0.0000  0.00000   \n",
       "9         36.0    0.08330  0.02777  0.02777  0.2778  0.1389  0.1945  0.05554   \n",
       "12        98.0    0.05103  0.01020  0.00000  0.0000  0.0000  0.0000  0.00000   \n",
       "13        37.0    0.02702  0.00000  0.00000  0.0000  0.0000  0.0000  0.00000   \n",
       "\n",
       "    label  \n",
       "2    True  \n",
       "5    True  \n",
       "9   False  \n",
       "12   True  \n",
       "13  False  "
      ]
     },
     "execution_count": 5,
     "metadata": {},
     "output_type": "execute_result"
    }
   ],
   "source": [
    "# Depict the first 5 rows of the training set\n",
    "train_dataset = train_dataset.dropna()\n",
    "train_dataset.head()"
   ]
  },
  {
   "cell_type": "markdown",
   "metadata": {},
   "source": [
    "Before we create batches of our data, we have to normalize the numerical features so that we remove the possibility that one variable is the orders of magnitude greater than other variables, which might cause that the first one dominates other features in the dataset and this is something we don't want to happen in our model.\n",
    "\n",
    "The polarity is within the range [-1.0, 1.0], and the subjectivity is within the range [0.0, 1.0], thus these both features don't require the scaling."
   ]
  },
  {
   "cell_type": "code",
   "execution_count": 6,
   "metadata": {},
   "outputs": [],
   "source": [
    "# Instantiate the StandardScaler\n",
    "train_scaler = StandardScaler()\n",
    "# Scale the features\n",
    "train_dataset.iloc[:, 3:11] = train_scaler.fit_transform(train_dataset.iloc[:, 3:11])"
   ]
  },
  {
   "cell_type": "code",
   "execution_count": 7,
   "metadata": {},
   "outputs": [
    {
     "data": {
      "text/html": [
       "<div>\n",
       "<style scoped>\n",
       "    .dataframe tbody tr th:only-of-type {\n",
       "        vertical-align: middle;\n",
       "    }\n",
       "\n",
       "    .dataframe tbody tr th {\n",
       "        vertical-align: top;\n",
       "    }\n",
       "\n",
       "    .dataframe thead th {\n",
       "        text-align: right;\n",
       "    }\n",
       "</style>\n",
       "<table border=\"1\" class=\"dataframe\">\n",
       "  <thead>\n",
       "    <tr style=\"text-align: right;\">\n",
       "      <th></th>\n",
       "      <th>clean_review</th>\n",
       "      <th>polarity</th>\n",
       "      <th>subjectivity</th>\n",
       "      <th>word_count</th>\n",
       "      <th>UPPERCASE</th>\n",
       "      <th>DIGITS</th>\n",
       "      <th>PROPN</th>\n",
       "      <th>VERB</th>\n",
       "      <th>NOUN</th>\n",
       "      <th>PUNCT</th>\n",
       "      <th>ADJ</th>\n",
       "      <th>label</th>\n",
       "    </tr>\n",
       "  </thead>\n",
       "  <tbody>\n",
       "    <tr>\n",
       "      <td>2</td>\n",
       "      <td>young suffering severe extreme neck pain resul...</td>\n",
       "      <td>-0.04166</td>\n",
       "      <td>0.4026</td>\n",
       "      <td>0.795535</td>\n",
       "      <td>0.658979</td>\n",
       "      <td>-0.797571</td>\n",
       "      <td>0.737436</td>\n",
       "      <td>2.136339</td>\n",
       "      <td>2.163294</td>\n",
       "      <td>0.986274</td>\n",
       "      <td>1.449606</td>\n",
       "      <td>True</td>\n",
       "    </tr>\n",
       "    <tr>\n",
       "      <td>5</td>\n",
       "      <td>found work helping good nights sleep don&amp;#039;...</td>\n",
       "      <td>0.70000</td>\n",
       "      <td>0.6000</td>\n",
       "      <td>-1.400104</td>\n",
       "      <td>0.858111</td>\n",
       "      <td>-0.797571</td>\n",
       "      <td>-0.363838</td>\n",
       "      <td>-0.549302</td>\n",
       "      <td>-0.532286</td>\n",
       "      <td>-0.435852</td>\n",
       "      <td>-0.455429</td>\n",
       "      <td>True</td>\n",
       "    </tr>\n",
       "    <tr>\n",
       "      <td>9</td>\n",
       "      <td>given medication gastroenterologist office wor...</td>\n",
       "      <td>0.00000</td>\n",
       "      <td>0.0000</td>\n",
       "      <td>-1.086442</td>\n",
       "      <td>0.658979</td>\n",
       "      <td>0.619398</td>\n",
       "      <td>0.859457</td>\n",
       "      <td>2.648602</td>\n",
       "      <td>1.016808</td>\n",
       "      <td>1.639193</td>\n",
       "      <td>0.814747</td>\n",
       "      <td>False</td>\n",
       "    </tr>\n",
       "    <tr>\n",
       "      <td>12</td>\n",
       "      <td>recently laparoscopic hysterectomy know anesth...</td>\n",
       "      <td>-0.29400</td>\n",
       "      <td>0.6970</td>\n",
       "      <td>0.302636</td>\n",
       "      <td>-0.186546</td>\n",
       "      <td>-0.277114</td>\n",
       "      <td>-0.363838</td>\n",
       "      <td>-0.549302</td>\n",
       "      <td>-0.532286</td>\n",
       "      <td>-0.435852</td>\n",
       "      <td>-0.455429</td>\n",
       "      <td>True</td>\n",
       "    </tr>\n",
       "    <tr>\n",
       "      <td>13</td>\n",
       "      <td>mirena year experienced effects effects watch ...</td>\n",
       "      <td>0.80000</td>\n",
       "      <td>0.9000</td>\n",
       "      <td>-1.064037</td>\n",
       "      <td>-0.815646</td>\n",
       "      <td>-0.797571</td>\n",
       "      <td>-0.363838</td>\n",
       "      <td>-0.549302</td>\n",
       "      <td>-0.532286</td>\n",
       "      <td>-0.435852</td>\n",
       "      <td>-0.455429</td>\n",
       "      <td>False</td>\n",
       "    </tr>\n",
       "  </tbody>\n",
       "</table>\n",
       "</div>"
      ],
      "text/plain": [
       "                                         clean_review  polarity  subjectivity  \\\n",
       "2   young suffering severe extreme neck pain resul...  -0.04166        0.4026   \n",
       "5   found work helping good nights sleep don&#039;...   0.70000        0.6000   \n",
       "9   given medication gastroenterologist office wor...   0.00000        0.0000   \n",
       "12  recently laparoscopic hysterectomy know anesth...  -0.29400        0.6970   \n",
       "13  mirena year experienced effects effects watch ...   0.80000        0.9000   \n",
       "\n",
       "    word_count  UPPERCASE    DIGITS     PROPN      VERB      NOUN     PUNCT  \\\n",
       "2     0.795535   0.658979 -0.797571  0.737436  2.136339  2.163294  0.986274   \n",
       "5    -1.400104   0.858111 -0.797571 -0.363838 -0.549302 -0.532286 -0.435852   \n",
       "9    -1.086442   0.658979  0.619398  0.859457  2.648602  1.016808  1.639193   \n",
       "12    0.302636  -0.186546 -0.277114 -0.363838 -0.549302 -0.532286 -0.435852   \n",
       "13   -1.064037  -0.815646 -0.797571 -0.363838 -0.549302 -0.532286 -0.435852   \n",
       "\n",
       "         ADJ  label  \n",
       "2   1.449606   True  \n",
       "5  -0.455429   True  \n",
       "9   0.814747  False  \n",
       "12 -0.455429   True  \n",
       "13 -0.455429  False  "
      ]
     },
     "execution_count": 7,
     "metadata": {},
     "output_type": "execute_result"
    }
   ],
   "source": [
    "train_dataset.head()"
   ]
  },
  {
   "cell_type": "code",
   "execution_count": 19,
   "metadata": {},
   "outputs": [],
   "source": [
    "# Import the dataset. Use clean_review and label columns\n",
    "val_dataset = pd.read_csv('dataset/drugreview_feat_clean/val_feat_clean.csv',\n",
    "                          usecols=['clean_review', 'polarity', 'subjectivity', 'word_count', 'UPPERCASE', 'DIGITS',\n",
    "                                      'PROPN', 'VERB', 'NOUN', 'PUNCT', 'ADJ', 'rating'])\n",
    "\n",
    "# Change columns order\n",
    "val_dataset['label'] = val_dataset.rating >= 5\n",
    "val_dataset = val_dataset[['clean_review', 'polarity', 'subjectivity', 'word_count', 'UPPERCASE', 'DIGITS',\n",
    "                           'PROPN', 'VERB', 'NOUN', 'PUNCT', 'ADJ', 'label']]"
   ]
  },
  {
   "cell_type": "code",
   "execution_count": 20,
   "metadata": {},
   "outputs": [
    {
     "data": {
      "text/html": [
       "<div>\n",
       "<style scoped>\n",
       "    .dataframe tbody tr th:only-of-type {\n",
       "        vertical-align: middle;\n",
       "    }\n",
       "\n",
       "    .dataframe tbody tr th {\n",
       "        vertical-align: top;\n",
       "    }\n",
       "\n",
       "    .dataframe thead th {\n",
       "        text-align: right;\n",
       "    }\n",
       "</style>\n",
       "<table border=\"1\" class=\"dataframe\">\n",
       "  <thead>\n",
       "    <tr style=\"text-align: right;\">\n",
       "      <th></th>\n",
       "      <th>clean_review</th>\n",
       "      <th>polarity</th>\n",
       "      <th>subjectivity</th>\n",
       "      <th>word_count</th>\n",
       "      <th>UPPERCASE</th>\n",
       "      <th>DIGITS</th>\n",
       "      <th>PROPN</th>\n",
       "      <th>VERB</th>\n",
       "      <th>NOUN</th>\n",
       "      <th>PUNCT</th>\n",
       "      <th>ADJ</th>\n",
       "      <th>label</th>\n",
       "    </tr>\n",
       "  </thead>\n",
       "  <tbody>\n",
       "    <tr>\n",
       "      <td>0</td>\n",
       "      <td>year old son took night went deep sea fishing ...</td>\n",
       "      <td>0.0250</td>\n",
       "      <td>0.1813</td>\n",
       "      <td>66.0</td>\n",
       "      <td>0.01515</td>\n",
       "      <td>0.03030</td>\n",
       "      <td>0.01515</td>\n",
       "      <td>0.2122</td>\n",
       "      <td>0.1970</td>\n",
       "      <td>0.0909</td>\n",
       "      <td>0.04544</td>\n",
       "      <td>True</td>\n",
       "    </tr>\n",
       "    <tr>\n",
       "      <td>1</td>\n",
       "      <td>daughter epiduo grade junior year work wonders...</td>\n",
       "      <td>0.1320</td>\n",
       "      <td>0.4402</td>\n",
       "      <td>128.0</td>\n",
       "      <td>0.06250</td>\n",
       "      <td>0.01563</td>\n",
       "      <td>0.03125</td>\n",
       "      <td>0.1641</td>\n",
       "      <td>0.2266</td>\n",
       "      <td>0.1719</td>\n",
       "      <td>0.08594</td>\n",
       "      <td>True</td>\n",
       "    </tr>\n",
       "    <tr>\n",
       "      <td>2</td>\n",
       "      <td>i&amp;#039;ve implant months day got totally felt ...</td>\n",
       "      <td>0.1597</td>\n",
       "      <td>0.5520</td>\n",
       "      <td>148.0</td>\n",
       "      <td>0.06082</td>\n",
       "      <td>0.02702</td>\n",
       "      <td>0.00000</td>\n",
       "      <td>0.0000</td>\n",
       "      <td>0.0000</td>\n",
       "      <td>0.0000</td>\n",
       "      <td>0.00000</td>\n",
       "      <td>True</td>\n",
       "    </tr>\n",
       "    <tr>\n",
       "      <td>3</td>\n",
       "      <td>wanted wait days post couldn&amp;#039;t results am...</td>\n",
       "      <td>0.2349</td>\n",
       "      <td>0.5977</td>\n",
       "      <td>102.0</td>\n",
       "      <td>0.07840</td>\n",
       "      <td>0.05884</td>\n",
       "      <td>0.00000</td>\n",
       "      <td>0.0000</td>\n",
       "      <td>0.0000</td>\n",
       "      <td>0.0000</td>\n",
       "      <td>0.00000</td>\n",
       "      <td>True</td>\n",
       "    </tr>\n",
       "    <tr>\n",
       "      <td>4</td>\n",
       "      <td>colonoscopy best prep far morning took prep pm...</td>\n",
       "      <td>0.0782</td>\n",
       "      <td>0.4224</td>\n",
       "      <td>136.0</td>\n",
       "      <td>0.08090</td>\n",
       "      <td>0.05148</td>\n",
       "      <td>0.00000</td>\n",
       "      <td>0.0000</td>\n",
       "      <td>0.0000</td>\n",
       "      <td>0.0000</td>\n",
       "      <td>0.00000</td>\n",
       "      <td>True</td>\n",
       "    </tr>\n",
       "  </tbody>\n",
       "</table>\n",
       "</div>"
      ],
      "text/plain": [
       "                                        clean_review  polarity  subjectivity  \\\n",
       "0  year old son took night went deep sea fishing ...    0.0250        0.1813   \n",
       "1  daughter epiduo grade junior year work wonders...    0.1320        0.4402   \n",
       "2  i&#039;ve implant months day got totally felt ...    0.1597        0.5520   \n",
       "3  wanted wait days post couldn&#039;t results am...    0.2349        0.5977   \n",
       "4  colonoscopy best prep far morning took prep pm...    0.0782        0.4224   \n",
       "\n",
       "   word_count  UPPERCASE   DIGITS    PROPN    VERB    NOUN   PUNCT      ADJ  \\\n",
       "0        66.0    0.01515  0.03030  0.01515  0.2122  0.1970  0.0909  0.04544   \n",
       "1       128.0    0.06250  0.01563  0.03125  0.1641  0.2266  0.1719  0.08594   \n",
       "2       148.0    0.06082  0.02702  0.00000  0.0000  0.0000  0.0000  0.00000   \n",
       "3       102.0    0.07840  0.05884  0.00000  0.0000  0.0000  0.0000  0.00000   \n",
       "4       136.0    0.08090  0.05148  0.00000  0.0000  0.0000  0.0000  0.00000   \n",
       "\n",
       "   label  \n",
       "0   True  \n",
       "1   True  \n",
       "2   True  \n",
       "3   True  \n",
       "4   True  "
      ]
     },
     "execution_count": 20,
     "metadata": {},
     "output_type": "execute_result"
    }
   ],
   "source": [
    "# Depict the first 5 rows of the validation set\n",
    "val_dataset = val_dataset.dropna(0)\n",
    "val_dataset.head()"
   ]
  },
  {
   "cell_type": "code",
   "execution_count": 21,
   "metadata": {},
   "outputs": [],
   "source": [
    "# Instantiate the StandardScaler\n",
    "val_scaler = StandardScaler()\n",
    "# Scale the features\n",
    "val_dataset.iloc[:, 3:11] = val_scaler.fit_transform(val_dataset.iloc[:, 3:11])"
   ]
  },
  {
   "cell_type": "code",
   "execution_count": 22,
   "metadata": {},
   "outputs": [
    {
     "data": {
      "text/html": [
       "<div>\n",
       "<style scoped>\n",
       "    .dataframe tbody tr th:only-of-type {\n",
       "        vertical-align: middle;\n",
       "    }\n",
       "\n",
       "    .dataframe tbody tr th {\n",
       "        vertical-align: top;\n",
       "    }\n",
       "\n",
       "    .dataframe thead th {\n",
       "        text-align: right;\n",
       "    }\n",
       "</style>\n",
       "<table border=\"1\" class=\"dataframe\">\n",
       "  <thead>\n",
       "    <tr style=\"text-align: right;\">\n",
       "      <th></th>\n",
       "      <th>clean_review</th>\n",
       "      <th>polarity</th>\n",
       "      <th>subjectivity</th>\n",
       "      <th>word_count</th>\n",
       "      <th>UPPERCASE</th>\n",
       "      <th>DIGITS</th>\n",
       "      <th>PROPN</th>\n",
       "      <th>VERB</th>\n",
       "      <th>NOUN</th>\n",
       "      <th>PUNCT</th>\n",
       "      <th>ADJ</th>\n",
       "      <th>label</th>\n",
       "    </tr>\n",
       "  </thead>\n",
       "  <tbody>\n",
       "    <tr>\n",
       "      <td>0</td>\n",
       "      <td>year old son took night went deep sea fishing ...</td>\n",
       "      <td>0.0250</td>\n",
       "      <td>0.1813</td>\n",
       "      <td>-0.427152</td>\n",
       "      <td>-1.088387</td>\n",
       "      <td>0.742878</td>\n",
       "      <td>0.335276</td>\n",
       "      <td>1.960854</td>\n",
       "      <td>1.736428</td>\n",
       "      <td>0.566978</td>\n",
       "      <td>0.668738</td>\n",
       "      <td>True</td>\n",
       "    </tr>\n",
       "    <tr>\n",
       "      <td>1</td>\n",
       "      <td>daughter epiduo grade junior year work wonders...</td>\n",
       "      <td>0.1320</td>\n",
       "      <td>0.4402</td>\n",
       "      <td>0.912863</td>\n",
       "      <td>0.116713</td>\n",
       "      <td>-0.019665</td>\n",
       "      <td>1.066186</td>\n",
       "      <td>1.396558</td>\n",
       "      <td>2.073946</td>\n",
       "      <td>1.436693</td>\n",
       "      <td>1.673646</td>\n",
       "      <td>True</td>\n",
       "    </tr>\n",
       "    <tr>\n",
       "      <td>2</td>\n",
       "      <td>i&amp;#039;ve implant months day got totally felt ...</td>\n",
       "      <td>0.1597</td>\n",
       "      <td>0.5520</td>\n",
       "      <td>1.345125</td>\n",
       "      <td>0.073955</td>\n",
       "      <td>0.572384</td>\n",
       "      <td>-0.352506</td>\n",
       "      <td>-0.528619</td>\n",
       "      <td>-0.509889</td>\n",
       "      <td>-0.409036</td>\n",
       "      <td>-0.458743</td>\n",
       "      <td>True</td>\n",
       "    </tr>\n",
       "    <tr>\n",
       "      <td>3</td>\n",
       "      <td>wanted wait days post couldn&amp;#039;t results am...</td>\n",
       "      <td>0.2349</td>\n",
       "      <td>0.5977</td>\n",
       "      <td>0.350921</td>\n",
       "      <td>0.521382</td>\n",
       "      <td>2.226379</td>\n",
       "      <td>-0.352506</td>\n",
       "      <td>-0.528619</td>\n",
       "      <td>-0.509889</td>\n",
       "      <td>-0.409036</td>\n",
       "      <td>-0.458743</td>\n",
       "      <td>True</td>\n",
       "    </tr>\n",
       "    <tr>\n",
       "      <td>4</td>\n",
       "      <td>colonoscopy best prep far morning took prep pm...</td>\n",
       "      <td>0.0782</td>\n",
       "      <td>0.4224</td>\n",
       "      <td>1.085768</td>\n",
       "      <td>0.585010</td>\n",
       "      <td>1.843809</td>\n",
       "      <td>-0.352506</td>\n",
       "      <td>-0.528619</td>\n",
       "      <td>-0.509889</td>\n",
       "      <td>-0.409036</td>\n",
       "      <td>-0.458743</td>\n",
       "      <td>True</td>\n",
       "    </tr>\n",
       "  </tbody>\n",
       "</table>\n",
       "</div>"
      ],
      "text/plain": [
       "                                        clean_review  polarity  subjectivity  \\\n",
       "0  year old son took night went deep sea fishing ...    0.0250        0.1813   \n",
       "1  daughter epiduo grade junior year work wonders...    0.1320        0.4402   \n",
       "2  i&#039;ve implant months day got totally felt ...    0.1597        0.5520   \n",
       "3  wanted wait days post couldn&#039;t results am...    0.2349        0.5977   \n",
       "4  colonoscopy best prep far morning took prep pm...    0.0782        0.4224   \n",
       "\n",
       "   word_count  UPPERCASE    DIGITS     PROPN      VERB      NOUN     PUNCT  \\\n",
       "0   -0.427152  -1.088387  0.742878  0.335276  1.960854  1.736428  0.566978   \n",
       "1    0.912863   0.116713 -0.019665  1.066186  1.396558  2.073946  1.436693   \n",
       "2    1.345125   0.073955  0.572384 -0.352506 -0.528619 -0.509889 -0.409036   \n",
       "3    0.350921   0.521382  2.226379 -0.352506 -0.528619 -0.509889 -0.409036   \n",
       "4    1.085768   0.585010  1.843809 -0.352506 -0.528619 -0.509889 -0.409036   \n",
       "\n",
       "        ADJ  label  \n",
       "0  0.668738   True  \n",
       "1  1.673646   True  \n",
       "2 -0.458743   True  \n",
       "3 -0.458743   True  \n",
       "4 -0.458743   True  "
      ]
     },
     "execution_count": 22,
     "metadata": {},
     "output_type": "execute_result"
    }
   ],
   "source": [
    "val_dataset.head()"
   ]
  },
  {
   "cell_type": "markdown",
   "metadata": {},
   "source": [
    "Below we will use the BatchIterator class defined in the *vocabulary* notebook to create the vocabulary, trim sequences in terms of the rare word occurrence and the length, map words to their numerical representation (word2index), furthermore BatchIterator sorts dataset examples, generates batches, performs sequence padding and enables to use it instance to iterate through all batches.\n",
    "\n",
    "We will use the min_word_count=3 and max_seq_len=0.9 as in the previous model. The batch_size entry value will be the 256, but it will turn out during the fine-tuning process (that is not presented) that for the dataset with more features the model achieves superior performance with the smaller size of the batch (batch_size=64) which helps in preventing overfitting."
   ]
  },
  {
   "cell_type": "code",
   "execution_count": 23,
   "metadata": {},
   "outputs": [
    {
     "name": "stdout",
     "output_type": "stream",
     "text": [
      "Trimmed vocabulary using as minimum count threashold: count = 3.00\n",
      "8674/21861 tokens has been retained\n",
      "Trimmed input strings vocabulary\n",
      "Trimmed input sequences lengths to the length of: 58\n",
      "Mapped words to indices\n",
      "Batches created\n"
     ]
    }
   ],
   "source": [
    "train_iterator = BatchIterator(train_dataset, batch_size=64, vocab_created=False, vocab=None, target_col=None,\n",
    "                               word2index=None, sos_token='<SOS>', eos_token='<EOS>', unk_token='<UNK>',\n",
    "                               pad_token='<PAD>', min_word_count=3, max_vocab_size=None, max_seq_len=0.9,\n",
    "                               use_pretrained_vectors=False, glove_path='glove/', glove_name='glove.6B.100d.txt',\n",
    "                               weights_file_name='glove/weights.npy')"
   ]
  },
  {
   "cell_type": "code",
   "execution_count": 24,
   "metadata": {},
   "outputs": [
    {
     "name": "stdout",
     "output_type": "stream",
     "text": [
      "Trimmed vocabulary using as minimum count threashold: count = 3.00\n",
      "4655/11853 tokens has been retained\n",
      "Trimmed input strings vocabulary\n",
      "Trimmed input sequences lengths to the length of: 57\n",
      "Mapped words to indices\n",
      "Batches created\n"
     ]
    }
   ],
   "source": [
    "val_iterator = BatchIterator(val_dataset, batch_size=64, vocab_created=False, vocab=None, target_col=None,\n",
    "                             word2index=train_iterator.word2index, sos_token='<SOS>', eos_token='<EOS>',\n",
    "                             unk_token='<UNK>', pad_token='<PAD>', min_word_count=3, max_vocab_size=None,\n",
    "                             max_seq_len=0.9, use_pretrained_vectors=False, glove_path='glove/',\n",
    "                             glove_name='glove.6B.100d.txt', weights_file_name='glove/weights.npy')"
   ]
  },
  {
   "cell_type": "markdown",
   "metadata": {},
   "source": [
    "We have to check out how batches that we created look like before we pass them into the model. For the record, the set of batches for input and output variables is returned as a dictionary, thus we will just look at the dictionary keys to find out how to extract particular variables."
   ]
  },
  {
   "cell_type": "code",
   "execution_count": 25,
   "metadata": {},
   "outputs": [
    {
     "name": "stdout",
     "output_type": "stream",
     "text": [
      "dict_keys(['input_feat', 'input_seq', 'target', 'x_lengths'])\n"
     ]
    }
   ],
   "source": [
    "for batches in train_iterator:\n",
    "    print(batches.keys())\n",
    "    break"
   ]
  },
  {
   "cell_type": "markdown",
   "metadata": {},
   "source": [
    "As we can see above we can distinguish the following batches: *input_feat* that comprises all additional features, *input_seq* that contains cleaned reviews, *target batch* that includes target labels and *x_lengths* batch that encompasses input sequences lengths.\n",
    "\n",
    "Notice that the *input_seq* batch has the dimensions: (batch_size, seq_len), while *input_feat* batch has the shape of (batch_size, num_features)."
   ]
  },
  {
   "cell_type": "code",
   "execution_count": 26,
   "metadata": {},
   "outputs": [
    {
     "name": "stdout",
     "output_type": "stream",
     "text": [
      "input_seq shape:  torch.Size([64, 57])\n",
      "input_feat shape:  torch.Size([64, 10])\n",
      "target shape:  torch.Size([64])\n",
      "x_lengths shape:  torch.Size([64])\n"
     ]
    }
   ],
   "source": [
    "for batches in train_iterator:\n",
    "\n",
    "    # Unpack the dictionary of batches\n",
    "    input_seq, input_feat, target, x_lengths = batches['input_seq'], batches['input_feat'],\\\n",
    "                                               batches['target'], batches['x_lengths']\n",
    "        \n",
    "    print('input_seq shape: ', input_seq.size())\n",
    "    print('input_feat shape: ', input_feat.size())\n",
    "    print('target shape: ', target.size())\n",
    "    print('x_lengths shape: ', x_lengths.size())\n",
    "    break"
   ]
  },
  {
   "cell_type": "code",
   "execution_count": 27,
   "metadata": {},
   "outputs": [
    {
     "name": "stdout",
     "output_type": "stream",
     "text": [
      "input_seq shape:  torch.Size([64, 55])\n",
      "input_feat shape:  torch.Size([64, 10])\n",
      "target shape:  torch.Size([64])\n",
      "x_lengths shape:  torch.Size([64])\n"
     ]
    }
   ],
   "source": [
    "for batches in val_iterator:\n",
    "    # Unpack the dictionary of batches\n",
    "    input_seq, input_feat, target, x_lengths = batches['input_seq'], batches['input_feat'],\\\n",
    "                                               batches['target'], batches['x_lengths']\n",
    "    print('input_seq shape: ', input_seq.size())\n",
    "    print('input_feat shape: ', input_feat.size())\n",
    "    print('target shape: ', target.size())\n",
    "    print('x_lengths shape: ', x_lengths.size())\n",
    "    break"
   ]
  },
  {
   "cell_type": "markdown",
   "metadata": {},
   "source": [
    "Now we are going to build a biGRU model that will use the *input_feat* batch as additional features vector. "
   ]
  },
  {
   "cell_type": "code",
   "execution_count": 28,
   "metadata": {},
   "outputs": [],
   "source": [
    "class BiGRU(nn.Module):\n",
    "    \"\"\"BiDirectional GRU neural network model.\n",
    "        \n",
    "    Parameters\n",
    "    ----------\n",
    "    hidden_size: int\n",
    "        Number of features in the hidden state.\n",
    "    vocab_size: int\n",
    "        The size of the vocabulary.\n",
    "    n_extra_feat: int\n",
    "        Number of additional features.\n",
    "    embedding_dim: int\n",
    "        The size of each embedding vector.\n",
    "    output_size: int\n",
    "        Number of classes.\n",
    "    n_layers: int, optional (default=1)\n",
    "        Number of stacked recurrent layers.\n",
    "    dropout: float, optional (default=0.2)\n",
    "        Probability of an element of the tensor to be zeroed.\n",
    "    spatial_dropout: boolean, optional (default=True)\n",
    "        Whether to use the spatial dropout.\n",
    "    bidirectional: boolean, optional (default=True)\n",
    "        Whether to use the bidirectional GRU.\n",
    "\n",
    "    \"\"\"\n",
    "    \n",
    "    def __init__(self, hidden_size, vocab_size, n_extra_feat, embedding_dim, output_size, n_layers=1, dropout=0.2,\n",
    "                 spatial_dropout=True, bidirectional=True):\n",
    "        \n",
    "        # Inherit everything from the nn.Module\n",
    "        super(BiGRU, self).__init__()\n",
    "        \n",
    "        # Initialize attributes\n",
    "        self.hidden_size = hidden_size\n",
    "        self.vocab_size = vocab_size\n",
    "        self.n_extra_feat = n_extra_feat\n",
    "        self.embedding_dim = embedding_dim\n",
    "        self.output_size = output_size\n",
    "        self.n_layers = n_layers\n",
    "        self.dropout_p = dropout\n",
    "        self.spatial_dropout = spatial_dropout\n",
    "        self.bidirectional = bidirectional\n",
    "        self.n_directions = 2 if self.bidirectional else 1\n",
    "        \n",
    "        # Initialize layers\n",
    "        self.embedding = nn.Embedding(self.vocab_size, self.embedding_dim)\n",
    "        self.dropout = nn.Dropout(self.dropout_p)\n",
    "        if self.spatial_dropout:\n",
    "            self.spatial_dropout1d = nn.Dropout2d(self.dropout_p)\n",
    "        self.gru = nn.GRU(self.embedding_dim, self.hidden_size, num_layers=self.n_layers, \n",
    "                          dropout=(0 if n_layers == 1 else self.dropout_p), batch_first=True,\n",
    "                          bidirectional=self.bidirectional)\n",
    "        # Linear layer input size is equal to hidden_size * 3 + n_extra_feat, becuase\n",
    "        # we will concatenate max_pooling ,avg_pooling, last hidden state and additional features\n",
    "        self.linear = nn.Linear(self.hidden_size * 3 + self.n_extra_feat, self.output_size)\n",
    "\n",
    "        \n",
    "    def forward(self, input_seq, input_feat, input_lengths, hidden=None):\n",
    "        \"\"\"Forward propagate through the neural network model.\n",
    "        \n",
    "        Parameters\n",
    "        ----------\n",
    "        input_seq: torch.Tensor\n",
    "            Batch of input sequences.\n",
    "        input_feat: torch.Tensor\n",
    "            Batch of additional features.\n",
    "        input_lengths: torch.LongTensor\n",
    "            Batch containing sequences lengths.\n",
    "        hidden: torch.FloatTensor, optional (default=None)\n",
    "            Tensor containing initial hidden state.\n",
    "            \n",
    "        Returns\n",
    "        -------\n",
    "        torch.Tensor\n",
    "            Logarithm of softmaxed input tensor.\n",
    "        \n",
    "        \"\"\"\n",
    "        # Extract batch_size\n",
    "        self.batch_size = input_seq.size(0)\n",
    "        \n",
    "        # Embeddings shapes\n",
    "        # Input: (batch_size,  seq_length)\n",
    "        # Output: (batch_size, seq_length, embedding_dim)\n",
    "        emb_out = self.embedding(input_seq)\n",
    "        \n",
    "        if self.spatial_dropout:\n",
    "            # Convert to (batch_size, embedding_dim, seq_length)\n",
    "            emb_out = emb_out.permute(0, 2, 1)\n",
    "            emb_out = self.spatial_dropout1d(emb_out)\n",
    "            # Convert back to (batch_size, seq_length, embedding_dim)\n",
    "            emb_out = emb_out.permute(0, 2, 1)\n",
    "        else:\n",
    "            emb_out = self.dropout(emb_out)\n",
    "        \n",
    "        # Pack padded batch of sequences for RNN module\n",
    "        packed_emb = nn.utils.rnn.pack_padded_sequence(emb_out, input_lengths, batch_first=True)\n",
    "                \n",
    "        # GRU input/output shapes, if batch_first=True\n",
    "        # Input: (batch_size, seq_len, embedding_dim)\n",
    "        # Output: (batch_size, seq_len, hidden_size*num_directions)\n",
    "        # Number of directions = 2 when used bidirectional, otherwise 1\n",
    "        # shape of hidden: (n_layers x num_directions, batch_size, hidden_size)\n",
    "        # Hidden state defaults to zero if not provided\n",
    "        gru_out, hidden = self.gru(packed_emb, hidden)\n",
    "        # gru_out: tensor containing the output features h_t from the last layer of the GRU\n",
    "        # gru_out comprises all the hidden states in the last layer (\"last\" depth-wise, not time-wise)\n",
    "        # For biGRu gru_out is the concatenation of a forward GRU representation and a backward GRU representation\n",
    "        # hidden (h_n) comprises the hidden states after the last timestep\n",
    "        \n",
    "        # Extract and sum last hidden state\n",
    "        # Input hidden shape: (n_layers x num_directions, batch_size, hidden_size)\n",
    "        # Separate hidden state layers\n",
    "        hidden = hidden.view(self.n_layers, self.n_directions, self.batch_size, self.hidden_size)\n",
    "        last_hidden = hidden[-1]\n",
    "        # last hidden shape (num_directions, batch_size, hidden_size)\n",
    "        # Sum the last hidden state of forward and backward layer\n",
    "        last_hidden = torch.sum(last_hidden, dim=0)\n",
    "        # Summed last hidden shape (batch_size, hidden_size)\n",
    "        \n",
    "        # Pad a packed batch\n",
    "        # gru_out output shape: (batch_size, seq_len, hidden_size*num_directions)\n",
    "        gru_out, lengths = nn.utils.rnn.pad_packed_sequence(gru_out, batch_first=True)\n",
    "              \n",
    "        # Sum the gru_out along the num_directions\n",
    "        if self.bidirectional:\n",
    "            gru_out = gru_out[:,:,:self.hidden_size] + gru_out[:,:,self.hidden_size:]\n",
    "        \n",
    "        # Select the maximum value over each dimension of the hidden representation (max pooling)\n",
    "        # Permute the input tensor to dimensions: (batch_size, hidden, seq_len)\n",
    "        # Output dimensions: (batch_size, hidden_size)\n",
    "        max_pool = F.adaptive_max_pool1d(gru_out.permute(0,2,1), (1,)).view(self.batch_size,-1)\n",
    "        \n",
    "        # Consider the average of the representations (mean pooling)\n",
    "        # Sum along the batch axis and divide by the corresponding lengths (FloatTensor)\n",
    "        # Output shape: (batch_size, hidden_size)\n",
    "        avg_pool = torch.sum(gru_out, dim=1) / lengths.view(-1,1).type(torch.FloatTensor) \n",
    "\n",
    "        # Concatenate max_pooling, avg_pooling, hidden state and input_feat tensor\n",
    "        concat_out = torch.cat([last_hidden, max_pool, avg_pool, input_feat], dim=1)\n",
    "\n",
    "        # concat_out = self.dropout(concat_out)\n",
    "        out = self.linear(concat_out)\n",
    "        return F.log_softmax(out, dim=-1)\n",
    "    \n",
    "    \n",
    "    def add_loss_fn(self, loss_fn):\n",
    "        \"\"\"Add loss function to the model.\n",
    "        \n",
    "        \"\"\"\n",
    "        self.loss_fn = loss_fn\n",
    "        \n",
    "\n",
    "    def add_optimizer(self, optimizer):\n",
    "        \"\"\"Add optimizer to the model.\n",
    "        \n",
    "        \"\"\"\n",
    "        self.optimizer = optimizer\n",
    "        \n",
    "        \n",
    "    def add_device(self, device=torch.device('cpu')):\n",
    "        \"\"\"Specify the device.\n",
    "        \n",
    "        \"\"\"\n",
    "        self.device = device\n",
    "    \n",
    "    \n",
    "    def train_model(self, train_iterator):\n",
    "        \"\"\"Perform single training epoch.\n",
    "        \n",
    "        Parameters\n",
    "        ----------\n",
    "        train_iterator: BatchIterator\n",
    "            BatchIterator class object containing training batches.\n",
    "            \n",
    "        Returns\n",
    "        -------\n",
    "        train_losses: list\n",
    "            List of the training average batch losses.\n",
    "        avg_loss: float\n",
    "            Average loss on the entire training set.\n",
    "        accuracy: float\n",
    "            Models accuracy on the entire training set.\n",
    "            \n",
    "        \"\"\"\n",
    "        self.train()\n",
    "        \n",
    "        train_losses = []\n",
    "        losses = []\n",
    "        losses_list = []\n",
    "        num_seq = 0\n",
    "        batch_correct = 0\n",
    "            \n",
    "        for i, batches in tqdm_notebook(enumerate(train_iterator, 1), total=len(train_iterator), desc='Training'):\n",
    "            input_seq, input_feat, target, x_lengths = batches['input_seq'], batches['input_feat'],\\\n",
    "                                                       batches['target'], batches['x_lengths']\n",
    "            \n",
    "            input_seq.to(self.device)\n",
    "            input_feat.to(self.device)\n",
    "            target.to(self.device)\n",
    "            x_lengths.to(self.device)\n",
    "            \n",
    "            self.optimizer.zero_grad()\n",
    "\n",
    "            pred = self.forward(input_seq, input_feat, x_lengths)\n",
    "            loss = self.loss_fn(pred, target)\n",
    "            loss.backward()\n",
    "            losses.append(loss.data.cpu().numpy())\n",
    "            self.optimizer.step()\n",
    "            \n",
    "            losses_list.append(loss.data.cpu().numpy())\n",
    "            \n",
    "            pred = torch.argmax(pred, 1)\n",
    "\n",
    "            if self.device.type == 'cpu':\n",
    "                batch_correct += (pred.cpu() == target.cpu()).sum().item()\n",
    "\n",
    "            else:\n",
    "                batch_correct += (pred == target).sum().item()\n",
    "\n",
    "            num_seq += len(input_seq)     \n",
    "    \n",
    "            if i % 100 == 0:\n",
    "                avg_train_loss = np.mean(losses)\n",
    "                train_losses.append(avg_train_loss)\n",
    "                \n",
    "                accuracy = batch_correct / num_seq\n",
    "                \n",
    "                print('Iteration: {}. Average training loss: {:.4f}. Accuracy: {:.3f}'\\\n",
    "                      .format(i, avg_train_loss, accuracy))\n",
    "                \n",
    "                losses = []\n",
    "                \n",
    "            avg_loss = np.mean(losses_list)\n",
    "            accuracy = batch_correct / num_seq\n",
    "                              \n",
    "        return train_losses, avg_loss, accuracy\n",
    "    \n",
    "    \n",
    "    def evaluate_model(self, eval_iterator, conf_mtx=False):\n",
    "        \"\"\"Perform the one evaluation epoch.\n",
    "        \n",
    "        Parameters\n",
    "        ----------\n",
    "        eval_iterator: BatchIterator\n",
    "            BatchIterator class object containing evaluation batches.\n",
    "        conf_mtx: boolean, optional (default=False)\n",
    "            Whether to print the confusion matrix at each epoch.\n",
    "            \n",
    "        Returns\n",
    "        -------\n",
    "        eval_losses: list\n",
    "            List of the evaluation average batch losses.\n",
    "        avg_loss: float\n",
    "            Average loss on the entire evaluation set.\n",
    "        accuracy: float\n",
    "            Models accuracy on the entire evaluation set.\n",
    "        conf_matrix: list\n",
    "            Confusion matrix.\n",
    "            \n",
    "        \"\"\"\n",
    "        self.eval()\n",
    "        \n",
    "        eval_losses = []\n",
    "        losses = []\n",
    "        losses_list = []\n",
    "        num_seq = 0\n",
    "        batch_correct = 0\n",
    "        pred_total = torch.LongTensor()\n",
    "        target_total = torch.LongTensor()\n",
    "        \n",
    "        with torch.no_grad():\n",
    "            for i, batches in tqdm_notebook(enumerate(eval_iterator, 1), total=len(eval_iterator), desc='Evaluation'):\n",
    "                input_seq, input_feat, target, x_lengths = batches['input_seq'], batches['input_feat'],\\\n",
    "                                                           batches['target'], batches['x_lengths']\n",
    "                \n",
    "                input_seq.to(self.device)\n",
    "                input_feat.to(self.device)\n",
    "                target.to(self.device)\n",
    "                x_lengths.to(self.device)\n",
    "\n",
    "                pred = self.forward(input_seq, input_feat, x_lengths)\n",
    "                loss = self.loss_fn(pred, target)\n",
    "                losses.append(loss.data.cpu().numpy())\n",
    "                losses_list.append(loss.data.cpu().numpy())\n",
    "                \n",
    "                pred = torch.argmax(pred, 1)\n",
    "                                \n",
    "                if self.device.type == 'cpu':\n",
    "                    batch_correct += (pred.cpu() == target.cpu()).sum().item()\n",
    "                    \n",
    "                else:\n",
    "                    batch_correct += (pred == target).sum().item()\n",
    "                    \n",
    "                num_seq += len(input_seq)     \n",
    "                \n",
    "                pred_total = torch.cat([pred_total, pred], dim=0)\n",
    "                target_total = torch.cat([target_total, target], dim=0)\n",
    "                \n",
    "                if i % 100 == 0:\n",
    "                    avg_batch_eval_loss = np.mean(losses)\n",
    "                    eval_losses.append(avg_batch_eval_loss)\n",
    "                    \n",
    "                    accuracy = batch_correct / num_seq\n",
    "                    \n",
    "                    print('Iteration: {}. Average evaluation loss: {:.4f}. Accuracy: {:.2f}'\\\n",
    "                          .format(i, avg_batch_eval_loss, accuracy))\n",
    "\n",
    "                    losses = []\n",
    "                    \n",
    "            avg_loss_list = []\n",
    "                    \n",
    "            avg_loss = np.mean(losses_list)\n",
    "            accuracy = batch_correct / num_seq\n",
    "            \n",
    "            conf_matrix = confusion_matrix(target_total.view(-1), pred_total.view(-1))\n",
    "        \n",
    "        if conf_mtx:\n",
    "            print('\\tConfusion matrix: ', conf_matrix)\n",
    "            \n",
    "        return eval_losses, avg_loss, accuracy, conf_matrix\n"
   ]
  },
  {
   "cell_type": "markdown",
   "metadata": {},
   "source": [
    "Now we will instantiate the model, add loss function, optimizer, and device to it and begin the training."
   ]
  },
  {
   "cell_type": "code",
   "execution_count": 29,
   "metadata": {},
   "outputs": [
    {
     "name": "stdout",
     "output_type": "stream",
     "text": [
      "\n",
      "Start epoch [1/20]\n"
     ]
    },
    {
     "data": {
      "application/vnd.jupyter.widget-view+json": {
       "model_id": "b8e6e01f11094460bb2ba435e20fc6b3",
       "version_major": 2,
       "version_minor": 0
      },
      "text/plain": [
       "Training:   0%|          | 0/225 [00:00<?, ?it/s]"
      ]
     },
     "metadata": {},
     "output_type": "display_data"
    },
    {
     "name": "stdout",
     "output_type": "stream",
     "text": [
      "Iteration: 100. Average training loss: 0.5635. Accuracy: 0.756\n",
      "Iteration: 200. Average training loss: 0.5727. Accuracy: 0.746\n"
     ]
    },
    {
     "data": {
      "application/vnd.jupyter.widget-view+json": {
       "model_id": "bb36f8902b854166ab23107e4e351fb1",
       "version_major": 2,
       "version_minor": 0
      },
      "text/plain": [
       "Evaluation:   0%|          | 0/66 [00:00<?, ?it/s]"
      ]
     },
     "metadata": {},
     "output_type": "display_data"
    },
    {
     "name": "stdout",
     "output_type": "stream",
     "text": [
      "\n",
      "Epoch [1/20]: Train accuracy: 0.744. Train loss: 0.5690. Evaluation accuracy: 0.756. Evaluation loss: 0.5454\n",
      "\n",
      "Start epoch [2/20]\n"
     ]
    },
    {
     "data": {
      "application/vnd.jupyter.widget-view+json": {
       "model_id": "b7cae2d880e143759e81f979f553491f",
       "version_major": 2,
       "version_minor": 0
      },
      "text/plain": [
       "Training:   0%|          | 0/225 [00:00<?, ?it/s]"
      ]
     },
     "metadata": {},
     "output_type": "display_data"
    },
    {
     "name": "stdout",
     "output_type": "stream",
     "text": [
      "Iteration: 100. Average training loss: 0.5392. Accuracy: 0.758\n",
      "Iteration: 200. Average training loss: 0.5499. Accuracy: 0.750\n"
     ]
    },
    {
     "data": {
      "application/vnd.jupyter.widget-view+json": {
       "model_id": "29caa041a46e4047bc4ab6088fb7fdcc",
       "version_major": 2,
       "version_minor": 0
      },
      "text/plain": [
       "Evaluation:   0%|          | 0/66 [00:00<?, ?it/s]"
      ]
     },
     "metadata": {},
     "output_type": "display_data"
    },
    {
     "name": "stdout",
     "output_type": "stream",
     "text": [
      "\n",
      "Epoch [2/20]: Train accuracy: 0.747. Train loss: 0.5465. Evaluation accuracy: 0.761. Evaluation loss: 0.5161\n",
      "\n",
      "Start epoch [3/20]\n"
     ]
    },
    {
     "data": {
      "application/vnd.jupyter.widget-view+json": {
       "model_id": "51d2a754fe8349838e0b559e37d9eb85",
       "version_major": 2,
       "version_minor": 0
      },
      "text/plain": [
       "Training:   0%|          | 0/225 [00:00<?, ?it/s]"
      ]
     },
     "metadata": {},
     "output_type": "display_data"
    },
    {
     "name": "stdout",
     "output_type": "stream",
     "text": [
      "Iteration: 100. Average training loss: 0.5152. Accuracy: 0.763\n",
      "Iteration: 200. Average training loss: 0.5230. Accuracy: 0.756\n"
     ]
    },
    {
     "data": {
      "application/vnd.jupyter.widget-view+json": {
       "model_id": "9c96cf70835a485e80b03f8ed125720b",
       "version_major": 2,
       "version_minor": 0
      },
      "text/plain": [
       "Evaluation:   0%|          | 0/66 [00:00<?, ?it/s]"
      ]
     },
     "metadata": {},
     "output_type": "display_data"
    },
    {
     "name": "stdout",
     "output_type": "stream",
     "text": [
      "\n",
      "Epoch [3/20]: Train accuracy: 0.754. Train loss: 0.5200. Evaluation accuracy: 0.776. Evaluation loss: 0.4787\n",
      "\n",
      "Start epoch [4/20]\n"
     ]
    },
    {
     "data": {
      "application/vnd.jupyter.widget-view+json": {
       "model_id": "8706ae4a0fd0449b997a8a7d462d7c37",
       "version_major": 2,
       "version_minor": 0
      },
      "text/plain": [
       "Training:   0%|          | 0/225 [00:00<?, ?it/s]"
      ]
     },
     "metadata": {},
     "output_type": "display_data"
    },
    {
     "name": "stdout",
     "output_type": "stream",
     "text": [
      "Iteration: 100. Average training loss: 0.4927. Accuracy: 0.773\n",
      "Iteration: 200. Average training loss: 0.4886. Accuracy: 0.770\n"
     ]
    },
    {
     "data": {
      "application/vnd.jupyter.widget-view+json": {
       "model_id": "4f4588ad928745dd87341b09835f6926",
       "version_major": 2,
       "version_minor": 0
      },
      "text/plain": [
       "Evaluation:   0%|          | 0/66 [00:00<?, ?it/s]"
      ]
     },
     "metadata": {},
     "output_type": "display_data"
    },
    {
     "name": "stdout",
     "output_type": "stream",
     "text": [
      "\n",
      "Epoch [4/20]: Train accuracy: 0.769. Train loss: 0.4922. Evaluation accuracy: 0.796. Evaluation loss: 0.4521\n",
      "\n",
      "Start epoch [5/20]\n"
     ]
    },
    {
     "data": {
      "application/vnd.jupyter.widget-view+json": {
       "model_id": "b5120fc0838849a4a09e3d7d8e90a496",
       "version_major": 2,
       "version_minor": 0
      },
      "text/plain": [
       "Training:   0%|          | 0/225 [00:00<?, ?it/s]"
      ]
     },
     "metadata": {},
     "output_type": "display_data"
    },
    {
     "name": "stdout",
     "output_type": "stream",
     "text": [
      "Iteration: 100. Average training loss: 0.4604. Accuracy: 0.792\n",
      "Iteration: 200. Average training loss: 0.4582. Accuracy: 0.787\n"
     ]
    },
    {
     "data": {
      "application/vnd.jupyter.widget-view+json": {
       "model_id": "3492eb25548a4c8c9bbcbab46b7b6f05",
       "version_major": 2,
       "version_minor": 0
      },
      "text/plain": [
       "Evaluation:   0%|          | 0/66 [00:00<?, ?it/s]"
      ]
     },
     "metadata": {},
     "output_type": "display_data"
    },
    {
     "name": "stdout",
     "output_type": "stream",
     "text": [
      "\n",
      "Epoch [5/20]: Train accuracy: 0.787. Train loss: 0.4595. Evaluation accuracy: 0.806. Evaluation loss: 0.4340\n",
      "\n",
      "Start epoch [6/20]\n"
     ]
    },
    {
     "data": {
      "application/vnd.jupyter.widget-view+json": {
       "model_id": "78686e139596498ab167752e9a187836",
       "version_major": 2,
       "version_minor": 0
      },
      "text/plain": [
       "Training:   0%|          | 0/225 [00:00<?, ?it/s]"
      ]
     },
     "metadata": {},
     "output_type": "display_data"
    },
    {
     "name": "stdout",
     "output_type": "stream",
     "text": [
      "Iteration: 100. Average training loss: 0.4336. Accuracy: 0.808\n",
      "Iteration: 200. Average training loss: 0.4375. Accuracy: 0.804\n"
     ]
    },
    {
     "data": {
      "application/vnd.jupyter.widget-view+json": {
       "model_id": "a4a5d11c6d25461ca0c66e5bd9ac48bc",
       "version_major": 2,
       "version_minor": 0
      },
      "text/plain": [
       "Evaluation:   0%|          | 0/66 [00:00<?, ?it/s]"
      ]
     },
     "metadata": {},
     "output_type": "display_data"
    },
    {
     "name": "stdout",
     "output_type": "stream",
     "text": [
      "\n",
      "Epoch [6/20]: Train accuracy: 0.803. Train loss: 0.4366. Evaluation accuracy: 0.812. Evaluation loss: 0.4228\n",
      "\n",
      "Start epoch [7/20]\n"
     ]
    },
    {
     "data": {
      "application/vnd.jupyter.widget-view+json": {
       "model_id": "cfa6635c598344419ab8c2641f16c298",
       "version_major": 2,
       "version_minor": 0
      },
      "text/plain": [
       "Training:   0%|          | 0/225 [00:00<?, ?it/s]"
      ]
     },
     "metadata": {},
     "output_type": "display_data"
    },
    {
     "name": "stdout",
     "output_type": "stream",
     "text": [
      "Iteration: 100. Average training loss: 0.4204. Accuracy: 0.810\n",
      "Iteration: 200. Average training loss: 0.4167. Accuracy: 0.810\n"
     ]
    },
    {
     "data": {
      "application/vnd.jupyter.widget-view+json": {
       "model_id": "bc576ac33658498fbd68d5746843c4a5",
       "version_major": 2,
       "version_minor": 0
      },
      "text/plain": [
       "Evaluation:   0%|          | 0/66 [00:00<?, ?it/s]"
      ]
     },
     "metadata": {},
     "output_type": "display_data"
    },
    {
     "name": "stdout",
     "output_type": "stream",
     "text": [
      "\n",
      "Epoch [7/20]: Train accuracy: 0.810. Train loss: 0.4191. Evaluation accuracy: 0.817. Evaluation loss: 0.4186\n",
      "\n",
      "Start epoch [8/20]\n"
     ]
    },
    {
     "data": {
      "application/vnd.jupyter.widget-view+json": {
       "model_id": "edf1741359d04ea192a65cf45b873121",
       "version_major": 2,
       "version_minor": 0
      },
      "text/plain": [
       "Training:   0%|          | 0/225 [00:00<?, ?it/s]"
      ]
     },
     "metadata": {},
     "output_type": "display_data"
    },
    {
     "name": "stdout",
     "output_type": "stream",
     "text": [
      "Iteration: 100. Average training loss: 0.3995. Accuracy: 0.823\n",
      "Iteration: 200. Average training loss: 0.4077. Accuracy: 0.818\n"
     ]
    },
    {
     "data": {
      "application/vnd.jupyter.widget-view+json": {
       "model_id": "9ead255666c24d3fba3aafa04f3d7fe9",
       "version_major": 2,
       "version_minor": 0
      },
      "text/plain": [
       "Evaluation:   0%|          | 0/66 [00:00<?, ?it/s]"
      ]
     },
     "metadata": {},
     "output_type": "display_data"
    },
    {
     "name": "stdout",
     "output_type": "stream",
     "text": [
      "\n",
      "Epoch [8/20]: Train accuracy: 0.818. Train loss: 0.4030. Evaluation accuracy: 0.816. Evaluation loss: 0.4160\n",
      "\n",
      "Start epoch [9/20]\n"
     ]
    },
    {
     "data": {
      "application/vnd.jupyter.widget-view+json": {
       "model_id": "368e68b37ee148ba846bb0d40c622dc7",
       "version_major": 2,
       "version_minor": 0
      },
      "text/plain": [
       "Training:   0%|          | 0/225 [00:00<?, ?it/s]"
      ]
     },
     "metadata": {},
     "output_type": "display_data"
    },
    {
     "name": "stdout",
     "output_type": "stream",
     "text": [
      "Iteration: 100. Average training loss: 0.3933. Accuracy: 0.825\n",
      "Iteration: 200. Average training loss: 0.3889. Accuracy: 0.824\n"
     ]
    },
    {
     "data": {
      "application/vnd.jupyter.widget-view+json": {
       "model_id": "53f4c195f35646019399f97eddc36dac",
       "version_major": 2,
       "version_minor": 0
      },
      "text/plain": [
       "Evaluation:   0%|          | 0/66 [00:00<?, ?it/s]"
      ]
     },
     "metadata": {},
     "output_type": "display_data"
    },
    {
     "name": "stdout",
     "output_type": "stream",
     "text": [
      "\n",
      "Epoch [9/20]: Train accuracy: 0.822. Train loss: 0.3920. Evaluation accuracy: 0.816. Evaluation loss: 0.4166\n",
      "\n",
      "Start epoch [10/20]\n"
     ]
    },
    {
     "data": {
      "application/vnd.jupyter.widget-view+json": {
       "model_id": "f26c111f2b104f9991bc9f77902e8210",
       "version_major": 2,
       "version_minor": 0
      },
      "text/plain": [
       "Training:   0%|          | 0/225 [00:00<?, ?it/s]"
      ]
     },
     "metadata": {},
     "output_type": "display_data"
    },
    {
     "name": "stdout",
     "output_type": "stream",
     "text": [
      "Iteration: 100. Average training loss: 0.3789. Accuracy: 0.839\n",
      "Iteration: 200. Average training loss: 0.3751. Accuracy: 0.837\n"
     ]
    },
    {
     "data": {
      "application/vnd.jupyter.widget-view+json": {
       "model_id": "cf22efb2b5734241aa6b6b3d9a8cf76c",
       "version_major": 2,
       "version_minor": 0
      },
      "text/plain": [
       "Evaluation:   0%|          | 0/66 [00:00<?, ?it/s]"
      ]
     },
     "metadata": {},
     "output_type": "display_data"
    },
    {
     "name": "stdout",
     "output_type": "stream",
     "text": [
      "\n",
      "Epoch [10/20]: Train accuracy: 0.836. Train loss: 0.3772. Evaluation accuracy: 0.821. Evaluation loss: 0.4129\n",
      "\n",
      "Start epoch [11/20]\n"
     ]
    },
    {
     "data": {
      "application/vnd.jupyter.widget-view+json": {
       "model_id": "f2bf3448cf2343deb661a4c9202aa0ff",
       "version_major": 2,
       "version_minor": 0
      },
      "text/plain": [
       "Training:   0%|          | 0/225 [00:00<?, ?it/s]"
      ]
     },
     "metadata": {},
     "output_type": "display_data"
    },
    {
     "name": "stdout",
     "output_type": "stream",
     "text": [
      "Iteration: 100. Average training loss: 0.3731. Accuracy: 0.834\n",
      "Iteration: 200. Average training loss: 0.3728. Accuracy: 0.836\n"
     ]
    },
    {
     "data": {
      "application/vnd.jupyter.widget-view+json": {
       "model_id": "13f1b776642f446bbd028ca5949a2e44",
       "version_major": 2,
       "version_minor": 0
      },
      "text/plain": [
       "Evaluation:   0%|          | 0/66 [00:00<?, ?it/s]"
      ]
     },
     "metadata": {},
     "output_type": "display_data"
    },
    {
     "name": "stdout",
     "output_type": "stream",
     "text": [
      "\n",
      "Epoch [11/20]: Train accuracy: 0.835. Train loss: 0.3741. Evaluation accuracy: 0.824. Evaluation loss: 0.4142\n",
      "\n",
      "Start epoch [12/20]\n"
     ]
    },
    {
     "data": {
      "application/vnd.jupyter.widget-view+json": {
       "model_id": "d6f244b1274c4b77935ff7b7f8b51f73",
       "version_major": 2,
       "version_minor": 0
      },
      "text/plain": [
       "Training:   0%|          | 0/225 [00:00<?, ?it/s]"
      ]
     },
     "metadata": {},
     "output_type": "display_data"
    },
    {
     "name": "stdout",
     "output_type": "stream",
     "text": [
      "Iteration: 100. Average training loss: 0.3558. Accuracy: 0.846\n",
      "Iteration: 200. Average training loss: 0.3663. Accuracy: 0.841\n"
     ]
    },
    {
     "data": {
      "application/vnd.jupyter.widget-view+json": {
       "model_id": "9583185ac6c94bb6af823c06910f15b0",
       "version_major": 2,
       "version_minor": 0
      },
      "text/plain": [
       "Evaluation:   0%|          | 0/66 [00:00<?, ?it/s]"
      ]
     },
     "metadata": {},
     "output_type": "display_data"
    },
    {
     "name": "stdout",
     "output_type": "stream",
     "text": [
      "\n",
      "Epoch [12/20]: Train accuracy: 0.841. Train loss: 0.3618. Evaluation accuracy: 0.824. Evaluation loss: 0.4156\n",
      "\n",
      "Training stoped by EarlyStopping\n"
     ]
    }
   ],
   "source": [
    "# Initialize parameters\n",
    "hidden_size = 8\n",
    "vocab_size = len(train_iterator.word2index)\n",
    "n_extra_feat = 10\n",
    "embedding_dim = 200\n",
    "output_size = 2\n",
    "n_layers = 1\n",
    "dropout = 0.5\n",
    "learning_rate = 0.001\n",
    "epochs = 20\n",
    "spatial_dropout = True\n",
    "\n",
    "# Check whether system supports CUDA\n",
    "CUDA = torch.cuda.is_available()\n",
    "\n",
    "model = BiGRU(hidden_size, vocab_size, n_extra_feat, embedding_dim, output_size, n_layers, dropout,\n",
    "              spatial_dropout, bidirectional=True)\n",
    "\n",
    "# Move the model to GPU if possible\n",
    "if CUDA:\n",
    "    model.cuda()\n",
    "\n",
    "model.add_loss_fn(nn.NLLLoss())\n",
    "\n",
    "optimizer = torch.optim.Adam(model.parameters(), lr=learning_rate)\n",
    "model.add_optimizer(optimizer)\n",
    "\n",
    "device = torch.device('cuda' if CUDA else 'cpu')\n",
    "\n",
    "model.add_device(device)\n",
    "\n",
    "# Instantiate the EarlyStopping\n",
    "early_stop = EarlyStopping(wait_epochs=2)\n",
    "\n",
    "train_losses_list, train_avg_loss_list, train_accuracy_list = [], [], []\n",
    "eval_avg_loss_list, eval_accuracy_list, conf_matrix_list = [], [], []\n",
    "\n",
    "for epoch in range(epochs):\n",
    "    \n",
    "    print('\\nStart epoch [{}/{}]'.format(epoch+1, epochs))\n",
    "    \n",
    "    train_losses, train_avg_loss, train_accuracy = model.train_model(train_iterator)\n",
    "    \n",
    "    train_losses_list.append(train_losses)\n",
    "    train_avg_loss_list.append(train_avg_loss)\n",
    "    train_accuracy_list.append(train_accuracy)\n",
    "    \n",
    "    _, eval_avg_loss, eval_accuracy, conf_matrix = model.evaluate_model(val_iterator)\n",
    "    \n",
    "    eval_avg_loss_list.append(eval_avg_loss)\n",
    "    eval_accuracy_list.append(eval_accuracy)\n",
    "    conf_matrix_list.append(conf_matrix)\n",
    "    \n",
    "    print('\\nEpoch [{}/{}]: Train accuracy: {:.3f}. Train loss: {:.4f}. Evaluation accuracy: {:.3f}. Evaluation loss: {:.4f}'\\\n",
    "          .format(epoch+1, epochs, train_accuracy, train_avg_loss, eval_accuracy, eval_avg_loss))\n",
    "    \n",
    "    if early_stop.stop(eval_avg_loss, model, delta=0.003):\n",
    "        break\n",
    "\n",
    "    "
   ]
  },
  {
   "cell_type": "markdown",
   "metadata": {},
   "source": [
    "The training was stopped by EarlyStopping object because the loss didn't improve for 2 epochs. The best performance of the model was achieved at the 9th epoch with the validation accuracy of 0.881 and the loss of 0.3068. As we can see using extracted features improve the model's predictive ability on the validation set from the value of 0.878 (previous model) to 0.881.\n",
    "\n",
    "The model's best state was saved to the checkpoint.pt file in the current directory. "
   ]
  },
  {
   "cell_type": "code",
   "execution_count": 65,
   "metadata": {},
   "outputs": [],
   "source": [
    "# Add the dataset initial loss\n",
    "train_avg_loss_list.insert(0, train_losses_list[0][0])\n",
    "eval_avg_loss_list.insert(0, train_losses_list[0][0])"
   ]
  },
  {
   "cell_type": "code",
   "execution_count": 68,
   "metadata": {},
   "outputs": [
    {
     "data": {
      "image/png": "[encoded data removed]",
      "text/plain": [
       "<Figure size 576x360 with 1 Axes>"
      ]
     },
     "metadata": {
      "needs_background": "light"
     },
     "output_type": "display_data"
    }
   ],
   "source": [
    "# Plot the training and the validation learning curve\n",
    "plt.figure(figsize=(8,5))\n",
    "plt.plot(train_avg_loss_list, label='Training loss')\n",
    "plt.plot(eval_avg_loss_list, label='Evaluation loss')\n",
    "plt.xlabel('Epoch', size=12)\n",
    "plt.ylabel('Loss', size=12)\n",
    "plt.title('biGRU with extra features learning curves')\n",
    "plt.xticks(ticks=range(12))\n",
    "plt.legend()\n",
    "plt.show()"
   ]
  },
  {
   "cell_type": "code",
   "execution_count": 30,
   "metadata": {},
   "outputs": [
    {
     "data": {
      "image/png": "[encoded data removed]",
      "text/plain": [
       "<Figure size 432x432 with 2 Axes>"
      ]
     },
     "metadata": {
      "needs_background": "light"
     },
     "output_type": "display_data"
    }
   ],
   "source": [
    "# Confusion matrix\n",
    "plt.figure(figsize=(6,6))\n",
    "ax = sns.heatmap(conf_matrix, fmt='d', annot=True, linewidths=1, square=True)\n",
    "ax.set_xlabel('Predictions', size=12)\n",
    "ax.set_ylabel('True labels', size=12) \n",
    "ax.set_title('Confusion Matrix', size=12); \n",
    "ax.xaxis.set_ticklabels(['True', 'False'])\n",
    "ax.yaxis.set_ticklabels(['True', 'False'])\n",
    "ax.set_ylim(2,0)\n",
    "plt.show()"
   ]
  },
  {
   "cell_type": "markdown",
   "metadata": {},
   "source": [
    "### The generalization error"
   ]
  },
  {
   "cell_type": "code",
   "execution_count": 32,
   "metadata": {},
   "outputs": [],
   "source": [
    "# Import the dataset. Use clean_review and label columns\n",
    "test_dataset = pd.read_csv('dataset/drugreview_feat_clean/test_feat_clean.csv',\n",
    "                            usecols=['clean_review', 'polarity', 'subjectivity', 'word_count', 'UPPERCASE', 'DIGITS',\n",
    "                                     'PROPN', 'VERB', 'NOUN', 'PUNCT', 'ADJ', 'rating'])\n",
    "\n",
    "# Change columns order\n",
    "test_dataset['label'] = test_dataset.rating >= 5\n",
    "test_dataset = test_dataset[['clean_review', 'polarity', 'subjectivity', 'word_count', 'UPPERCASE', 'DIGITS',\n",
    "                             'PROPN', 'VERB', 'NOUN', 'PUNCT', 'ADJ', 'label']]"
   ]
  },
  {
   "cell_type": "code",
   "execution_count": 37,
   "metadata": {},
   "outputs": [
    {
     "data": {
      "text/html": [
       "<div>\n",
       "<style scoped>\n",
       "    .dataframe tbody tr th:only-of-type {\n",
       "        vertical-align: middle;\n",
       "    }\n",
       "\n",
       "    .dataframe tbody tr th {\n",
       "        vertical-align: top;\n",
       "    }\n",
       "\n",
       "    .dataframe thead th {\n",
       "        text-align: right;\n",
       "    }\n",
       "</style>\n",
       "<table border=\"1\" class=\"dataframe\">\n",
       "  <thead>\n",
       "    <tr style=\"text-align: right;\">\n",
       "      <th></th>\n",
       "      <th>clean_review</th>\n",
       "      <th>polarity</th>\n",
       "      <th>subjectivity</th>\n",
       "      <th>word_count</th>\n",
       "      <th>UPPERCASE</th>\n",
       "      <th>DIGITS</th>\n",
       "      <th>PROPN</th>\n",
       "      <th>VERB</th>\n",
       "      <th>NOUN</th>\n",
       "      <th>PUNCT</th>\n",
       "      <th>ADJ</th>\n",
       "      <th>label</th>\n",
       "    </tr>\n",
       "  </thead>\n",
       "  <tbody>\n",
       "    <tr>\n",
       "      <td>2</td>\n",
       "      <td>given sample doctor mg hours lower abdominal g...</td>\n",
       "      <td>-0.01117</td>\n",
       "      <td>0.4058</td>\n",
       "      <td>1.726732</td>\n",
       "      <td>0.793557</td>\n",
       "      <td>1.228196</td>\n",
       "      <td>-0.266533</td>\n",
       "      <td>-0.392789</td>\n",
       "      <td>-0.381656</td>\n",
       "      <td>-0.330798</td>\n",
       "      <td>-0.347146</td>\n",
       "      <td>False</td>\n",
       "    </tr>\n",
       "    <tr>\n",
       "      <td>3</td>\n",
       "      <td>given medication post hysteroscopy suffered se...</td>\n",
       "      <td>0.12500</td>\n",
       "      <td>0.4937</td>\n",
       "      <td>0.369561</td>\n",
       "      <td>-0.102854</td>\n",
       "      <td>-0.561821</td>\n",
       "      <td>-0.266533</td>\n",
       "      <td>-0.392789</td>\n",
       "      <td>-0.381656</td>\n",
       "      <td>-0.330798</td>\n",
       "      <td>-0.347146</td>\n",
       "      <td>True</td>\n",
       "    </tr>\n",
       "    <tr>\n",
       "      <td>4</td>\n",
       "      <td>loperamide helpful diarrhea fewer caplets help...</td>\n",
       "      <td>0.20000</td>\n",
       "      <td>0.3000</td>\n",
       "      <td>-0.365573</td>\n",
       "      <td>0.027701</td>\n",
       "      <td>1.600489</td>\n",
       "      <td>-0.266533</td>\n",
       "      <td>-0.392789</td>\n",
       "      <td>-0.381656</td>\n",
       "      <td>-0.330798</td>\n",
       "      <td>-0.347146</td>\n",
       "      <td>True</td>\n",
       "    </tr>\n",
       "    <tr>\n",
       "      <td>10</td>\n",
       "      <td>use claritin d seasonal allergies started taki...</td>\n",
       "      <td>0.20900</td>\n",
       "      <td>0.5366</td>\n",
       "      <td>1.349740</td>\n",
       "      <td>1.281854</td>\n",
       "      <td>0.482355</td>\n",
       "      <td>-0.266533</td>\n",
       "      <td>-0.392789</td>\n",
       "      <td>-0.381656</td>\n",
       "      <td>-0.330798</td>\n",
       "      <td>-0.347146</td>\n",
       "      <td>True</td>\n",
       "    </tr>\n",
       "    <tr>\n",
       "      <td>15</td>\n",
       "      <td>worked immediate effects noticeable long term</td>\n",
       "      <td>-0.05000</td>\n",
       "      <td>0.4000</td>\n",
       "      <td>-0.667167</td>\n",
       "      <td>-0.858944</td>\n",
       "      <td>-0.561821</td>\n",
       "      <td>-0.266533</td>\n",
       "      <td>-0.392789</td>\n",
       "      <td>-0.381656</td>\n",
       "      <td>-0.330798</td>\n",
       "      <td>-0.347146</td>\n",
       "      <td>True</td>\n",
       "    </tr>\n",
       "  </tbody>\n",
       "</table>\n",
       "</div>"
      ],
      "text/plain": [
       "                                         clean_review  polarity  subjectivity  \\\n",
       "2   given sample doctor mg hours lower abdominal g...  -0.01117        0.4058   \n",
       "3   given medication post hysteroscopy suffered se...   0.12500        0.4937   \n",
       "4   loperamide helpful diarrhea fewer caplets help...   0.20000        0.3000   \n",
       "10  use claritin d seasonal allergies started taki...   0.20900        0.5366   \n",
       "15      worked immediate effects noticeable long term  -0.05000        0.4000   \n",
       "\n",
       "    word_count  UPPERCASE    DIGITS     PROPN      VERB      NOUN     PUNCT  \\\n",
       "2     1.726732   0.793557  1.228196 -0.266533 -0.392789 -0.381656 -0.330798   \n",
       "3     0.369561  -0.102854 -0.561821 -0.266533 -0.392789 -0.381656 -0.330798   \n",
       "4    -0.365573   0.027701  1.600489 -0.266533 -0.392789 -0.381656 -0.330798   \n",
       "10    1.349740   1.281854  0.482355 -0.266533 -0.392789 -0.381656 -0.330798   \n",
       "15   -0.667167  -0.858944 -0.561821 -0.266533 -0.392789 -0.381656 -0.330798   \n",
       "\n",
       "         ADJ  label  \n",
       "2  -0.347146  False  \n",
       "3  -0.347146   True  \n",
       "4  -0.347146   True  \n",
       "10 -0.347146   True  \n",
       "15 -0.347146   True  "
      ]
     },
     "execution_count": 37,
     "metadata": {},
     "output_type": "execute_result"
    }
   ],
   "source": [
    "test_dataset = test_dataset.dropna()\n",
    "test_dataset.head()"
   ]
  },
  {
   "cell_type": "code",
   "execution_count": 38,
   "metadata": {},
   "outputs": [],
   "source": [
    "# Instantiate the StandardScaler\n",
    "test_scaler = StandardScaler()\n",
    "# Scale the features\n",
    "test_dataset.iloc[:, 3:11] = test_scaler.fit_transform(test_dataset.iloc[:, 3:11])"
   ]
  },
  {
   "cell_type": "code",
   "execution_count": 39,
   "metadata": {},
   "outputs": [
    {
     "name": "stdout",
     "output_type": "stream",
     "text": [
      "Trimmed vocabulary using as minimum count threashold: count = 3.00\n",
      "3069/8377 tokens has been retained\n",
      "Trimmed input strings vocabulary\n",
      "Trimmed input sequences lengths to the length of: 54\n",
      "Mapped words to indices\n",
      "Batches created\n"
     ]
    }
   ],
   "source": [
    "test_iterator = BatchIterator(test_dataset, batch_size=256, vocab_created=False, vocab=None, target_col=None,\n",
    "                              word2index=train_iterator.word2index, sos_token='<SOS>', eos_token='<EOS>',\n",
    "                              unk_token='<UNK>', pad_token='<PAD>', min_word_count=3, max_vocab_size=None,\n",
    "                              max_seq_len=0.9, use_pretrained_vectors=False, glove_path='glove/',\n",
    "                              glove_name='glove.6B.100d.txt', weights_file_name='glove/weights.npy')"
   ]
  },
  {
   "cell_type": "code",
   "execution_count": 40,
   "metadata": {},
   "outputs": [
    {
     "data": {
      "application/vnd.jupyter.widget-view+json": {
       "model_id": "c57828c6f5474e6a913912eda4f49f25",
       "version_major": 2,
       "version_minor": 0
      },
      "text/plain": [
       "Evaluation:   0%|          | 0/9 [00:00<?, ?it/s]"
      ]
     },
     "metadata": {},
     "output_type": "display_data"
    }
   ],
   "source": [
    "_, test_avg_loss, test_accuracy, test_conf_matrix = model.evaluate_model(test_iterator)"
   ]
  },
  {
   "cell_type": "code",
   "execution_count": 41,
   "metadata": {},
   "outputs": [
    {
     "name": "stdout",
     "output_type": "stream",
     "text": [
      "Test accuracy: 0.814. Test error: 0.432\n"
     ]
    }
   ],
   "source": [
    "print('Test accuracy: {:.3f}. Test error: {:.3f}'.format(test_accuracy, test_avg_loss))"
   ]
  },
  {
   "cell_type": "code",
   "execution_count": 42,
   "metadata": {},
   "outputs": [
    {
     "data": {
      "image/png": "[encoded data removed]",
      "text/plain": [
       "<Figure size 432x432 with 2 Axes>"
      ]
     },
     "metadata": {
      "needs_background": "light"
     },
     "output_type": "display_data"
    }
   ],
   "source": [
    "# Confusion matrix\n",
    "plt.figure(figsize=(6,6))\n",
    "ax = sns.heatmap(test_conf_matrix, fmt='d', annot=True, linewidths=1, square=True)\n",
    "ax.set_xlabel('Predictions', size=12)\n",
    "ax.set_ylabel('True labels', size=12) \n",
    "ax.set_title('Confusion Matrix', size=12); \n",
    "ax.xaxis.set_ticklabels(['True', 'False'])\n",
    "ax.yaxis.set_ticklabels(['True', 'False'])\n",
    "ax.set_ylim(2,0)\n",
    "plt.show()"
   ]
  },
  {
   "cell_type": "markdown",
   "metadata": {},
   "source": [
    "Thanks to using additional features our model achieved the generalization error of 0.814, which is 0.006 better than in the model without using extracted features. Even a superior result is possible, but the precise process of hyperparameters fine-tuning will be required."
   ]
  },
  {
   "cell_type": "code",
   "execution_count": null,
   "metadata": {},
   "outputs": [],
   "source": []
  }
 ],
 "metadata": {
  "kernelspec": {
   "display_name": "Python 3",
   "language": "python",
   "name": "python3"
  },
  "language_info": {
   "codemirror_mode": {
    "name": "ipython",
    "version": 3
   },
   "file_extension": ".py",
   "mimetype": "text/x-python",
   "name": "python",
   "nbconvert_exporter": "python",
   "pygments_lexer": "ipython3",
   "version": "3.7.10"
  }
 },
 "nbformat": 4,
 "nbformat_minor": 2
}
