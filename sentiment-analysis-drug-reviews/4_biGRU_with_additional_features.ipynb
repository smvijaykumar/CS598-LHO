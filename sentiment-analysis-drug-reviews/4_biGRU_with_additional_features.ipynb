{
 "cells": [
  {
   "cell_type": "markdown",
   "metadata": {},
   "source": [
    "# Build a biGRU neural network model with additional features\n",
    "\n",
    "\n"
   ]
  },
  {
   "cell_type": "markdown",
   "metadata": {},
   "source": [
    "### Building and training the model\n",
    "\n"
   ]
  },
  {
   "cell_type": "code",
   "execution_count": 1,
   "metadata": {},
   "outputs": [],
   "source": [
    "import pandas as pd\n",
    "import torch\n",
    "import torch.nn as nn\n",
    "import torch.nn.functional as F\n",
    "from torch import device\n",
    "from tqdm import tqdm_notebook\n",
    "import numpy as np\n",
    "import matplotlib.pyplot as plt\n",
    "import seaborn as sns\n",
    "from sklearn.metrics import confusion_matrix\n",
    "from sklearn.metrics import f1_score, roc_curve\n",
    "from sklearn.preprocessing import StandardScaler\n",
    "from batch_iterator import BatchIterator\n",
    "from early_stopping import EarlyStopping"
   ]
  },
  {
   "cell_type": "code",
   "execution_count": 2,
   "metadata": {},
   "outputs": [],
   "source": [
    "POS_RATING_THRESHOLD = 5"
   ]
  },
  {
   "cell_type": "code",
   "execution_count": 3,
   "metadata": {},
   "outputs": [],
   "source": [
    "# Import the dataset. \n",
    "train_dataset = pd.read_csv('drugreview/drugreview_feat_clean/train_feat_clean.csv', \n",
    "                            usecols=['clean_review', 'polarity', 'subjectivity', 'word_count', 'UPPERCASE', 'DIGITS',\n",
    "                                      'PROPN', 'VERB', 'NOUN', 'PUNCT', 'ADJ', 'rating'])\n",
    "\n",
    "# Change columns order\n",
    "train_dataset['label'] = train_dataset.rating >= POS_RATING_THRESHOLD\n",
    "train_dataset = train_dataset[['clean_review', 'polarity', 'subjectivity', 'word_count', 'UPPERCASE', 'DIGITS',\n",
    "                               'PROPN', 'VERB', 'NOUN', 'PUNCT', 'ADJ', 'label']]"
   ]
  },
  {
   "cell_type": "code",
   "execution_count": 4,
   "metadata": {},
   "outputs": [
    {
     "data": {
      "text/html": [
       "<div>\n",
       "<style scoped>\n",
       "    .dataframe tbody tr th:only-of-type {\n",
       "        vertical-align: middle;\n",
       "    }\n",
       "\n",
       "    .dataframe tbody tr th {\n",
       "        vertical-align: top;\n",
       "    }\n",
       "\n",
       "    .dataframe thead th {\n",
       "        text-align: right;\n",
       "    }\n",
       "</style>\n",
       "<table border=\"1\" class=\"dataframe\">\n",
       "  <thead>\n",
       "    <tr style=\"text-align: right;\">\n",
       "      <th></th>\n",
       "      <th>clean_review</th>\n",
       "      <th>polarity</th>\n",
       "      <th>subjectivity</th>\n",
       "      <th>word_count</th>\n",
       "      <th>UPPERCASE</th>\n",
       "      <th>DIGITS</th>\n",
       "      <th>PROPN</th>\n",
       "      <th>VERB</th>\n",
       "      <th>NOUN</th>\n",
       "      <th>PUNCT</th>\n",
       "      <th>ADJ</th>\n",
       "      <th>label</th>\n",
       "    </tr>\n",
       "  </thead>\n",
       "  <tbody>\n",
       "    <tr>\n",
       "      <td>1</td>\n",
       "      <td>okay anxiety gotten worse past couple years po...</td>\n",
       "      <td>0.12980</td>\n",
       "      <td>0.4067</td>\n",
       "      <td>150.0</td>\n",
       "      <td>0.06000</td>\n",
       "      <td>0.00000</td>\n",
       "      <td>0.0</td>\n",
       "      <td>0.0</td>\n",
       "      <td>0.0</td>\n",
       "      <td>0.0</td>\n",
       "      <td>0.0</td>\n",
       "      <td>True</td>\n",
       "    </tr>\n",
       "    <tr>\n",
       "      <td>6</td>\n",
       "      <td>reading possible effects scary medicine gave l...</td>\n",
       "      <td>0.07983</td>\n",
       "      <td>0.5347</td>\n",
       "      <td>90.0</td>\n",
       "      <td>0.07776</td>\n",
       "      <td>0.01111</td>\n",
       "      <td>0.0</td>\n",
       "      <td>0.0</td>\n",
       "      <td>0.0</td>\n",
       "      <td>0.0</td>\n",
       "      <td>0.0</td>\n",
       "      <td>True</td>\n",
       "    </tr>\n",
       "    <tr>\n",
       "      <td>9</td>\n",
       "      <td>clonazepam effective controlling agitation pro...</td>\n",
       "      <td>0.23700</td>\n",
       "      <td>0.6855</td>\n",
       "      <td>118.0</td>\n",
       "      <td>0.03390</td>\n",
       "      <td>0.00848</td>\n",
       "      <td>0.0</td>\n",
       "      <td>0.0</td>\n",
       "      <td>0.0</td>\n",
       "      <td>0.0</td>\n",
       "      <td>0.0</td>\n",
       "      <td>True</td>\n",
       "    </tr>\n",
       "    <tr>\n",
       "      <td>11</td>\n",
       "      <td>experienced effects considering anorexia nervo...</td>\n",
       "      <td>0.50630</td>\n",
       "      <td>0.5750</td>\n",
       "      <td>47.0</td>\n",
       "      <td>0.10640</td>\n",
       "      <td>0.02127</td>\n",
       "      <td>0.0</td>\n",
       "      <td>0.0</td>\n",
       "      <td>0.0</td>\n",
       "      <td>0.0</td>\n",
       "      <td>0.0</td>\n",
       "      <td>True</td>\n",
       "    </tr>\n",
       "    <tr>\n",
       "      <td>12</td>\n",
       "      <td>i&amp;#039;ve gianvi months skin clear didn&amp;#039;t...</td>\n",
       "      <td>-0.10710</td>\n",
       "      <td>0.3894</td>\n",
       "      <td>54.0</td>\n",
       "      <td>0.05554</td>\n",
       "      <td>0.01852</td>\n",
       "      <td>0.0</td>\n",
       "      <td>0.0</td>\n",
       "      <td>0.0</td>\n",
       "      <td>0.0</td>\n",
       "      <td>0.0</td>\n",
       "      <td>True</td>\n",
       "    </tr>\n",
       "  </tbody>\n",
       "</table>\n",
       "</div>"
      ],
      "text/plain": [
       "                                         clean_review  polarity  subjectivity  \\\n",
       "1   okay anxiety gotten worse past couple years po...   0.12980        0.4067   \n",
       "6   reading possible effects scary medicine gave l...   0.07983        0.5347   \n",
       "9   clonazepam effective controlling agitation pro...   0.23700        0.6855   \n",
       "11  experienced effects considering anorexia nervo...   0.50630        0.5750   \n",
       "12  i&#039;ve gianvi months skin clear didn&#039;t...  -0.10710        0.3894   \n",
       "\n",
       "    word_count  UPPERCASE   DIGITS  PROPN  VERB  NOUN  PUNCT  ADJ  label  \n",
       "1        150.0    0.06000  0.00000    0.0   0.0   0.0    0.0  0.0   True  \n",
       "6         90.0    0.07776  0.01111    0.0   0.0   0.0    0.0  0.0   True  \n",
       "9        118.0    0.03390  0.00848    0.0   0.0   0.0    0.0  0.0   True  \n",
       "11        47.0    0.10640  0.02127    0.0   0.0   0.0    0.0  0.0   True  \n",
       "12        54.0    0.05554  0.01852    0.0   0.0   0.0    0.0  0.0   True  "
      ]
     },
     "execution_count": 4,
     "metadata": {},
     "output_type": "execute_result"
    }
   ],
   "source": [
    "# Depict the first 5 rows of the training set\n",
    "train_dataset = train_dataset.dropna()\n",
    "train_dataset.head()"
   ]
  },
  {
   "cell_type": "code",
   "execution_count": 5,
   "metadata": {},
   "outputs": [],
   "source": [
    "# Instantiate the StandardScaler\n",
    "train_scaler = StandardScaler()\n",
    "# Scale the features\n",
    "train_dataset.iloc[:, 1:11] = train_scaler.fit_transform(train_dataset.iloc[:, 1:11])"
   ]
  },
  {
   "cell_type": "code",
   "execution_count": 6,
   "metadata": {},
   "outputs": [
    {
     "data": {
      "text/html": [
       "<div>\n",
       "<style scoped>\n",
       "    .dataframe tbody tr th:only-of-type {\n",
       "        vertical-align: middle;\n",
       "    }\n",
       "\n",
       "    .dataframe tbody tr th {\n",
       "        vertical-align: top;\n",
       "    }\n",
       "\n",
       "    .dataframe thead th {\n",
       "        text-align: right;\n",
       "    }\n",
       "</style>\n",
       "<table border=\"1\" class=\"dataframe\">\n",
       "  <thead>\n",
       "    <tr style=\"text-align: right;\">\n",
       "      <th></th>\n",
       "      <th>clean_review</th>\n",
       "      <th>polarity</th>\n",
       "      <th>subjectivity</th>\n",
       "      <th>word_count</th>\n",
       "      <th>UPPERCASE</th>\n",
       "      <th>DIGITS</th>\n",
       "      <th>PROPN</th>\n",
       "      <th>VERB</th>\n",
       "      <th>NOUN</th>\n",
       "      <th>PUNCT</th>\n",
       "      <th>ADJ</th>\n",
       "      <th>label</th>\n",
       "    </tr>\n",
       "  </thead>\n",
       "  <tbody>\n",
       "    <tr>\n",
       "      <td>1</td>\n",
       "      <td>okay anxiety gotten worse past couple years po...</td>\n",
       "      <td>0.294748</td>\n",
       "      <td>-0.529431</td>\n",
       "      <td>1.485427</td>\n",
       "      <td>0.051652</td>\n",
       "      <td>-0.809541</td>\n",
       "      <td>-0.21187</td>\n",
       "      <td>-0.301675</td>\n",
       "      <td>-0.2933</td>\n",
       "      <td>-0.229138</td>\n",
       "      <td>-0.247531</td>\n",
       "      <td>True</td>\n",
       "    </tr>\n",
       "    <tr>\n",
       "      <td>6</td>\n",
       "      <td>reading possible effects scary medicine gave l...</td>\n",
       "      <td>0.067826</td>\n",
       "      <td>0.199692</td>\n",
       "      <td>0.123681</td>\n",
       "      <td>0.516477</td>\n",
       "      <td>-0.242778</td>\n",
       "      <td>-0.21187</td>\n",
       "      <td>-0.301675</td>\n",
       "      <td>-0.2933</td>\n",
       "      <td>-0.229138</td>\n",
       "      <td>-0.247531</td>\n",
       "      <td>True</td>\n",
       "    </tr>\n",
       "    <tr>\n",
       "      <td>9</td>\n",
       "      <td>clonazepam effective controlling agitation pro...</td>\n",
       "      <td>0.781562</td>\n",
       "      <td>1.058690</td>\n",
       "      <td>0.759163</td>\n",
       "      <td>-0.631453</td>\n",
       "      <td>-0.376944</td>\n",
       "      <td>-0.21187</td>\n",
       "      <td>-0.301675</td>\n",
       "      <td>-0.2933</td>\n",
       "      <td>-0.229138</td>\n",
       "      <td>-0.247531</td>\n",
       "      <td>True</td>\n",
       "    </tr>\n",
       "    <tr>\n",
       "      <td>11</td>\n",
       "      <td>experienced effects considering anorexia nervo...</td>\n",
       "      <td>2.004499</td>\n",
       "      <td>0.429252</td>\n",
       "      <td>-0.852236</td>\n",
       "      <td>1.266060</td>\n",
       "      <td>0.275523</td>\n",
       "      <td>-0.21187</td>\n",
       "      <td>-0.301675</td>\n",
       "      <td>-0.2933</td>\n",
       "      <td>-0.229138</td>\n",
       "      <td>-0.247531</td>\n",
       "      <td>True</td>\n",
       "    </tr>\n",
       "    <tr>\n",
       "      <td>12</td>\n",
       "      <td>i&amp;#039;ve gianvi months skin clear didn&amp;#039;t...</td>\n",
       "      <td>-0.781056</td>\n",
       "      <td>-0.627976</td>\n",
       "      <td>-0.693366</td>\n",
       "      <td>-0.065078</td>\n",
       "      <td>0.135235</td>\n",
       "      <td>-0.21187</td>\n",
       "      <td>-0.301675</td>\n",
       "      <td>-0.2933</td>\n",
       "      <td>-0.229138</td>\n",
       "      <td>-0.247531</td>\n",
       "      <td>True</td>\n",
       "    </tr>\n",
       "  </tbody>\n",
       "</table>\n",
       "</div>"
      ],
      "text/plain": [
       "                                         clean_review  polarity  subjectivity  \\\n",
       "1   okay anxiety gotten worse past couple years po...  0.294748     -0.529431   \n",
       "6   reading possible effects scary medicine gave l...  0.067826      0.199692   \n",
       "9   clonazepam effective controlling agitation pro...  0.781562      1.058690   \n",
       "11  experienced effects considering anorexia nervo...  2.004499      0.429252   \n",
       "12  i&#039;ve gianvi months skin clear didn&#039;t... -0.781056     -0.627976   \n",
       "\n",
       "    word_count  UPPERCASE    DIGITS    PROPN      VERB    NOUN     PUNCT  \\\n",
       "1     1.485427   0.051652 -0.809541 -0.21187 -0.301675 -0.2933 -0.229138   \n",
       "6     0.123681   0.516477 -0.242778 -0.21187 -0.301675 -0.2933 -0.229138   \n",
       "9     0.759163  -0.631453 -0.376944 -0.21187 -0.301675 -0.2933 -0.229138   \n",
       "11   -0.852236   1.266060  0.275523 -0.21187 -0.301675 -0.2933 -0.229138   \n",
       "12   -0.693366  -0.065078  0.135235 -0.21187 -0.301675 -0.2933 -0.229138   \n",
       "\n",
       "         ADJ  label  \n",
       "1  -0.247531   True  \n",
       "6  -0.247531   True  \n",
       "9  -0.247531   True  \n",
       "11 -0.247531   True  \n",
       "12 -0.247531   True  "
      ]
     },
     "execution_count": 6,
     "metadata": {},
     "output_type": "execute_result"
    }
   ],
   "source": [
    "train_dataset.head()"
   ]
  },
  {
   "cell_type": "code",
   "execution_count": 7,
   "metadata": {},
   "outputs": [],
   "source": [
    "# Import the dataset. Use clean_review and label columns\n",
    "val_dataset = pd.read_csv('drugreview/drugreview_feat_clean/val_feat_clean.csv',\n",
    "                          usecols=['clean_review', 'polarity', 'subjectivity', 'word_count', 'UPPERCASE', 'DIGITS',\n",
    "                                      'PROPN', 'VERB', 'NOUN', 'PUNCT', 'ADJ', 'rating'])\n",
    "\n",
    "# Change columns order\n",
    "val_dataset['label'] = val_dataset.rating >= POS_RATING_THRESHOLD\n",
    "val_dataset = val_dataset[['clean_review', 'polarity', 'subjectivity', 'word_count', 'UPPERCASE', 'DIGITS',\n",
    "                           'PROPN', 'VERB', 'NOUN', 'PUNCT', 'ADJ', 'label']]"
   ]
  },
  {
   "cell_type": "code",
   "execution_count": 8,
   "metadata": {},
   "outputs": [
    {
     "data": {
      "text/html": [
       "<div>\n",
       "<style scoped>\n",
       "    .dataframe tbody tr th:only-of-type {\n",
       "        vertical-align: middle;\n",
       "    }\n",
       "\n",
       "    .dataframe tbody tr th {\n",
       "        vertical-align: top;\n",
       "    }\n",
       "\n",
       "    .dataframe thead th {\n",
       "        text-align: right;\n",
       "    }\n",
       "</style>\n",
       "<table border=\"1\" class=\"dataframe\">\n",
       "  <thead>\n",
       "    <tr style=\"text-align: right;\">\n",
       "      <th></th>\n",
       "      <th>clean_review</th>\n",
       "      <th>polarity</th>\n",
       "      <th>subjectivity</th>\n",
       "      <th>word_count</th>\n",
       "      <th>UPPERCASE</th>\n",
       "      <th>DIGITS</th>\n",
       "      <th>PROPN</th>\n",
       "      <th>VERB</th>\n",
       "      <th>NOUN</th>\n",
       "      <th>PUNCT</th>\n",
       "      <th>ADJ</th>\n",
       "      <th>label</th>\n",
       "    </tr>\n",
       "  </thead>\n",
       "  <tbody>\n",
       "    <tr>\n",
       "      <td>1</td>\n",
       "      <td>4yrs having nexaplon implant mental physical h...</td>\n",
       "      <td>0.1217</td>\n",
       "      <td>0.4553</td>\n",
       "      <td>137.0</td>\n",
       "      <td>0.02919</td>\n",
       "      <td>0.007298</td>\n",
       "      <td>0.0</td>\n",
       "      <td>0.0</td>\n",
       "      <td>0.0</td>\n",
       "      <td>0.0</td>\n",
       "      <td>0.0</td>\n",
       "      <td>False</td>\n",
       "    </tr>\n",
       "    <tr>\n",
       "      <td>4</td>\n",
       "      <td>l5 s1 lumbar herniated disc surgery weeks surg...</td>\n",
       "      <td>0.1459</td>\n",
       "      <td>0.3792</td>\n",
       "      <td>69.0</td>\n",
       "      <td>0.04350</td>\n",
       "      <td>0.028990</td>\n",
       "      <td>0.0</td>\n",
       "      <td>0.0</td>\n",
       "      <td>0.0</td>\n",
       "      <td>0.0</td>\n",
       "      <td>0.0</td>\n",
       "      <td>True</td>\n",
       "    </tr>\n",
       "    <tr>\n",
       "      <td>5</td>\n",
       "      <td>far lot acne clear tea tree broke decided birt...</td>\n",
       "      <td>0.2375</td>\n",
       "      <td>0.5540</td>\n",
       "      <td>85.0</td>\n",
       "      <td>0.11770</td>\n",
       "      <td>0.011765</td>\n",
       "      <td>0.0</td>\n",
       "      <td>0.0</td>\n",
       "      <td>0.0</td>\n",
       "      <td>0.0</td>\n",
       "      <td>0.0</td>\n",
       "      <td>True</td>\n",
       "    </tr>\n",
       "    <tr>\n",
       "      <td>6</td>\n",
       "      <td>insulin works fine trouble pen pain pen jammed...</td>\n",
       "      <td>-0.0958</td>\n",
       "      <td>0.5500</td>\n",
       "      <td>47.0</td>\n",
       "      <td>0.08510</td>\n",
       "      <td>0.000000</td>\n",
       "      <td>0.0</td>\n",
       "      <td>0.0</td>\n",
       "      <td>0.0</td>\n",
       "      <td>0.0</td>\n",
       "      <td>0.0</td>\n",
       "      <td>False</td>\n",
       "    </tr>\n",
       "    <tr>\n",
       "      <td>7</td>\n",
       "      <td>nexplanon option work iud painful insert pills...</td>\n",
       "      <td>-0.0353</td>\n",
       "      <td>0.4426</td>\n",
       "      <td>135.0</td>\n",
       "      <td>0.05927</td>\n",
       "      <td>0.007410</td>\n",
       "      <td>0.0</td>\n",
       "      <td>0.0</td>\n",
       "      <td>0.0</td>\n",
       "      <td>0.0</td>\n",
       "      <td>0.0</td>\n",
       "      <td>True</td>\n",
       "    </tr>\n",
       "  </tbody>\n",
       "</table>\n",
       "</div>"
      ],
      "text/plain": [
       "                                        clean_review  polarity  subjectivity  \\\n",
       "1  4yrs having nexaplon implant mental physical h...    0.1217        0.4553   \n",
       "4  l5 s1 lumbar herniated disc surgery weeks surg...    0.1459        0.3792   \n",
       "5  far lot acne clear tea tree broke decided birt...    0.2375        0.5540   \n",
       "6  insulin works fine trouble pen pain pen jammed...   -0.0958        0.5500   \n",
       "7  nexplanon option work iud painful insert pills...   -0.0353        0.4426   \n",
       "\n",
       "   word_count  UPPERCASE    DIGITS  PROPN  VERB  NOUN  PUNCT  ADJ  label  \n",
       "1       137.0    0.02919  0.007298    0.0   0.0   0.0    0.0  0.0  False  \n",
       "4        69.0    0.04350  0.028990    0.0   0.0   0.0    0.0  0.0   True  \n",
       "5        85.0    0.11770  0.011765    0.0   0.0   0.0    0.0  0.0   True  \n",
       "6        47.0    0.08510  0.000000    0.0   0.0   0.0    0.0  0.0  False  \n",
       "7       135.0    0.05927  0.007410    0.0   0.0   0.0    0.0  0.0   True  "
      ]
     },
     "execution_count": 8,
     "metadata": {},
     "output_type": "execute_result"
    }
   ],
   "source": [
    "# Depict the first 5 rows of the validation set\n",
    "val_dataset = val_dataset.dropna(0)\n",
    "val_dataset.head()"
   ]
  },
  {
   "cell_type": "code",
   "execution_count": 9,
   "metadata": {},
   "outputs": [],
   "source": [
    "# Instantiate the StandardScaler\n",
    "val_scaler = StandardScaler()\n",
    "# Scale the features\n",
    "val_dataset.iloc[:, 1:11] = val_scaler.fit_transform(val_dataset.iloc[:, 1:11])"
   ]
  },
  {
   "cell_type": "code",
   "execution_count": 10,
   "metadata": {},
   "outputs": [
    {
     "data": {
      "text/html": [
       "<div>\n",
       "<style scoped>\n",
       "    .dataframe tbody tr th:only-of-type {\n",
       "        vertical-align: middle;\n",
       "    }\n",
       "\n",
       "    .dataframe tbody tr th {\n",
       "        vertical-align: top;\n",
       "    }\n",
       "\n",
       "    .dataframe thead th {\n",
       "        text-align: right;\n",
       "    }\n",
       "</style>\n",
       "<table border=\"1\" class=\"dataframe\">\n",
       "  <thead>\n",
       "    <tr style=\"text-align: right;\">\n",
       "      <th></th>\n",
       "      <th>clean_review</th>\n",
       "      <th>polarity</th>\n",
       "      <th>subjectivity</th>\n",
       "      <th>word_count</th>\n",
       "      <th>UPPERCASE</th>\n",
       "      <th>DIGITS</th>\n",
       "      <th>PROPN</th>\n",
       "      <th>VERB</th>\n",
       "      <th>NOUN</th>\n",
       "      <th>PUNCT</th>\n",
       "      <th>ADJ</th>\n",
       "      <th>label</th>\n",
       "    </tr>\n",
       "  </thead>\n",
       "  <tbody>\n",
       "    <tr>\n",
       "      <td>1</td>\n",
       "      <td>4yrs having nexaplon implant mental physical h...</td>\n",
       "      <td>0.266848</td>\n",
       "      <td>-0.256981</td>\n",
       "      <td>1.142500</td>\n",
       "      <td>-0.762432</td>\n",
       "      <td>-0.445881</td>\n",
       "      <td>-0.217982</td>\n",
       "      <td>-0.297726</td>\n",
       "      <td>-0.289597</td>\n",
       "      <td>-0.223955</td>\n",
       "      <td>-0.266724</td>\n",
       "      <td>False</td>\n",
       "    </tr>\n",
       "    <tr>\n",
       "      <td>4</td>\n",
       "      <td>l5 s1 lumbar herniated disc surgery weeks surg...</td>\n",
       "      <td>0.375712</td>\n",
       "      <td>-0.694814</td>\n",
       "      <td>-0.332093</td>\n",
       "      <td>-0.387531</td>\n",
       "      <td>0.650841</td>\n",
       "      <td>-0.217982</td>\n",
       "      <td>-0.297726</td>\n",
       "      <td>-0.289597</td>\n",
       "      <td>-0.223955</td>\n",
       "      <td>-0.266724</td>\n",
       "      <td>True</td>\n",
       "    </tr>\n",
       "    <tr>\n",
       "      <td>5</td>\n",
       "      <td>far lot acne clear tea tree broke decided birt...</td>\n",
       "      <td>0.787778</td>\n",
       "      <td>0.310879</td>\n",
       "      <td>0.014870</td>\n",
       "      <td>1.556398</td>\n",
       "      <td>-0.220035</td>\n",
       "      <td>-0.217982</td>\n",
       "      <td>-0.297726</td>\n",
       "      <td>-0.289597</td>\n",
       "      <td>-0.223955</td>\n",
       "      <td>-0.266724</td>\n",
       "      <td>True</td>\n",
       "    </tr>\n",
       "    <tr>\n",
       "      <td>6</td>\n",
       "      <td>insulin works fine trouble pen pain pen jammed...</td>\n",
       "      <td>-0.711582</td>\n",
       "      <td>0.287865</td>\n",
       "      <td>-0.809167</td>\n",
       "      <td>0.702326</td>\n",
       "      <td>-0.814859</td>\n",
       "      <td>-0.217982</td>\n",
       "      <td>-0.297726</td>\n",
       "      <td>-0.289597</td>\n",
       "      <td>-0.223955</td>\n",
       "      <td>-0.266724</td>\n",
       "      <td>False</td>\n",
       "    </tr>\n",
       "    <tr>\n",
       "      <td>7</td>\n",
       "      <td>nexplanon option work iud painful insert pills...</td>\n",
       "      <td>-0.439421</td>\n",
       "      <td>-0.330049</td>\n",
       "      <td>1.099130</td>\n",
       "      <td>0.025619</td>\n",
       "      <td>-0.440219</td>\n",
       "      <td>-0.217982</td>\n",
       "      <td>-0.297726</td>\n",
       "      <td>-0.289597</td>\n",
       "      <td>-0.223955</td>\n",
       "      <td>-0.266724</td>\n",
       "      <td>True</td>\n",
       "    </tr>\n",
       "  </tbody>\n",
       "</table>\n",
       "</div>"
      ],
      "text/plain": [
       "                                        clean_review  polarity  subjectivity  \\\n",
       "1  4yrs having nexaplon implant mental physical h...  0.266848     -0.256981   \n",
       "4  l5 s1 lumbar herniated disc surgery weeks surg...  0.375712     -0.694814   \n",
       "5  far lot acne clear tea tree broke decided birt...  0.787778      0.310879   \n",
       "6  insulin works fine trouble pen pain pen jammed... -0.711582      0.287865   \n",
       "7  nexplanon option work iud painful insert pills... -0.439421     -0.330049   \n",
       "\n",
       "   word_count  UPPERCASE    DIGITS     PROPN      VERB      NOUN     PUNCT  \\\n",
       "1    1.142500  -0.762432 -0.445881 -0.217982 -0.297726 -0.289597 -0.223955   \n",
       "4   -0.332093  -0.387531  0.650841 -0.217982 -0.297726 -0.289597 -0.223955   \n",
       "5    0.014870   1.556398 -0.220035 -0.217982 -0.297726 -0.289597 -0.223955   \n",
       "6   -0.809167   0.702326 -0.814859 -0.217982 -0.297726 -0.289597 -0.223955   \n",
       "7    1.099130   0.025619 -0.440219 -0.217982 -0.297726 -0.289597 -0.223955   \n",
       "\n",
       "        ADJ  label  \n",
       "1 -0.266724  False  \n",
       "4 -0.266724   True  \n",
       "5 -0.266724   True  \n",
       "6 -0.266724  False  \n",
       "7 -0.266724   True  "
      ]
     },
     "execution_count": 10,
     "metadata": {},
     "output_type": "execute_result"
    }
   ],
   "source": [
    "val_dataset.head()"
   ]
  },
  {
   "cell_type": "code",
   "execution_count": 11,
   "metadata": {},
   "outputs": [
    {
     "name": "stdout",
     "output_type": "stream",
     "text": [
      "Trimmed vocabulary using as minimum count threashold: count = 3.00\n",
      "14773/39267 tokens has been retained\n",
      "Trimmed input strings vocabulary\n",
      "Trimmed input sequences lengths to the length of: 59\n",
      "Mapped words to indices\n",
      "Start creating glove_word2vector dictionary\n",
      "Extracted 12312/14777 of pre-trained word vectors.\n",
      "2465 vectors initialized to random numbers\n",
      "Weights vectors saved into glove/weights_train.npy\n",
      "Batches created\n"
     ]
    }
   ],
   "source": [
    "train_iterator = BatchIterator(train_dataset, batch_size=256, vocab_created=False, vocab=None, target_col=None,\n",
    "                               word2index=None, sos_token='<SOS>', eos_token='<EOS>', unk_token='<UNK>',\n",
    "                               pad_token='<PAD>', min_word_count=3, max_vocab_size=None, max_seq_len=0.9,\n",
    "                               use_pretrained_vectors=True, glove_path='glove/', glove_name='glove.6B.100d.txt',\n",
    "                               weights_file_name='glove/weights_train.npy')"
   ]
  },
  {
   "cell_type": "code",
   "execution_count": 12,
   "metadata": {},
   "outputs": [
    {
     "name": "stdout",
     "output_type": "stream",
     "text": [
      "Trimmed vocabulary using as minimum count threashold: count = 3.00\n",
      "7720/19770 tokens has been retained\n",
      "Trimmed input strings vocabulary\n",
      "Trimmed input sequences lengths to the length of: 58\n",
      "Mapped words to indices\n",
      "Start creating glove_word2vector dictionary\n",
      "Extracted 12475/15036 of pre-trained word vectors.\n",
      "2561 vectors initialized to random numbers\n",
      "Weights vectors saved into glove/weights_val.npy\n",
      "Batches created\n"
     ]
    }
   ],
   "source": [
    "val_iterator = BatchIterator(val_dataset, batch_size=256, vocab_created=False, vocab=None, target_col=None,\n",
    "                             word2index=train_iterator.word2index, sos_token='<SOS>', eos_token='<EOS>',\n",
    "                             unk_token='<UNK>', pad_token='<PAD>', min_word_count=3, max_vocab_size=None,\n",
    "                             max_seq_len=0.9, use_pretrained_vectors=True, glove_path='glove/',\n",
    "                             glove_name='glove.6B.100d.txt', weights_file_name='glove/weights_val.npy')"
   ]
  },
  {
   "cell_type": "markdown",
   "metadata": {},
   "source": [
    "We have to check out how batches that we created look like before we pass them into the model. For the record, the set of batches for input and output variables is returned as a dictionary, thus we will just look at the dictionary keys to find out how to extract particular variables."
   ]
  },
  {
   "cell_type": "code",
   "execution_count": 13,
   "metadata": {},
   "outputs": [
    {
     "name": "stdout",
     "output_type": "stream",
     "text": [
      "dict_keys(['input_feat', 'input_seq', 'target', 'x_lengths'])\n"
     ]
    }
   ],
   "source": [
    "for batches in train_iterator:\n",
    "    print(batches.keys())\n",
    "    break"
   ]
  },
  {
   "cell_type": "markdown",
   "metadata": {},
   "source": [
    "As we can see above we can distinguish the following batches: *input_feat* that comprises all additional features, *input_seq* that contains cleaned reviews, *target batch* that includes target labels and *x_lengths* batch that encompasses input sequences lengths.\n",
    "\n",
    "Notice that the *input_seq* batch has the dimensions: (batch_size, seq_len), while *input_feat* batch has the shape of (batch_size, num_features)."
   ]
  },
  {
   "cell_type": "code",
   "execution_count": 14,
   "metadata": {},
   "outputs": [
    {
     "name": "stdout",
     "output_type": "stream",
     "text": [
      "input_seq shape:  torch.Size([256, 58])\n",
      "input_feat shape:  torch.Size([256, 10])\n",
      "target shape:  torch.Size([256])\n",
      "x_lengths shape:  torch.Size([256])\n"
     ]
    }
   ],
   "source": [
    "for batches in train_iterator:\n",
    "\n",
    "    # Unpack the dictionary of batches\n",
    "    input_seq, input_feat, target, x_lengths = batches['input_seq'], batches['input_feat'],\\\n",
    "                                               batches['target'], batches['x_lengths']\n",
    "        \n",
    "    print('input_seq shape: ', input_seq.size())\n",
    "    print('input_feat shape: ', input_feat.size())\n",
    "    print('target shape: ', target.size())\n",
    "    print('x_lengths shape: ', x_lengths.size())\n",
    "    break"
   ]
  },
  {
   "cell_type": "code",
   "execution_count": 15,
   "metadata": {},
   "outputs": [
    {
     "name": "stdout",
     "output_type": "stream",
     "text": [
      "input_seq shape:  torch.Size([256, 27])\n",
      "input_feat shape:  torch.Size([256, 10])\n",
      "target shape:  torch.Size([256])\n",
      "x_lengths shape:  torch.Size([256])\n"
     ]
    }
   ],
   "source": [
    "for batches in val_iterator:\n",
    "    # Unpack the dictionary of batches\n",
    "    input_seq, input_feat, target, x_lengths = batches['input_seq'], batches['input_feat'],\\\n",
    "                                               batches['target'], batches['x_lengths']\n",
    "    print('input_seq shape: ', input_seq.size())\n",
    "    print('input_feat shape: ', input_feat.size())\n",
    "    print('target shape: ', target.size())\n",
    "    print('x_lengths shape: ', x_lengths.size())\n",
    "    break"
   ]
  },
  {
   "cell_type": "markdown",
   "metadata": {},
   "source": [
    "Now we are going to build a biGRU model that will use the *input_feat* batch as additional features vector. "
   ]
  },
  {
   "cell_type": "code",
   "execution_count": 16,
   "metadata": {},
   "outputs": [],
   "source": [
    "class BiGRU(nn.Module):\n",
    "    \"\"\"BiDirectional GRU neural network model.\n",
    "        \n",
    "    Parameters\n",
    "    ----------\n",
    "    hidden_size: int\n",
    "        Number of features in the hidden state.\n",
    "    vocab_size: int\n",
    "        The size of the vocabulary.\n",
    "    n_extra_feat: int\n",
    "        Number of additional features.\n",
    "    embedding_dim: int\n",
    "        The size of each embedding vector.\n",
    "    output_size: int\n",
    "        Number of classes.\n",
    "    n_layers: int, optional (default=1)\n",
    "        Number of stacked recurrent layers.\n",
    "    dropout: float, optional (default=0.2)\n",
    "        Probability of an element of the tensor to be zeroed.\n",
    "    spatial_dropout: boolean, optional (default=True)\n",
    "        Whether to use the spatial dropout.\n",
    "    bidirectional: boolean, optional (default=True)\n",
    "        Whether to use the bidirectional GRU.\n",
    "\n",
    "    \"\"\"\n",
    "    \n",
    "    def __init__(self, hidden_size, vocab_size, n_extra_feat, embedding_dim, output_size, n_layers=1, dropout=0.2,\n",
    "                 spatial_dropout=True, bidirectional=True):\n",
    "        \n",
    "        # Inherit everything from the nn.Module\n",
    "        super(BiGRU, self).__init__()\n",
    "        \n",
    "        # Initialize attributes\n",
    "        self.hidden_size = hidden_size\n",
    "        self.vocab_size = vocab_size\n",
    "        self.n_extra_feat = n_extra_feat\n",
    "        self.embedding_dim = embedding_dim\n",
    "        self.output_size = output_size\n",
    "        self.n_layers = n_layers\n",
    "        self.dropout_p = dropout\n",
    "        self.spatial_dropout = spatial_dropout\n",
    "        self.bidirectional = bidirectional\n",
    "        self.n_directions = 2 if self.bidirectional else 1\n",
    "        \n",
    "        # Initialize layers\n",
    "        self.embedding = nn.Embedding(self.vocab_size, self.embedding_dim)\n",
    "        self.dropout = nn.Dropout(self.dropout_p)\n",
    "        if self.spatial_dropout:\n",
    "            self.spatial_dropout1d = nn.Dropout2d(self.dropout_p)\n",
    "        self.gru = nn.GRU(self.embedding_dim, self.hidden_size, num_layers=self.n_layers, \n",
    "                          dropout=(0 if n_layers == 1 else self.dropout_p), batch_first=True,\n",
    "                          bidirectional=self.bidirectional)\n",
    "        # Linear layer input size is equal to hidden_size * 3 + n_extra_feat, becuase\n",
    "        # we will concatenate max_pooling ,avg_pooling, last hidden state and additional features\n",
    "        self.linear = nn.Linear(self.hidden_size * 3 + self.n_extra_feat, self.output_size)\n",
    "\n",
    "        \n",
    "    def forward(self, input_seq, input_feat, input_lengths, hidden=None):\n",
    "        \"\"\"Forward propagate through the neural network model.\n",
    "        \n",
    "        Parameters\n",
    "        ----------\n",
    "        input_seq: torch.Tensor\n",
    "            Batch of input sequences.\n",
    "        input_feat: torch.Tensor\n",
    "            Batch of additional features.\n",
    "        input_lengths: torch.LongTensor\n",
    "            Batch containing sequences lengths.\n",
    "        hidden: torch.FloatTensor, optional (default=None)\n",
    "            Tensor containing initial hidden state.\n",
    "            \n",
    "        Returns\n",
    "        -------\n",
    "        torch.Tensor\n",
    "            Logarithm of softmaxed input tensor.\n",
    "        \n",
    "        \"\"\"\n",
    "        # Extract batch_size\n",
    "        self.batch_size = input_seq.size(0)\n",
    "        \n",
    "        # Embeddings shapes\n",
    "        # Input: (batch_size,  seq_length)\n",
    "        # Output: (batch_size, seq_length, embedding_dim)\n",
    "        emb_out = self.embedding(input_seq)\n",
    "        \n",
    "        if self.spatial_dropout:\n",
    "            # Convert to (batch_size, embedding_dim, seq_length)\n",
    "            emb_out = emb_out.permute(0, 2, 1)\n",
    "            emb_out = self.spatial_dropout1d(emb_out)\n",
    "            # Convert back to (batch_size, seq_length, embedding_dim)\n",
    "            emb_out = emb_out.permute(0, 2, 1)\n",
    "        else:\n",
    "            emb_out = self.dropout(emb_out)\n",
    "        \n",
    "        # Pack padded batch of sequences for RNN module\n",
    "        packed_emb = nn.utils.rnn.pack_padded_sequence(emb_out, input_lengths, batch_first=True)\n",
    "                \n",
    "        # GRU input/output shapes, if batch_first=True\n",
    "        # Input: (batch_size, seq_len, embedding_dim)\n",
    "        # Output: (batch_size, seq_len, hidden_size*num_directions)\n",
    "        # Number of directions = 2 when used bidirectional, otherwise 1\n",
    "        # shape of hidden: (n_layers x num_directions, batch_size, hidden_size)\n",
    "        # Hidden state defaults to zero if not provided\n",
    "        gru_out, hidden = self.gru(packed_emb, hidden)\n",
    "        # gru_out: tensor containing the output features h_t from the last layer of the GRU\n",
    "        # gru_out comprises all the hidden states in the last layer (\"last\" depth-wise, not time-wise)\n",
    "        # For biGRu gru_out is the concatenation of a forward GRU representation and a backward GRU representation\n",
    "        # hidden (h_n) comprises the hidden states after the last timestep\n",
    "        \n",
    "        # Extract and sum last hidden state\n",
    "        # Input hidden shape: (n_layers x num_directions, batch_size, hidden_size)\n",
    "        # Separate hidden state layers\n",
    "        hidden = hidden.view(self.n_layers, self.n_directions, self.batch_size, self.hidden_size)\n",
    "        last_hidden = hidden[-1]\n",
    "        # last hidden shape (num_directions, batch_size, hidden_size)\n",
    "        # Sum the last hidden state of forward and backward layer\n",
    "        last_hidden = torch.sum(last_hidden, dim=0)\n",
    "        # Summed last hidden shape (batch_size, hidden_size)\n",
    "        \n",
    "        # Pad a packed batch\n",
    "        # gru_out output shape: (batch_size, seq_len, hidden_size*num_directions)\n",
    "        gru_out, lengths = nn.utils.rnn.pad_packed_sequence(gru_out, batch_first=True)\n",
    "              \n",
    "        # Sum the gru_out along the num_directions\n",
    "        if self.bidirectional:\n",
    "            gru_out = gru_out[:,:,:self.hidden_size] + gru_out[:,:,self.hidden_size:]\n",
    "        \n",
    "        # Select the maximum value over each dimension of the hidden representation (max pooling)\n",
    "        # Permute the input tensor to dimensions: (batch_size, hidden, seq_len)\n",
    "        # Output dimensions: (batch_size, hidden_size)\n",
    "        max_pool = F.adaptive_max_pool1d(gru_out.permute(0,2,1), (1,)).view(self.batch_size,-1)\n",
    "        \n",
    "        # Consider the average of the representations (mean pooling)\n",
    "        # Sum along the batch axis and divide by the corresponding lengths (FloatTensor)\n",
    "        # Output shape: (batch_size, hidden_size)\n",
    "        avg_pool = torch.sum(gru_out, dim=1) / lengths.view(-1,1).type(torch.FloatTensor) \n",
    "\n",
    "        # Concatenate max_pooling, avg_pooling, hidden state and input_feat tensor\n",
    "        concat_out = torch.cat([last_hidden, max_pool, avg_pool, input_feat], dim=1)\n",
    "\n",
    "        # concat_out = self.dropout(concat_out)\n",
    "        out = self.linear(concat_out)\n",
    "        return F.log_softmax(out, dim=-1)\n",
    "    \n",
    "    \n",
    "    def add_loss_fn(self, loss_fn):\n",
    "        \"\"\"Add loss function to the model.\n",
    "        \n",
    "        \"\"\"\n",
    "        self.loss_fn = loss_fn\n",
    "        \n",
    "\n",
    "    def add_optimizer(self, optimizer):\n",
    "        \"\"\"Add optimizer to the model.\n",
    "        \n",
    "        \"\"\"\n",
    "        self.optimizer = optimizer\n",
    "        \n",
    "        \n",
    "    def add_device(self, device=torch.device('cpu')):\n",
    "        \"\"\"Specify the device.\n",
    "        \n",
    "        \"\"\"\n",
    "        self.device = device\n",
    "    \n",
    "    \n",
    "    def train_model(self, train_iterator):\n",
    "        \"\"\"Perform single training epoch.\n",
    "        \n",
    "        Parameters\n",
    "        ----------\n",
    "        train_iterator: BatchIterator\n",
    "            BatchIterator class object containing training batches.\n",
    "            \n",
    "        Returns\n",
    "        -------\n",
    "        train_losses: list\n",
    "            List of the training average batch losses.\n",
    "        avg_loss: float\n",
    "            Average loss on the entire training set.\n",
    "        accuracy: float\n",
    "            Models accuracy on the entire training set.\n",
    "            \n",
    "        \"\"\"\n",
    "        self.train()\n",
    "        \n",
    "        train_losses = []\n",
    "        losses = []\n",
    "        losses_list = []\n",
    "        num_seq = 0\n",
    "        batch_correct = 0\n",
    "            \n",
    "        for i, batches in tqdm_notebook(enumerate(train_iterator, 1), total=len(train_iterator), desc='Training'):\n",
    "            input_seq, input_feat, target, x_lengths = batches['input_seq'], batches['input_feat'],\\\n",
    "                                                       batches['target'], batches['x_lengths']\n",
    "            \n",
    "            input_seq.to(self.device)\n",
    "            input_feat.to(self.device)\n",
    "            target.to(self.device)\n",
    "            x_lengths.to(self.device)\n",
    "            \n",
    "            self.optimizer.zero_grad()\n",
    "\n",
    "            pred = self.forward(input_seq, input_feat, x_lengths)\n",
    "            loss = self.loss_fn(pred, target)\n",
    "            loss.backward()\n",
    "            losses.append(loss.data.cpu().numpy())\n",
    "            self.optimizer.step()\n",
    "            \n",
    "            losses_list.append(loss.data.cpu().numpy())\n",
    "            \n",
    "            pred = torch.argmax(pred, 1)\n",
    "\n",
    "            if self.device.type == 'cpu':\n",
    "                batch_correct += (pred.cpu() == target.cpu()).sum().item()\n",
    "\n",
    "            else:\n",
    "                batch_correct += (pred == target).sum().item()\n",
    "\n",
    "            num_seq += len(input_seq)     \n",
    "    \n",
    "            if i % 100 == 0:\n",
    "                avg_train_loss = np.mean(losses)\n",
    "                train_losses.append(avg_train_loss)\n",
    "                \n",
    "                accuracy = batch_correct / num_seq\n",
    "                \n",
    "                print('Iteration: {}. Average training loss: {:.4f}. Accuracy: {:.3f}'\\\n",
    "                      .format(i, avg_train_loss, accuracy))\n",
    "                \n",
    "                losses = []\n",
    "                \n",
    "            avg_loss = np.mean(losses_list)\n",
    "            accuracy = batch_correct / num_seq\n",
    "                              \n",
    "        return train_losses, avg_loss, accuracy\n",
    "    \n",
    "    \n",
    "    def evaluate_model(self, eval_iterator, conf_mtx=False):\n",
    "        \"\"\"Perform the one evaluation epoch.\n",
    "        \n",
    "        Parameters\n",
    "        ----------\n",
    "        eval_iterator: BatchIterator\n",
    "            BatchIterator class object containing evaluation batches.\n",
    "        conf_mtx: boolean, optional (default=False)\n",
    "            Whether to print the confusion matrix at each epoch.\n",
    "            \n",
    "        Returns\n",
    "        -------\n",
    "        eval_losses: list\n",
    "            List of the evaluation average batch losses.\n",
    "        avg_loss: float\n",
    "            Average loss on the entire evaluation set.\n",
    "        accuracy: float\n",
    "            Models accuracy on the entire evaluation set.\n",
    "        conf_matrix: list\n",
    "            Confusion matrix.\n",
    "            \n",
    "        \"\"\"\n",
    "        self.eval()\n",
    "        \n",
    "        eval_losses = []\n",
    "        losses = []\n",
    "        losses_list = []\n",
    "        num_seq = 0\n",
    "        batch_correct = 0\n",
    "        pred_total = torch.LongTensor()\n",
    "        target_total = torch.LongTensor()\n",
    "        \n",
    "        with torch.no_grad():\n",
    "            for i, batches in tqdm_notebook(enumerate(eval_iterator, 1), total=len(eval_iterator), desc='Evaluation'):\n",
    "                input_seq, input_feat, target, x_lengths = batches['input_seq'], batches['input_feat'],\\\n",
    "                                                           batches['target'], batches['x_lengths']\n",
    "                \n",
    "                input_seq.to(self.device)\n",
    "                input_feat.to(self.device)\n",
    "                target.to(self.device)\n",
    "                x_lengths.to(self.device)\n",
    "\n",
    "                pred = self.forward(input_seq, input_feat, x_lengths)\n",
    "                loss = self.loss_fn(pred, target)\n",
    "                losses.append(loss.data.cpu().numpy())\n",
    "                losses_list.append(loss.data.cpu().numpy())\n",
    "                \n",
    "                pred = torch.argmax(pred, 1)\n",
    "                                \n",
    "                if self.device.type == 'cpu':\n",
    "                    batch_correct += (pred.cpu() == target.cpu()).sum().item()\n",
    "                    \n",
    "                else:\n",
    "                    batch_correct += (pred == target).sum().item()\n",
    "                    \n",
    "                num_seq += len(input_seq)     \n",
    "                \n",
    "                pred_total = torch.cat([pred_total, pred], dim=0)\n",
    "                target_total = torch.cat([target_total, target], dim=0)\n",
    "                \n",
    "                if i % 100 == 0:\n",
    "                    avg_batch_eval_loss = np.mean(losses)\n",
    "                    eval_losses.append(avg_batch_eval_loss)\n",
    "                    \n",
    "                    accuracy = batch_correct / num_seq\n",
    "                    \n",
    "                    print('Iteration: {}. Average evaluation loss: {:.4f}. Accuracy: {:.2f}'\\\n",
    "                          .format(i, avg_batch_eval_loss, accuracy))\n",
    "\n",
    "                    losses = []\n",
    "                    \n",
    "            avg_loss_list = []\n",
    "                    \n",
    "            avg_loss = np.mean(losses_list)\n",
    "            accuracy = batch_correct / num_seq\n",
    "            \n",
    "            conf_matrix = confusion_matrix(target_total.view(-1), pred_total.view(-1))\n",
    "            fone_score = f1_score(target_total.view(-1), pred_total.view(-1))\n",
    "            fpr, tpr, threshold1 = roc_curve(target_total.view(-1), pred_total.view(-1))\n",
    "            \n",
    "        if conf_mtx:\n",
    "            print('\\tConfusion matrix: ', conf_matrix)\n",
    "            \n",
    "        return eval_losses, avg_loss, accuracy, conf_matrix,fone_score,fpr,tpr\n"
   ]
  },
  {
   "cell_type": "markdown",
   "metadata": {},
   "source": [
    "Now we will instantiate the model, add loss function, optimizer, and device to it and begin the training."
   ]
  },
  {
   "cell_type": "code",
   "execution_count": 17,
   "metadata": {},
   "outputs": [
    {
     "name": "stdout",
     "output_type": "stream",
     "text": [
      "\n",
      "Start epoch [1/20]\n"
     ]
    },
    {
     "data": {
      "application/vnd.jupyter.widget-view+json": {
       "model_id": "1a4198c7a32a4388bd3184d33cb204c5",
       "version_major": 2,
       "version_minor": 0
      },
      "text/plain": [
       "Training:   0%|          | 0/177 [00:00<?, ?it/s]"
      ]
     },
     "metadata": {},
     "output_type": "display_data"
    },
    {
     "name": "stdout",
     "output_type": "stream",
     "text": [
      "Iteration: 100. Average training loss: 0.6055. Accuracy: 0.726\n"
     ]
    },
    {
     "data": {
      "application/vnd.jupyter.widget-view+json": {
       "model_id": "905d9e8ade3e46a48bba30099b85ced7",
       "version_major": 2,
       "version_minor": 0
      },
      "text/plain": [
       "Evaluation:   0%|          | 0/45 [00:00<?, ?it/s]"
      ]
     },
     "metadata": {},
     "output_type": "display_data"
    },
    {
     "name": "stdout",
     "output_type": "stream",
     "text": [
      "\n",
      "Epoch [1/20]: Train accuracy: 0.736. Train loss: 0.5796. Evaluation accuracy: 0.757. Evaluation loss: 0.5072\n",
      "\n",
      "Start epoch [2/20]\n"
     ]
    },
    {
     "data": {
      "application/vnd.jupyter.widget-view+json": {
       "model_id": "e7e2b71f8b604c5493133d44b59d2bed",
       "version_major": 2,
       "version_minor": 0
      },
      "text/plain": [
       "Training:   0%|          | 0/177 [00:00<?, ?it/s]"
      ]
     },
     "metadata": {},
     "output_type": "display_data"
    },
    {
     "name": "stdout",
     "output_type": "stream",
     "text": [
      "Iteration: 100. Average training loss: 0.4807. Accuracy: 0.774\n"
     ]
    },
    {
     "data": {
      "application/vnd.jupyter.widget-view+json": {
       "model_id": "36464c8ce07543708acff885df420e45",
       "version_major": 2,
       "version_minor": 0
      },
      "text/plain": [
       "Evaluation:   0%|          | 0/45 [00:00<?, ?it/s]"
      ]
     },
     "metadata": {},
     "output_type": "display_data"
    },
    {
     "name": "stdout",
     "output_type": "stream",
     "text": [
      "\n",
      "Epoch [2/20]: Train accuracy: 0.781. Train loss: 0.4674. Evaluation accuracy: 0.805. Evaluation loss: 0.4289\n",
      "\n",
      "Start epoch [3/20]\n"
     ]
    },
    {
     "data": {
      "application/vnd.jupyter.widget-view+json": {
       "model_id": "8c8bc774eb1e46839817136ab895f4c2",
       "version_major": 2,
       "version_minor": 0
      },
      "text/plain": [
       "Training:   0%|          | 0/177 [00:00<?, ?it/s]"
      ]
     },
     "metadata": {},
     "output_type": "display_data"
    },
    {
     "name": "stdout",
     "output_type": "stream",
     "text": [
      "Iteration: 100. Average training loss: 0.4151. Accuracy: 0.810\n"
     ]
    },
    {
     "data": {
      "application/vnd.jupyter.widget-view+json": {
       "model_id": "1a157ef91b854e6f830627b255d692bd",
       "version_major": 2,
       "version_minor": 0
      },
      "text/plain": [
       "Evaluation:   0%|          | 0/45 [00:00<?, ?it/s]"
      ]
     },
     "metadata": {},
     "output_type": "display_data"
    },
    {
     "name": "stdout",
     "output_type": "stream",
     "text": [
      "\n",
      "Epoch [3/20]: Train accuracy: 0.813. Train loss: 0.4113. Evaluation accuracy: 0.817. Evaluation loss: 0.4053\n",
      "\n",
      "Start epoch [4/20]\n"
     ]
    },
    {
     "data": {
      "application/vnd.jupyter.widget-view+json": {
       "model_id": "f44760b975364175911553f595c9da18",
       "version_major": 2,
       "version_minor": 0
      },
      "text/plain": [
       "Training:   0%|          | 0/177 [00:00<?, ?it/s]"
      ]
     },
     "metadata": {},
     "output_type": "display_data"
    },
    {
     "name": "stdout",
     "output_type": "stream",
     "text": [
      "Iteration: 100. Average training loss: 0.3814. Accuracy: 0.828\n"
     ]
    },
    {
     "data": {
      "application/vnd.jupyter.widget-view+json": {
       "model_id": "90a0a19d3b81418397f1b4ff58f1767f",
       "version_major": 2,
       "version_minor": 0
      },
      "text/plain": [
       "Evaluation:   0%|          | 0/45 [00:00<?, ?it/s]"
      ]
     },
     "metadata": {},
     "output_type": "display_data"
    },
    {
     "name": "stdout",
     "output_type": "stream",
     "text": [
      "\n",
      "Epoch [4/20]: Train accuracy: 0.830. Train loss: 0.3798. Evaluation accuracy: 0.824. Evaluation loss: 0.3967\n",
      "\n",
      "Start epoch [5/20]\n"
     ]
    },
    {
     "data": {
      "application/vnd.jupyter.widget-view+json": {
       "model_id": "a51032a393ef41f4b958efd63bd769d7",
       "version_major": 2,
       "version_minor": 0
      },
      "text/plain": [
       "Training:   0%|          | 0/177 [00:00<?, ?it/s]"
      ]
     },
     "metadata": {},
     "output_type": "display_data"
    },
    {
     "name": "stdout",
     "output_type": "stream",
     "text": [
      "Iteration: 100. Average training loss: 0.3570. Accuracy: 0.841\n"
     ]
    },
    {
     "data": {
      "application/vnd.jupyter.widget-view+json": {
       "model_id": "a3c295edb8274e37a4a3933f20c947b5",
       "version_major": 2,
       "version_minor": 0
      },
      "text/plain": [
       "Evaluation:   0%|          | 0/45 [00:00<?, ?it/s]"
      ]
     },
     "metadata": {},
     "output_type": "display_data"
    },
    {
     "name": "stdout",
     "output_type": "stream",
     "text": [
      "\n",
      "Epoch [5/20]: Train accuracy: 0.840. Train loss: 0.3582. Evaluation accuracy: 0.826. Evaluation loss: 0.3951\n",
      "\n",
      "Start epoch [6/20]\n"
     ]
    },
    {
     "data": {
      "application/vnd.jupyter.widget-view+json": {
       "model_id": "3bbc817348f043c28eba444053c69521",
       "version_major": 2,
       "version_minor": 0
      },
      "text/plain": [
       "Training:   0%|          | 0/177 [00:00<?, ?it/s]"
      ]
     },
     "metadata": {},
     "output_type": "display_data"
    },
    {
     "name": "stdout",
     "output_type": "stream",
     "text": [
      "Iteration: 100. Average training loss: 0.3401. Accuracy: 0.849\n"
     ]
    },
    {
     "data": {
      "application/vnd.jupyter.widget-view+json": {
       "model_id": "dbbe33b2950541d19491bc9f6093b274",
       "version_major": 2,
       "version_minor": 0
      },
      "text/plain": [
       "Evaluation:   0%|          | 0/45 [00:00<?, ?it/s]"
      ]
     },
     "metadata": {},
     "output_type": "display_data"
    },
    {
     "name": "stdout",
     "output_type": "stream",
     "text": [
      "\n",
      "Epoch [6/20]: Train accuracy: 0.850. Train loss: 0.3409. Evaluation accuracy: 0.830. Evaluation loss: 0.3946\n",
      "\n",
      "Start epoch [7/20]\n"
     ]
    },
    {
     "data": {
      "application/vnd.jupyter.widget-view+json": {
       "model_id": "edfdf1f581354d009ff5f4566054d3bb",
       "version_major": 2,
       "version_minor": 0
      },
      "text/plain": [
       "Training:   0%|          | 0/177 [00:00<?, ?it/s]"
      ]
     },
     "metadata": {},
     "output_type": "display_data"
    },
    {
     "name": "stdout",
     "output_type": "stream",
     "text": [
      "Iteration: 100. Average training loss: 0.3248. Accuracy: 0.858\n"
     ]
    },
    {
     "data": {
      "application/vnd.jupyter.widget-view+json": {
       "model_id": "0a74f92ed21f4b80bea52d63bce21b12",
       "version_major": 2,
       "version_minor": 0
      },
      "text/plain": [
       "Evaluation:   0%|          | 0/45 [00:00<?, ?it/s]"
      ]
     },
     "metadata": {},
     "output_type": "display_data"
    },
    {
     "name": "stdout",
     "output_type": "stream",
     "text": [
      "\n",
      "Epoch [7/20]: Train accuracy: 0.858. Train loss: 0.3270. Evaluation accuracy: 0.829. Evaluation loss: 0.3953\n",
      "\n",
      "Start epoch [8/20]\n"
     ]
    },
    {
     "data": {
      "application/vnd.jupyter.widget-view+json": {
       "model_id": "7530bd1e80594fb3850f1274aa6a994c",
       "version_major": 2,
       "version_minor": 0
      },
      "text/plain": [
       "Training:   0%|          | 0/177 [00:00<?, ?it/s]"
      ]
     },
     "metadata": {},
     "output_type": "display_data"
    },
    {
     "name": "stdout",
     "output_type": "stream",
     "text": [
      "Iteration: 100. Average training loss: 0.3105. Accuracy: 0.866\n"
     ]
    },
    {
     "data": {
      "application/vnd.jupyter.widget-view+json": {
       "model_id": "07d34788f3364c7aa917d7797800dc55",
       "version_major": 2,
       "version_minor": 0
      },
      "text/plain": [
       "Evaluation:   0%|          | 0/45 [00:00<?, ?it/s]"
      ]
     },
     "metadata": {},
     "output_type": "display_data"
    },
    {
     "name": "stdout",
     "output_type": "stream",
     "text": [
      "\n",
      "Epoch [8/20]: Train accuracy: 0.865. Train loss: 0.3113. Evaluation accuracy: 0.830. Evaluation loss: 0.3989\n",
      "\n",
      "Start epoch [9/20]\n"
     ]
    },
    {
     "data": {
      "application/vnd.jupyter.widget-view+json": {
       "model_id": "7d7746fb283a4ce5adea3dc5fc92838e",
       "version_major": 2,
       "version_minor": 0
      },
      "text/plain": [
       "Training:   0%|          | 0/177 [00:00<?, ?it/s]"
      ]
     },
     "metadata": {},
     "output_type": "display_data"
    },
    {
     "name": "stdout",
     "output_type": "stream",
     "text": [
      "Iteration: 100. Average training loss: 0.2973. Accuracy: 0.869\n"
     ]
    },
    {
     "data": {
      "application/vnd.jupyter.widget-view+json": {
       "model_id": "80538c6b09f54aa39b7c45d619bf22a1",
       "version_major": 2,
       "version_minor": 0
      },
      "text/plain": [
       "Evaluation:   0%|          | 0/45 [00:00<?, ?it/s]"
      ]
     },
     "metadata": {},
     "output_type": "display_data"
    },
    {
     "name": "stdout",
     "output_type": "stream",
     "text": [
      "\n",
      "Epoch [9/20]: Train accuracy: 0.870. Train loss: 0.2988. Evaluation accuracy: 0.830. Evaluation loss: 0.4042\n",
      "\n",
      "Training stoped by EarlyStopping\n"
     ]
    }
   ],
   "source": [
    "# Initialize parameters\n",
    "hidden_size = 8\n",
    "vocab_size = len(train_iterator.word2index)\n",
    "n_extra_feat = 10\n",
    "embedding_dim = 300\n",
    "output_size = 2\n",
    "n_layers = 1\n",
    "dropout = 0.2\n",
    "learning_rate = 0.001\n",
    "epochs = 20\n",
    "spatial_dropout = True\n",
    "\n",
    "# Check whether system supports CUDA\n",
    "CUDA = torch.cuda.is_available()\n",
    "\n",
    "model = BiGRU(hidden_size, vocab_size, n_extra_feat, embedding_dim, output_size, n_layers, dropout,\n",
    "              spatial_dropout, bidirectional=True)\n",
    "\n",
    "# Move the model to GPU if possible\n",
    "if CUDA:\n",
    "    model.cuda()\n",
    "\n",
    "model.add_loss_fn(nn.NLLLoss())\n",
    "\n",
    "optimizer = torch.optim.Adam(model.parameters(), lr=learning_rate)\n",
    "model.add_optimizer(optimizer)\n",
    "\n",
    "device = torch.device('cuda' if CUDA else 'cpu')\n",
    "\n",
    "model.add_device(device)\n",
    "\n",
    "# Instantiate the EarlyStopping\n",
    "early_stop = EarlyStopping(wait_epochs=2)\n",
    "\n",
    "train_losses_list, train_avg_loss_list, train_accuracy_list = [], [], []\n",
    "eval_avg_loss_list, eval_accuracy_list, conf_matrix_list,f1_score_list = [], [], [], []\n",
    "\n",
    "for epoch in range(epochs):\n",
    "    \n",
    "    print('\\nStart epoch [{}/{}]'.format(epoch+1, epochs))\n",
    "    \n",
    "    train_losses, train_avg_loss, train_accuracy = model.train_model(train_iterator)\n",
    "    \n",
    "    train_losses_list.append(train_losses)\n",
    "    train_avg_loss_list.append(train_avg_loss)\n",
    "    train_accuracy_list.append(train_accuracy)\n",
    "    \n",
    "    _, eval_avg_loss, eval_accuracy, conf_matrix,fone_score,fpr,tpr = model.evaluate_model(val_iterator)\n",
    "    \n",
    "    eval_avg_loss_list.append(eval_avg_loss)\n",
    "    eval_accuracy_list.append(eval_accuracy)\n",
    "    conf_matrix_list.append(conf_matrix)\n",
    "    f1_score_list.append(fone_score)\n",
    "    print('\\nEpoch [{}/{}]: Train accuracy: {:.3f}. Train loss: {:.4f}. Evaluation accuracy: {:.3f}. Evaluation loss: {:.4f}'\\\n",
    "          .format(epoch+1, epochs, train_accuracy, train_avg_loss, eval_accuracy, eval_avg_loss))\n",
    "    \n",
    "    if early_stop.stop(eval_avg_loss, model, delta=0.003):\n",
    "        break\n",
    "\n",
    "    "
   ]
  },
  {
   "cell_type": "markdown",
   "metadata": {},
   "source": [
    "The training was stopped by EarlyStopping object because the loss didn't improve for 2 epochs. The best performance of the model was achieved at the 13th epoch with the validation accuracy of 0.843 and the loss of 0.3604. As we can see using extracted features improve the model's predictive ability on the validation set from the value of 0.820 (previous model) to 0.813.\n",
    "\n",
    "The model's best state was saved to the checkpoint.pt file in the current directory. "
   ]
  },
  {
   "cell_type": "code",
   "execution_count": 18,
   "metadata": {},
   "outputs": [
    {
     "name": "stdout",
     "output_type": "stream",
     "text": [
      "0.8844834102476793\n"
     ]
    }
   ],
   "source": [
    "# Add the dataset initial loss\n",
    "train_avg_loss_list.insert(0, train_losses_list[0][0])\n",
    "eval_avg_loss_list.insert(0, train_losses_list[0][0])\n",
    "print(np.mean(f1_score_list))"
   ]
  },
  {
   "cell_type": "code",
   "execution_count": 19,
   "metadata": {},
   "outputs": [
    {
     "data": {
      "image/png": "[encoded data removed]",
      "text/plain": [
       "<Figure size 576x360 with 1 Axes>"
      ]
     },
     "metadata": {
      "needs_background": "light"
     },
     "output_type": "display_data"
    }
   ],
   "source": [
    "# Plot the training and the validation learning curve\n",
    "plt.figure(figsize=(8,5))\n",
    "plt.plot(train_avg_loss_list, label='Training loss')\n",
    "plt.plot(eval_avg_loss_list, label='Evaluation loss')\n",
    "plt.xlabel('Epoch', size=12)\n",
    "plt.ylabel('Loss', size=12)\n",
    "plt.title('biGRU with extra features learning curves')\n",
    "plt.xticks(ticks=range(12))\n",
    "plt.legend()\n",
    "plt.show()"
   ]
  },
  {
   "cell_type": "code",
   "execution_count": 20,
   "metadata": {},
   "outputs": [
    {
     "data": {
      "image/png": "[encoded data removed]",
      "text/plain": [
       "<Figure size 432x432 with 2 Axes>"
      ]
     },
     "metadata": {
      "needs_background": "light"
     },
     "output_type": "display_data"
    }
   ],
   "source": [
    "# Confusion matrix\n",
    "plt.figure(figsize=(6,6))\n",
    "ax = sns.heatmap(conf_matrix, fmt='d', annot=True, linewidths=1, square=True)\n",
    "ax.set_xlabel('Predictions', size=12)\n",
    "ax.set_ylabel('True labels', size=12) \n",
    "ax.set_title('Confusion Matrix', size=12); \n",
    "ax.xaxis.set_ticklabels(['True', 'False'])\n",
    "ax.yaxis.set_ticklabels(['True', 'False'])\n",
    "ax.set_ylim(2,0)\n",
    "plt.show()"
   ]
  },
  {
   "cell_type": "markdown",
   "metadata": {},
   "source": [
    "### The generalization error"
   ]
  },
  {
   "cell_type": "code",
   "execution_count": 21,
   "metadata": {},
   "outputs": [],
   "source": [
    "# Import the dataset. Use clean_review and label columns\n",
    "test_dataset = pd.read_csv('drugreview/drugreview_feat_clean/test_feat_clean.csv',\n",
    "                            usecols=['clean_review', 'polarity', 'subjectivity', 'word_count', 'UPPERCASE', 'DIGITS',\n",
    "                                     'PROPN', 'VERB', 'NOUN', 'PUNCT', 'ADJ', 'rating'])\n",
    "\n",
    "# Change columns order\n",
    "test_dataset['label'] = test_dataset.rating >= POS_RATING_THRESHOLD\n",
    "test_dataset = test_dataset[['clean_review', 'polarity', 'subjectivity', 'word_count', 'UPPERCASE', 'DIGITS',\n",
    "                             'PROPN', 'VERB', 'NOUN', 'PUNCT', 'ADJ', 'label']]"
   ]
  },
  {
   "cell_type": "code",
   "execution_count": 22,
   "metadata": {},
   "outputs": [
    {
     "data": {
      "text/html": [
       "<div>\n",
       "<style scoped>\n",
       "    .dataframe tbody tr th:only-of-type {\n",
       "        vertical-align: middle;\n",
       "    }\n",
       "\n",
       "    .dataframe tbody tr th {\n",
       "        vertical-align: top;\n",
       "    }\n",
       "\n",
       "    .dataframe thead th {\n",
       "        text-align: right;\n",
       "    }\n",
       "</style>\n",
       "<table border=\"1\" class=\"dataframe\">\n",
       "  <thead>\n",
       "    <tr style=\"text-align: right;\">\n",
       "      <th></th>\n",
       "      <th>clean_review</th>\n",
       "      <th>polarity</th>\n",
       "      <th>subjectivity</th>\n",
       "      <th>word_count</th>\n",
       "      <th>UPPERCASE</th>\n",
       "      <th>DIGITS</th>\n",
       "      <th>PROPN</th>\n",
       "      <th>VERB</th>\n",
       "      <th>NOUN</th>\n",
       "      <th>PUNCT</th>\n",
       "      <th>ADJ</th>\n",
       "      <th>label</th>\n",
       "    </tr>\n",
       "  </thead>\n",
       "  <tbody>\n",
       "    <tr>\n",
       "      <td>0</td>\n",
       "      <td>i&amp;#039;ve tried antidepressants years citalopr...</td>\n",
       "      <td>0.0000</td>\n",
       "      <td>0.4400</td>\n",
       "      <td>68.0</td>\n",
       "      <td>0.02942</td>\n",
       "      <td>0.00000</td>\n",
       "      <td>0.02942</td>\n",
       "      <td>0.1765</td>\n",
       "      <td>0.3381</td>\n",
       "      <td>0.22060</td>\n",
       "      <td>0.04413</td>\n",
       "      <td>True</td>\n",
       "    </tr>\n",
       "    <tr>\n",
       "      <td>1</td>\n",
       "      <td>son crohn&amp;#039;s disease asacol complaints sho...</td>\n",
       "      <td>0.5670</td>\n",
       "      <td>0.6000</td>\n",
       "      <td>48.0</td>\n",
       "      <td>0.00000</td>\n",
       "      <td>0.00000</td>\n",
       "      <td>0.04166</td>\n",
       "      <td>0.1875</td>\n",
       "      <td>0.2291</td>\n",
       "      <td>0.14590</td>\n",
       "      <td>0.06250</td>\n",
       "      <td>True</td>\n",
       "    </tr>\n",
       "    <tr>\n",
       "      <td>2</td>\n",
       "      <td>quick reduction symptoms</td>\n",
       "      <td>0.3333</td>\n",
       "      <td>0.5000</td>\n",
       "      <td>4.0</td>\n",
       "      <td>0.00000</td>\n",
       "      <td>0.00000</td>\n",
       "      <td>0.00000</td>\n",
       "      <td>0.0000</td>\n",
       "      <td>0.5000</td>\n",
       "      <td>0.50000</td>\n",
       "      <td>0.25000</td>\n",
       "      <td>True</td>\n",
       "    </tr>\n",
       "    <tr>\n",
       "      <td>3</td>\n",
       "      <td>contrave combines drugs alcohol smoking opioid...</td>\n",
       "      <td>0.1390</td>\n",
       "      <td>0.5000</td>\n",
       "      <td>143.0</td>\n",
       "      <td>0.06995</td>\n",
       "      <td>0.00000</td>\n",
       "      <td>0.04895</td>\n",
       "      <td>0.2238</td>\n",
       "      <td>0.2098</td>\n",
       "      <td>0.16090</td>\n",
       "      <td>0.06290</td>\n",
       "      <td>True</td>\n",
       "    </tr>\n",
       "    <tr>\n",
       "      <td>4</td>\n",
       "      <td>birth control cycle reading reviews type simil...</td>\n",
       "      <td>0.2610</td>\n",
       "      <td>0.5503</td>\n",
       "      <td>149.0</td>\n",
       "      <td>0.06714</td>\n",
       "      <td>0.01342</td>\n",
       "      <td>0.00000</td>\n",
       "      <td>0.1879</td>\n",
       "      <td>0.1879</td>\n",
       "      <td>0.07385</td>\n",
       "      <td>0.08720</td>\n",
       "      <td>True</td>\n",
       "    </tr>\n",
       "  </tbody>\n",
       "</table>\n",
       "</div>"
      ],
      "text/plain": [
       "                                        clean_review  polarity  subjectivity  \\\n",
       "0  i&#039;ve tried antidepressants years citalopr...    0.0000        0.4400   \n",
       "1  son crohn&#039;s disease asacol complaints sho...    0.5670        0.6000   \n",
       "2                           quick reduction symptoms    0.3333        0.5000   \n",
       "3  contrave combines drugs alcohol smoking opioid...    0.1390        0.5000   \n",
       "4  birth control cycle reading reviews type simil...    0.2610        0.5503   \n",
       "\n",
       "   word_count  UPPERCASE   DIGITS    PROPN    VERB    NOUN    PUNCT      ADJ  \\\n",
       "0        68.0    0.02942  0.00000  0.02942  0.1765  0.3381  0.22060  0.04413   \n",
       "1        48.0    0.00000  0.00000  0.04166  0.1875  0.2291  0.14590  0.06250   \n",
       "2         4.0    0.00000  0.00000  0.00000  0.0000  0.5000  0.50000  0.25000   \n",
       "3       143.0    0.06995  0.00000  0.04895  0.2238  0.2098  0.16090  0.06290   \n",
       "4       149.0    0.06714  0.01342  0.00000  0.1879  0.1879  0.07385  0.08720   \n",
       "\n",
       "   label  \n",
       "0   True  \n",
       "1   True  \n",
       "2   True  \n",
       "3   True  \n",
       "4   True  "
      ]
     },
     "execution_count": 22,
     "metadata": {},
     "output_type": "execute_result"
    }
   ],
   "source": [
    "test_dataset = test_dataset.dropna()\n",
    "test_dataset.head()"
   ]
  },
  {
   "cell_type": "code",
   "execution_count": 23,
   "metadata": {},
   "outputs": [],
   "source": [
    "# Instantiate the StandardScaler\n",
    "test_scaler = StandardScaler()\n",
    "# Scale the features\n",
    "test_dataset.iloc[:, 1:11] = test_scaler.fit_transform(test_dataset.iloc[:, 1:11])"
   ]
  },
  {
   "cell_type": "code",
   "execution_count": 24,
   "metadata": {},
   "outputs": [
    {
     "name": "stdout",
     "output_type": "stream",
     "text": [
      "Trimmed vocabulary using as minimum count threashold: count = 3.00\n",
      "15210/40911 tokens has been retained\n",
      "Trimmed input strings vocabulary\n",
      "Trimmed input sequences lengths to the length of: 59\n",
      "Mapped words to indices\n",
      "Start creating glove_word2vector dictionary\n",
      "Extracted 13890/17168 of pre-trained word vectors.\n",
      "3278 vectors initialized to random numbers\n",
      "Weights vectors saved into glove/weights_train.npy\n",
      "Batches created\n"
     ]
    }
   ],
   "source": [
    "test_iterator = BatchIterator(test_dataset, batch_size=256, vocab_created=False, vocab=None, target_col=None,\n",
    "                              word2index=train_iterator.word2index, sos_token='<SOS>', eos_token='<EOS>',\n",
    "                              unk_token='<UNK>', pad_token='<PAD>', min_word_count=3, max_vocab_size=None,\n",
    "                              max_seq_len=0.9, use_pretrained_vectors=True, glove_path='glove/',\n",
    "                              glove_name='glove.6B.100d.txt', weights_file_name='glove/weights_train.npy')"
   ]
  },
  {
   "cell_type": "code",
   "execution_count": 25,
   "metadata": {},
   "outputs": [
    {
     "data": {
      "application/vnd.jupyter.widget-view+json": {
       "model_id": "80697ccf1c714c2690e3718609382b00",
       "version_major": 2,
       "version_minor": 0
      },
      "text/plain": [
       "Evaluation:   0%|          | 0/189 [00:00<?, ?it/s]"
      ]
     },
     "metadata": {},
     "output_type": "display_data"
    },
    {
     "name": "stdout",
     "output_type": "stream",
     "text": [
      "Iteration: 100. Average evaluation loss: 0.3445. Accuracy: 0.85\n"
     ]
    }
   ],
   "source": [
    "_, test_avg_loss, test_accuracy, test_conf_matrix,fone_score,fpr,tpr = model.evaluate_model(test_iterator)"
   ]
  },
  {
   "cell_type": "code",
   "execution_count": 26,
   "metadata": {},
   "outputs": [
    {
     "name": "stdout",
     "output_type": "stream",
     "text": [
      "Test accuracy: 0.855. Test error: 0.342. Test f1: 0.906\n"
     ]
    }
   ],
   "source": [
    "print('Test accuracy: {:.3f}. Test error: {:.3f}. Test f1: {:.3f}'.format(test_accuracy, test_avg_loss,fone_score))"
   ]
  },
  {
   "cell_type": "code",
   "execution_count": 27,
   "metadata": {},
   "outputs": [
    {
     "data": {
      "image/png": "[encoded data removed]",
      "text/plain": [
       "<Figure size 432x432 with 2 Axes>"
      ]
     },
     "metadata": {
      "needs_background": "light"
     },
     "output_type": "display_data"
    }
   ],
   "source": [
    "# Confusion matrix\n",
    "plt.figure(figsize=(6,6))\n",
    "ax = sns.heatmap(test_conf_matrix, fmt='d', annot=True, linewidths=1, square=True)\n",
    "ax.set_xlabel('Predictions', size=12)\n",
    "ax.set_ylabel('True labels', size=12) \n",
    "ax.set_title('Confusion Matrix', size=12); \n",
    "ax.xaxis.set_ticklabels(['True', 'False'])\n",
    "ax.yaxis.set_ticklabels(['True', 'False'])\n",
    "ax.set_ylim(2,0)\n",
    "plt.show()"
   ]
  },
  {
   "cell_type": "markdown",
   "metadata": {},
   "source": [
    "Thanks to using additional features our model achieved the generalization error of 0.855, which is 0.1 higher than in the model without using extracted features. Even a superior result is possible, but the precise process of hyperparameters fine-tuning will be required."
   ]
  },
  {
   "cell_type": "code",
   "execution_count": 28,
   "metadata": {},
   "outputs": [
    {
     "data": {
      "image/png": "[encoded data removed]",
      "text/plain": [
       "<Figure size 360x360 with 1 Axes>"
      ]
     },
     "metadata": {
      "needs_background": "light"
     },
     "output_type": "display_data"
    }
   ],
   "source": [
    "plt.subplots(1, figsize=(5,5))\n",
    "plt.title('Receiver Operating Characteristic - biGRU-POS-features')\n",
    "plt.plot(fpr, tpr)\n",
    "plt.plot([0, 1], ls=\"--\")\n",
    "plt.plot([0, 0], [1, 0] , c=\".7\"), plt.plot([1, 1] , c=\".7\")\n",
    "plt.ylabel('True Positive Rate')\n",
    "plt.xlabel('False Positive Rate')\n",
    "plt.show()"
   ]
  },
  {
   "cell_type": "code",
   "execution_count": null,
   "metadata": {},
   "outputs": [],
   "source": []
  }
 ],
 "metadata": {
  "kernelspec": {
   "display_name": "py3.7",
   "language": "python",
   "name": "py3.7"
  },
  "language_info": {
   "codemirror_mode": {
    "name": "ipython",
    "version": 3
   },
   "file_extension": ".py",
   "mimetype": "text/x-python",
   "name": "python",
   "nbconvert_exporter": "python",
   "pygments_lexer": "ipython3",
   "version": "3.7.10"
  }
 },
 "nbformat": 4,
 "nbformat_minor": 2
}
