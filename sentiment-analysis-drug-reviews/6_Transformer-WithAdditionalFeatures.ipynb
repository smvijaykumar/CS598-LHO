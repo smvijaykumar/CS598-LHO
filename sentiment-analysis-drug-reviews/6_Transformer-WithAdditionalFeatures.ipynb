{
 "cells": [
  {
   "cell_type": "markdown",
   "metadata": {},
   "source": [
    "# Build a self-attention Transformer model\n",
    "\n",
    "\n"
   ]
  },
  {
   "cell_type": "markdown",
   "metadata": {},
   "source": [
    "### Building and training the model\n"
   ]
  },
  {
   "cell_type": "code",
   "execution_count": 1,
   "metadata": {},
   "outputs": [],
   "source": [
    "\n",
    "import pandas as pd\n",
    "import torch\n",
    "import torch.nn as nn\n",
    "import torch.nn.functional as F\n",
    "from torch import device\n",
    "from tqdm import tqdm_notebook\n",
    "import numpy as np\n",
    "import matplotlib.pyplot as plt\n",
    "import seaborn as sns\n",
    "from sklearn.metrics import confusion_matrix\n",
    "from tensorboardX import SummaryWriter\n",
    "from batch_iterator import BatchIterator\n",
    "from early_stopping import EarlyStopping"
   ]
  },
  {
   "cell_type": "code",
   "execution_count": 2,
   "metadata": {},
   "outputs": [],
   "source": [
    "# Import the dataset. \n",
    "train_dataset = pd.read_csv('drugreview/drugreview_feat_clean/train_feat_clean.csv', \n",
    "                            usecols=['clean_review', 'polarity', 'subjectivity', 'word_count', 'UPPERCASE', 'DIGITS',\n",
    "                                      'PROPN', 'VERB', 'NOUN', 'PUNCT', 'ADJ', 'rating'])\n",
    "\n",
    "# Change columns order\n",
    "train_dataset['label'] = train_dataset.rating >= 5\n",
    "train_dataset = train_dataset[['clean_review', 'polarity', 'subjectivity', 'word_count', 'UPPERCASE', 'DIGITS',\n",
    "                               'PROPN', 'VERB', 'NOUN', 'PUNCT', 'ADJ', 'label']]"
   ]
  },
  {
   "cell_type": "code",
   "execution_count": 3,
   "metadata": {},
   "outputs": [
    {
     "data": {
      "text/html": [
       "<div>\n",
       "<style scoped>\n",
       "    .dataframe tbody tr th:only-of-type {\n",
       "        vertical-align: middle;\n",
       "    }\n",
       "\n",
       "    .dataframe tbody tr th {\n",
       "        vertical-align: top;\n",
       "    }\n",
       "\n",
       "    .dataframe thead th {\n",
       "        text-align: right;\n",
       "    }\n",
       "</style>\n",
       "<table border=\"1\" class=\"dataframe\">\n",
       "  <thead>\n",
       "    <tr style=\"text-align: right;\">\n",
       "      <th></th>\n",
       "      <th>clean_review</th>\n",
       "      <th>polarity</th>\n",
       "      <th>subjectivity</th>\n",
       "      <th>word_count</th>\n",
       "      <th>UPPERCASE</th>\n",
       "      <th>DIGITS</th>\n",
       "      <th>PROPN</th>\n",
       "      <th>VERB</th>\n",
       "      <th>NOUN</th>\n",
       "      <th>PUNCT</th>\n",
       "      <th>ADJ</th>\n",
       "      <th>label</th>\n",
       "    </tr>\n",
       "  </thead>\n",
       "  <tbody>\n",
       "    <tr>\n",
       "      <td>1</td>\n",
       "      <td>okay anxiety gotten worse past couple years po...</td>\n",
       "      <td>0.12980</td>\n",
       "      <td>0.4067</td>\n",
       "      <td>150.0</td>\n",
       "      <td>0.06000</td>\n",
       "      <td>0.00000</td>\n",
       "      <td>0.0</td>\n",
       "      <td>0.0</td>\n",
       "      <td>0.0</td>\n",
       "      <td>0.0</td>\n",
       "      <td>0.0</td>\n",
       "      <td>True</td>\n",
       "    </tr>\n",
       "    <tr>\n",
       "      <td>6</td>\n",
       "      <td>reading possible effects scary medicine gave l...</td>\n",
       "      <td>0.07983</td>\n",
       "      <td>0.5347</td>\n",
       "      <td>90.0</td>\n",
       "      <td>0.07776</td>\n",
       "      <td>0.01111</td>\n",
       "      <td>0.0</td>\n",
       "      <td>0.0</td>\n",
       "      <td>0.0</td>\n",
       "      <td>0.0</td>\n",
       "      <td>0.0</td>\n",
       "      <td>True</td>\n",
       "    </tr>\n",
       "    <tr>\n",
       "      <td>9</td>\n",
       "      <td>clonazepam effective controlling agitation pro...</td>\n",
       "      <td>0.23700</td>\n",
       "      <td>0.6855</td>\n",
       "      <td>118.0</td>\n",
       "      <td>0.03390</td>\n",
       "      <td>0.00848</td>\n",
       "      <td>0.0</td>\n",
       "      <td>0.0</td>\n",
       "      <td>0.0</td>\n",
       "      <td>0.0</td>\n",
       "      <td>0.0</td>\n",
       "      <td>True</td>\n",
       "    </tr>\n",
       "    <tr>\n",
       "      <td>11</td>\n",
       "      <td>experienced effects considering anorexia nervo...</td>\n",
       "      <td>0.50630</td>\n",
       "      <td>0.5750</td>\n",
       "      <td>47.0</td>\n",
       "      <td>0.10640</td>\n",
       "      <td>0.02127</td>\n",
       "      <td>0.0</td>\n",
       "      <td>0.0</td>\n",
       "      <td>0.0</td>\n",
       "      <td>0.0</td>\n",
       "      <td>0.0</td>\n",
       "      <td>True</td>\n",
       "    </tr>\n",
       "    <tr>\n",
       "      <td>12</td>\n",
       "      <td>i&amp;#039;ve gianvi months skin clear didn&amp;#039;t...</td>\n",
       "      <td>-0.10710</td>\n",
       "      <td>0.3894</td>\n",
       "      <td>54.0</td>\n",
       "      <td>0.05554</td>\n",
       "      <td>0.01852</td>\n",
       "      <td>0.0</td>\n",
       "      <td>0.0</td>\n",
       "      <td>0.0</td>\n",
       "      <td>0.0</td>\n",
       "      <td>0.0</td>\n",
       "      <td>True</td>\n",
       "    </tr>\n",
       "  </tbody>\n",
       "</table>\n",
       "</div>"
      ],
      "text/plain": [
       "                                         clean_review  polarity  subjectivity  \\\n",
       "1   okay anxiety gotten worse past couple years po...   0.12980        0.4067   \n",
       "6   reading possible effects scary medicine gave l...   0.07983        0.5347   \n",
       "9   clonazepam effective controlling agitation pro...   0.23700        0.6855   \n",
       "11  experienced effects considering anorexia nervo...   0.50630        0.5750   \n",
       "12  i&#039;ve gianvi months skin clear didn&#039;t...  -0.10710        0.3894   \n",
       "\n",
       "    word_count  UPPERCASE   DIGITS  PROPN  VERB  NOUN  PUNCT  ADJ  label  \n",
       "1        150.0    0.06000  0.00000    0.0   0.0   0.0    0.0  0.0   True  \n",
       "6         90.0    0.07776  0.01111    0.0   0.0   0.0    0.0  0.0   True  \n",
       "9        118.0    0.03390  0.00848    0.0   0.0   0.0    0.0  0.0   True  \n",
       "11        47.0    0.10640  0.02127    0.0   0.0   0.0    0.0  0.0   True  \n",
       "12        54.0    0.05554  0.01852    0.0   0.0   0.0    0.0  0.0   True  "
      ]
     },
     "execution_count": 3,
     "metadata": {},
     "output_type": "execute_result"
    }
   ],
   "source": [
    "# Depict the first 5 rows of the training set\n",
    "train_dataset = train_dataset.dropna()\n",
    "train_dataset.head()"
   ]
  },
  {
   "cell_type": "code",
   "execution_count": 4,
   "metadata": {},
   "outputs": [
    {
     "data": {
      "text/html": [
       "<div>\n",
       "<style scoped>\n",
       "    .dataframe tbody tr th:only-of-type {\n",
       "        vertical-align: middle;\n",
       "    }\n",
       "\n",
       "    .dataframe tbody tr th {\n",
       "        vertical-align: top;\n",
       "    }\n",
       "\n",
       "    .dataframe thead th {\n",
       "        text-align: right;\n",
       "    }\n",
       "</style>\n",
       "<table border=\"1\" class=\"dataframe\">\n",
       "  <thead>\n",
       "    <tr style=\"text-align: right;\">\n",
       "      <th></th>\n",
       "      <th>polarity</th>\n",
       "      <th>subjectivity</th>\n",
       "      <th>word_count</th>\n",
       "      <th>UPPERCASE</th>\n",
       "      <th>DIGITS</th>\n",
       "      <th>PROPN</th>\n",
       "      <th>VERB</th>\n",
       "      <th>NOUN</th>\n",
       "      <th>PUNCT</th>\n",
       "      <th>ADJ</th>\n",
       "    </tr>\n",
       "  </thead>\n",
       "  <tbody>\n",
       "    <tr>\n",
       "      <td>1</td>\n",
       "      <td>0.564900</td>\n",
       "      <td>0.4067</td>\n",
       "      <td>0.263717</td>\n",
       "      <td>0.062500</td>\n",
       "      <td>0.000000</td>\n",
       "      <td>0.0</td>\n",
       "      <td>0.0</td>\n",
       "      <td>0.0</td>\n",
       "      <td>0.0</td>\n",
       "      <td>0.0</td>\n",
       "    </tr>\n",
       "    <tr>\n",
       "      <td>6</td>\n",
       "      <td>0.539915</td>\n",
       "      <td>0.5347</td>\n",
       "      <td>0.157522</td>\n",
       "      <td>0.081000</td>\n",
       "      <td>0.037033</td>\n",
       "      <td>0.0</td>\n",
       "      <td>0.0</td>\n",
       "      <td>0.0</td>\n",
       "      <td>0.0</td>\n",
       "      <td>0.0</td>\n",
       "    </tr>\n",
       "    <tr>\n",
       "      <td>9</td>\n",
       "      <td>0.618500</td>\n",
       "      <td>0.6855</td>\n",
       "      <td>0.207080</td>\n",
       "      <td>0.035313</td>\n",
       "      <td>0.028267</td>\n",
       "      <td>0.0</td>\n",
       "      <td>0.0</td>\n",
       "      <td>0.0</td>\n",
       "      <td>0.0</td>\n",
       "      <td>0.0</td>\n",
       "    </tr>\n",
       "    <tr>\n",
       "      <td>11</td>\n",
       "      <td>0.753150</td>\n",
       "      <td>0.5750</td>\n",
       "      <td>0.081416</td>\n",
       "      <td>0.110833</td>\n",
       "      <td>0.070900</td>\n",
       "      <td>0.0</td>\n",
       "      <td>0.0</td>\n",
       "      <td>0.0</td>\n",
       "      <td>0.0</td>\n",
       "      <td>0.0</td>\n",
       "    </tr>\n",
       "    <tr>\n",
       "      <td>12</td>\n",
       "      <td>0.446450</td>\n",
       "      <td>0.3894</td>\n",
       "      <td>0.093805</td>\n",
       "      <td>0.057854</td>\n",
       "      <td>0.061733</td>\n",
       "      <td>0.0</td>\n",
       "      <td>0.0</td>\n",
       "      <td>0.0</td>\n",
       "      <td>0.0</td>\n",
       "      <td>0.0</td>\n",
       "    </tr>\n",
       "  </tbody>\n",
       "</table>\n",
       "</div>"
      ],
      "text/plain": [
       "    polarity  subjectivity  word_count  UPPERCASE    DIGITS  PROPN  VERB  \\\n",
       "1   0.564900        0.4067    0.263717   0.062500  0.000000    0.0   0.0   \n",
       "6   0.539915        0.5347    0.157522   0.081000  0.037033    0.0   0.0   \n",
       "9   0.618500        0.6855    0.207080   0.035313  0.028267    0.0   0.0   \n",
       "11  0.753150        0.5750    0.081416   0.110833  0.070900    0.0   0.0   \n",
       "12  0.446450        0.3894    0.093805   0.057854  0.061733    0.0   0.0   \n",
       "\n",
       "    NOUN  PUNCT  ADJ  \n",
       "1    0.0    0.0  0.0  \n",
       "6    0.0    0.0  0.0  \n",
       "9    0.0    0.0  0.0  \n",
       "11   0.0    0.0  0.0  \n",
       "12   0.0    0.0  0.0  "
      ]
     },
     "execution_count": 4,
     "metadata": {},
     "output_type": "execute_result"
    }
   ],
   "source": [
    "from sklearn.preprocessing import  MinMaxScaler\n",
    "# Instantiate the MinMaxScaler\n",
    "train_scaler = MinMaxScaler()\n",
    "# Scale the features\n",
    "train_dataset.iloc[:, 1:11] = train_scaler.fit_transform(train_dataset.iloc[:, 1:11])\n",
    "train_dataset.iloc[:, 1:11].head()"
   ]
  },
  {
   "cell_type": "markdown",
   "metadata": {},
   "source": [
    "To fine-tune the hyperparameters we will evaluate the model on a validation set."
   ]
  },
  {
   "cell_type": "code",
   "execution_count": 5,
   "metadata": {},
   "outputs": [],
   "source": [
    "# Import the dataset. Use clean_review and label columns\n",
    "val_dataset = pd.read_csv('drugreview/drugreview_feat_clean/val_feat_clean.csv',\n",
    "                          usecols=['clean_review', 'polarity', 'subjectivity', 'word_count', 'UPPERCASE', 'DIGITS',\n",
    "                                      'PROPN', 'VERB', 'NOUN', 'PUNCT', 'ADJ', 'rating'])\n",
    "\n",
    "# Change columns order\n",
    "val_dataset['label'] = val_dataset.rating >= 3\n",
    "val_dataset = val_dataset[['clean_review', 'polarity', 'subjectivity', 'word_count', 'UPPERCASE', 'DIGITS',\n",
    "                           'PROPN', 'VERB', 'NOUN', 'PUNCT', 'ADJ', 'label']]"
   ]
  },
  {
   "cell_type": "code",
   "execution_count": 6,
   "metadata": {},
   "outputs": [
    {
     "data": {
      "text/html": [
       "<div>\n",
       "<style scoped>\n",
       "    .dataframe tbody tr th:only-of-type {\n",
       "        vertical-align: middle;\n",
       "    }\n",
       "\n",
       "    .dataframe tbody tr th {\n",
       "        vertical-align: top;\n",
       "    }\n",
       "\n",
       "    .dataframe thead th {\n",
       "        text-align: right;\n",
       "    }\n",
       "</style>\n",
       "<table border=\"1\" class=\"dataframe\">\n",
       "  <thead>\n",
       "    <tr style=\"text-align: right;\">\n",
       "      <th></th>\n",
       "      <th>clean_review</th>\n",
       "      <th>polarity</th>\n",
       "      <th>subjectivity</th>\n",
       "      <th>word_count</th>\n",
       "      <th>UPPERCASE</th>\n",
       "      <th>DIGITS</th>\n",
       "      <th>PROPN</th>\n",
       "      <th>VERB</th>\n",
       "      <th>NOUN</th>\n",
       "      <th>PUNCT</th>\n",
       "      <th>ADJ</th>\n",
       "      <th>label</th>\n",
       "    </tr>\n",
       "  </thead>\n",
       "  <tbody>\n",
       "    <tr>\n",
       "      <td>1</td>\n",
       "      <td>4yrs having nexaplon implant mental physical h...</td>\n",
       "      <td>0.1217</td>\n",
       "      <td>0.4553</td>\n",
       "      <td>137.0</td>\n",
       "      <td>0.02919</td>\n",
       "      <td>0.007298</td>\n",
       "      <td>0.0</td>\n",
       "      <td>0.0</td>\n",
       "      <td>0.0</td>\n",
       "      <td>0.0</td>\n",
       "      <td>0.0</td>\n",
       "      <td>False</td>\n",
       "    </tr>\n",
       "    <tr>\n",
       "      <td>4</td>\n",
       "      <td>l5 s1 lumbar herniated disc surgery weeks surg...</td>\n",
       "      <td>0.1459</td>\n",
       "      <td>0.3792</td>\n",
       "      <td>69.0</td>\n",
       "      <td>0.04350</td>\n",
       "      <td>0.028990</td>\n",
       "      <td>0.0</td>\n",
       "      <td>0.0</td>\n",
       "      <td>0.0</td>\n",
       "      <td>0.0</td>\n",
       "      <td>0.0</td>\n",
       "      <td>True</td>\n",
       "    </tr>\n",
       "    <tr>\n",
       "      <td>5</td>\n",
       "      <td>far lot acne clear tea tree broke decided birt...</td>\n",
       "      <td>0.2375</td>\n",
       "      <td>0.5540</td>\n",
       "      <td>85.0</td>\n",
       "      <td>0.11770</td>\n",
       "      <td>0.011765</td>\n",
       "      <td>0.0</td>\n",
       "      <td>0.0</td>\n",
       "      <td>0.0</td>\n",
       "      <td>0.0</td>\n",
       "      <td>0.0</td>\n",
       "      <td>True</td>\n",
       "    </tr>\n",
       "    <tr>\n",
       "      <td>6</td>\n",
       "      <td>insulin works fine trouble pen pain pen jammed...</td>\n",
       "      <td>-0.0958</td>\n",
       "      <td>0.5500</td>\n",
       "      <td>47.0</td>\n",
       "      <td>0.08510</td>\n",
       "      <td>0.000000</td>\n",
       "      <td>0.0</td>\n",
       "      <td>0.0</td>\n",
       "      <td>0.0</td>\n",
       "      <td>0.0</td>\n",
       "      <td>0.0</td>\n",
       "      <td>True</td>\n",
       "    </tr>\n",
       "    <tr>\n",
       "      <td>7</td>\n",
       "      <td>nexplanon option work iud painful insert pills...</td>\n",
       "      <td>-0.0353</td>\n",
       "      <td>0.4426</td>\n",
       "      <td>135.0</td>\n",
       "      <td>0.05927</td>\n",
       "      <td>0.007410</td>\n",
       "      <td>0.0</td>\n",
       "      <td>0.0</td>\n",
       "      <td>0.0</td>\n",
       "      <td>0.0</td>\n",
       "      <td>0.0</td>\n",
       "      <td>True</td>\n",
       "    </tr>\n",
       "  </tbody>\n",
       "</table>\n",
       "</div>"
      ],
      "text/plain": [
       "                                        clean_review  polarity  subjectivity  \\\n",
       "1  4yrs having nexaplon implant mental physical h...    0.1217        0.4553   \n",
       "4  l5 s1 lumbar herniated disc surgery weeks surg...    0.1459        0.3792   \n",
       "5  far lot acne clear tea tree broke decided birt...    0.2375        0.5540   \n",
       "6  insulin works fine trouble pen pain pen jammed...   -0.0958        0.5500   \n",
       "7  nexplanon option work iud painful insert pills...   -0.0353        0.4426   \n",
       "\n",
       "   word_count  UPPERCASE    DIGITS  PROPN  VERB  NOUN  PUNCT  ADJ  label  \n",
       "1       137.0    0.02919  0.007298    0.0   0.0   0.0    0.0  0.0  False  \n",
       "4        69.0    0.04350  0.028990    0.0   0.0   0.0    0.0  0.0   True  \n",
       "5        85.0    0.11770  0.011765    0.0   0.0   0.0    0.0  0.0   True  \n",
       "6        47.0    0.08510  0.000000    0.0   0.0   0.0    0.0  0.0   True  \n",
       "7       135.0    0.05927  0.007410    0.0   0.0   0.0    0.0  0.0   True  "
      ]
     },
     "execution_count": 6,
     "metadata": {},
     "output_type": "execute_result"
    }
   ],
   "source": [
    "# Depict the first 5 rows of the validation set\n",
    "val_dataset = val_dataset.dropna()\n",
    "val_dataset.head()"
   ]
  },
  {
   "cell_type": "code",
   "execution_count": 7,
   "metadata": {},
   "outputs": [
    {
     "data": {
      "text/html": [
       "<div>\n",
       "<style scoped>\n",
       "    .dataframe tbody tr th:only-of-type {\n",
       "        vertical-align: middle;\n",
       "    }\n",
       "\n",
       "    .dataframe tbody tr th {\n",
       "        vertical-align: top;\n",
       "    }\n",
       "\n",
       "    .dataframe thead th {\n",
       "        text-align: right;\n",
       "    }\n",
       "</style>\n",
       "<table border=\"1\" class=\"dataframe\">\n",
       "  <thead>\n",
       "    <tr style=\"text-align: right;\">\n",
       "      <th></th>\n",
       "      <th>polarity</th>\n",
       "      <th>subjectivity</th>\n",
       "      <th>word_count</th>\n",
       "      <th>UPPERCASE</th>\n",
       "      <th>DIGITS</th>\n",
       "      <th>PROPN</th>\n",
       "      <th>VERB</th>\n",
       "      <th>NOUN</th>\n",
       "      <th>PUNCT</th>\n",
       "      <th>ADJ</th>\n",
       "    </tr>\n",
       "  </thead>\n",
       "  <tbody>\n",
       "    <tr>\n",
       "      <td>1</td>\n",
       "      <td>0.56085</td>\n",
       "      <td>0.4553</td>\n",
       "      <td>0.123412</td>\n",
       "      <td>0.030954</td>\n",
       "      <td>0.026271</td>\n",
       "      <td>0.0</td>\n",
       "      <td>0.0</td>\n",
       "      <td>0.0</td>\n",
       "      <td>0.0</td>\n",
       "      <td>0.0</td>\n",
       "    </tr>\n",
       "    <tr>\n",
       "      <td>4</td>\n",
       "      <td>0.57295</td>\n",
       "      <td>0.3792</td>\n",
       "      <td>0.061706</td>\n",
       "      <td>0.046129</td>\n",
       "      <td>0.104356</td>\n",
       "      <td>0.0</td>\n",
       "      <td>0.0</td>\n",
       "      <td>0.0</td>\n",
       "      <td>0.0</td>\n",
       "      <td>0.0</td>\n",
       "    </tr>\n",
       "    <tr>\n",
       "      <td>5</td>\n",
       "      <td>0.61875</td>\n",
       "      <td>0.5540</td>\n",
       "      <td>0.076225</td>\n",
       "      <td>0.124814</td>\n",
       "      <td>0.042351</td>\n",
       "      <td>0.0</td>\n",
       "      <td>0.0</td>\n",
       "      <td>0.0</td>\n",
       "      <td>0.0</td>\n",
       "      <td>0.0</td>\n",
       "    </tr>\n",
       "    <tr>\n",
       "      <td>6</td>\n",
       "      <td>0.45210</td>\n",
       "      <td>0.5500</td>\n",
       "      <td>0.041742</td>\n",
       "      <td>0.090244</td>\n",
       "      <td>0.000000</td>\n",
       "      <td>0.0</td>\n",
       "      <td>0.0</td>\n",
       "      <td>0.0</td>\n",
       "      <td>0.0</td>\n",
       "      <td>0.0</td>\n",
       "    </tr>\n",
       "    <tr>\n",
       "      <td>7</td>\n",
       "      <td>0.48235</td>\n",
       "      <td>0.4426</td>\n",
       "      <td>0.121597</td>\n",
       "      <td>0.062853</td>\n",
       "      <td>0.026674</td>\n",
       "      <td>0.0</td>\n",
       "      <td>0.0</td>\n",
       "      <td>0.0</td>\n",
       "      <td>0.0</td>\n",
       "      <td>0.0</td>\n",
       "    </tr>\n",
       "  </tbody>\n",
       "</table>\n",
       "</div>"
      ],
      "text/plain": [
       "   polarity  subjectivity  word_count  UPPERCASE    DIGITS  PROPN  VERB  NOUN  \\\n",
       "1   0.56085        0.4553    0.123412   0.030954  0.026271    0.0   0.0   0.0   \n",
       "4   0.57295        0.3792    0.061706   0.046129  0.104356    0.0   0.0   0.0   \n",
       "5   0.61875        0.5540    0.076225   0.124814  0.042351    0.0   0.0   0.0   \n",
       "6   0.45210        0.5500    0.041742   0.090244  0.000000    0.0   0.0   0.0   \n",
       "7   0.48235        0.4426    0.121597   0.062853  0.026674    0.0   0.0   0.0   \n",
       "\n",
       "   PUNCT  ADJ  \n",
       "1    0.0  0.0  \n",
       "4    0.0  0.0  \n",
       "5    0.0  0.0  \n",
       "6    0.0  0.0  \n",
       "7    0.0  0.0  "
      ]
     },
     "execution_count": 7,
     "metadata": {},
     "output_type": "execute_result"
    }
   ],
   "source": [
    "from sklearn.preprocessing import MinMaxScaler\n",
    "# Instantiate the StandardScaler\n",
    "val_scaler = MinMaxScaler()\n",
    "# Scale the features\n",
    "val_dataset.iloc[:, 1:11] = val_scaler.fit_transform(val_dataset.iloc[:, 1:11])\n",
    "val_dataset.iloc[:, 1:11].head()"
   ]
  },
  {
   "cell_type": "markdown",
   "metadata": {},
   "source": [
    "Now we will use the BatchIterator class to preprocess the text data and generate batches."
   ]
  },
  {
   "cell_type": "code",
   "execution_count": 8,
   "metadata": {},
   "outputs": [],
   "source": [
    "batch_size = 128"
   ]
  },
  {
   "cell_type": "code",
   "execution_count": 9,
   "metadata": {},
   "outputs": [
    {
     "name": "stdout",
     "output_type": "stream",
     "text": [
      "Trimmed vocabulary using as minimum count threashold: count = 3.00\n",
      "14773/39267 tokens has been retained\n",
      "Trimmed input strings vocabulary\n",
      "Trimmed input sequences lengths to the length of: 59\n",
      "Mapped words to indices\n",
      "Start creating glove_word2vector dictionary\n",
      "Extracted 12312/14777 of pre-trained word vectors.\n",
      "2465 vectors initialized to random numbers\n",
      "Weights vectors saved into glove/weights_train.npy\n",
      "Batches created\n"
     ]
    }
   ],
   "source": [
    "train_iterator = BatchIterator(train_dataset, batch_size=batch_size, vocab_created=False, vocab=None, target_col=None,\n",
    "                               word2index=None, sos_token='<SOS>', eos_token='<EOS>', unk_token='<UNK>',\n",
    "                               pad_token='<PAD>', min_word_count=3, max_vocab_size=None, max_seq_len=0.9,\n",
    "                               use_pretrained_vectors=True, glove_path='glove/', glove_name='glove.6B.100d.txt',\n",
    "                               weights_file_name='glove/weights_train.npy')"
   ]
  },
  {
   "cell_type": "code",
   "execution_count": 10,
   "metadata": {},
   "outputs": [
    {
     "name": "stdout",
     "output_type": "stream",
     "text": [
      "Trimmed vocabulary using as minimum count threashold: count = 3.00\n",
      "7720/19770 tokens has been retained\n",
      "Trimmed input strings vocabulary\n",
      "Trimmed input sequences lengths to the length of: 58\n",
      "Mapped words to indices\n",
      "Start creating glove_word2vector dictionary\n",
      "Extracted 12475/15036 of pre-trained word vectors.\n",
      "2561 vectors initialized to random numbers\n",
      "Weights vectors saved into glove/weights_val.npy\n",
      "Batches created\n"
     ]
    }
   ],
   "source": [
    "val_iterator = BatchIterator(val_dataset, batch_size=batch_size, vocab_created=False, vocab=None, target_col=None,\n",
    "                             word2index=train_iterator.word2index, sos_token='<SOS>', eos_token='<EOS>',\n",
    "                             unk_token='<UNK>', pad_token='<PAD>', min_word_count=3, max_vocab_size=None,\n",
    "                             max_seq_len=0.9, use_pretrained_vectors=True, glove_path='glove/',\n",
    "                             glove_name='glove.6B.100d.txt', weights_file_name='glove/weights_val.npy')"
   ]
  },
  {
   "cell_type": "markdown",
   "metadata": {},
   "source": [
    "Now we will check out if the batches look correctly."
   ]
  },
  {
   "cell_type": "code",
   "execution_count": 11,
   "metadata": {},
   "outputs": [
    {
     "name": "stdout",
     "output_type": "stream",
     "text": [
      "input_seq shape:  torch.Size([128, 24])\n",
      "target shape:  torch.Size([128])\n",
      "x_lengths shape:  torch.Size([128])\n"
     ]
    }
   ],
   "source": [
    "for batches in train_iterator:\n",
    "    # Unpack the dictionary of batches\n",
    "    input_seq, target, x_lengths = batches['input_seq'], batches['target'], batches['x_lengths']\n",
    "    print('input_seq shape: ', input_seq.size())\n",
    "    print('target shape: ', target.size())\n",
    "    print('x_lengths shape: ', x_lengths.size())\n",
    "    break"
   ]
  },
  {
   "cell_type": "code",
   "execution_count": 12,
   "metadata": {},
   "outputs": [],
   "source": [
    "# Extract the maximum sequence length\n",
    "\n",
    "max_len = 0\n",
    "\n",
    "for batches in train_iterator:\n",
    "    x_lengths = batches['x_lengths']\n",
    "    if max(x_lengths) > max_len:\n",
    "        max_len = int(max(x_lengths))"
   ]
  },
  {
   "cell_type": "code",
   "execution_count": 13,
   "metadata": {},
   "outputs": [
    {
     "name": "stdout",
     "output_type": "stream",
     "text": [
      "Maximum sequence length: 60\n"
     ]
    }
   ],
   "source": [
    "print('Maximum sequence length: {}'.format(max_len))"
   ]
  },
  {
   "cell_type": "markdown",
   "metadata": {},
   "source": [
    "Let's start implementing the Transformer model."
   ]
  },
  {
   "cell_type": "code",
   "execution_count": 14,
   "metadata": {},
   "outputs": [],
   "source": [
    "class MultiHeadAttention(nn.Module):\n",
    "\n",
    "    \n",
    "    def __init__(self, dmodel, heads):\n",
    "        \n",
    "        super(MultiHeadAttention, self).__init__()\n",
    "        \n",
    "        assert dmodel % heads == 0, 'Embedding dimension is not divisible by number of heads'\n",
    "            \n",
    "        self.dmodel = dmodel\n",
    "        self.heads = heads\n",
    "        # Split dmodel (embedd dimension) into 'heads' number of chunks\n",
    "        # each chunk of size key_dim will be passed to different attention head\n",
    "        self.key_dim = dmodel // heads\n",
    "        \n",
    "        # keys, queries and values will be computed at once for all heads\n",
    "        self.linear = nn.ModuleList([\n",
    "            nn.Linear(self.dmodel, self.dmodel, bias=False),\n",
    "            nn.Linear(self.dmodel, self.dmodel, bias=False),\n",
    "            nn.Linear(self.dmodel, self.dmodel, bias=False)])\n",
    "        \n",
    "        self.concat = nn.Linear(self.dmodel, self.dmodel, bias=False)\n",
    "        \n",
    "        \n",
    "    def forward(self, inputs):\n",
    "\n",
    "        \n",
    "        self.batch_size = inputs.size(0)\n",
    "        \n",
    "        assert inputs.size(2) == self.dmodel, 'Input sizes mismatch, dmodel={}, while embedd={}'\\\n",
    "            .format(self.dmodel, inputs.size(2))\n",
    "\n",
    "        # Inputs shape (batch_size, seq_length, embedding_dim)        \n",
    "        # Map input batch allong embedd dimension to query, key and value vectors with\n",
    "        # a shape of (batch_size, heads, seq_len, key_dim (dmodel // heads)) \n",
    "        # where 'heads' dimension corresponds o different attention head\n",
    "        query, key, value = [linear(x).view(self.batch_size, -1, self.heads, self.key_dim).transpose(1, 2)\\\n",
    "                             for linear, x in zip(self.linear, (inputs, inputs, inputs))]\n",
    "        \n",
    "        # Calculate the score (batch_size, heads, seq_len, seq_len)\n",
    "        # for all heads at once\n",
    "        score = torch.matmul(query, key.transpose(-2, -1)) / np.sqrt(self.key_dim)\n",
    "        \n",
    "        # Apply softmax to scores (batch_size, heads, seq_len, seq_len) \n",
    "        soft_score = F.softmax(score, dim = -1)\n",
    "        \n",
    "        # Multiply softmaxed score and value vector\n",
    "        # value input shape (batch_size, heads, seq_len, key_dim)\n",
    "        # out shape (batch_size, seq_len, dmodel (key_dim * heads))\n",
    "        out = torch.matmul(soft_score, value).transpose(1, 2).contiguous()\\\n",
    "            .view(self.batch_size, -1, self.heads * self.key_dim)\n",
    "        \n",
    "        # Concatenate and linearly transform heads to the lower dimensional space\n",
    "        # out shape (batch_size, seq_len, dmodel)\n",
    "        out = self.concat(out)\n",
    "        \n",
    "        return out\n",
    "        \n",
    "        \n",
    "class PositionalEncoding(nn.Module):\n",
    "\n",
    "    \n",
    "    def __init__(self, max_len, dmodel, dropout, padding_idx):\n",
    "        \n",
    "        super(PositionalEncoding, self).__init__()\n",
    "                \n",
    "        self.dropout = nn.Dropout(dropout)\n",
    "        \n",
    "        # Create pos_encoding, positions and dimensions matrices\n",
    "        # with a shape of (max_len, dmodel)\n",
    "        self.pos_encoding = torch.zeros(max_len, dmodel)\n",
    "        positions = torch.repeat_interleave(torch.arange(float(max_len)).unsqueeze(1), dmodel, dim=1)\n",
    "        dimensions = torch.arange(float(dmodel)).repeat(max_len, 1)\n",
    "                                  \n",
    "        # Calculate the encodings trigonometric function argument (max_len, dmodel)\n",
    "        trig_fn_arg = positions / (torch.pow(10000, 2 * dimensions / dmodel))\n",
    "               \n",
    "        # Encode positions using sin function for even dimensions and\n",
    "        # cos function for odd dimensions\n",
    "        self.pos_encoding[:, 0::2] = torch.sin(trig_fn_arg[:, 0::2])\n",
    "        self.pos_encoding[:, 1::2] = torch.cos(trig_fn_arg[:, 1::2])\n",
    "        \n",
    "        # Set the padding positional encoding to zero tensor\n",
    "        if padding_idx:\n",
    "            self.pos_encoding[padding_idx] = 0.0\n",
    "        \n",
    "        # Add batch dimension\n",
    "        self.pos_encoding = self.pos_encoding.unsqueeze(0)\n",
    "        \n",
    "        \n",
    "    def forward(self, embedd):\n",
    "\n",
    "        \n",
    "        # embedd shape (batch_size, seq_length, embedding_dim)\n",
    "        # pos_encoding shape (1, max_len, dmodel = embedd_dim)\n",
    "        embedd = embedd + self.pos_encoding[:, :embedd.size(1), :]\n",
    "        embedd = self.dropout(embedd)\n",
    "        \n",
    "        # embedd shape (batch_size, seq_length, embedding_dim)\n",
    "        return embedd  \n",
    "    \n",
    "    \n",
    "class LabelSmoothingLoss(nn.Module):\n",
    "\n",
    "    \n",
    "    def __init__(self, output_size, label_smoothing=0):\n",
    "\n",
    "        super(LabelSmoothingLoss, self).__init__()\n",
    "        \n",
    "        self.output_size = output_size\n",
    "        self.label_smoothing = label_smoothing\n",
    "        self.confidence = 1 - self.label_smoothing\n",
    "        \n",
    "        assert label_smoothing >= 0.0 and label_smoothing <= 1.0, \\\n",
    "        'Label smoothing parameter takes values in the range [0, 1]'\n",
    "\n",
    "        self.criterion = nn.KLDivLoss()\n",
    "        \n",
    "        \n",
    "    def forward(self, pred, target):\n",
    "       \n",
    "        # Create a Tensor of targets probabilities of a shape that equals 'pred' dimensions, filled all\n",
    "        # with label_smoothing/(output_size-1) value that will correspond to the wrong label probability.\n",
    "        one_hot_probs = torch.full(size=pred.size(), fill_value=self.label_smoothing/(self.output_size - 1))\n",
    "        \n",
    "        # Fill the tensor at positions that correspond to the true label from the target vector (0/1)\n",
    "        # with the modified value of maximum probability (confidence).\n",
    "        one_hot_probs.scatter_(1, target.unsqueeze(1), self.confidence)\n",
    "            \n",
    "        # KLDivLoss takes inputs (pred) that contain log-probs and targets given as probs (one_hot_probs).\n",
    "        return self.criterion(pred, one_hot_probs)    \n"
   ]
  },
  {
   "cell_type": "code",
   "execution_count": 15,
   "metadata": {},
   "outputs": [],
   "source": [
    "class TransformerBlock(nn.Module):\n",
    "    \n",
    "    \n",
    "    def __init__(self, dmodel, ffnn_hidden_size, heads, dropout):\n",
    "        \n",
    "        super(TransformerBlock, self).__init__()\n",
    "        \n",
    "        self.attention = MultiHeadAttention(dmodel, heads)\n",
    "        self.layer_norm1 = nn.LayerNorm(dmodel)\n",
    "        self.layer_norm2 = nn.LayerNorm(dmodel)\n",
    "        \n",
    "        self.ffnn = nn.Sequential(\n",
    "                nn.Linear(dmodel, ffnn_hidden_size),\n",
    "                nn.ReLU(),\n",
    "                nn.Dropout(dropout),\n",
    "                nn.Linear(ffnn_hidden_size, dmodel))\n",
    "        \n",
    "        \n",
    "    def forward(self, inputs):\n",
    "       \n",
    "        # Inputs shape (batch_size, seq_length, embedding_dim = dmodel)\n",
    "        output = inputs + self.attention(inputs)            \n",
    "        output = self.layer_norm1(output)            \n",
    "        output = output + self.ffnn(output)            \n",
    "        output = self.layer_norm2(output)\n",
    "\n",
    "        # Output shape (batch_size, seq_length, dmodel)\n",
    "        return output\n",
    "        \n",
    "        \n",
    "class Transformer(nn.Module):\n",
    "   \n",
    "    \n",
    "    def __init__(self, vocab_size, dmodel, output_size, max_len, padding_idx=0, n_layers=4,\n",
    "                 ffnn_hidden_size=None, heads=8, pooling='max', dropout=0.2):\n",
    "        \n",
    "        super(Transformer, self).__init__()\n",
    "        \n",
    "        if not ffnn_hidden_size:\n",
    "            ffnn_hidden_size = dmodel * 4\n",
    "            \n",
    "        assert pooling == 'max' or pooling == 'avg', 'Improper pooling type was passed.'\n",
    "        \n",
    "        self.pooling = pooling\n",
    "        self.output_size = output_size\n",
    "        \n",
    "        self.embedding = nn.Embedding(vocab_size, dmodel)\n",
    "        \n",
    "        self.pos_encoding = PositionalEncoding(max_len, dmodel, dropout, padding_idx)\n",
    "        \n",
    "        self.tnf_blocks = nn.ModuleList()\n",
    "        \n",
    "        for n in range(n_layers):\n",
    "            self.tnf_blocks.append(\n",
    "                TransformerBlock(dmodel, ffnn_hidden_size, heads, dropout))\n",
    "            \n",
    "        self.tnf_blocks = nn.Sequential(*self.tnf_blocks)\n",
    "            \n",
    "        self.linear = nn.Linear(dmodel, output_size)\n",
    "        \n",
    "        \n",
    "    def forward(self, inputs, input_lengths):\n",
    "       \n",
    "        self.batch_size = inputs.size(0)\n",
    "        \n",
    "        # Input dimensions (batch_size, seq_length, dmodel)\n",
    "        output = self.embedding(inputs)\n",
    "        output = self.pos_encoding(output)\n",
    "        output = self.tnf_blocks(output)\n",
    "        # Output dimensions (batch_size, seq_length, dmodel)\n",
    "        \n",
    "        if self.pooling == 'max':\n",
    "            # Permute to the shape (batch_size, dmodel, seq_length)\n",
    "            # Apply max-pooling, output dimensions (batch_size, dmodel)\n",
    "            output = F.adaptive_max_pool1d(output.permute(0,2,1), (1,)).view(self.batch_size,-1)\n",
    "        else:\n",
    "            # Sum along the batch axis and divide by the corresponding lengths (FloatTensor)\n",
    "            # Output shape: (batch_size, dmodel)\n",
    "            output = torch.sum(output, dim=1) / input_lengths.view(-1,1).type(torch.FloatTensor) \n",
    "            \n",
    "        output = self.linear(output)\n",
    "        \n",
    "        return F.log_softmax(output, dim=-1)\n",
    "        \n",
    "        \n",
    "    def add_loss_fn(self, loss_fn):\n",
    "        \"\"\"Add loss function to the model.\n",
    "        \n",
    "        \"\"\"\n",
    "        self.loss_fn = loss_fn\n",
    "        \n",
    "\n",
    "    def add_optimizer(self, optimizer):\n",
    "        \"\"\"Add optimizer to the model.\n",
    "        \n",
    "        \"\"\"\n",
    "        self.optimizer = optimizer\n",
    "        \n",
    "        \n",
    "    def add_device(self, device=torch.device('cpu')):\n",
    "        \"\"\"Specify the device.\n",
    "        \n",
    "        \"\"\"\n",
    "        self.device = device\n",
    "    \n",
    "    \n",
    "    def train_model(self, train_iterator):\n",
    "        \n",
    "        self.train()\n",
    "        \n",
    "        train_losses = []\n",
    "        losses = []\n",
    "        losses_list = []\n",
    "        num_seq = 0\n",
    "        batch_correct = 0\n",
    "            \n",
    "        for i, batches in tqdm_notebook(enumerate(train_iterator, 1), total=len(train_iterator), desc='Training'):\n",
    "            input_seq, target, x_lengths = batches['input_seq'], batches['target'], batches['x_lengths']\n",
    "            \n",
    "            input_seq.to(self.device)\n",
    "            target.to(self.device)\n",
    "            x_lengths.to(self.device)\n",
    "            \n",
    "            self.optimizer.zero_grad()\n",
    "\n",
    "            pred = self.forward(input_seq, x_lengths)\n",
    "            loss = self.loss_fn(pred, target)\n",
    "            loss.backward()\n",
    "            losses.append(loss.data.cpu().numpy())\n",
    "            self.optimizer.step()\n",
    "            \n",
    "            losses_list.append(loss.data.cpu().numpy())\n",
    "            \n",
    "            pred = torch.argmax(pred, 1)\n",
    "\n",
    "            if self.device.type == 'cpu':\n",
    "                batch_correct += (pred.cpu() == target.cpu()).sum().item()\n",
    "\n",
    "            else:\n",
    "                batch_correct += (pred == target).sum().item()\n",
    "\n",
    "            num_seq += len(input_seq)     \n",
    "    \n",
    "            if i % 100 == 0:\n",
    "                avg_train_loss = np.mean(losses)\n",
    "                train_losses.append(avg_train_loss)\n",
    "                \n",
    "                accuracy = batch_correct / num_seq\n",
    "                \n",
    "                print('Iteration: {}. Average training loss: {:.4f}. Accuracy: {:.3f}'\\\n",
    "                      .format(i, avg_train_loss, accuracy))\n",
    "                \n",
    "                losses = []\n",
    "                \n",
    "            avg_loss = np.mean(losses_list)\n",
    "            accuracy = batch_correct / num_seq\n",
    "                              \n",
    "        return train_losses, avg_loss, accuracy\n",
    "    \n",
    "    \n",
    "    def evaluate_model(self, eval_iterator, conf_mtx=False):\n",
    "       \n",
    "        self.eval()\n",
    "        \n",
    "        eval_losses = []\n",
    "        losses = []\n",
    "        losses_list = []\n",
    "        num_seq = 0\n",
    "        batch_correct = 0\n",
    "        pred_total = torch.LongTensor()\n",
    "        target_total = torch.LongTensor()\n",
    "        \n",
    "        with torch.no_grad():\n",
    "            for i, batches in tqdm_notebook(enumerate(eval_iterator, 1), total=len(eval_iterator), desc='Evaluation'):\n",
    "                input_seq, target, x_lengths = batches['input_seq'], batches['target'], batches['x_lengths']\n",
    "                \n",
    "                input_seq.to(self.device)\n",
    "                target.to(self.device)\n",
    "                x_lengths.to(self.device)\n",
    "\n",
    "                pred = self.forward(input_seq, x_lengths)\n",
    "                loss = self.loss_fn(pred, target)\n",
    "                losses.append(loss.data.cpu().numpy())\n",
    "                losses_list.append(loss.data.cpu().numpy())\n",
    "                \n",
    "                pred = torch.argmax(pred, 1)\n",
    "                                \n",
    "                if self.device.type == 'cpu':\n",
    "                    batch_correct += (pred.cpu() == target.cpu()).sum().item()\n",
    "                    \n",
    "                else:\n",
    "                    batch_correct += (pred == target).sum().item()\n",
    "                    \n",
    "                num_seq += len(input_seq)     \n",
    "                \n",
    "                pred_total = torch.cat([pred_total, pred], dim=0)\n",
    "                target_total = torch.cat([target_total, target], dim=0)\n",
    "                \n",
    "                if i % 100 == 0:\n",
    "                    avg_batch_eval_loss = np.mean(losses)\n",
    "                    eval_losses.append(avg_batch_eval_loss)\n",
    "                    \n",
    "                    accuracy = batch_correct / num_seq\n",
    "                    \n",
    "                    print('Iteration: {}. Average evaluation loss: {:.4f}. Accuracy: {:.2f}'\\\n",
    "                          .format(i, avg_batch_eval_loss, accuracy))\n",
    "\n",
    "                    losses = []\n",
    "                    \n",
    "            avg_loss_list = []\n",
    "                    \n",
    "            avg_loss = np.mean(losses_list)\n",
    "            accuracy = batch_correct / num_seq\n",
    "            \n",
    "            conf_matrix = confusion_matrix(target_total.view(-1), pred_total.view(-1))\n",
    "        \n",
    "        if conf_mtx:\n",
    "            print('\\tConfusion matrix: ', conf_matrix)\n",
    "            \n",
    "        return eval_losses, avg_loss, accuracy, conf_matrix\n",
    "    "
   ]
  },
  {
   "cell_type": "code",
   "execution_count": 16,
   "metadata": {},
   "outputs": [
    {
     "name": "stdout",
     "output_type": "stream",
     "text": [
      "\n",
      "Start epoch [1/30]\n"
     ]
    },
    {
     "data": {
      "application/vnd.jupyter.widget-view+json": {
       "model_id": "86bb0b79bb29415aa7952078ada53cd1",
       "version_major": 2,
       "version_minor": 0
      },
      "text/plain": [
       "Training:   0%|          | 0/354 [00:00<?, ?it/s]"
      ]
     },
     "metadata": {},
     "output_type": "display_data"
    },
    {
     "name": "stdout",
     "output_type": "stream",
     "text": [
      "Iteration: 100. Average training loss: 0.1444. Accuracy: 0.734\n",
      "Iteration: 200. Average training loss: 0.1251. Accuracy: 0.753\n",
      "Iteration: 300. Average training loss: 0.1183. Accuracy: 0.761\n"
     ]
    },
    {
     "data": {
      "application/vnd.jupyter.widget-view+json": {
       "model_id": "3df6642bfc7e4222aef7447a542b8bca",
       "version_major": 2,
       "version_minor": 0
      },
      "text/plain": [
       "Evaluation:   0%|          | 0/90 [00:00<?, ?it/s]"
      ]
     },
     "metadata": {},
     "output_type": "display_data"
    },
    {
     "name": "stdout",
     "output_type": "stream",
     "text": [
      "\n",
      "Epoch [1/30]: Train accuracy: 0.763. Train loss: 0.1274. Evaluation accuracy: 0.807. Evaluation loss: 0.1059\n",
      "\n",
      "Start epoch [2/30]\n"
     ]
    },
    {
     "data": {
      "application/vnd.jupyter.widget-view+json": {
       "model_id": "eb98a0dcad78439597cd72ea695cad0d",
       "version_major": 2,
       "version_minor": 0
      },
      "text/plain": [
       "Training:   0%|          | 0/354 [00:00<?, ?it/s]"
      ]
     },
     "metadata": {},
     "output_type": "display_data"
    },
    {
     "name": "stdout",
     "output_type": "stream",
     "text": [
      "Iteration: 100. Average training loss: 0.1142. Accuracy: 0.785\n",
      "Iteration: 200. Average training loss: 0.1055. Accuracy: 0.796\n",
      "Iteration: 300. Average training loss: 0.1043. Accuracy: 0.800\n"
     ]
    },
    {
     "data": {
      "application/vnd.jupyter.widget-view+json": {
       "model_id": "7bf4678346df4cccb591538106286ff2",
       "version_major": 2,
       "version_minor": 0
      },
      "text/plain": [
       "Evaluation:   0%|          | 0/90 [00:00<?, ?it/s]"
      ]
     },
     "metadata": {},
     "output_type": "display_data"
    },
    {
     "name": "stdout",
     "output_type": "stream",
     "text": [
      "\n",
      "Epoch [2/30]: Train accuracy: 0.801. Train loss: 0.1073. Evaluation accuracy: 0.807. Evaluation loss: 0.1044\n",
      "\n",
      "Start epoch [3/30]\n"
     ]
    },
    {
     "data": {
      "application/vnd.jupyter.widget-view+json": {
       "model_id": "3f67ca23efab403cab5958c5f973a500",
       "version_major": 2,
       "version_minor": 0
      },
      "text/plain": [
       "Training:   0%|          | 0/354 [00:00<?, ?it/s]"
      ]
     },
     "metadata": {},
     "output_type": "display_data"
    },
    {
     "name": "stdout",
     "output_type": "stream",
     "text": [
      "Iteration: 100. Average training loss: 0.1050. Accuracy: 0.804\n",
      "Iteration: 200. Average training loss: 0.0979. Accuracy: 0.812\n",
      "Iteration: 300. Average training loss: 0.0990. Accuracy: 0.815\n"
     ]
    },
    {
     "data": {
      "application/vnd.jupyter.widget-view+json": {
       "model_id": "404ee6ad2ce04273a521a25013b634f2",
       "version_major": 2,
       "version_minor": 0
      },
      "text/plain": [
       "Evaluation:   0%|          | 0/90 [00:00<?, ?it/s]"
      ]
     },
     "metadata": {},
     "output_type": "display_data"
    },
    {
     "name": "stdout",
     "output_type": "stream",
     "text": [
      "\n",
      "Epoch [3/30]: Train accuracy: 0.815. Train loss: 0.1002. Evaluation accuracy: 0.815. Evaluation loss: 0.1024\n",
      "\n",
      "Start epoch [4/30]\n"
     ]
    },
    {
     "data": {
      "application/vnd.jupyter.widget-view+json": {
       "model_id": "53b9e2a9127246d1853b99ee3fcd8363",
       "version_major": 2,
       "version_minor": 0
      },
      "text/plain": [
       "Training:   0%|          | 0/354 [00:00<?, ?it/s]"
      ]
     },
     "metadata": {},
     "output_type": "display_data"
    },
    {
     "name": "stdout",
     "output_type": "stream",
     "text": [
      "Iteration: 100. Average training loss: 0.0985. Accuracy: 0.821\n",
      "Iteration: 200. Average training loss: 0.0936. Accuracy: 0.827\n",
      "Iteration: 300. Average training loss: 0.0937. Accuracy: 0.827\n"
     ]
    },
    {
     "data": {
      "application/vnd.jupyter.widget-view+json": {
       "model_id": "8d048674852744bfbd45307dd93f2bf0",
       "version_major": 2,
       "version_minor": 0
      },
      "text/plain": [
       "Evaluation:   0%|          | 0/90 [00:00<?, ?it/s]"
      ]
     },
     "metadata": {},
     "output_type": "display_data"
    },
    {
     "name": "stdout",
     "output_type": "stream",
     "text": [
      "\n",
      "Epoch [4/30]: Train accuracy: 0.827. Train loss: 0.0950. Evaluation accuracy: 0.814. Evaluation loss: 0.1017\n",
      "\n",
      "Start epoch [5/30]\n"
     ]
    },
    {
     "data": {
      "application/vnd.jupyter.widget-view+json": {
       "model_id": "91d852cb810042c2901e375bc64e58d0",
       "version_major": 2,
       "version_minor": 0
      },
      "text/plain": [
       "Training:   0%|          | 0/354 [00:00<?, ?it/s]"
      ]
     },
     "metadata": {},
     "output_type": "display_data"
    },
    {
     "name": "stdout",
     "output_type": "stream",
     "text": [
      "Iteration: 100. Average training loss: 0.0931. Accuracy: 0.829\n",
      "Iteration: 200. Average training loss: 0.0894. Accuracy: 0.835\n",
      "Iteration: 300. Average training loss: 0.0897. Accuracy: 0.835\n"
     ]
    },
    {
     "data": {
      "application/vnd.jupyter.widget-view+json": {
       "model_id": "01c91b1f46b04d1892f781044087a524",
       "version_major": 2,
       "version_minor": 0
      },
      "text/plain": [
       "Evaluation:   0%|          | 0/90 [00:00<?, ?it/s]"
      ]
     },
     "metadata": {},
     "output_type": "display_data"
    },
    {
     "name": "stdout",
     "output_type": "stream",
     "text": [
      "\n",
      "Epoch [5/30]: Train accuracy: 0.835. Train loss: 0.0907. Evaluation accuracy: 0.808. Evaluation loss: 0.1087\n",
      "\n",
      "Start epoch [6/30]\n"
     ]
    },
    {
     "data": {
      "application/vnd.jupyter.widget-view+json": {
       "model_id": "656939ba6df34e1c9959b0794b6a83bf",
       "version_major": 2,
       "version_minor": 0
      },
      "text/plain": [
       "Training:   0%|          | 0/354 [00:00<?, ?it/s]"
      ]
     },
     "metadata": {},
     "output_type": "display_data"
    },
    {
     "name": "stdout",
     "output_type": "stream",
     "text": [
      "Iteration: 100. Average training loss: 0.0897. Accuracy: 0.835\n",
      "Iteration: 200. Average training loss: 0.0847. Accuracy: 0.842\n",
      "Iteration: 300. Average training loss: 0.0873. Accuracy: 0.842\n"
     ]
    },
    {
     "data": {
      "application/vnd.jupyter.widget-view+json": {
       "model_id": "96b3a1425578477d97cd0a6c88f1937e",
       "version_major": 2,
       "version_minor": 0
      },
      "text/plain": [
       "Evaluation:   0%|          | 0/90 [00:00<?, ?it/s]"
      ]
     },
     "metadata": {},
     "output_type": "display_data"
    },
    {
     "name": "stdout",
     "output_type": "stream",
     "text": [
      "\n",
      "Epoch [6/30]: Train accuracy: 0.843. Train loss: 0.0869. Evaluation accuracy: 0.813. Evaluation loss: 0.1070\n",
      "\n",
      "Start epoch [7/30]\n"
     ]
    },
    {
     "data": {
      "application/vnd.jupyter.widget-view+json": {
       "model_id": "914d75195012412da8c861f4a4ac538a",
       "version_major": 2,
       "version_minor": 0
      },
      "text/plain": [
       "Training:   0%|          | 0/354 [00:00<?, ?it/s]"
      ]
     },
     "metadata": {},
     "output_type": "display_data"
    },
    {
     "name": "stdout",
     "output_type": "stream",
     "text": [
      "Iteration: 100. Average training loss: 0.0882. Accuracy: 0.841\n",
      "Iteration: 200. Average training loss: 0.0841. Accuracy: 0.846\n",
      "Iteration: 300. Average training loss: 0.0838. Accuracy: 0.847\n"
     ]
    },
    {
     "data": {
      "application/vnd.jupyter.widget-view+json": {
       "model_id": "1f57a404ce304fa7ba1db8fce330b57d",
       "version_major": 2,
       "version_minor": 0
      },
      "text/plain": [
       "Evaluation:   0%|          | 0/90 [00:00<?, ?it/s]"
      ]
     },
     "metadata": {},
     "output_type": "display_data"
    },
    {
     "name": "stdout",
     "output_type": "stream",
     "text": [
      "\n",
      "Epoch [7/30]: Train accuracy: 0.849. Train loss: 0.0849. Evaluation accuracy: 0.812. Evaluation loss: 0.1039\n",
      "\n",
      "Training stoped by EarlyStopping\n"
     ]
    }
   ],
   "source": [
    "# Initialize parameters\n",
    "vocab_size = len(train_iterator.word2index)\n",
    "dmodel = 64\n",
    "output_size = 2\n",
    "padding_idx = train_iterator.word2index['<PAD>']\n",
    "n_layers = 4\n",
    "ffnn_hidden_size = dmodel * 2\n",
    "heads = 8\n",
    "pooling = 'max'\n",
    "dropout = 0.2\n",
    "label_smoothing = 0.1\n",
    "learning_rate = 0.001\n",
    "epochs = 30\n",
    "\n",
    "# Check whether system supports CUDA\n",
    "CUDA = torch.cuda.is_available()\n",
    "\n",
    "model = Transformer(vocab_size, dmodel, output_size, max_len, padding_idx, n_layers,\\\n",
    "                    ffnn_hidden_size, heads, pooling, dropout)\n",
    "\n",
    "# Move the model to GPU if possible\n",
    "if CUDA:\n",
    "    model.cuda()\n",
    "    \n",
    "# Add loss function    \n",
    "if label_smoothing:\n",
    "    loss_fn = LabelSmoothingLoss(output_size, label_smoothing)\n",
    "else:\n",
    "    loss_fn = nn.NLLLoss()\n",
    "    \n",
    "model.add_loss_fn(loss_fn)\n",
    "\n",
    "optimizer = torch.optim.Adam(model.parameters(), lr=learning_rate)\n",
    "model.add_optimizer(optimizer)\n",
    "\n",
    "device = torch.device('cuda' if CUDA else 'cpu')\n",
    "\n",
    "model.add_device(device)\n",
    "\n",
    "# Create the parameters dictionary and instantiate the tensorboardX SummaryWriter\n",
    "params = {'batch_size': batch_size,\n",
    "          'dmodel': dmodel,\n",
    "          'n_layers': n_layers,\n",
    "          'ffnn_hidden_size': ffnn_hidden_size,\n",
    "          'heads': heads,\n",
    "          'pooling': pooling,\n",
    "          'dropout': dropout,\n",
    "          'label_smoothing': label_smoothing,\n",
    "          'learning_rate': learning_rate}\n",
    "\n",
    "train_writer = SummaryWriter(comment=f' Training, batch_size={batch_size}, dmodel={dmodel}, n_layers={n_layers},\\\n",
    "ffnn_hidden_size={ffnn_hidden_size}, heads={heads}, pooling={pooling}, dropout={dropout}, \\\n",
    "label_smoothing={label_smoothing}, learning_rate={learning_rate}'.format(**params))\n",
    "\n",
    "val_writer = SummaryWriter(comment=f' Validation, batch_size={batch_size}, dmodel={dmodel}, n_layers={n_layers},\\\n",
    "ffnn_hidden_size={ffnn_hidden_size}, heads={heads}, pooling={pooling}, dropout={dropout}, \\\n",
    "label_smoothing={label_smoothing}, learning_rate={learning_rate}'.format(**params))\n",
    "\n",
    "# Instantiate the EarlyStopping\n",
    "early_stop = EarlyStopping(wait_epochs=3)\n",
    "\n",
    "train_losses_list, train_avg_loss_list, train_accuracy_list = [], [], []\n",
    "eval_avg_loss_list, eval_accuracy_list, conf_matrix_list = [], [], []\n",
    "\n",
    "for epoch in range(epochs):\n",
    "    \n",
    "    try:\n",
    "        print('\\nStart epoch [{}/{}]'.format(epoch+1, epochs))\n",
    "\n",
    "        train_losses, train_avg_loss, train_accuracy = model.train_model(train_iterator)\n",
    "\n",
    "        train_losses_list.append(train_losses)\n",
    "        train_avg_loss_list.append(train_avg_loss)\n",
    "        train_accuracy_list.append(train_accuracy)\n",
    "\n",
    "        _, eval_avg_loss, eval_accuracy, conf_matrix = model.evaluate_model(val_iterator)\n",
    "\n",
    "        eval_avg_loss_list.append(eval_avg_loss)\n",
    "        eval_accuracy_list.append(eval_accuracy)\n",
    "        conf_matrix_list.append(conf_matrix)\n",
    "\n",
    "        print('\\nEpoch [{}/{}]: Train accuracy: {:.3f}. Train loss: {:.4f}. Evaluation accuracy: {:.3f}. Evaluation loss: {:.4f}'\\\n",
    "              .format(epoch+1, epochs, train_accuracy, train_avg_loss, eval_accuracy, eval_avg_loss))\n",
    "\n",
    "        train_writer.add_scalar('Training loss', train_avg_loss, epoch)\n",
    "        val_writer.add_scalar('Validation loss', eval_avg_loss, epoch)\n",
    "\n",
    "        if early_stop.stop(eval_avg_loss, model, delta=0.003):\n",
    "            break\n",
    "\n",
    "    finally:\n",
    "        train_writer.close()\n",
    "        val_writer.close()\n"
   ]
  },
  {
   "cell_type": "code",
   "execution_count": 17,
   "metadata": {},
   "outputs": [],
   "source": [
    "train_avg_loss_list.insert(0, train_losses_list[0][0])\n",
    "eval_avg_loss_list.insert(0, train_losses_list[0][0])"
   ]
  },
  {
   "cell_type": "code",
   "execution_count": 18,
   "metadata": {},
   "outputs": [
    {
     "data": {
      "image/png": "[encoded data removed]",
      "text/plain": [
       "<Figure size 576x360 with 1 Axes>"
      ]
     },
     "metadata": {
      "needs_background": "light"
     },
     "output_type": "display_data"
    }
   ],
   "source": [
    "# Plot the training and the validation learning curve\n",
    "plt.figure(figsize=(8,5))\n",
    "plt.plot(train_avg_loss_list, label='Training loss')\n",
    "plt.plot(eval_avg_loss_list, label='Evaluation loss')\n",
    "plt.xlabel('Epoch', size=12)\n",
    "plt.ylabel('Loss', size=12)\n",
    "plt.title('Transformer learning curves')\n",
    "plt.xticks(ticks=range(12))\n",
    "plt.legend()\n",
    "plt.show()"
   ]
  },
  {
   "cell_type": "code",
   "execution_count": 19,
   "metadata": {},
   "outputs": [
    {
     "data": {
      "image/png": "[encoded data removed]",
      "text/plain": [
       "<Figure size 432x432 with 2 Axes>"
      ]
     },
     "metadata": {
      "needs_background": "light"
     },
     "output_type": "display_data"
    }
   ],
   "source": [
    "# Confusion matrix\n",
    "plt.figure(figsize=(6,6))\n",
    "ax = sns.heatmap(conf_matrix, fmt='d', annot=True, linewidths=1, square=True)\n",
    "ax.set_xlabel('Predictions', size=12)\n",
    "ax.set_ylabel('True labels', size=12) \n",
    "ax.set_title('Confusion Matrix', size=12); \n",
    "ax.xaxis.set_ticklabels(['True', 'False'])\n",
    "ax.yaxis.set_ticklabels(['True', 'False'])\n",
    "ax.set_ylim(2,0)\n",
    "plt.show()"
   ]
  },
  {
   "cell_type": "markdown",
   "metadata": {},
   "source": [
    "### The generalization error"
   ]
  },
  {
   "cell_type": "code",
   "execution_count": 20,
   "metadata": {},
   "outputs": [],
   "source": [
    "# Import the dataset. Use clean_review and label columns\n",
    "test_dataset = pd.read_csv('drugreview/drugreview_feat_clean/test_feat_clean.csv',\n",
    "                          usecols=['clean_review', 'polarity', 'subjectivity', 'word_count', 'UPPERCASE', 'DIGITS',\n",
    "                                      'PROPN', 'VERB', 'NOUN', 'PUNCT', 'ADJ', 'rating'])\n",
    "\n",
    "# Change columns order\n",
    "test_dataset['label'] = test_dataset.rating >= 3\n",
    "test_dataset = test_dataset[['clean_review', 'polarity', 'subjectivity', 'word_count', 'UPPERCASE', 'DIGITS',\n",
    "                           'PROPN', 'VERB', 'NOUN', 'PUNCT', 'ADJ', 'label']]"
   ]
  },
  {
   "cell_type": "code",
   "execution_count": 21,
   "metadata": {},
   "outputs": [
    {
     "data": {
      "text/html": [
       "<div>\n",
       "<style scoped>\n",
       "    .dataframe tbody tr th:only-of-type {\n",
       "        vertical-align: middle;\n",
       "    }\n",
       "\n",
       "    .dataframe tbody tr th {\n",
       "        vertical-align: top;\n",
       "    }\n",
       "\n",
       "    .dataframe thead th {\n",
       "        text-align: right;\n",
       "    }\n",
       "</style>\n",
       "<table border=\"1\" class=\"dataframe\">\n",
       "  <thead>\n",
       "    <tr style=\"text-align: right;\">\n",
       "      <th></th>\n",
       "      <th>clean_review</th>\n",
       "      <th>polarity</th>\n",
       "      <th>subjectivity</th>\n",
       "      <th>word_count</th>\n",
       "      <th>UPPERCASE</th>\n",
       "      <th>DIGITS</th>\n",
       "      <th>PROPN</th>\n",
       "      <th>VERB</th>\n",
       "      <th>NOUN</th>\n",
       "      <th>PUNCT</th>\n",
       "      <th>ADJ</th>\n",
       "      <th>label</th>\n",
       "    </tr>\n",
       "  </thead>\n",
       "  <tbody>\n",
       "    <tr>\n",
       "      <td>0</td>\n",
       "      <td>i&amp;#039;ve tried antidepressants years citalopr...</td>\n",
       "      <td>0.0000</td>\n",
       "      <td>0.4400</td>\n",
       "      <td>68.0</td>\n",
       "      <td>0.02942</td>\n",
       "      <td>0.00000</td>\n",
       "      <td>0.02942</td>\n",
       "      <td>0.1765</td>\n",
       "      <td>0.3381</td>\n",
       "      <td>0.22060</td>\n",
       "      <td>0.04413</td>\n",
       "      <td>True</td>\n",
       "    </tr>\n",
       "    <tr>\n",
       "      <td>1</td>\n",
       "      <td>son crohn&amp;#039;s disease asacol complaints sho...</td>\n",
       "      <td>0.5670</td>\n",
       "      <td>0.6000</td>\n",
       "      <td>48.0</td>\n",
       "      <td>0.00000</td>\n",
       "      <td>0.00000</td>\n",
       "      <td>0.04166</td>\n",
       "      <td>0.1875</td>\n",
       "      <td>0.2291</td>\n",
       "      <td>0.14590</td>\n",
       "      <td>0.06250</td>\n",
       "      <td>True</td>\n",
       "    </tr>\n",
       "    <tr>\n",
       "      <td>2</td>\n",
       "      <td>quick reduction symptoms</td>\n",
       "      <td>0.3333</td>\n",
       "      <td>0.5000</td>\n",
       "      <td>4.0</td>\n",
       "      <td>0.00000</td>\n",
       "      <td>0.00000</td>\n",
       "      <td>0.00000</td>\n",
       "      <td>0.0000</td>\n",
       "      <td>0.5000</td>\n",
       "      <td>0.50000</td>\n",
       "      <td>0.25000</td>\n",
       "      <td>True</td>\n",
       "    </tr>\n",
       "    <tr>\n",
       "      <td>3</td>\n",
       "      <td>contrave combines drugs alcohol smoking opioid...</td>\n",
       "      <td>0.1390</td>\n",
       "      <td>0.5000</td>\n",
       "      <td>143.0</td>\n",
       "      <td>0.06995</td>\n",
       "      <td>0.00000</td>\n",
       "      <td>0.04895</td>\n",
       "      <td>0.2238</td>\n",
       "      <td>0.2098</td>\n",
       "      <td>0.16090</td>\n",
       "      <td>0.06290</td>\n",
       "      <td>True</td>\n",
       "    </tr>\n",
       "    <tr>\n",
       "      <td>4</td>\n",
       "      <td>birth control cycle reading reviews type simil...</td>\n",
       "      <td>0.2610</td>\n",
       "      <td>0.5503</td>\n",
       "      <td>149.0</td>\n",
       "      <td>0.06714</td>\n",
       "      <td>0.01342</td>\n",
       "      <td>0.00000</td>\n",
       "      <td>0.1879</td>\n",
       "      <td>0.1879</td>\n",
       "      <td>0.07385</td>\n",
       "      <td>0.08720</td>\n",
       "      <td>True</td>\n",
       "    </tr>\n",
       "  </tbody>\n",
       "</table>\n",
       "</div>"
      ],
      "text/plain": [
       "                                        clean_review  polarity  subjectivity  \\\n",
       "0  i&#039;ve tried antidepressants years citalopr...    0.0000        0.4400   \n",
       "1  son crohn&#039;s disease asacol complaints sho...    0.5670        0.6000   \n",
       "2                           quick reduction symptoms    0.3333        0.5000   \n",
       "3  contrave combines drugs alcohol smoking opioid...    0.1390        0.5000   \n",
       "4  birth control cycle reading reviews type simil...    0.2610        0.5503   \n",
       "\n",
       "   word_count  UPPERCASE   DIGITS    PROPN    VERB    NOUN    PUNCT      ADJ  \\\n",
       "0        68.0    0.02942  0.00000  0.02942  0.1765  0.3381  0.22060  0.04413   \n",
       "1        48.0    0.00000  0.00000  0.04166  0.1875  0.2291  0.14590  0.06250   \n",
       "2         4.0    0.00000  0.00000  0.00000  0.0000  0.5000  0.50000  0.25000   \n",
       "3       143.0    0.06995  0.00000  0.04895  0.2238  0.2098  0.16090  0.06290   \n",
       "4       149.0    0.06714  0.01342  0.00000  0.1879  0.1879  0.07385  0.08720   \n",
       "\n",
       "   label  \n",
       "0   True  \n",
       "1   True  \n",
       "2   True  \n",
       "3   True  \n",
       "4   True  "
      ]
     },
     "execution_count": 21,
     "metadata": {},
     "output_type": "execute_result"
    }
   ],
   "source": [
    "test_dataset = test_dataset.dropna()\n",
    "test_dataset.head()"
   ]
  },
  {
   "cell_type": "code",
   "execution_count": 22,
   "metadata": {},
   "outputs": [
    {
     "name": "stdout",
     "output_type": "stream",
     "text": [
      "Trimmed vocabulary using as minimum count threashold: count = 3.00\n",
      "15210/40911 tokens has been retained\n",
      "Trimmed input strings vocabulary\n",
      "Trimmed input sequences lengths to the length of: 59\n",
      "Mapped words to indices\n",
      "Start creating glove_word2vector dictionary\n",
      "Extracted 13890/17168 of pre-trained word vectors.\n",
      "3278 vectors initialized to random numbers\n",
      "Weights vectors saved into glove/weights_train.npy\n",
      "Batches created\n"
     ]
    }
   ],
   "source": [
    "test_iterator = BatchIterator(test_dataset, batch_size=256, vocab_created=False, vocab=None, target_col=None,\n",
    "                              word2index=train_iterator.word2index, sos_token='<SOS>', eos_token='<EOS>',\n",
    "                              unk_token='<UNK>', pad_token='<PAD>', min_word_count=3, max_vocab_size=None,\n",
    "                              max_seq_len=0.9, use_pretrained_vectors=True, glove_path='glove/',\n",
    "                              glove_name='glove.6B.100d.txt', weights_file_name='glove/weights_train.npy')"
   ]
  },
  {
   "cell_type": "code",
   "execution_count": 23,
   "metadata": {},
   "outputs": [
    {
     "data": {
      "application/vnd.jupyter.widget-view+json": {
       "model_id": "e44324205a23432f9d217bb36d6a7c10",
       "version_major": 2,
       "version_minor": 0
      },
      "text/plain": [
       "Evaluation:   0%|          | 0/189 [00:00<?, ?it/s]"
      ]
     },
     "metadata": {},
     "output_type": "display_data"
    },
    {
     "name": "stdout",
     "output_type": "stream",
     "text": [
      "Iteration: 100. Average evaluation loss: 0.0993. Accuracy: 0.82\n"
     ]
    }
   ],
   "source": [
    "_, test_avg_loss, test_accuracy, test_conf_matrix = model.evaluate_model(test_iterator)"
   ]
  },
  {
   "cell_type": "code",
   "execution_count": 24,
   "metadata": {},
   "outputs": [
    {
     "name": "stdout",
     "output_type": "stream",
     "text": [
      "Test accuracy: 0.820. Test error: 0.099\n"
     ]
    }
   ],
   "source": [
    "print('Test accuracy: {:.3f}. Test error: {:.3f}'.format(test_accuracy, test_avg_loss))"
   ]
  },
  {
   "cell_type": "code",
   "execution_count": 25,
   "metadata": {},
   "outputs": [
    {
     "data": {
      "image/png": "[encoded data removed]",
      "text/plain": [
       "<Figure size 432x432 with 2 Axes>"
      ]
     },
     "metadata": {
      "needs_background": "light"
     },
     "output_type": "display_data"
    }
   ],
   "source": [
    "# Confusion matrix\n",
    "plt.figure(figsize=(6,6))\n",
    "ax = sns.heatmap(test_conf_matrix, fmt='d', annot=True, linewidths=1, square=True)\n",
    "ax.set_xlabel('Predictions', size=12)\n",
    "ax.set_ylabel('True labels', size=12) \n",
    "ax.set_title('Confusion Matrix', size=12); \n",
    "ax.xaxis.set_ticklabels(['True', 'False'])\n",
    "ax.yaxis.set_ticklabels(['True', 'False'])\n",
    "ax.set_ylim(2,0)\n",
    "plt.show()"
   ]
  }
 ],
 "metadata": {
  "kernelspec": {
   "display_name": "py3.7",
   "language": "python",
   "name": "py3.7"
  },
  "language_info": {
   "codemirror_mode": {
    "name": "ipython",
    "version": 3
   },
   "file_extension": ".py",
   "mimetype": "text/x-python",
   "name": "python",
   "nbconvert_exporter": "python",
   "pygments_lexer": "ipython3",
   "version": "3.7.10"
  }
 },
 "nbformat": 4,
 "nbformat_minor": 2
}
