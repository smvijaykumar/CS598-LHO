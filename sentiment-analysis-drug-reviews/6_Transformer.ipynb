{
 "cells": [
  {
   "cell_type": "markdown",
   "metadata": {},
   "source": [
    "# Build a self-attention Transformer model\n",
    "\n"
   ]
  },
  {
   "cell_type": "markdown",
   "metadata": {},
   "source": [
    "### Building and training the model\n"
   ]
  },
  {
   "cell_type": "code",
   "execution_count": 1,
   "metadata": {},
   "outputs": [],
   "source": [
    "import pandas as pd\n",
    "import torch\n",
    "import torch.nn as nn\n",
    "import torch.nn.functional as F\n",
    "from torch import device\n",
    "from tqdm import tqdm_notebook\n",
    "import numpy as np\n",
    "import matplotlib.pyplot as plt\n",
    "import seaborn as sns\n",
    "from sklearn.metrics import confusion_matrix\n",
    "from sklearn.metrics import f1_score,roc_curve\n",
    "from batch_iterator import BatchIterator\n",
    "from early_stopping import EarlyStopping\n",
    "from tensorboardX import SummaryWriter"
   ]
  },
  {
   "cell_type": "code",
   "execution_count": 2,
   "metadata": {},
   "outputs": [],
   "source": [
    "POS_RATING_THRESHOLD = 5"
   ]
  },
  {
   "cell_type": "code",
   "execution_count": 3,
   "metadata": {},
   "outputs": [],
   "source": [
    "# Import the dataset. Use clean_review and label columns\n",
    "train_dataset = pd.read_csv('drugreview/drugreview_feat_clean/train_feat_clean.csv', \n",
    "                            usecols=['clean_review', 'rating'])\n",
    "\n",
    "# Change columns order\n",
    "train_dataset['label'] = train_dataset.rating >= POS_RATING_THRESHOLD\n",
    "train_dataset = train_dataset[['clean_review', 'label']]"
   ]
  },
  {
   "cell_type": "code",
   "execution_count": 4,
   "metadata": {},
   "outputs": [
    {
     "data": {
      "text/html": [
       "<div>\n",
       "<style scoped>\n",
       "    .dataframe tbody tr th:only-of-type {\n",
       "        vertical-align: middle;\n",
       "    }\n",
       "\n",
       "    .dataframe tbody tr th {\n",
       "        vertical-align: top;\n",
       "    }\n",
       "\n",
       "    .dataframe thead th {\n",
       "        text-align: right;\n",
       "    }\n",
       "</style>\n",
       "<table border=\"1\" class=\"dataframe\">\n",
       "  <thead>\n",
       "    <tr style=\"text-align: right;\">\n",
       "      <th></th>\n",
       "      <th>clean_review</th>\n",
       "      <th>label</th>\n",
       "    </tr>\n",
       "  </thead>\n",
       "  <tbody>\n",
       "    <tr>\n",
       "      <td>1</td>\n",
       "      <td>okay anxiety gotten worse past couple years po...</td>\n",
       "      <td>True</td>\n",
       "    </tr>\n",
       "    <tr>\n",
       "      <td>6</td>\n",
       "      <td>reading possible effects scary medicine gave l...</td>\n",
       "      <td>True</td>\n",
       "    </tr>\n",
       "    <tr>\n",
       "      <td>9</td>\n",
       "      <td>clonazepam effective controlling agitation pro...</td>\n",
       "      <td>True</td>\n",
       "    </tr>\n",
       "    <tr>\n",
       "      <td>11</td>\n",
       "      <td>experienced effects considering anorexia nervo...</td>\n",
       "      <td>True</td>\n",
       "    </tr>\n",
       "    <tr>\n",
       "      <td>12</td>\n",
       "      <td>i&amp;#039;ve gianvi months skin clear didn&amp;#039;t...</td>\n",
       "      <td>True</td>\n",
       "    </tr>\n",
       "  </tbody>\n",
       "</table>\n",
       "</div>"
      ],
      "text/plain": [
       "                                         clean_review  label\n",
       "1   okay anxiety gotten worse past couple years po...   True\n",
       "6   reading possible effects scary medicine gave l...   True\n",
       "9   clonazepam effective controlling agitation pro...   True\n",
       "11  experienced effects considering anorexia nervo...   True\n",
       "12  i&#039;ve gianvi months skin clear didn&#039;t...   True"
      ]
     },
     "execution_count": 4,
     "metadata": {},
     "output_type": "execute_result"
    }
   ],
   "source": [
    "# Depict the first 5 rows of the training set\n",
    "train_dataset = train_dataset.dropna()\n",
    "train_dataset.head()"
   ]
  },
  {
   "cell_type": "markdown",
   "metadata": {},
   "source": [
    "To fine-tune the hyperparameters we will evaluate the model on a validation set."
   ]
  },
  {
   "cell_type": "code",
   "execution_count": 5,
   "metadata": {},
   "outputs": [],
   "source": [
    "# Import the dataset. Use clean_review and label columns\n",
    "val_dataset = pd.read_csv('drugreview/drugreview_feat_clean/val_feat_clean.csv',\n",
    "                          usecols=['clean_review', 'rating'])\n",
    "\n",
    "# Change columns order\n",
    "val_dataset['label'] = val_dataset.rating >= POS_RATING_THRESHOLD\n",
    "val_dataset = val_dataset[['clean_review', 'label']]"
   ]
  },
  {
   "cell_type": "code",
   "execution_count": 6,
   "metadata": {},
   "outputs": [
    {
     "data": {
      "text/html": [
       "<div>\n",
       "<style scoped>\n",
       "    .dataframe tbody tr th:only-of-type {\n",
       "        vertical-align: middle;\n",
       "    }\n",
       "\n",
       "    .dataframe tbody tr th {\n",
       "        vertical-align: top;\n",
       "    }\n",
       "\n",
       "    .dataframe thead th {\n",
       "        text-align: right;\n",
       "    }\n",
       "</style>\n",
       "<table border=\"1\" class=\"dataframe\">\n",
       "  <thead>\n",
       "    <tr style=\"text-align: right;\">\n",
       "      <th></th>\n",
       "      <th>clean_review</th>\n",
       "      <th>label</th>\n",
       "    </tr>\n",
       "  </thead>\n",
       "  <tbody>\n",
       "    <tr>\n",
       "      <td>1</td>\n",
       "      <td>4yrs having nexaplon implant mental physical h...</td>\n",
       "      <td>False</td>\n",
       "    </tr>\n",
       "    <tr>\n",
       "      <td>4</td>\n",
       "      <td>l5 s1 lumbar herniated disc surgery weeks surg...</td>\n",
       "      <td>True</td>\n",
       "    </tr>\n",
       "    <tr>\n",
       "      <td>5</td>\n",
       "      <td>far lot acne clear tea tree broke decided birt...</td>\n",
       "      <td>True</td>\n",
       "    </tr>\n",
       "    <tr>\n",
       "      <td>6</td>\n",
       "      <td>insulin works fine trouble pen pain pen jammed...</td>\n",
       "      <td>False</td>\n",
       "    </tr>\n",
       "    <tr>\n",
       "      <td>7</td>\n",
       "      <td>nexplanon option work iud painful insert pills...</td>\n",
       "      <td>True</td>\n",
       "    </tr>\n",
       "  </tbody>\n",
       "</table>\n",
       "</div>"
      ],
      "text/plain": [
       "                                        clean_review  label\n",
       "1  4yrs having nexaplon implant mental physical h...  False\n",
       "4  l5 s1 lumbar herniated disc surgery weeks surg...   True\n",
       "5  far lot acne clear tea tree broke decided birt...   True\n",
       "6  insulin works fine trouble pen pain pen jammed...  False\n",
       "7  nexplanon option work iud painful insert pills...   True"
      ]
     },
     "execution_count": 6,
     "metadata": {},
     "output_type": "execute_result"
    }
   ],
   "source": [
    "# Depict the first 5 rows of the validation set\n",
    "val_dataset = val_dataset.dropna()\n",
    "val_dataset.head()"
   ]
  },
  {
   "cell_type": "markdown",
   "metadata": {},
   "source": [
    "Now we will use the BatchIterator class to preprocess the text data and generate batches."
   ]
  },
  {
   "cell_type": "code",
   "execution_count": 7,
   "metadata": {},
   "outputs": [],
   "source": [
    "batch_size = 128"
   ]
  },
  {
   "cell_type": "code",
   "execution_count": 8,
   "metadata": {},
   "outputs": [
    {
     "name": "stdout",
     "output_type": "stream",
     "text": [
      "Trimmed vocabulary using as minimum count threashold: count = 3.00\n",
      "14773/39267 tokens has been retained\n",
      "Trimmed input strings vocabulary\n",
      "Trimmed input sequences lengths to the length of: 59\n",
      "Mapped words to indices\n",
      "Start creating glove_word2vector dictionary\n",
      "Extracted 12312/14777 of pre-trained word vectors.\n",
      "2465 vectors initialized to random numbers\n",
      "Weights vectors saved into glove/weights_train.npy\n",
      "Batches created\n"
     ]
    }
   ],
   "source": [
    "train_iterator = BatchIterator(train_dataset, batch_size=batch_size, vocab_created=False, vocab=None, target_col=None,\n",
    "                               word2index=None, sos_token='<SOS>', eos_token='<EOS>', unk_token='<UNK>',\n",
    "                               pad_token='<PAD>', min_word_count=3, max_vocab_size=None, max_seq_len=0.9,\n",
    "                               use_pretrained_vectors=True, glove_path='glove/', glove_name='glove.6B.100d.txt',\n",
    "                               weights_file_name='glove/weights_train.npy')"
   ]
  },
  {
   "cell_type": "code",
   "execution_count": 9,
   "metadata": {},
   "outputs": [
    {
     "name": "stdout",
     "output_type": "stream",
     "text": [
      "Trimmed vocabulary using as minimum count threashold: count = 3.00\n",
      "7720/19770 tokens has been retained\n",
      "Trimmed input strings vocabulary\n",
      "Trimmed input sequences lengths to the length of: 58\n",
      "Mapped words to indices\n",
      "Start creating glove_word2vector dictionary\n",
      "Extracted 12475/15036 of pre-trained word vectors.\n",
      "2561 vectors initialized to random numbers\n",
      "Weights vectors saved into glove/weights_val.npy\n",
      "Batches created\n"
     ]
    }
   ],
   "source": [
    "val_iterator = BatchIterator(val_dataset, batch_size=batch_size, vocab_created=False, vocab=None, target_col=None,\n",
    "                             word2index=train_iterator.word2index, sos_token='<SOS>', eos_token='<EOS>',\n",
    "                             unk_token='<UNK>', pad_token='<PAD>', min_word_count=3, max_vocab_size=None,\n",
    "                             max_seq_len=0.9, use_pretrained_vectors=True, glove_path='glove/',\n",
    "                             glove_name='glove.6B.100d.txt', weights_file_name='glove/weights_val.npy')"
   ]
  },
  {
   "cell_type": "markdown",
   "metadata": {},
   "source": [
    "Now we will check out if the batches look correctly."
   ]
  },
  {
   "cell_type": "code",
   "execution_count": 10,
   "metadata": {},
   "outputs": [
    {
     "name": "stdout",
     "output_type": "stream",
     "text": [
      "input_seq shape:  torch.Size([128, 60])\n",
      "target shape:  torch.Size([128])\n",
      "x_lengths shape:  torch.Size([128])\n"
     ]
    }
   ],
   "source": [
    "for batches in train_iterator:\n",
    "    # Unpack the dictionary of batches\n",
    "    input_seq, target, x_lengths = batches['input_seq'], batches['target'], batches['x_lengths']\n",
    "    print('input_seq shape: ', input_seq.size())\n",
    "    print('target shape: ', target.size())\n",
    "    print('x_lengths shape: ', x_lengths.size())\n",
    "    break"
   ]
  },
  {
   "cell_type": "code",
   "execution_count": 11,
   "metadata": {},
   "outputs": [],
   "source": [
    "# Extract the maximum sequence length\n",
    "\n",
    "max_len = 0\n",
    "\n",
    "for batches in train_iterator:\n",
    "    x_lengths = batches['x_lengths']\n",
    "    if max(x_lengths) > max_len:\n",
    "        max_len = int(max(x_lengths))"
   ]
  },
  {
   "cell_type": "code",
   "execution_count": 12,
   "metadata": {},
   "outputs": [
    {
     "name": "stdout",
     "output_type": "stream",
     "text": [
      "Maximum sequence length: 60\n"
     ]
    }
   ],
   "source": [
    "print('Maximum sequence length: {}'.format(max_len))"
   ]
  },
  {
   "cell_type": "markdown",
   "metadata": {},
   "source": [
    "Let's start implementing the Transformer model."
   ]
  },
  {
   "cell_type": "code",
   "execution_count": 13,
   "metadata": {},
   "outputs": [],
   "source": [
    "class MultiHeadAttention(nn.Module):\n",
    "\n",
    "    \n",
    "    def __init__(self, dmodel, heads):\n",
    "        \n",
    "        super(MultiHeadAttention, self).__init__()\n",
    "        \n",
    "        assert dmodel % heads == 0, 'Embedding dimension is not divisible by number of heads'\n",
    "            \n",
    "        self.dmodel = dmodel\n",
    "        self.heads = heads\n",
    "        # Split dmodel (embedd dimension) into 'heads' number of chunks\n",
    "        # each chunk of size key_dim will be passed to different attention head\n",
    "        self.key_dim = dmodel // heads\n",
    "        \n",
    "        # keys, queries and values will be computed at once for all heads\n",
    "        self.linear = nn.ModuleList([\n",
    "            nn.Linear(self.dmodel, self.dmodel, bias=False),\n",
    "            nn.Linear(self.dmodel, self.dmodel, bias=False),\n",
    "            nn.Linear(self.dmodel, self.dmodel, bias=False)])\n",
    "        \n",
    "        self.concat = nn.Linear(self.dmodel, self.dmodel, bias=False)\n",
    "        \n",
    "        \n",
    "    def forward(self, inputs):\n",
    "   \n",
    "        \n",
    "        self.batch_size = inputs.size(0)\n",
    "        \n",
    "        assert inputs.size(2) == self.dmodel, 'Input sizes mismatch, dmodel={}, while embedd={}'\\\n",
    "            .format(self.dmodel, inputs.size(2))\n",
    "\n",
    "        # Inputs shape (batch_size, seq_length, embedding_dim)        \n",
    "        # Map input batch allong embedd dimension to query, key and value vectors with\n",
    "        # a shape of (batch_size, heads, seq_len, key_dim (dmodel // heads)) \n",
    "        # where 'heads' dimension corresponds o different attention head\n",
    "        query, key, value = [linear(x).view(self.batch_size, -1, self.heads, self.key_dim).transpose(1, 2)\\\n",
    "                             for linear, x in zip(self.linear, (inputs, inputs, inputs))]\n",
    "        \n",
    "        # Calculate the score (batch_size, heads, seq_len, seq_len)\n",
    "        # for all heads at once\n",
    "        score = torch.matmul(query, key.transpose(-2, -1)) / np.sqrt(self.key_dim)\n",
    "        \n",
    "        # Apply softmax to scores (batch_size, heads, seq_len, seq_len) \n",
    "        soft_score = F.softmax(score, dim = -1)\n",
    "        \n",
    "        # Multiply softmaxed score and value vector\n",
    "        # value input shape (batch_size, heads, seq_len, key_dim)\n",
    "        # out shape (batch_size, seq_len, dmodel (key_dim * heads))\n",
    "        out = torch.matmul(soft_score, value).transpose(1, 2).contiguous()\\\n",
    "            .view(self.batch_size, -1, self.heads * self.key_dim)\n",
    "        \n",
    "        # Concatenate and linearly transform heads to the lower dimensional space\n",
    "        # out shape (batch_size, seq_len, dmodel)\n",
    "        out = self.concat(out)\n",
    "        \n",
    "        return out\n",
    "        \n",
    "        \n",
    "class PositionalEncoding(nn.Module):\n",
    "    \n",
    "    \n",
    "    def __init__(self, max_len, dmodel, dropout, padding_idx):\n",
    "        \n",
    "        super(PositionalEncoding, self).__init__()\n",
    "                \n",
    "        self.dropout = nn.Dropout(dropout)\n",
    "        \n",
    "        # Create pos_encoding, positions and dimensions matrices\n",
    "        # with a shape of (max_len, dmodel)\n",
    "        self.pos_encoding = torch.zeros(max_len, dmodel)\n",
    "        positions = torch.repeat_interleave(torch.arange(float(max_len)).unsqueeze(1), dmodel, dim=1)\n",
    "        dimensions = torch.arange(float(dmodel)).repeat(max_len, 1)\n",
    "                                  \n",
    "        # Calculate the encodings trigonometric function argument (max_len, dmodel)\n",
    "        trig_fn_arg = positions / (torch.pow(10000, 2 * dimensions / dmodel))\n",
    "               \n",
    "        # Encode positions using sin function for even dimensions and\n",
    "        # cos function for odd dimensions\n",
    "        self.pos_encoding[:, 0::2] = torch.sin(trig_fn_arg[:, 0::2])\n",
    "        self.pos_encoding[:, 1::2] = torch.cos(trig_fn_arg[:, 1::2])\n",
    "        \n",
    "        # Set the padding positional encoding to zero tensor\n",
    "        if padding_idx:\n",
    "            self.pos_encoding[padding_idx] = 0.0\n",
    "        \n",
    "        # Add batch dimension\n",
    "        self.pos_encoding = self.pos_encoding.unsqueeze(0)\n",
    "        \n",
    "        \n",
    "    def forward(self, embedd):\n",
    "        \n",
    "        \n",
    "        # embedd shape (batch_size, seq_length, embedding_dim)\n",
    "        # pos_encoding shape (1, max_len, dmodel = embedd_dim)\n",
    "        embedd = embedd + self.pos_encoding[:, :embedd.size(1), :]\n",
    "        embedd = self.dropout(embedd)\n",
    "        \n",
    "        # embedd shape (batch_size, seq_length, embedding_dim)\n",
    "        return embedd  \n",
    "    \n",
    "    \n",
    "class LabelSmoothingLoss(nn.Module):\n",
    "    \n",
    "    \n",
    "    def __init__(self, output_size, label_smoothing=0):\n",
    "\n",
    "        super(LabelSmoothingLoss, self).__init__()\n",
    "        \n",
    "        self.output_size = output_size\n",
    "        self.label_smoothing = label_smoothing\n",
    "        self.confidence = 1 - self.label_smoothing\n",
    "        \n",
    "        assert label_smoothing >= 0.0 and label_smoothing <= 1.0, \\\n",
    "        'Label smoothing parameter takes values in the range [0, 1]'\n",
    "\n",
    "        self.criterion = nn.KLDivLoss()\n",
    "        \n",
    "        \n",
    "    def forward(self, pred, target):\n",
    "       \n",
    "        \n",
    "        one_hot_probs = torch.full(size=pred.size(), fill_value=self.label_smoothing/(self.output_size - 1))\n",
    "       \n",
    "        one_hot_probs.scatter_(1, target.unsqueeze(1), self.confidence)\n",
    "            \n",
    "       \n",
    "        return self.criterion(pred, one_hot_probs)    \n"
   ]
  },
  {
   "cell_type": "code",
   "execution_count": 14,
   "metadata": {},
   "outputs": [],
   "source": [
    "class TransformerBlock(nn.Module):\n",
    "  \n",
    "    \n",
    "    def __init__(self, dmodel, ffnn_hidden_size, heads, dropout):\n",
    "        \n",
    "        super(TransformerBlock, self).__init__()\n",
    "        \n",
    "        self.attention = MultiHeadAttention(dmodel, heads)\n",
    "        self.layer_norm1 = nn.LayerNorm(dmodel)\n",
    "        self.layer_norm2 = nn.LayerNorm(dmodel)\n",
    "        \n",
    "        self.ffnn = nn.Sequential(\n",
    "                nn.Linear(dmodel, ffnn_hidden_size),\n",
    "                nn.ReLU(),\n",
    "                nn.Dropout(dropout),\n",
    "                nn.Linear(ffnn_hidden_size, dmodel))\n",
    "        \n",
    "        \n",
    "    def forward(self, inputs):\n",
    "               # Inputs shape (batch_size, seq_length, embedding_dim = dmodel)\n",
    "        output = inputs + self.attention(inputs)            \n",
    "        output = self.layer_norm1(output)            \n",
    "        output = output + self.ffnn(output)            \n",
    "        output = self.layer_norm2(output)\n",
    "\n",
    "        # Output shape (batch_size, seq_length, dmodel)\n",
    "        return output\n",
    "        \n",
    "        \n",
    "class Transformer(nn.Module):\n",
    "        \n",
    "    def __init__(self, vocab_size, dmodel, output_size, max_len, padding_idx=0, n_layers=4,\n",
    "                 ffnn_hidden_size=None, heads=8, pooling='max', dropout=0.5):\n",
    "        \n",
    "        super(Transformer, self).__init__()\n",
    "        \n",
    "        if not ffnn_hidden_size:\n",
    "            ffnn_hidden_size = dmodel * 4\n",
    "            \n",
    "        assert pooling == 'max' or pooling == 'avg', 'Improper pooling type was passed.'\n",
    "        \n",
    "        self.pooling = pooling\n",
    "        self.output_size = output_size\n",
    "        \n",
    "        self.embedding = nn.Embedding(vocab_size, dmodel)\n",
    "        \n",
    "        self.pos_encoding = PositionalEncoding(max_len, dmodel, dropout, padding_idx)\n",
    "        \n",
    "        self.tnf_blocks = nn.ModuleList()\n",
    "        \n",
    "        for n in range(n_layers):\n",
    "            self.tnf_blocks.append(\n",
    "                TransformerBlock(dmodel, ffnn_hidden_size, heads, dropout))\n",
    "            \n",
    "        self.tnf_blocks = nn.Sequential(*self.tnf_blocks)\n",
    "            \n",
    "        self.linear = nn.Linear(dmodel, output_size)\n",
    "        \n",
    "        \n",
    "    def forward(self, inputs, input_lengths):\n",
    "       \n",
    "        self.batch_size = inputs.size(0)\n",
    "        \n",
    "        # Input dimensions (batch_size, seq_length, dmodel)\n",
    "        output = self.embedding(inputs)\n",
    "        output = self.pos_encoding(output)\n",
    "        output = self.tnf_blocks(output)\n",
    "        # Output dimensions (batch_size, seq_length, dmodel)\n",
    "        \n",
    "        if self.pooling == 'max':\n",
    "            # Permute to the shape (batch_size, dmodel, seq_length)\n",
    "            # Apply max-pooling, output dimensions (batch_size, dmodel)\n",
    "            output = F.adaptive_max_pool1d(output.permute(0,2,1), (1,)).view(self.batch_size,-1)\n",
    "        else:\n",
    "            # Sum along the batch axis and divide by the corresponding lengths (FloatTensor)\n",
    "            # Output shape: (batch_size, dmodel)\n",
    "            output = torch.sum(output, dim=1) / input_lengths.view(-1,1).type(torch.FloatTensor) \n",
    "            \n",
    "        output = self.linear(output)\n",
    "        \n",
    "        return F.log_softmax(output, dim=-1)\n",
    "        \n",
    "        \n",
    "    def add_loss_fn(self, loss_fn):\n",
    "   \n",
    "        self.loss_fn = loss_fn\n",
    "        \n",
    "\n",
    "    def add_optimizer(self, optimizer):\n",
    "\n",
    "        self.optimizer = optimizer\n",
    "        \n",
    "        \n",
    "    def add_device(self, device=torch.device('cpu')):\n",
    "\n",
    "        self.device = device\n",
    "    \n",
    "    \n",
    "    def train_model(self, train_iterator):\n",
    "\n",
    "        self.train()\n",
    "        \n",
    "        train_losses = []\n",
    "        losses = []\n",
    "        losses_list = []\n",
    "        num_seq = 0\n",
    "        batch_correct = 0\n",
    "            \n",
    "        for i, batches in tqdm_notebook(enumerate(train_iterator, 1), total=len(train_iterator), desc='Training'):\n",
    "            input_seq, target, x_lengths = batches['input_seq'], batches['target'], batches['x_lengths']\n",
    "            \n",
    "            input_seq.to(self.device)\n",
    "            target.to(self.device)\n",
    "            x_lengths.to(self.device)\n",
    "            \n",
    "            self.optimizer.zero_grad()\n",
    "\n",
    "            pred = self.forward(input_seq, x_lengths)\n",
    "            loss = self.loss_fn(pred, target)\n",
    "            loss.backward()\n",
    "            losses.append(loss.data.cpu().numpy())\n",
    "            self.optimizer.step()\n",
    "            \n",
    "            losses_list.append(loss.data.cpu().numpy())\n",
    "            \n",
    "            pred = torch.argmax(pred, 1)\n",
    "\n",
    "            if self.device.type == 'cpu':\n",
    "                batch_correct += (pred.cpu() == target.cpu()).sum().item()\n",
    "\n",
    "            else:\n",
    "                batch_correct += (pred == target).sum().item()\n",
    "\n",
    "            num_seq += len(input_seq)     \n",
    "    \n",
    "            if i % 100 == 0:\n",
    "                avg_train_loss = np.mean(losses)\n",
    "                train_losses.append(avg_train_loss)\n",
    "                \n",
    "                accuracy = batch_correct / num_seq\n",
    "                \n",
    "                print('Iteration: {}. Average training loss: {:.4f}. Accuracy: {:.3f}'\\\n",
    "                      .format(i, avg_train_loss, accuracy))\n",
    "                \n",
    "                losses = []\n",
    "                \n",
    "            avg_loss = np.mean(losses_list)\n",
    "            accuracy = batch_correct / num_seq\n",
    "                              \n",
    "        return train_losses, avg_loss, accuracy\n",
    "    \n",
    "    \n",
    "    def evaluate_model(self, eval_iterator, conf_mtx=False):\n",
    "\n",
    "        self.eval()\n",
    "        \n",
    "        eval_losses = []\n",
    "        losses = []\n",
    "        losses_list = []\n",
    "        num_seq = 0\n",
    "        batch_correct = 0\n",
    "        pred_total = torch.LongTensor()\n",
    "        target_total = torch.LongTensor()\n",
    "        \n",
    "        with torch.no_grad():\n",
    "            for i, batches in tqdm_notebook(enumerate(eval_iterator, 1), total=len(eval_iterator), desc='Evaluation'):\n",
    "                input_seq, target, x_lengths = batches['input_seq'], batches['target'], batches['x_lengths']\n",
    "                \n",
    "                input_seq.to(self.device)\n",
    "                target.to(self.device)\n",
    "                x_lengths.to(self.device)\n",
    "\n",
    "                pred = self.forward(input_seq, x_lengths)\n",
    "                loss = self.loss_fn(pred, target)\n",
    "                losses.append(loss.data.cpu().numpy())\n",
    "                losses_list.append(loss.data.cpu().numpy())\n",
    "                \n",
    "                pred = torch.argmax(pred, 1)\n",
    "                                \n",
    "                if self.device.type == 'cpu':\n",
    "                    batch_correct += (pred.cpu() == target.cpu()).sum().item()\n",
    "                    \n",
    "                else:\n",
    "                    batch_correct += (pred == target).sum().item()\n",
    "                    \n",
    "                num_seq += len(input_seq)     \n",
    "                \n",
    "                pred_total = torch.cat([pred_total, pred], dim=0)\n",
    "                target_total = torch.cat([target_total, target], dim=0)\n",
    "                \n",
    "                if i % 100 == 0:\n",
    "                    avg_batch_eval_loss = np.mean(losses)\n",
    "                    eval_losses.append(avg_batch_eval_loss)\n",
    "                    \n",
    "                    accuracy = batch_correct / num_seq\n",
    "                    \n",
    "                    print('Iteration: {}. Average evaluation loss: {:.4f}. Accuracy: {:.2f}'\\\n",
    "                          .format(i, avg_batch_eval_loss, accuracy))\n",
    "\n",
    "                    losses = []\n",
    "                    \n",
    "            avg_loss_list = []\n",
    "                    \n",
    "            avg_loss = np.mean(losses_list)\n",
    "            accuracy = batch_correct / num_seq\n",
    "            \n",
    "            conf_matrix = confusion_matrix(target_total.view(-1), pred_total.view(-1))\n",
    "            fone_score = f1_score(target_total.view(-1), pred_total.view(-1))\n",
    "            fpr, tpr, threshold1 = roc_curve(target_total.view(-1), pred_total.view(-1))\n",
    "        if conf_mtx:\n",
    "            print('\\tConfusion matrix: ', conf_matrix)\n",
    "            \n",
    "        return eval_losses, avg_loss, accuracy, conf_matrix, fone_score,fpr,tpr\n",
    "    "
   ]
  },
  {
   "cell_type": "code",
   "execution_count": 15,
   "metadata": {},
   "outputs": [
    {
     "name": "stdout",
     "output_type": "stream",
     "text": [
      "\n",
      "Start epoch [1/30]\n"
     ]
    },
    {
     "data": {
      "application/vnd.jupyter.widget-view+json": {
       "model_id": "fd5f76d20f314a8e8470ec5cc7e894c9",
       "version_major": 2,
       "version_minor": 0
      },
      "text/plain": [
       "Training:   0%|          | 0/354 [00:00<?, ?it/s]"
      ]
     },
     "metadata": {},
     "output_type": "display_data"
    },
    {
     "name": "stdout",
     "output_type": "stream",
     "text": [
      "Iteration: 100. Average training loss: 0.1554. Accuracy: 0.732\n",
      "Iteration: 200. Average training loss: 0.1435. Accuracy: 0.743\n",
      "Iteration: 300. Average training loss: 0.1432. Accuracy: 0.746\n"
     ]
    },
    {
     "data": {
      "application/vnd.jupyter.widget-view+json": {
       "model_id": "8952ed9074d94cdcb82ad07cf1f64fef",
       "version_major": 2,
       "version_minor": 0
      },
      "text/plain": [
       "Evaluation:   0%|          | 0/90 [00:00<?, ?it/s]"
      ]
     },
     "metadata": {},
     "output_type": "display_data"
    },
    {
     "name": "stdout",
     "output_type": "stream",
     "text": [
      "\n",
      "Epoch [1/30]: Train accuracy: 0.747. Train loss: 0.1470. Evaluation accuracy: 0.750. Evaluation loss: 0.1424\n",
      "\n",
      "Start epoch [2/30]\n"
     ]
    },
    {
     "data": {
      "application/vnd.jupyter.widget-view+json": {
       "model_id": "44416ef27f924dbda5351c1a15756b70",
       "version_major": 2,
       "version_minor": 0
      },
      "text/plain": [
       "Training:   0%|          | 0/354 [00:00<?, ?it/s]"
      ]
     },
     "metadata": {},
     "output_type": "display_data"
    },
    {
     "name": "stdout",
     "output_type": "stream",
     "text": [
      "Iteration: 100. Average training loss: 0.1444. Accuracy: 0.750\n",
      "Iteration: 200. Average training loss: 0.1417. Accuracy: 0.752\n",
      "Iteration: 300. Average training loss: 0.1420. Accuracy: 0.753\n"
     ]
    },
    {
     "data": {
      "application/vnd.jupyter.widget-view+json": {
       "model_id": "85882080c13a40a8901089453231e3f4",
       "version_major": 2,
       "version_minor": 0
      },
      "text/plain": [
       "Evaluation:   0%|          | 0/90 [00:00<?, ?it/s]"
      ]
     },
     "metadata": {},
     "output_type": "display_data"
    },
    {
     "name": "stdout",
     "output_type": "stream",
     "text": [
      "\n",
      "Epoch [2/30]: Train accuracy: 0.752. Train loss: 0.1429. Evaluation accuracy: 0.750. Evaluation loss: 0.1399\n",
      "\n",
      "Start epoch [3/30]\n"
     ]
    },
    {
     "data": {
      "application/vnd.jupyter.widget-view+json": {
       "model_id": "ae661c16aec04fb6a03a961b38a16f96",
       "version_major": 2,
       "version_minor": 0
      },
      "text/plain": [
       "Training:   0%|          | 0/354 [00:00<?, ?it/s]"
      ]
     },
     "metadata": {},
     "output_type": "display_data"
    },
    {
     "name": "stdout",
     "output_type": "stream",
     "text": [
      "Iteration: 100. Average training loss: 0.1411. Accuracy: 0.750\n",
      "Iteration: 200. Average training loss: 0.1389. Accuracy: 0.752\n",
      "Iteration: 300. Average training loss: 0.1380. Accuracy: 0.752\n"
     ]
    },
    {
     "data": {
      "application/vnd.jupyter.widget-view+json": {
       "model_id": "d9267c345a924d57a90f6cfe100a3130",
       "version_major": 2,
       "version_minor": 0
      },
      "text/plain": [
       "Evaluation:   0%|          | 0/90 [00:00<?, ?it/s]"
      ]
     },
     "metadata": {},
     "output_type": "display_data"
    },
    {
     "name": "stdout",
     "output_type": "stream",
     "text": [
      "\n",
      "Epoch [3/30]: Train accuracy: 0.752. Train loss: 0.1390. Evaluation accuracy: 0.750. Evaluation loss: 0.1244\n",
      "\n",
      "Start epoch [4/30]\n"
     ]
    },
    {
     "data": {
      "application/vnd.jupyter.widget-view+json": {
       "model_id": "23e79559718d4c35925a589b3a16180e",
       "version_major": 2,
       "version_minor": 0
      },
      "text/plain": [
       "Training:   0%|          | 0/354 [00:00<?, ?it/s]"
      ]
     },
     "metadata": {},
     "output_type": "display_data"
    },
    {
     "name": "stdout",
     "output_type": "stream",
     "text": [
      "Iteration: 100. Average training loss: 0.1373. Accuracy: 0.749\n",
      "Iteration: 200. Average training loss: 0.1332. Accuracy: 0.752\n",
      "Iteration: 300. Average training loss: 0.1334. Accuracy: 0.754\n"
     ]
    },
    {
     "data": {
      "application/vnd.jupyter.widget-view+json": {
       "model_id": "0b4f7222bbf94cc3b43c9617c989e454",
       "version_major": 2,
       "version_minor": 0
      },
      "text/plain": [
       "Evaluation:   0%|          | 0/90 [00:00<?, ?it/s]"
      ]
     },
     "metadata": {},
     "output_type": "display_data"
    },
    {
     "name": "stdout",
     "output_type": "stream",
     "text": [
      "\n",
      "Epoch [4/30]: Train accuracy: 0.754. Train loss: 0.1344. Evaluation accuracy: 0.762. Evaluation loss: 0.1191\n",
      "\n",
      "Start epoch [5/30]\n"
     ]
    },
    {
     "data": {
      "application/vnd.jupyter.widget-view+json": {
       "model_id": "42ac16a6a78449bea39fdff90064c1cd",
       "version_major": 2,
       "version_minor": 0
      },
      "text/plain": [
       "Training:   0%|          | 0/354 [00:00<?, ?it/s]"
      ]
     },
     "metadata": {},
     "output_type": "display_data"
    },
    {
     "name": "stdout",
     "output_type": "stream",
     "text": [
      "Iteration: 100. Average training loss: 0.1320. Accuracy: 0.751\n",
      "Iteration: 200. Average training loss: 0.1281. Accuracy: 0.757\n",
      "Iteration: 300. Average training loss: 0.1277. Accuracy: 0.759\n"
     ]
    },
    {
     "data": {
      "application/vnd.jupyter.widget-view+json": {
       "model_id": "c126f7a06672415f812278d5f787f69c",
       "version_major": 2,
       "version_minor": 0
      },
      "text/plain": [
       "Evaluation:   0%|          | 0/90 [00:00<?, ?it/s]"
      ]
     },
     "metadata": {},
     "output_type": "display_data"
    },
    {
     "name": "stdout",
     "output_type": "stream",
     "text": [
      "\n",
      "Epoch [5/30]: Train accuracy: 0.758. Train loss: 0.1291. Evaluation accuracy: 0.770. Evaluation loss: 0.1153\n",
      "\n",
      "Start epoch [6/30]\n"
     ]
    },
    {
     "data": {
      "application/vnd.jupyter.widget-view+json": {
       "model_id": "8526adfc3b3b47b9b55256b1547d0efb",
       "version_major": 2,
       "version_minor": 0
      },
      "text/plain": [
       "Training:   0%|          | 0/354 [00:00<?, ?it/s]"
      ]
     },
     "metadata": {},
     "output_type": "display_data"
    },
    {
     "name": "stdout",
     "output_type": "stream",
     "text": [
      "Iteration: 100. Average training loss: 0.1278. Accuracy: 0.759\n",
      "Iteration: 200. Average training loss: 0.1256. Accuracy: 0.763\n",
      "Iteration: 300. Average training loss: 0.1242. Accuracy: 0.765\n"
     ]
    },
    {
     "data": {
      "application/vnd.jupyter.widget-view+json": {
       "model_id": "4261baa2f05248329da06809d45abf4d",
       "version_major": 2,
       "version_minor": 0
      },
      "text/plain": [
       "Evaluation:   0%|          | 0/90 [00:00<?, ?it/s]"
      ]
     },
     "metadata": {},
     "output_type": "display_data"
    },
    {
     "name": "stdout",
     "output_type": "stream",
     "text": [
      "\n",
      "Epoch [6/30]: Train accuracy: 0.764. Train loss: 0.1260. Evaluation accuracy: 0.785. Evaluation loss: 0.1117\n",
      "\n",
      "Start epoch [7/30]\n"
     ]
    },
    {
     "data": {
      "application/vnd.jupyter.widget-view+json": {
       "model_id": "640d2f96fab14f79a3fb6c8dd8b70291",
       "version_major": 2,
       "version_minor": 0
      },
      "text/plain": [
       "Training:   0%|          | 0/354 [00:00<?, ?it/s]"
      ]
     },
     "metadata": {},
     "output_type": "display_data"
    },
    {
     "name": "stdout",
     "output_type": "stream",
     "text": [
      "Iteration: 100. Average training loss: 0.1235. Accuracy: 0.768\n",
      "Iteration: 200. Average training loss: 0.1214. Accuracy: 0.772\n",
      "Iteration: 300. Average training loss: 0.1218. Accuracy: 0.772\n"
     ]
    },
    {
     "data": {
      "application/vnd.jupyter.widget-view+json": {
       "model_id": "552eca52a2ef44548f6480870e85d004",
       "version_major": 2,
       "version_minor": 0
      },
      "text/plain": [
       "Evaluation:   0%|          | 0/90 [00:00<?, ?it/s]"
      ]
     },
     "metadata": {},
     "output_type": "display_data"
    },
    {
     "name": "stdout",
     "output_type": "stream",
     "text": [
      "\n",
      "Epoch [7/30]: Train accuracy: 0.770. Train loss: 0.1226. Evaluation accuracy: 0.785. Evaluation loss: 0.1104\n",
      "\n",
      "Start epoch [8/30]\n"
     ]
    },
    {
     "data": {
      "application/vnd.jupyter.widget-view+json": {
       "model_id": "a6900f1ccd534383b2ac1f2bd80027fd",
       "version_major": 2,
       "version_minor": 0
      },
      "text/plain": [
       "Training:   0%|          | 0/354 [00:00<?, ?it/s]"
      ]
     },
     "metadata": {},
     "output_type": "display_data"
    },
    {
     "name": "stdout",
     "output_type": "stream",
     "text": [
      "Iteration: 100. Average training loss: 0.1200. Accuracy: 0.774\n",
      "Iteration: 200. Average training loss: 0.1188. Accuracy: 0.776\n",
      "Iteration: 300. Average training loss: 0.1190. Accuracy: 0.776\n"
     ]
    },
    {
     "data": {
      "application/vnd.jupyter.widget-view+json": {
       "model_id": "9aedd3659e404ecab6b240fcedd907d6",
       "version_major": 2,
       "version_minor": 0
      },
      "text/plain": [
       "Evaluation:   0%|          | 0/90 [00:00<?, ?it/s]"
      ]
     },
     "metadata": {},
     "output_type": "display_data"
    },
    {
     "name": "stdout",
     "output_type": "stream",
     "text": [
      "\n",
      "Epoch [8/30]: Train accuracy: 0.776. Train loss: 0.1195. Evaluation accuracy: 0.802. Evaluation loss: 0.1066\n",
      "\n",
      "Start epoch [9/30]\n"
     ]
    },
    {
     "data": {
      "application/vnd.jupyter.widget-view+json": {
       "model_id": "1dea91d415604b4ca6f66c18b28c993d",
       "version_major": 2,
       "version_minor": 0
      },
      "text/plain": [
       "Training:   0%|          | 0/354 [00:00<?, ?it/s]"
      ]
     },
     "metadata": {},
     "output_type": "display_data"
    },
    {
     "name": "stdout",
     "output_type": "stream",
     "text": [
      "Iteration: 100. Average training loss: 0.1185. Accuracy: 0.779\n",
      "Iteration: 200. Average training loss: 0.1175. Accuracy: 0.780\n",
      "Iteration: 300. Average training loss: 0.1165. Accuracy: 0.781\n"
     ]
    },
    {
     "data": {
      "application/vnd.jupyter.widget-view+json": {
       "model_id": "526b71696e0c41dc96e31f663897112e",
       "version_major": 2,
       "version_minor": 0
      },
      "text/plain": [
       "Evaluation:   0%|          | 0/90 [00:00<?, ?it/s]"
      ]
     },
     "metadata": {},
     "output_type": "display_data"
    },
    {
     "name": "stdout",
     "output_type": "stream",
     "text": [
      "\n",
      "Epoch [9/30]: Train accuracy: 0.781. Train loss: 0.1173. Evaluation accuracy: 0.805. Evaluation loss: 0.1040\n",
      "\n",
      "Start epoch [10/30]\n"
     ]
    },
    {
     "data": {
      "application/vnd.jupyter.widget-view+json": {
       "model_id": "6751f230ffdc4e9cab61ff0cde393cda",
       "version_major": 2,
       "version_minor": 0
      },
      "text/plain": [
       "Training:   0%|          | 0/354 [00:00<?, ?it/s]"
      ]
     },
     "metadata": {},
     "output_type": "display_data"
    },
    {
     "name": "stdout",
     "output_type": "stream",
     "text": [
      "Iteration: 100. Average training loss: 0.1154. Accuracy: 0.786\n",
      "Iteration: 200. Average training loss: 0.1152. Accuracy: 0.785\n",
      "Iteration: 300. Average training loss: 0.1158. Accuracy: 0.784\n"
     ]
    },
    {
     "data": {
      "application/vnd.jupyter.widget-view+json": {
       "model_id": "58a4d8e3e4984f8aa828659a9df70066",
       "version_major": 2,
       "version_minor": 0
      },
      "text/plain": [
       "Evaluation:   0%|          | 0/90 [00:00<?, ?it/s]"
      ]
     },
     "metadata": {},
     "output_type": "display_data"
    },
    {
     "name": "stdout",
     "output_type": "stream",
     "text": [
      "\n",
      "Epoch [10/30]: Train accuracy: 0.783. Train loss: 0.1155. Evaluation accuracy: 0.807. Evaluation loss: 0.1066\n",
      "\n",
      "Start epoch [11/30]\n"
     ]
    },
    {
     "data": {
      "application/vnd.jupyter.widget-view+json": {
       "model_id": "0e096e8ad282452484460f0cc4f91ea3",
       "version_major": 2,
       "version_minor": 0
      },
      "text/plain": [
       "Training:   0%|          | 0/354 [00:00<?, ?it/s]"
      ]
     },
     "metadata": {},
     "output_type": "display_data"
    },
    {
     "name": "stdout",
     "output_type": "stream",
     "text": [
      "Iteration: 100. Average training loss: 0.1127. Accuracy: 0.789\n",
      "Iteration: 200. Average training loss: 0.1107. Accuracy: 0.791\n",
      "Iteration: 300. Average training loss: 0.1113. Accuracy: 0.791\n"
     ]
    },
    {
     "data": {
      "application/vnd.jupyter.widget-view+json": {
       "model_id": "d5057b5400644603a104fe6cbf504285",
       "version_major": 2,
       "version_minor": 0
      },
      "text/plain": [
       "Evaluation:   0%|          | 0/90 [00:00<?, ?it/s]"
      ]
     },
     "metadata": {},
     "output_type": "display_data"
    },
    {
     "name": "stdout",
     "output_type": "stream",
     "text": [
      "\n",
      "Epoch [11/30]: Train accuracy: 0.790. Train loss: 0.1118. Evaluation accuracy: 0.811. Evaluation loss: 0.1040\n",
      "\n",
      "Start epoch [12/30]\n"
     ]
    },
    {
     "data": {
      "application/vnd.jupyter.widget-view+json": {
       "model_id": "5b8499a8b65642f293746eb34a4cefe1",
       "version_major": 2,
       "version_minor": 0
      },
      "text/plain": [
       "Training:   0%|          | 0/354 [00:00<?, ?it/s]"
      ]
     },
     "metadata": {},
     "output_type": "display_data"
    },
    {
     "name": "stdout",
     "output_type": "stream",
     "text": [
      "Iteration: 100. Average training loss: 0.1088. Accuracy: 0.799\n",
      "Iteration: 200. Average training loss: 0.1094. Accuracy: 0.797\n",
      "Iteration: 300. Average training loss: 0.1103. Accuracy: 0.797\n"
     ]
    },
    {
     "data": {
      "application/vnd.jupyter.widget-view+json": {
       "model_id": "ca066e5e58994566ac6c34a8d42708b4",
       "version_major": 2,
       "version_minor": 0
      },
      "text/plain": [
       "Evaluation:   0%|          | 0/90 [00:00<?, ?it/s]"
      ]
     },
     "metadata": {},
     "output_type": "display_data"
    },
    {
     "name": "stdout",
     "output_type": "stream",
     "text": [
      "\n",
      "Epoch [12/30]: Train accuracy: 0.796. Train loss: 0.1097. Evaluation accuracy: 0.816. Evaluation loss: 0.0998\n",
      "\n",
      "Start epoch [13/30]\n"
     ]
    },
    {
     "data": {
      "application/vnd.jupyter.widget-view+json": {
       "model_id": "7305c2a19ba74e5d91c86577bd7daad2",
       "version_major": 2,
       "version_minor": 0
      },
      "text/plain": [
       "Training:   0%|          | 0/354 [00:00<?, ?it/s]"
      ]
     },
     "metadata": {},
     "output_type": "display_data"
    },
    {
     "name": "stdout",
     "output_type": "stream",
     "text": [
      "Iteration: 100. Average training loss: 0.1086. Accuracy: 0.796\n",
      "Iteration: 200. Average training loss: 0.1088. Accuracy: 0.795\n",
      "Iteration: 300. Average training loss: 0.1091. Accuracy: 0.795\n"
     ]
    },
    {
     "data": {
      "application/vnd.jupyter.widget-view+json": {
       "model_id": "8fb3e625f699461aae0409f2ee25e6e2",
       "version_major": 2,
       "version_minor": 0
      },
      "text/plain": [
       "Evaluation:   0%|          | 0/90 [00:00<?, ?it/s]"
      ]
     },
     "metadata": {},
     "output_type": "display_data"
    },
    {
     "name": "stdout",
     "output_type": "stream",
     "text": [
      "\n",
      "Epoch [13/30]: Train accuracy: 0.795. Train loss: 0.1092. Evaluation accuracy: 0.816. Evaluation loss: 0.1000\n",
      "\n",
      "Start epoch [14/30]\n"
     ]
    },
    {
     "data": {
      "application/vnd.jupyter.widget-view+json": {
       "model_id": "411a659cb2c54910a4c1be03bc35fa03",
       "version_major": 2,
       "version_minor": 0
      },
      "text/plain": [
       "Training:   0%|          | 0/354 [00:00<?, ?it/s]"
      ]
     },
     "metadata": {},
     "output_type": "display_data"
    },
    {
     "name": "stdout",
     "output_type": "stream",
     "text": [
      "Iteration: 100. Average training loss: 0.1076. Accuracy: 0.801\n",
      "Iteration: 200. Average training loss: 0.1066. Accuracy: 0.801\n",
      "Iteration: 300. Average training loss: 0.1062. Accuracy: 0.801\n"
     ]
    },
    {
     "data": {
      "application/vnd.jupyter.widget-view+json": {
       "model_id": "47a54a91dc2a4a75803976662f808f2c",
       "version_major": 2,
       "version_minor": 0
      },
      "text/plain": [
       "Evaluation:   0%|          | 0/90 [00:00<?, ?it/s]"
      ]
     },
     "metadata": {},
     "output_type": "display_data"
    },
    {
     "name": "stdout",
     "output_type": "stream",
     "text": [
      "\n",
      "Epoch [14/30]: Train accuracy: 0.801. Train loss: 0.1071. Evaluation accuracy: 0.820. Evaluation loss: 0.0995\n",
      "\n",
      "Start epoch [15/30]\n"
     ]
    },
    {
     "data": {
      "application/vnd.jupyter.widget-view+json": {
       "model_id": "bf0b3b2904e7445ba885278a38e074de",
       "version_major": 2,
       "version_minor": 0
      },
      "text/plain": [
       "Training:   0%|          | 0/354 [00:00<?, ?it/s]"
      ]
     },
     "metadata": {},
     "output_type": "display_data"
    },
    {
     "name": "stdout",
     "output_type": "stream",
     "text": [
      "Iteration: 100. Average training loss: 0.1063. Accuracy: 0.804\n",
      "Iteration: 200. Average training loss: 0.1043. Accuracy: 0.807\n",
      "Iteration: 300. Average training loss: 0.1065. Accuracy: 0.804\n"
     ]
    },
    {
     "data": {
      "application/vnd.jupyter.widget-view+json": {
       "model_id": "aa0c056060bd4971bc08bd7b7078b918",
       "version_major": 2,
       "version_minor": 0
      },
      "text/plain": [
       "Evaluation:   0%|          | 0/90 [00:00<?, ?it/s]"
      ]
     },
     "metadata": {},
     "output_type": "display_data"
    },
    {
     "name": "stdout",
     "output_type": "stream",
     "text": [
      "\n",
      "Epoch [15/30]: Train accuracy: 0.803. Train loss: 0.1058. Evaluation accuracy: 0.820. Evaluation loss: 0.0997\n",
      "\n",
      "Start epoch [16/30]\n"
     ]
    },
    {
     "data": {
      "application/vnd.jupyter.widget-view+json": {
       "model_id": "f820cb4bd2b7462f925eb3843eec59d2",
       "version_major": 2,
       "version_minor": 0
      },
      "text/plain": [
       "Training:   0%|          | 0/354 [00:00<?, ?it/s]"
      ]
     },
     "metadata": {},
     "output_type": "display_data"
    },
    {
     "name": "stdout",
     "output_type": "stream",
     "text": [
      "Iteration: 100. Average training loss: 0.1038. Accuracy: 0.807\n",
      "Iteration: 200. Average training loss: 0.1043. Accuracy: 0.807\n",
      "Iteration: 300. Average training loss: 0.1048. Accuracy: 0.806\n"
     ]
    },
    {
     "data": {
      "application/vnd.jupyter.widget-view+json": {
       "model_id": "14f2b3ffb1ae4a3cb93af7ddea838174",
       "version_major": 2,
       "version_minor": 0
      },
      "text/plain": [
       "Evaluation:   0%|          | 0/90 [00:00<?, ?it/s]"
      ]
     },
     "metadata": {},
     "output_type": "display_data"
    },
    {
     "name": "stdout",
     "output_type": "stream",
     "text": [
      "\n",
      "Epoch [16/30]: Train accuracy: 0.806. Train loss: 0.1045. Evaluation accuracy: 0.821. Evaluation loss: 0.0993\n",
      "\n",
      "Start epoch [17/30]\n"
     ]
    },
    {
     "data": {
      "application/vnd.jupyter.widget-view+json": {
       "model_id": "14e6f24ed1904857a9a6ab0c65cf12cb",
       "version_major": 2,
       "version_minor": 0
      },
      "text/plain": [
       "Training:   0%|          | 0/354 [00:00<?, ?it/s]"
      ]
     },
     "metadata": {},
     "output_type": "display_data"
    },
    {
     "name": "stdout",
     "output_type": "stream",
     "text": [
      "Iteration: 100. Average training loss: 0.1024. Accuracy: 0.814\n",
      "Iteration: 200. Average training loss: 0.1022. Accuracy: 0.814\n",
      "Iteration: 300. Average training loss: 0.1033. Accuracy: 0.812\n"
     ]
    },
    {
     "data": {
      "application/vnd.jupyter.widget-view+json": {
       "model_id": "0b4fe842f4244e72889307bbf3cff7b6",
       "version_major": 2,
       "version_minor": 0
      },
      "text/plain": [
       "Evaluation:   0%|          | 0/90 [00:00<?, ?it/s]"
      ]
     },
     "metadata": {},
     "output_type": "display_data"
    },
    {
     "name": "stdout",
     "output_type": "stream",
     "text": [
      "\n",
      "Epoch [17/30]: Train accuracy: 0.811. Train loss: 0.1029. Evaluation accuracy: 0.819. Evaluation loss: 0.0986\n",
      "\n",
      "Start epoch [18/30]\n"
     ]
    },
    {
     "data": {
      "application/vnd.jupyter.widget-view+json": {
       "model_id": "de6f8ffbe8494b75b84b54ee2ea9d90f",
       "version_major": 2,
       "version_minor": 0
      },
      "text/plain": [
       "Training:   0%|          | 0/354 [00:00<?, ?it/s]"
      ]
     },
     "metadata": {},
     "output_type": "display_data"
    },
    {
     "name": "stdout",
     "output_type": "stream",
     "text": [
      "Iteration: 100. Average training loss: 0.1022. Accuracy: 0.810\n",
      "Iteration: 200. Average training loss: 0.1010. Accuracy: 0.814\n",
      "Iteration: 300. Average training loss: 0.1013. Accuracy: 0.814\n"
     ]
    },
    {
     "data": {
      "application/vnd.jupyter.widget-view+json": {
       "model_id": "6efd65d569f64919bba1d78538823793",
       "version_major": 2,
       "version_minor": 0
      },
      "text/plain": [
       "Evaluation:   0%|          | 0/90 [00:00<?, ?it/s]"
      ]
     },
     "metadata": {},
     "output_type": "display_data"
    },
    {
     "name": "stdout",
     "output_type": "stream",
     "text": [
      "\n",
      "Epoch [18/30]: Train accuracy: 0.813. Train loss: 0.1019. Evaluation accuracy: 0.824. Evaluation loss: 0.0987\n",
      "\n",
      "Start epoch [19/30]\n"
     ]
    },
    {
     "data": {
      "application/vnd.jupyter.widget-view+json": {
       "model_id": "a31fa37b93744cdda6f90edf99f7199a",
       "version_major": 2,
       "version_minor": 0
      },
      "text/plain": [
       "Training:   0%|          | 0/354 [00:00<?, ?it/s]"
      ]
     },
     "metadata": {},
     "output_type": "display_data"
    },
    {
     "name": "stdout",
     "output_type": "stream",
     "text": [
      "Iteration: 100. Average training loss: 0.1011. Accuracy: 0.813\n",
      "Iteration: 200. Average training loss: 0.1004. Accuracy: 0.814\n",
      "Iteration: 300. Average training loss: 0.0993. Accuracy: 0.815\n"
     ]
    },
    {
     "data": {
      "application/vnd.jupyter.widget-view+json": {
       "model_id": "9bbe1c991591405a84bac0802d99007c",
       "version_major": 2,
       "version_minor": 0
      },
      "text/plain": [
       "Evaluation:   0%|          | 0/90 [00:00<?, ?it/s]"
      ]
     },
     "metadata": {},
     "output_type": "display_data"
    },
    {
     "name": "stdout",
     "output_type": "stream",
     "text": [
      "\n",
      "Epoch [19/30]: Train accuracy: 0.814. Train loss: 0.1006. Evaluation accuracy: 0.824. Evaluation loss: 0.0967\n",
      "\n",
      "Start epoch [20/30]\n"
     ]
    },
    {
     "data": {
      "application/vnd.jupyter.widget-view+json": {
       "model_id": "db962c56f82e4f7f91b0d619e7fa4c11",
       "version_major": 2,
       "version_minor": 0
      },
      "text/plain": [
       "Training:   0%|          | 0/354 [00:00<?, ?it/s]"
      ]
     },
     "metadata": {},
     "output_type": "display_data"
    },
    {
     "name": "stdout",
     "output_type": "stream",
     "text": [
      "Iteration: 100. Average training loss: 0.1007. Accuracy: 0.814\n",
      "Iteration: 200. Average training loss: 0.1002. Accuracy: 0.813\n",
      "Iteration: 300. Average training loss: 0.0995. Accuracy: 0.814\n"
     ]
    },
    {
     "data": {
      "application/vnd.jupyter.widget-view+json": {
       "model_id": "1fb4422a77ff45cca52a3198a2ea2345",
       "version_major": 2,
       "version_minor": 0
      },
      "text/plain": [
       "Evaluation:   0%|          | 0/90 [00:00<?, ?it/s]"
      ]
     },
     "metadata": {},
     "output_type": "display_data"
    },
    {
     "name": "stdout",
     "output_type": "stream",
     "text": [
      "\n",
      "Epoch [20/30]: Train accuracy: 0.814. Train loss: 0.1004. Evaluation accuracy: 0.826. Evaluation loss: 0.0977\n",
      "\n",
      "Start epoch [21/30]\n"
     ]
    },
    {
     "data": {
      "application/vnd.jupyter.widget-view+json": {
       "model_id": "f22489305a6245358d5f8bf978ec8f5a",
       "version_major": 2,
       "version_minor": 0
      },
      "text/plain": [
       "Training:   0%|          | 0/354 [00:00<?, ?it/s]"
      ]
     },
     "metadata": {},
     "output_type": "display_data"
    },
    {
     "name": "stdout",
     "output_type": "stream",
     "text": [
      "Iteration: 100. Average training loss: 0.1005. Accuracy: 0.816\n",
      "Iteration: 200. Average training loss: 0.0994. Accuracy: 0.816\n",
      "Iteration: 300. Average training loss: 0.0991. Accuracy: 0.816\n"
     ]
    },
    {
     "data": {
      "application/vnd.jupyter.widget-view+json": {
       "model_id": "8370253ad0c84bcf8ffe91a5ad6435a2",
       "version_major": 2,
       "version_minor": 0
      },
      "text/plain": [
       "Evaluation:   0%|          | 0/90 [00:00<?, ?it/s]"
      ]
     },
     "metadata": {},
     "output_type": "display_data"
    },
    {
     "name": "stdout",
     "output_type": "stream",
     "text": [
      "\n",
      "Epoch [21/30]: Train accuracy: 0.816. Train loss: 0.0997. Evaluation accuracy: 0.824. Evaluation loss: 0.0973\n",
      "\n",
      "Start epoch [22/30]\n"
     ]
    },
    {
     "data": {
      "application/vnd.jupyter.widget-view+json": {
       "model_id": "089d056594234fdb8fde1d2eb5ad0ce7",
       "version_major": 2,
       "version_minor": 0
      },
      "text/plain": [
       "Training:   0%|          | 0/354 [00:00<?, ?it/s]"
      ]
     },
     "metadata": {},
     "output_type": "display_data"
    },
    {
     "name": "stdout",
     "output_type": "stream",
     "text": [
      "Iteration: 100. Average training loss: 0.0995. Accuracy: 0.818\n",
      "Iteration: 200. Average training loss: 0.0968. Accuracy: 0.822\n",
      "Iteration: 300. Average training loss: 0.0975. Accuracy: 0.821\n"
     ]
    },
    {
     "data": {
      "application/vnd.jupyter.widget-view+json": {
       "model_id": "7e6542f8365d4d9bb690348805f8bff1",
       "version_major": 2,
       "version_minor": 0
      },
      "text/plain": [
       "Evaluation:   0%|          | 0/90 [00:00<?, ?it/s]"
      ]
     },
     "metadata": {},
     "output_type": "display_data"
    },
    {
     "name": "stdout",
     "output_type": "stream",
     "text": [
      "\n",
      "Epoch [22/30]: Train accuracy: 0.821. Train loss: 0.0980. Evaluation accuracy: 0.826. Evaluation loss: 0.0965\n",
      "\n",
      "Start epoch [23/30]\n"
     ]
    },
    {
     "data": {
      "application/vnd.jupyter.widget-view+json": {
       "model_id": "0e800c8d86ea48deb8e0fcc4a3bf66e6",
       "version_major": 2,
       "version_minor": 0
      },
      "text/plain": [
       "Training:   0%|          | 0/354 [00:00<?, ?it/s]"
      ]
     },
     "metadata": {},
     "output_type": "display_data"
    },
    {
     "name": "stdout",
     "output_type": "stream",
     "text": [
      "Iteration: 100. Average training loss: 0.0970. Accuracy: 0.821\n",
      "Iteration: 200. Average training loss: 0.0972. Accuracy: 0.822\n",
      "Iteration: 300. Average training loss: 0.0988. Accuracy: 0.820\n"
     ]
    },
    {
     "data": {
      "application/vnd.jupyter.widget-view+json": {
       "model_id": "416deb8eef484b2eb5e700c5296c5b41",
       "version_major": 2,
       "version_minor": 0
      },
      "text/plain": [
       "Evaluation:   0%|          | 0/90 [00:00<?, ?it/s]"
      ]
     },
     "metadata": {},
     "output_type": "display_data"
    },
    {
     "name": "stdout",
     "output_type": "stream",
     "text": [
      "\n",
      "Epoch [23/30]: Train accuracy: 0.819. Train loss: 0.0979. Evaluation accuracy: 0.826. Evaluation loss: 0.0967\n",
      "\n",
      "Start epoch [24/30]\n"
     ]
    },
    {
     "data": {
      "application/vnd.jupyter.widget-view+json": {
       "model_id": "4c8a95aa18ba47d49aad45b43ce0df06",
       "version_major": 2,
       "version_minor": 0
      },
      "text/plain": [
       "Training:   0%|          | 0/354 [00:00<?, ?it/s]"
      ]
     },
     "metadata": {},
     "output_type": "display_data"
    },
    {
     "name": "stdout",
     "output_type": "stream",
     "text": [
      "Iteration: 100. Average training loss: 0.0968. Accuracy: 0.820\n",
      "Iteration: 200. Average training loss: 0.0972. Accuracy: 0.822\n",
      "Iteration: 300. Average training loss: 0.0963. Accuracy: 0.821\n"
     ]
    },
    {
     "data": {
      "application/vnd.jupyter.widget-view+json": {
       "model_id": "d3f95e7d45d9485c99f3a705a503aaed",
       "version_major": 2,
       "version_minor": 0
      },
      "text/plain": [
       "Evaluation:   0%|          | 0/90 [00:00<?, ?it/s]"
      ]
     },
     "metadata": {},
     "output_type": "display_data"
    },
    {
     "name": "stdout",
     "output_type": "stream",
     "text": [
      "\n",
      "Epoch [24/30]: Train accuracy: 0.821. Train loss: 0.0971. Evaluation accuracy: 0.830. Evaluation loss: 0.0962\n",
      "\n",
      "Start epoch [25/30]\n"
     ]
    },
    {
     "data": {
      "application/vnd.jupyter.widget-view+json": {
       "model_id": "86980dbb391548e0b58f05ce6faea1d7",
       "version_major": 2,
       "version_minor": 0
      },
      "text/plain": [
       "Training:   0%|          | 0/354 [00:00<?, ?it/s]"
      ]
     },
     "metadata": {},
     "output_type": "display_data"
    },
    {
     "name": "stdout",
     "output_type": "stream",
     "text": [
      "Iteration: 100. Average training loss: 0.0956. Accuracy: 0.824\n",
      "Iteration: 200. Average training loss: 0.0961. Accuracy: 0.824\n",
      "Iteration: 300. Average training loss: 0.0967. Accuracy: 0.823\n"
     ]
    },
    {
     "data": {
      "application/vnd.jupyter.widget-view+json": {
       "model_id": "48554e4d729545b994ed1d43eb39cdcb",
       "version_major": 2,
       "version_minor": 0
      },
      "text/plain": [
       "Evaluation:   0%|          | 0/90 [00:00<?, ?it/s]"
      ]
     },
     "metadata": {},
     "output_type": "display_data"
    },
    {
     "name": "stdout",
     "output_type": "stream",
     "text": [
      "\n",
      "Epoch [25/30]: Train accuracy: 0.823. Train loss: 0.0965. Evaluation accuracy: 0.826. Evaluation loss: 0.0957\n",
      "\n",
      "Start epoch [26/30]\n"
     ]
    },
    {
     "data": {
      "application/vnd.jupyter.widget-view+json": {
       "model_id": "b593c45d0bda43c0892d9b336d306f3d",
       "version_major": 2,
       "version_minor": 0
      },
      "text/plain": [
       "Training:   0%|          | 0/354 [00:00<?, ?it/s]"
      ]
     },
     "metadata": {},
     "output_type": "display_data"
    },
    {
     "name": "stdout",
     "output_type": "stream",
     "text": [
      "Iteration: 100. Average training loss: 0.0954. Accuracy: 0.825\n",
      "Iteration: 200. Average training loss: 0.0950. Accuracy: 0.826\n",
      "Iteration: 300. Average training loss: 0.0949. Accuracy: 0.826\n"
     ]
    },
    {
     "data": {
      "application/vnd.jupyter.widget-view+json": {
       "model_id": "749c9cf7df2a40a0b5a670fa7288c579",
       "version_major": 2,
       "version_minor": 0
      },
      "text/plain": [
       "Evaluation:   0%|          | 0/90 [00:00<?, ?it/s]"
      ]
     },
     "metadata": {},
     "output_type": "display_data"
    },
    {
     "name": "stdout",
     "output_type": "stream",
     "text": [
      "\n",
      "Epoch [26/30]: Train accuracy: 0.825. Train loss: 0.0955. Evaluation accuracy: 0.829. Evaluation loss: 0.0976\n",
      "\n",
      "Start epoch [27/30]\n"
     ]
    },
    {
     "data": {
      "application/vnd.jupyter.widget-view+json": {
       "model_id": "b1bb7759f43a41a6ae8ef56cf60d2208",
       "version_major": 2,
       "version_minor": 0
      },
      "text/plain": [
       "Training:   0%|          | 0/354 [00:00<?, ?it/s]"
      ]
     },
     "metadata": {},
     "output_type": "display_data"
    },
    {
     "name": "stdout",
     "output_type": "stream",
     "text": [
      "Iteration: 100. Average training loss: 0.0944. Accuracy: 0.827\n",
      "Iteration: 200. Average training loss: 0.0949. Accuracy: 0.827\n",
      "Iteration: 300. Average training loss: 0.0944. Accuracy: 0.827\n"
     ]
    },
    {
     "data": {
      "application/vnd.jupyter.widget-view+json": {
       "model_id": "8e4aa1f8ee2842d5a8e1a6e6a3258245",
       "version_major": 2,
       "version_minor": 0
      },
      "text/plain": [
       "Evaluation:   0%|          | 0/90 [00:00<?, ?it/s]"
      ]
     },
     "metadata": {},
     "output_type": "display_data"
    },
    {
     "name": "stdout",
     "output_type": "stream",
     "text": [
      "\n",
      "Epoch [27/30]: Train accuracy: 0.826. Train loss: 0.0948. Evaluation accuracy: 0.829. Evaluation loss: 0.0968\n",
      "\n",
      "Start epoch [28/30]\n"
     ]
    },
    {
     "data": {
      "application/vnd.jupyter.widget-view+json": {
       "model_id": "e9f69ab515f949d9a8782b0f9168c89c",
       "version_major": 2,
       "version_minor": 0
      },
      "text/plain": [
       "Training:   0%|          | 0/354 [00:00<?, ?it/s]"
      ]
     },
     "metadata": {},
     "output_type": "display_data"
    },
    {
     "name": "stdout",
     "output_type": "stream",
     "text": [
      "Iteration: 100. Average training loss: 0.0947. Accuracy: 0.825\n",
      "Iteration: 200. Average training loss: 0.0964. Accuracy: 0.825\n",
      "Iteration: 300. Average training loss: 0.0947. Accuracy: 0.825\n"
     ]
    },
    {
     "data": {
      "application/vnd.jupyter.widget-view+json": {
       "model_id": "ff9da2ffd9fa46299eaf346c7c9aa02e",
       "version_major": 2,
       "version_minor": 0
      },
      "text/plain": [
       "Evaluation:   0%|          | 0/90 [00:00<?, ?it/s]"
      ]
     },
     "metadata": {},
     "output_type": "display_data"
    },
    {
     "name": "stdout",
     "output_type": "stream",
     "text": [
      "\n",
      "Epoch [28/30]: Train accuracy: 0.825. Train loss: 0.0955. Evaluation accuracy: 0.830. Evaluation loss: 0.0960\n",
      "\n",
      "Training stoped by EarlyStopping\n"
     ]
    }
   ],
   "source": [
    "# Initialize parameters\n",
    "vocab_size = len(train_iterator.word2index)\n",
    "dmodel = 64\n",
    "output_size = 2\n",
    "padding_idx = train_iterator.word2index['<PAD>']\n",
    "n_layers = 4\n",
    "ffnn_hidden_size = dmodel * 2\n",
    "heads = 8\n",
    "pooling = 'max'\n",
    "dropout = 0.8\n",
    "label_smoothing = 0.1\n",
    "learning_rate = 0.001\n",
    "epochs = 30\n",
    "\n",
    "# Check whether system supports CUDA\n",
    "CUDA = torch.cuda.is_available()\n",
    "\n",
    "model = Transformer(vocab_size, dmodel, output_size, max_len, padding_idx, n_layers,\\\n",
    "                    ffnn_hidden_size, heads, pooling, dropout)\n",
    "\n",
    "# Move the model to GPU if possible\n",
    "if CUDA:\n",
    "    model.cuda()\n",
    "    \n",
    "# Add loss function    \n",
    "if label_smoothing:\n",
    "    loss_fn = LabelSmoothingLoss(output_size, label_smoothing)\n",
    "else:\n",
    "    loss_fn = nn.NLLLoss()\n",
    "    \n",
    "model.add_loss_fn(loss_fn)\n",
    "\n",
    "optimizer = torch.optim.Adam(model.parameters(), lr=learning_rate)\n",
    "model.add_optimizer(optimizer)\n",
    "\n",
    "device = torch.device('cuda' if CUDA else 'cpu')\n",
    "\n",
    "model.add_device(device)\n",
    "\n",
    "# Create the parameters dictionary and instantiate the tensorboardX SummaryWriter\n",
    "params = {'batch_size': batch_size,\n",
    "          'dmodel': dmodel,\n",
    "          'n_layers': n_layers,\n",
    "          'ffnn_hidden_size': ffnn_hidden_size,\n",
    "          'heads': heads,\n",
    "          'pooling': pooling,\n",
    "          'dropout': dropout,\n",
    "          'label_smoothing': label_smoothing,\n",
    "          'learning_rate': learning_rate}\n",
    "\n",
    "train_writer = SummaryWriter(comment=f' Training, batch_size={batch_size}, dmodel={dmodel}, n_layers={n_layers},\\\n",
    "ffnn_hidden_size={ffnn_hidden_size}, heads={heads}, pooling={pooling}, dropout={dropout}, \\\n",
    "label_smoothing={label_smoothing}, learning_rate={learning_rate}'.format(**params))\n",
    "\n",
    "val_writer = SummaryWriter(comment=f' Validation, batch_size={batch_size}, dmodel={dmodel}, n_layers={n_layers},\\\n",
    "ffnn_hidden_size={ffnn_hidden_size}, heads={heads}, pooling={pooling}, dropout={dropout}, \\\n",
    "label_smoothing={label_smoothing}, learning_rate={learning_rate}'.format(**params))\n",
    "\n",
    "# Instantiate the EarlyStopping\n",
    "early_stop = EarlyStopping(wait_epochs=3)\n",
    "\n",
    "train_losses_list, train_avg_loss_list, train_accuracy_list = [], [], []\n",
    "eval_avg_loss_list, eval_accuracy_list, conf_matrix_list, f1_score_list = [], [], [],[]\n",
    "\n",
    "for epoch in range(epochs):\n",
    "    \n",
    "    try:\n",
    "        print('\\nStart epoch [{}/{}]'.format(epoch+1, epochs))\n",
    "\n",
    "        train_losses, train_avg_loss, train_accuracy = model.train_model(train_iterator)\n",
    "\n",
    "        train_losses_list.append(train_losses)\n",
    "        train_avg_loss_list.append(train_avg_loss)\n",
    "        train_accuracy_list.append(train_accuracy)\n",
    "\n",
    "        _, eval_avg_loss, eval_accuracy, conf_matrix,fone_score,fpr,tpr = model.evaluate_model(val_iterator)\n",
    "\n",
    "        eval_avg_loss_list.append(eval_avg_loss)\n",
    "        eval_accuracy_list.append(eval_accuracy)\n",
    "        conf_matrix_list.append(conf_matrix)\n",
    "        f1_score_list.append(fone_score)\n",
    "\n",
    "        print('\\nEpoch [{}/{}]: Train accuracy: {:.3f}. Train loss: {:.4f}. Evaluation accuracy: {:.3f}. Evaluation loss: {:.4f}'\\\n",
    "              .format(epoch+1, epochs, train_accuracy, train_avg_loss, eval_accuracy, eval_avg_loss))\n",
    "\n",
    "        train_writer.add_scalar('Training loss', train_avg_loss, epoch)\n",
    "        val_writer.add_scalar('Validation loss', eval_avg_loss, epoch)\n",
    "\n",
    "        if early_stop.stop(eval_avg_loss, model, delta=0.003):\n",
    "            break\n",
    "\n",
    "    finally:\n",
    "        train_writer.close()\n",
    "        val_writer.close()\n"
   ]
  },
  {
   "cell_type": "code",
   "execution_count": 16,
   "metadata": {},
   "outputs": [
    {
     "name": "stdout",
     "output_type": "stream",
     "text": [
      "f1 score: 0.8809379625718277\n"
     ]
    }
   ],
   "source": [
    "train_avg_loss_list.insert(0, train_losses_list[0][0])\n",
    "eval_avg_loss_list.insert(0, train_losses_list[0][0])\n",
    "print(\"f1 score:\", np.mean(f1_score_list))"
   ]
  },
  {
   "cell_type": "code",
   "execution_count": 17,
   "metadata": {},
   "outputs": [
    {
     "data": {
      "image/png": "[encoded data removed]",
      "text/plain": [
       "<Figure size 576x360 with 1 Axes>"
      ]
     },
     "metadata": {
      "needs_background": "light"
     },
     "output_type": "display_data"
    }
   ],
   "source": [
    "# Plot the training and the validation learning curve\n",
    "plt.figure(figsize=(8,5))\n",
    "plt.plot(train_avg_loss_list, label='Training loss')\n",
    "plt.plot(eval_avg_loss_list, label='Evaluation loss')\n",
    "plt.xlabel('Epoch', size=12)\n",
    "plt.ylabel('Loss', size=12)\n",
    "plt.title('Transformer learning curves')\n",
    "plt.xticks(ticks=range(12))\n",
    "plt.legend()\n",
    "plt.show()"
   ]
  },
  {
   "cell_type": "code",
   "execution_count": 18,
   "metadata": {},
   "outputs": [
    {
     "data": {
      "image/png": "[encoded data removed]",
      "text/plain": [
       "<Figure size 432x432 with 2 Axes>"
      ]
     },
     "metadata": {
      "needs_background": "light"
     },
     "output_type": "display_data"
    }
   ],
   "source": [
    "# Confusion matrix\n",
    "plt.figure(figsize=(6,6))\n",
    "ax = sns.heatmap(conf_matrix, fmt='d', annot=True, linewidths=1, square=True)\n",
    "ax.set_xlabel('Predictions', size=12)\n",
    "ax.set_ylabel('True labels', size=12) \n",
    "ax.set_title('Confusion Matrix', size=12); \n",
    "ax.xaxis.set_ticklabels(['True', 'False'])\n",
    "ax.yaxis.set_ticklabels(['True', 'False'])\n",
    "ax.set_ylim(2,0)\n",
    "plt.show()"
   ]
  },
  {
   "cell_type": "markdown",
   "metadata": {},
   "source": [
    "### The generalization error"
   ]
  },
  {
   "cell_type": "code",
   "execution_count": 19,
   "metadata": {},
   "outputs": [],
   "source": [
    "# Import the dataset. Use clean_review and label columns\n",
    "test_dataset = pd.read_csv('drugreview/drugreview_feat_clean/test_feat_clean.csv',\n",
    "                          usecols=['clean_review', 'rating'])\n",
    "\n",
    "# Change columns order\n",
    "test_dataset['label'] = test_dataset.rating >= POS_RATING_THRESHOLD\n",
    "test_dataset = test_dataset[['clean_review', 'label']]"
   ]
  },
  {
   "cell_type": "code",
   "execution_count": 20,
   "metadata": {},
   "outputs": [
    {
     "data": {
      "text/html": [
       "<div>\n",
       "<style scoped>\n",
       "    .dataframe tbody tr th:only-of-type {\n",
       "        vertical-align: middle;\n",
       "    }\n",
       "\n",
       "    .dataframe tbody tr th {\n",
       "        vertical-align: top;\n",
       "    }\n",
       "\n",
       "    .dataframe thead th {\n",
       "        text-align: right;\n",
       "    }\n",
       "</style>\n",
       "<table border=\"1\" class=\"dataframe\">\n",
       "  <thead>\n",
       "    <tr style=\"text-align: right;\">\n",
       "      <th></th>\n",
       "      <th>clean_review</th>\n",
       "      <th>label</th>\n",
       "    </tr>\n",
       "  </thead>\n",
       "  <tbody>\n",
       "    <tr>\n",
       "      <td>0</td>\n",
       "      <td>i&amp;#039;ve tried antidepressants years citalopr...</td>\n",
       "      <td>True</td>\n",
       "    </tr>\n",
       "    <tr>\n",
       "      <td>1</td>\n",
       "      <td>son crohn&amp;#039;s disease asacol complaints sho...</td>\n",
       "      <td>True</td>\n",
       "    </tr>\n",
       "    <tr>\n",
       "      <td>2</td>\n",
       "      <td>quick reduction symptoms</td>\n",
       "      <td>True</td>\n",
       "    </tr>\n",
       "    <tr>\n",
       "      <td>3</td>\n",
       "      <td>contrave combines drugs alcohol smoking opioid...</td>\n",
       "      <td>True</td>\n",
       "    </tr>\n",
       "    <tr>\n",
       "      <td>4</td>\n",
       "      <td>birth control cycle reading reviews type simil...</td>\n",
       "      <td>True</td>\n",
       "    </tr>\n",
       "  </tbody>\n",
       "</table>\n",
       "</div>"
      ],
      "text/plain": [
       "                                        clean_review  label\n",
       "0  i&#039;ve tried antidepressants years citalopr...   True\n",
       "1  son crohn&#039;s disease asacol complaints sho...   True\n",
       "2                           quick reduction symptoms   True\n",
       "3  contrave combines drugs alcohol smoking opioid...   True\n",
       "4  birth control cycle reading reviews type simil...   True"
      ]
     },
     "execution_count": 20,
     "metadata": {},
     "output_type": "execute_result"
    }
   ],
   "source": [
    "test_dataset = test_dataset.dropna()\n",
    "test_dataset.head()"
   ]
  },
  {
   "cell_type": "code",
   "execution_count": 21,
   "metadata": {},
   "outputs": [
    {
     "name": "stdout",
     "output_type": "stream",
     "text": [
      "Trimmed vocabulary using as minimum count threashold: count = 3.00\n",
      "15210/40911 tokens has been retained\n",
      "Trimmed input strings vocabulary\n",
      "Trimmed input sequences lengths to the length of: 59\n",
      "Mapped words to indices\n",
      "Start creating glove_word2vector dictionary\n",
      "Extracted 13890/17168 of pre-trained word vectors.\n",
      "3278 vectors initialized to random numbers\n",
      "Weights vectors saved into glove/weights_train.npy\n",
      "Batches created\n"
     ]
    }
   ],
   "source": [
    "test_iterator = BatchIterator(test_dataset, batch_size=256, vocab_created=False, vocab=None, target_col=None,\n",
    "                              word2index=train_iterator.word2index, sos_token='<SOS>', eos_token='<EOS>',\n",
    "                              unk_token='<UNK>', pad_token='<PAD>', min_word_count=3, max_vocab_size=None,\n",
    "                              max_seq_len=0.9, use_pretrained_vectors=True, glove_path='glove/',\n",
    "                              glove_name='glove.6B.100d.txt', weights_file_name='glove/weights_train.npy')"
   ]
  },
  {
   "cell_type": "code",
   "execution_count": 22,
   "metadata": {},
   "outputs": [
    {
     "data": {
      "application/vnd.jupyter.widget-view+json": {
       "model_id": "2c241855a112483da802f395607950bb",
       "version_major": 2,
       "version_minor": 0
      },
      "text/plain": [
       "Evaluation:   0%|          | 0/189 [00:00<?, ?it/s]"
      ]
     },
     "metadata": {},
     "output_type": "display_data"
    },
    {
     "name": "stdout",
     "output_type": "stream",
     "text": [
      "Iteration: 100. Average evaluation loss: 0.0925. Accuracy: 0.84\n"
     ]
    }
   ],
   "source": [
    "_, test_avg_loss, test_accuracy, test_conf_matrix,fone_score,fpr,tpr = model.evaluate_model(test_iterator)"
   ]
  },
  {
   "cell_type": "code",
   "execution_count": 23,
   "metadata": {},
   "outputs": [
    {
     "name": "stdout",
     "output_type": "stream",
     "text": [
      "Test accuracy: 0.840. Test error: 0.093, Test f1: 0.898\n"
     ]
    }
   ],
   "source": [
    "print('Test accuracy: {:.3f}. Test error: {:.3f}, Test f1: {:.3f}'.format(test_accuracy, test_avg_loss, fone_score))"
   ]
  },
  {
   "cell_type": "code",
   "execution_count": 24,
   "metadata": {},
   "outputs": [
    {
     "data": {
      "image/png": "[encoded data removed]",
      "text/plain": [
       "<Figure size 432x432 with 2 Axes>"
      ]
     },
     "metadata": {
      "needs_background": "light"
     },
     "output_type": "display_data"
    }
   ],
   "source": [
    "# Confusion matrix\n",
    "plt.figure(figsize=(6,6))\n",
    "ax = sns.heatmap(test_conf_matrix, fmt='d', annot=True, linewidths=1, square=True)\n",
    "ax.set_xlabel('Predictions', size=12)\n",
    "ax.set_ylabel('True labels', size=12) \n",
    "ax.set_title('Confusion Matrix', size=12); \n",
    "ax.xaxis.set_ticklabels(['True', 'False'])\n",
    "ax.yaxis.set_ticklabels(['True', 'False'])\n",
    "ax.set_ylim(2,0)\n",
    "plt.show()"
   ]
  },
  {
   "cell_type": "code",
   "execution_count": 25,
   "metadata": {},
   "outputs": [
    {
     "data": {
      "image/png": "[encoded data removed]",
      "text/plain": [
       "<Figure size 360x360 with 1 Axes>"
      ]
     },
     "metadata": {
      "needs_background": "light"
     },
     "output_type": "display_data"
    }
   ],
   "source": [
    "plt.subplots(1, figsize=(5,5))\n",
    "plt.title('Receiver Operating Characteristic - Transformer')\n",
    "plt.plot(fpr, tpr)\n",
    "plt.plot([0, 1], ls=\"--\")\n",
    "plt.plot([0, 0], [1, 0] , c=\".7\"), plt.plot([1, 1] , c=\".7\")\n",
    "plt.ylabel('True Positive Rate')\n",
    "plt.xlabel('False Positive Rate')\n",
    "plt.show()"
   ]
  },
  {
   "cell_type": "code",
   "execution_count": null,
   "metadata": {},
   "outputs": [],
   "source": []
  }
 ],
 "metadata": {
  "kernelspec": {
   "display_name": "py3.7",
   "language": "python",
   "name": "py3.7"
  },
  "language_info": {
   "codemirror_mode": {
    "name": "ipython",
    "version": 3
   },
   "file_extension": ".py",
   "mimetype": "text/x-python",
   "name": "python",
   "nbconvert_exporter": "python",
   "pygments_lexer": "ipython3",
   "version": "3.7.10"
  }
 },
 "nbformat": 4,
 "nbformat_minor": 2
}
