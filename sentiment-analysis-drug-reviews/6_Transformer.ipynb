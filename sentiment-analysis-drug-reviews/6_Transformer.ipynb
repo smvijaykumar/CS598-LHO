{
 "cells": [
  {
   "cell_type": "markdown",
   "metadata": {},
   "source": [
    "# Build a self-attention Transformer model\n",
    "\n",
    "In this notebook, we will build the Transformer model for the classification task. The main architecture of the Transformer is derived from the paper: https://arxiv.org/pdf/1706.03762.pdf, but to be able to perform text classification we have to re-build the model a bit by applying the Max or Avg Pooling according to https://arxiv.org/pdf/1705.02364.pdf, where instead of using hidden representations we will us the last Transfomer block output.\n",
    "\n",
    "The Transformer is solely based on the self-attention mechanism, disposing recurrent units or convolution layers at all, thanks to which that architecture is superior in terms of the prediction quality and the training time. The Transformer allows for significantly more parallelization and keeps also the ability of discerning long-term dependencies. To increase the generalization performance of the model we will use the label smoothing method.\n",
    "\n",
    "The model is going to be trained on the clean_review column from the training dataset. In the end, the model will be evaluated on the test set to determine the generalization error.\n",
    "\n",
    "We will perform the hyperparameter fine-tuning and visualize model's learning curves to compare the model's performance while working on different set of parameters. "
   ]
  },
  {
   "cell_type": "markdown",
   "metadata": {},
   "source": [
    "### Building and training the model\n",
    "\n",
    "Let's start with importing all indispensable libraries."
   ]
  },
  {
   "cell_type": "code",
   "execution_count": 1,
   "metadata": {},
   "outputs": [],
   "source": [
    "from batch_iterator import BatchIterator\n",
    "from early_stopping import EarlyStopping\n",
    "import pandas as pd\n",
    "import torch\n",
    "import torch.nn as nn\n",
    "import torch.nn.functional as F\n",
    "from torch import device\n",
    "from tqdm import tqdm_notebook\n",
    "import numpy as np\n",
    "import matplotlib.pyplot as plt\n",
    "import seaborn as sns\n",
    "from sklearn.metrics import confusion_matrix\n",
    "from tensorboardX import SummaryWriter"
   ]
  },
  {
   "cell_type": "markdown",
   "metadata": {},
   "source": [
    "To train the model we will use the clean_review column from the training set as well as the label column."
   ]
  },
  {
   "cell_type": "code",
   "execution_count": 2,
   "metadata": {},
   "outputs": [],
   "source": [
    "# Import the dataset. Use clean_review and label columns\n",
    "train_dataset = pd.read_csv('drugreview/drugreview_feat_clean/train_feat_clean.csv', \n",
    "                            usecols=['clean_review', 'rating'])\n",
    "\n",
    "# Change columns order\n",
    "train_dataset['label'] = train_dataset.rating >= 5\n",
    "train_dataset = train_dataset[['clean_review', 'label']]"
   ]
  },
  {
   "cell_type": "code",
   "execution_count": 3,
   "metadata": {},
   "outputs": [
    {
     "data": {
      "text/html": [
       "<div>\n",
       "<style scoped>\n",
       "    .dataframe tbody tr th:only-of-type {\n",
       "        vertical-align: middle;\n",
       "    }\n",
       "\n",
       "    .dataframe tbody tr th {\n",
       "        vertical-align: top;\n",
       "    }\n",
       "\n",
       "    .dataframe thead th {\n",
       "        text-align: right;\n",
       "    }\n",
       "</style>\n",
       "<table border=\"1\" class=\"dataframe\">\n",
       "  <thead>\n",
       "    <tr style=\"text-align: right;\">\n",
       "      <th></th>\n",
       "      <th>clean_review</th>\n",
       "      <th>label</th>\n",
       "    </tr>\n",
       "  </thead>\n",
       "  <tbody>\n",
       "    <tr>\n",
       "      <td>1</td>\n",
       "      <td>okay anxiety gotten worse past couple years po...</td>\n",
       "      <td>True</td>\n",
       "    </tr>\n",
       "    <tr>\n",
       "      <td>6</td>\n",
       "      <td>reading possible effects scary medicine gave l...</td>\n",
       "      <td>True</td>\n",
       "    </tr>\n",
       "    <tr>\n",
       "      <td>9</td>\n",
       "      <td>clonazepam effective controlling agitation pro...</td>\n",
       "      <td>True</td>\n",
       "    </tr>\n",
       "    <tr>\n",
       "      <td>11</td>\n",
       "      <td>experienced effects considering anorexia nervo...</td>\n",
       "      <td>True</td>\n",
       "    </tr>\n",
       "    <tr>\n",
       "      <td>12</td>\n",
       "      <td>i&amp;#039;ve gianvi months skin clear didn&amp;#039;t...</td>\n",
       "      <td>True</td>\n",
       "    </tr>\n",
       "  </tbody>\n",
       "</table>\n",
       "</div>"
      ],
      "text/plain": [
       "                                         clean_review  label\n",
       "1   okay anxiety gotten worse past couple years po...   True\n",
       "6   reading possible effects scary medicine gave l...   True\n",
       "9   clonazepam effective controlling agitation pro...   True\n",
       "11  experienced effects considering anorexia nervo...   True\n",
       "12  i&#039;ve gianvi months skin clear didn&#039;t...   True"
      ]
     },
     "execution_count": 3,
     "metadata": {},
     "output_type": "execute_result"
    }
   ],
   "source": [
    "# Depict the first 5 rows of the training set\n",
    "train_dataset = train_dataset.dropna()\n",
    "train_dataset.head()"
   ]
  },
  {
   "cell_type": "markdown",
   "metadata": {},
   "source": [
    "To fine-tune the hyperparameters we will evaluate the model on a validation set."
   ]
  },
  {
   "cell_type": "code",
   "execution_count": 5,
   "metadata": {},
   "outputs": [],
   "source": [
    "# Import the dataset. Use clean_review and label columns\n",
    "val_dataset = pd.read_csv('drugreview/drugreview_feat_clean/val_feat_clean.csv',\n",
    "                          usecols=['clean_review', 'rating'])\n",
    "\n",
    "# Change columns order\n",
    "val_dataset['label'] = val_dataset.rating >= 5\n",
    "val_dataset = val_dataset[['clean_review', 'label']]"
   ]
  },
  {
   "cell_type": "code",
   "execution_count": 6,
   "metadata": {},
   "outputs": [
    {
     "data": {
      "text/html": [
       "<div>\n",
       "<style scoped>\n",
       "    .dataframe tbody tr th:only-of-type {\n",
       "        vertical-align: middle;\n",
       "    }\n",
       "\n",
       "    .dataframe tbody tr th {\n",
       "        vertical-align: top;\n",
       "    }\n",
       "\n",
       "    .dataframe thead th {\n",
       "        text-align: right;\n",
       "    }\n",
       "</style>\n",
       "<table border=\"1\" class=\"dataframe\">\n",
       "  <thead>\n",
       "    <tr style=\"text-align: right;\">\n",
       "      <th></th>\n",
       "      <th>clean_review</th>\n",
       "      <th>label</th>\n",
       "    </tr>\n",
       "  </thead>\n",
       "  <tbody>\n",
       "    <tr>\n",
       "      <td>1</td>\n",
       "      <td>4yrs having nexaplon implant mental physical h...</td>\n",
       "      <td>False</td>\n",
       "    </tr>\n",
       "    <tr>\n",
       "      <td>4</td>\n",
       "      <td>l5 s1 lumbar herniated disc surgery weeks surg...</td>\n",
       "      <td>True</td>\n",
       "    </tr>\n",
       "    <tr>\n",
       "      <td>5</td>\n",
       "      <td>far lot acne clear tea tree broke decided birt...</td>\n",
       "      <td>True</td>\n",
       "    </tr>\n",
       "    <tr>\n",
       "      <td>6</td>\n",
       "      <td>insulin works fine trouble pen pain pen jammed...</td>\n",
       "      <td>False</td>\n",
       "    </tr>\n",
       "    <tr>\n",
       "      <td>7</td>\n",
       "      <td>nexplanon option work iud painful insert pills...</td>\n",
       "      <td>True</td>\n",
       "    </tr>\n",
       "  </tbody>\n",
       "</table>\n",
       "</div>"
      ],
      "text/plain": [
       "                                        clean_review  label\n",
       "1  4yrs having nexaplon implant mental physical h...  False\n",
       "4  l5 s1 lumbar herniated disc surgery weeks surg...   True\n",
       "5  far lot acne clear tea tree broke decided birt...   True\n",
       "6  insulin works fine trouble pen pain pen jammed...  False\n",
       "7  nexplanon option work iud painful insert pills...   True"
      ]
     },
     "execution_count": 6,
     "metadata": {},
     "output_type": "execute_result"
    }
   ],
   "source": [
    "# Depict the first 5 rows of the validation set\n",
    "val_dataset = val_dataset.dropna()\n",
    "val_dataset.head()"
   ]
  },
  {
   "cell_type": "markdown",
   "metadata": {},
   "source": [
    "Now we will use the BatchIterator class to preprocess the text data and generate batches."
   ]
  },
  {
   "cell_type": "code",
   "execution_count": 7,
   "metadata": {},
   "outputs": [],
   "source": [
    "batch_size = 32"
   ]
  },
  {
   "cell_type": "code",
   "execution_count": 8,
   "metadata": {},
   "outputs": [
    {
     "name": "stdout",
     "output_type": "stream",
     "text": [
      "Trimmed vocabulary using as minimum count threashold: count = 3.00\n",
      "14773/39267 tokens has been retained\n",
      "Trimmed input strings vocabulary\n",
      "Trimmed input sequences lengths to the length of: 59\n",
      "Mapped words to indices\n",
      "Start creating glove_word2vector dictionary\n",
      "Extracted 12312/14777 of pre-trained word vectors.\n",
      "2465 vectors initialized to random numbers\n",
      "Weights vectors saved into glove/weights_train.npy\n",
      "Batches created\n"
     ]
    }
   ],
   "source": [
    "train_iterator = BatchIterator(train_dataset, batch_size=batch_size, vocab_created=False, vocab=None, target_col=None,\n",
    "                               word2index=None, sos_token='<SOS>', eos_token='<EOS>', unk_token='<UNK>',\n",
    "                               pad_token='<PAD>', min_word_count=3, max_vocab_size=None, max_seq_len=0.9,\n",
    "                               use_pretrained_vectors=True, glove_path='glove/', glove_name='glove.6B.100d.txt',\n",
    "                               weights_file_name='glove/weights_train.npy')"
   ]
  },
  {
   "cell_type": "code",
   "execution_count": 9,
   "metadata": {},
   "outputs": [
    {
     "name": "stdout",
     "output_type": "stream",
     "text": [
      "Trimmed vocabulary using as minimum count threashold: count = 3.00\n",
      "7720/19770 tokens has been retained\n",
      "Trimmed input strings vocabulary\n",
      "Trimmed input sequences lengths to the length of: 58\n",
      "Mapped words to indices\n",
      "Start creating glove_word2vector dictionary\n",
      "Extracted 12475/15036 of pre-trained word vectors.\n",
      "2561 vectors initialized to random numbers\n",
      "Weights vectors saved into glove/weights_val.npy\n",
      "Batches created\n"
     ]
    }
   ],
   "source": [
    "val_iterator = BatchIterator(val_dataset, batch_size=batch_size, vocab_created=False, vocab=None, target_col=None,\n",
    "                             word2index=train_iterator.word2index, sos_token='<SOS>', eos_token='<EOS>',\n",
    "                             unk_token='<UNK>', pad_token='<PAD>', min_word_count=3, max_vocab_size=None,\n",
    "                             max_seq_len=0.9, use_pretrained_vectors=True, glove_path='glove/',\n",
    "                             glove_name='glove.6B.100d.txt', weights_file_name='glove/weights_val.npy')"
   ]
  },
  {
   "cell_type": "markdown",
   "metadata": {},
   "source": [
    "Now we will check out if the batches look correctly."
   ]
  },
  {
   "cell_type": "code",
   "execution_count": 10,
   "metadata": {},
   "outputs": [
    {
     "name": "stdout",
     "output_type": "stream",
     "text": [
      "input_seq shape:  torch.Size([32, 14])\n",
      "target shape:  torch.Size([32])\n",
      "x_lengths shape:  torch.Size([32])\n"
     ]
    }
   ],
   "source": [
    "for batches in train_iterator:\n",
    "    # Unpack the dictionary of batches\n",
    "    input_seq, target, x_lengths = batches['input_seq'], batches['target'], batches['x_lengths']\n",
    "    print('input_seq shape: ', input_seq.size())\n",
    "    print('target shape: ', target.size())\n",
    "    print('x_lengths shape: ', x_lengths.size())\n",
    "    break"
   ]
  },
  {
   "cell_type": "code",
   "execution_count": 11,
   "metadata": {},
   "outputs": [],
   "source": [
    "# Extract the maximum sequence length\n",
    "\n",
    "max_len = 0\n",
    "\n",
    "for batches in train_iterator:\n",
    "    x_lengths = batches['x_lengths']\n",
    "    if max(x_lengths) > max_len:\n",
    "        max_len = int(max(x_lengths))"
   ]
  },
  {
   "cell_type": "code",
   "execution_count": 12,
   "metadata": {},
   "outputs": [
    {
     "name": "stdout",
     "output_type": "stream",
     "text": [
      "Maximum sequence length: 60\n"
     ]
    }
   ],
   "source": [
    "print('Maximum sequence length: {}'.format(max_len))"
   ]
  },
  {
   "cell_type": "markdown",
   "metadata": {},
   "source": [
    "Let's start implementing the Transformer model."
   ]
  },
  {
   "cell_type": "code",
   "execution_count": 13,
   "metadata": {},
   "outputs": [],
   "source": [
    "class MultiHeadAttention(nn.Module):\n",
    "    \"\"\"Implementation of the Multi-Head-Attention.\n",
    "        \n",
    "    Parameters\n",
    "    ----------\n",
    "    dmodel: int\n",
    "        Dimensionality of the input embedding vector.\n",
    "    heads: int\n",
    "        Number of the self-attention operations to conduct in parallel. \n",
    "    \"\"\"\n",
    "    \n",
    "    def __init__(self, dmodel, heads):\n",
    "        \n",
    "        super(MultiHeadAttention, self).__init__()\n",
    "        \n",
    "        assert dmodel % heads == 0, 'Embedding dimension is not divisible by number of heads'\n",
    "            \n",
    "        self.dmodel = dmodel\n",
    "        self.heads = heads\n",
    "        # Split dmodel (embedd dimension) into 'heads' number of chunks\n",
    "        # each chunk of size key_dim will be passed to different attention head\n",
    "        self.key_dim = dmodel // heads\n",
    "        \n",
    "        # keys, queries and values will be computed at once for all heads\n",
    "        self.linear = nn.ModuleList([\n",
    "            nn.Linear(self.dmodel, self.dmodel, bias=False),\n",
    "            nn.Linear(self.dmodel, self.dmodel, bias=False),\n",
    "            nn.Linear(self.dmodel, self.dmodel, bias=False)])\n",
    "        \n",
    "        self.concat = nn.Linear(self.dmodel, self.dmodel, bias=False)\n",
    "        \n",
    "        \n",
    "    def forward(self, inputs):\n",
    "        \"\"\" Perform Multi-Head-Attention.\n",
    "        \n",
    "        Parameters\n",
    "        ----------\n",
    "        inputs: torch.Tensor\n",
    "            Batch of inputs - position encoded word embeddings ((batch_size, seq_length, embedding_dim)\n",
    "            \n",
    "        Returns\n",
    "        -------\n",
    "        torch.Tensor\n",
    "            Multi-Head-Attention output of a shape (batch_size, seq_len, dmodel)\n",
    "        \"\"\"\n",
    "        \n",
    "        self.batch_size = inputs.size(0)\n",
    "        \n",
    "        assert inputs.size(2) == self.dmodel, 'Input sizes mismatch, dmodel={}, while embedd={}'\\\n",
    "            .format(self.dmodel, inputs.size(2))\n",
    "\n",
    "        # Inputs shape (batch_size, seq_length, embedding_dim)        \n",
    "        # Map input batch allong embedd dimension to query, key and value vectors with\n",
    "        # a shape of (batch_size, heads, seq_len, key_dim (dmodel // heads)) \n",
    "        # where 'heads' dimension corresponds o different attention head\n",
    "        query, key, value = [linear(x).view(self.batch_size, -1, self.heads, self.key_dim).transpose(1, 2)\\\n",
    "                             for linear, x in zip(self.linear, (inputs, inputs, inputs))]\n",
    "        \n",
    "        # Calculate the score (batch_size, heads, seq_len, seq_len)\n",
    "        # for all heads at once\n",
    "        score = torch.matmul(query, key.transpose(-2, -1)) / np.sqrt(self.key_dim)\n",
    "        \n",
    "        # Apply softmax to scores (batch_size, heads, seq_len, seq_len) \n",
    "        soft_score = F.softmax(score, dim = -1)\n",
    "        \n",
    "        # Multiply softmaxed score and value vector\n",
    "        # value input shape (batch_size, heads, seq_len, key_dim)\n",
    "        # out shape (batch_size, seq_len, dmodel (key_dim * heads))\n",
    "        out = torch.matmul(soft_score, value).transpose(1, 2).contiguous()\\\n",
    "            .view(self.batch_size, -1, self.heads * self.key_dim)\n",
    "        \n",
    "        # Concatenate and linearly transform heads to the lower dimensional space\n",
    "        # out shape (batch_size, seq_len, dmodel)\n",
    "        out = self.concat(out)\n",
    "        \n",
    "        return out\n",
    "        \n",
    "        \n",
    "class PositionalEncoding(nn.Module):\n",
    "    \"\"\"Implementation of the positional encoding.\n",
    "    \n",
    "    Parameters\n",
    "    ----------\n",
    "    max_len: int\n",
    "        The maximum expected sequence length.\n",
    "    dmodel: int\n",
    "        Dimensionality of the input embedding vector.\n",
    "    dropout: float\n",
    "        Probability of an element of the tensor to be zeroed.\n",
    "    padding_idx: int\n",
    "        Index of the padding token in the vocabulary and word embedding.\n",
    "\n",
    "    \"\"\"\n",
    "    \n",
    "    def __init__(self, max_len, dmodel, dropout, padding_idx):\n",
    "        \n",
    "        super(PositionalEncoding, self).__init__()\n",
    "                \n",
    "        self.dropout = nn.Dropout(dropout)\n",
    "        \n",
    "        # Create pos_encoding, positions and dimensions matrices\n",
    "        # with a shape of (max_len, dmodel)\n",
    "        self.pos_encoding = torch.zeros(max_len, dmodel)\n",
    "        positions = torch.repeat_interleave(torch.arange(float(max_len)).unsqueeze(1), dmodel, dim=1)\n",
    "        dimensions = torch.arange(float(dmodel)).repeat(max_len, 1)\n",
    "                                  \n",
    "        # Calculate the encodings trigonometric function argument (max_len, dmodel)\n",
    "        trig_fn_arg = positions / (torch.pow(10000, 2 * dimensions / dmodel))\n",
    "               \n",
    "        # Encode positions using sin function for even dimensions and\n",
    "        # cos function for odd dimensions\n",
    "        self.pos_encoding[:, 0::2] = torch.sin(trig_fn_arg[:, 0::2])\n",
    "        self.pos_encoding[:, 1::2] = torch.cos(trig_fn_arg[:, 1::2])\n",
    "        \n",
    "        # Set the padding positional encoding to zero tensor\n",
    "        if padding_idx:\n",
    "            self.pos_encoding[padding_idx] = 0.0\n",
    "        \n",
    "        # Add batch dimension\n",
    "        self.pos_encoding = self.pos_encoding.unsqueeze(0)\n",
    "        \n",
    "        \n",
    "    def forward(self, embedd):\n",
    "        \"\"\"Apply positional encoding.\n",
    "    \n",
    "        Parameters\n",
    "        ----------\n",
    "        embedd: torch.Tensor\n",
    "            Batch of word embeddings ((batch_size, seq_length, dmodel = embedding_dim))\n",
    "        \n",
    "        Returns\n",
    "        -------\n",
    "        torch.Tensor\n",
    "            Sum of word embeddings and positional embeddings (batch_size, seq_length, dmodel)\n",
    "        \"\"\"\n",
    "        \n",
    "        # embedd shape (batch_size, seq_length, embedding_dim)\n",
    "        # pos_encoding shape (1, max_len, dmodel = embedd_dim)\n",
    "        embedd = embedd + self.pos_encoding[:, :embedd.size(1), :]\n",
    "        embedd = self.dropout(embedd)\n",
    "        \n",
    "        # embedd shape (batch_size, seq_length, embedding_dim)\n",
    "        return embedd  \n",
    "    \n",
    "    \n",
    "class LabelSmoothingLoss(nn.Module):\n",
    "    \"\"\"Implementation of label smoothing with the Kullback-Leibler divergence Loss.\n",
    "    \n",
    "    Example:\n",
    "    label_smoothing/(output_size-1) = 0.1\n",
    "    confidence = 1 - 0.1 = 0.9\n",
    "        \n",
    "    True labels      Smoothed one-hot labels\n",
    "        |0|              [0.9000, 0.1000]\n",
    "        |0|              [0.9000, 0.1000]\n",
    "        |1|              [0.1000, 0.9000]\n",
    "        |1|    label     [0.1000, 0.9000]\n",
    "        |0|  smoothing   [0.9000, 0.1000]\n",
    "        |1|    ---->     [0.1000, 0.9000]\n",
    "        |0|              [0.9000, 0.1000]\n",
    "        |0|              [0.9000, 0.1000]\n",
    "        |0|              [0.9000, 0.1000]\n",
    "        |1|              [0.1000, 0.9000]\n",
    "            \n",
    "    Parameters\n",
    "    ----------\n",
    "    output_size: int\n",
    "         The number of classes.\n",
    "    label_smoothing: float, optional (default=0)\n",
    "        The smoothing parameter. Takes the value in range [0,1].\n",
    "    \n",
    "    \"\"\"\n",
    "    \n",
    "    def __init__(self, output_size, label_smoothing=0):\n",
    "\n",
    "        super(LabelSmoothingLoss, self).__init__()\n",
    "        \n",
    "        self.output_size = output_size\n",
    "        self.label_smoothing = label_smoothing\n",
    "        self.confidence = 1 - self.label_smoothing\n",
    "        \n",
    "        assert label_smoothing >= 0.0 and label_smoothing <= 1.0, \\\n",
    "        'Label smoothing parameter takes values in the range [0, 1]'\n",
    "\n",
    "        self.criterion = nn.KLDivLoss()\n",
    "        \n",
    "        \n",
    "    def forward(self, pred, target):\n",
    "        \"\"\"Smooth the target labels and calculate the Kullback-Leibler divergence loss.\n",
    "        \n",
    "        Parameters\n",
    "        ----------\n",
    "        pred: torch.Tensor\n",
    "            Batch of log-probabilities (batch_size, output_size)\n",
    "        target: torch.Tensor\n",
    "            Batch of target labels (batch_size, seq_length)\n",
    "            \n",
    "        Returns\n",
    "        -------\n",
    "        torch.Tensor\n",
    "            The Kullback-Leibler divergence Loss.\n",
    "    \n",
    "        \"\"\"\n",
    "        # Create a Tensor of targets probabilities of a shape that equals 'pred' dimensions, filled all\n",
    "        # with label_smoothing/(output_size-1) value that will correspond to the wrong label probability.\n",
    "        one_hot_probs = torch.full(size=pred.size(), fill_value=self.label_smoothing/(self.output_size - 1))\n",
    "        \n",
    "        # Fill the tensor at positions that correspond to the true label from the target vector (0/1)\n",
    "        # with the modified value of maximum probability (confidence).\n",
    "        one_hot_probs.scatter_(1, target.unsqueeze(1), self.confidence)\n",
    "            \n",
    "        # KLDivLoss takes inputs (pred) that contain log-probs and targets given as probs (one_hot_probs).\n",
    "        return self.criterion(pred, one_hot_probs)    \n"
   ]
  },
  {
   "cell_type": "code",
   "execution_count": 14,
   "metadata": {},
   "outputs": [],
   "source": [
    "class TransformerBlock(nn.Module):\n",
    "    \"\"\"Implementation of single Transformer block.\n",
    "    \n",
    "    Transformer block structure:\n",
    "    x --> Multi-Head --> Layer normalization --> Pos-Wise FFNN --> Layer normalization --> y\n",
    "      |   Attention   |                       |                 |\n",
    "      |_______________|                       |_________________|\n",
    "     residual connection                      residual connection\n",
    "    \n",
    "    Parameters\n",
    "    ----------\n",
    "    dmodel: int\n",
    "        Dimensionality of the input embedding vector.\n",
    "    ffnn_hidden_size: int\n",
    "        Position-Wise-Feed-Forward Neural Network hidden size.\n",
    "    heads: int\n",
    "        Number of the self-attention operations to conduct in parallel.\n",
    "    dropout: float\n",
    "        Probability of an element of the tensor to be zeroed.\n",
    "    \"\"\"\n",
    "    \n",
    "    def __init__(self, dmodel, ffnn_hidden_size, heads, dropout):\n",
    "        \n",
    "        super(TransformerBlock, self).__init__()\n",
    "        \n",
    "        self.attention = MultiHeadAttention(dmodel, heads)\n",
    "        self.layer_norm1 = nn.LayerNorm(dmodel)\n",
    "        self.layer_norm2 = nn.LayerNorm(dmodel)\n",
    "        \n",
    "        self.ffnn = nn.Sequential(\n",
    "                nn.Linear(dmodel, ffnn_hidden_size),\n",
    "                nn.ReLU(),\n",
    "                nn.Dropout(dropout),\n",
    "                nn.Linear(ffnn_hidden_size, dmodel))\n",
    "        \n",
    "        \n",
    "    def forward(self, inputs):\n",
    "        \"\"\"Forward propagate through the Transformer block.\n",
    "\n",
    "        Parameters\n",
    "        ----------\n",
    "        inputs: torch.Tensor\n",
    "            Batch of embeddings.\n",
    "            \n",
    "        Returns\n",
    "        -------\n",
    "        torch.Tensor\n",
    "            Output of the Transformer block (batch_size, seq_length, dmodel)\n",
    "        \"\"\"\n",
    "        # Inputs shape (batch_size, seq_length, embedding_dim = dmodel)\n",
    "        output = inputs + self.attention(inputs)            \n",
    "        output = self.layer_norm1(output)            \n",
    "        output = output + self.ffnn(output)            \n",
    "        output = self.layer_norm2(output)\n",
    "\n",
    "        # Output shape (batch_size, seq_length, dmodel)\n",
    "        return output\n",
    "        \n",
    "        \n",
    "class Transformer(nn.Module):\n",
    "    \"\"\"Implementation of the Transformer model for classification.\n",
    "    \n",
    "    Parameters\n",
    "    ----------\n",
    "    vocab_size: int\n",
    "        The size of the vocabulary.\n",
    "    dmodel: int\n",
    "        Dimensionality of the embedding vector.\n",
    "    max_len: int\n",
    "        The maximum expected sequence length.\n",
    "    padding_idx: int, optional (default=0)\n",
    "        Index of the padding token in the vocabulary and word embedding.\n",
    "    n_layers: int, optional (default=4)\n",
    "        Number of the stacked Transformer blocks.    \n",
    "    ffnn_hidden_size: int, optonal (default=dmodel * 4)\n",
    "        Position-Wise-Feed-Forward Neural Network hidden size.\n",
    "    heads: int, optional (default=8)\n",
    "        Number of the self-attention operations to conduct in parallel.\n",
    "    pooling: str, optional (default='max')\n",
    "        Specify the type of pooling to use. Available options: 'max' or 'avg'.\n",
    "    dropout: float, optional (default=0.2)\n",
    "        Probability of an element of the tensor to be zeroed.\n",
    "    \"\"\"\n",
    "    \n",
    "    def __init__(self, vocab_size, dmodel, output_size, max_len, padding_idx=0, n_layers=4,\n",
    "                 ffnn_hidden_size=None, heads=8, pooling='max', dropout=0.2):\n",
    "        \n",
    "        super(Transformer, self).__init__()\n",
    "        \n",
    "        if not ffnn_hidden_size:\n",
    "            ffnn_hidden_size = dmodel * 4\n",
    "            \n",
    "        assert pooling == 'max' or pooling == 'avg', 'Improper pooling type was passed.'\n",
    "        \n",
    "        self.pooling = pooling\n",
    "        self.output_size = output_size\n",
    "        \n",
    "        self.embedding = nn.Embedding(vocab_size, dmodel)\n",
    "        \n",
    "        self.pos_encoding = PositionalEncoding(max_len, dmodel, dropout, padding_idx)\n",
    "        \n",
    "        self.tnf_blocks = nn.ModuleList()\n",
    "        \n",
    "        for n in range(n_layers):\n",
    "            self.tnf_blocks.append(\n",
    "                TransformerBlock(dmodel, ffnn_hidden_size, heads, dropout))\n",
    "            \n",
    "        self.tnf_blocks = nn.Sequential(*self.tnf_blocks)\n",
    "            \n",
    "        self.linear = nn.Linear(dmodel, output_size)\n",
    "        \n",
    "        \n",
    "    def forward(self, inputs, input_lengths):\n",
    "        \"\"\"Forward propagate through the Transformer.\n",
    "        \n",
    "        Parameters\n",
    "        ----------\n",
    "        inputs: torch.Tensor\n",
    "            Batch of input sequences.\n",
    "        input_lengths: torch.LongTensor\n",
    "            Batch containing sequences lengths.\n",
    "            \n",
    "        Returns\n",
    "        -------\n",
    "        torch.Tensor\n",
    "            Logarithm of softmaxed class tensor.\n",
    "        \"\"\"\n",
    "        self.batch_size = inputs.size(0)\n",
    "        \n",
    "        # Input dimensions (batch_size, seq_length, dmodel)\n",
    "        output = self.embedding(inputs)\n",
    "        output = self.pos_encoding(output)\n",
    "        output = self.tnf_blocks(output)\n",
    "        # Output dimensions (batch_size, seq_length, dmodel)\n",
    "        \n",
    "        if self.pooling == 'max':\n",
    "            # Permute to the shape (batch_size, dmodel, seq_length)\n",
    "            # Apply max-pooling, output dimensions (batch_size, dmodel)\n",
    "            output = F.adaptive_max_pool1d(output.permute(0,2,1), (1,)).view(self.batch_size,-1)\n",
    "        else:\n",
    "            # Sum along the batch axis and divide by the corresponding lengths (FloatTensor)\n",
    "            # Output shape: (batch_size, dmodel)\n",
    "            output = torch.sum(output, dim=1) / input_lengths.view(-1,1).type(torch.FloatTensor) \n",
    "            \n",
    "        output = self.linear(output)\n",
    "        \n",
    "        return F.log_softmax(output, dim=-1)\n",
    "        \n",
    "        \n",
    "    def add_loss_fn(self, loss_fn):\n",
    "        \"\"\"Add loss function to the model.\n",
    "        \n",
    "        \"\"\"\n",
    "        self.loss_fn = loss_fn\n",
    "        \n",
    "\n",
    "    def add_optimizer(self, optimizer):\n",
    "        \"\"\"Add optimizer to the model.\n",
    "        \n",
    "        \"\"\"\n",
    "        self.optimizer = optimizer\n",
    "        \n",
    "        \n",
    "    def add_device(self, device=torch.device('cpu')):\n",
    "        \"\"\"Specify the device.\n",
    "        \n",
    "        \"\"\"\n",
    "        self.device = device\n",
    "    \n",
    "    \n",
    "    def train_model(self, train_iterator):\n",
    "        \"\"\"Perform single training epoch.\n",
    "        \n",
    "        Parameters\n",
    "        ----------\n",
    "        train_iterator: BatchIterator\n",
    "            BatchIterator class object containing training batches.\n",
    "            \n",
    "        Returns\n",
    "        -------\n",
    "        train_losses: list\n",
    "            List of the training average batch losses.\n",
    "        avg_loss: float\n",
    "            Average loss on the entire training set.\n",
    "        accuracy: float\n",
    "            Models accuracy on the entire training set.\n",
    "            \n",
    "        \"\"\"\n",
    "        self.train()\n",
    "        \n",
    "        train_losses = []\n",
    "        losses = []\n",
    "        losses_list = []\n",
    "        num_seq = 0\n",
    "        batch_correct = 0\n",
    "            \n",
    "        for i, batches in tqdm_notebook(enumerate(train_iterator, 1), total=len(train_iterator), desc='Training'):\n",
    "            input_seq, target, x_lengths = batches['input_seq'], batches['target'], batches['x_lengths']\n",
    "            \n",
    "            input_seq.to(self.device)\n",
    "            target.to(self.device)\n",
    "            x_lengths.to(self.device)\n",
    "            \n",
    "            self.optimizer.zero_grad()\n",
    "\n",
    "            pred = self.forward(input_seq, x_lengths)\n",
    "            loss = self.loss_fn(pred, target)\n",
    "            loss.backward()\n",
    "            losses.append(loss.data.cpu().numpy())\n",
    "            self.optimizer.step()\n",
    "            \n",
    "            losses_list.append(loss.data.cpu().numpy())\n",
    "            \n",
    "            pred = torch.argmax(pred, 1)\n",
    "\n",
    "            if self.device.type == 'cpu':\n",
    "                batch_correct += (pred.cpu() == target.cpu()).sum().item()\n",
    "\n",
    "            else:\n",
    "                batch_correct += (pred == target).sum().item()\n",
    "\n",
    "            num_seq += len(input_seq)     \n",
    "    \n",
    "            if i % 100 == 0:\n",
    "                avg_train_loss = np.mean(losses)\n",
    "                train_losses.append(avg_train_loss)\n",
    "                \n",
    "                accuracy = batch_correct / num_seq\n",
    "                \n",
    "                print('Iteration: {}. Average training loss: {:.4f}. Accuracy: {:.3f}'\\\n",
    "                      .format(i, avg_train_loss, accuracy))\n",
    "                \n",
    "                losses = []\n",
    "                \n",
    "            avg_loss = np.mean(losses_list)\n",
    "            accuracy = batch_correct / num_seq\n",
    "                              \n",
    "        return train_losses, avg_loss, accuracy\n",
    "    \n",
    "    \n",
    "    def evaluate_model(self, eval_iterator, conf_mtx=False):\n",
    "        \"\"\"Perform the one evaluation epoch.\n",
    "        \n",
    "        Parameters\n",
    "        ----------\n",
    "        eval_iterator: BatchIterator\n",
    "            BatchIterator class object containing evaluation batches.\n",
    "        conf_mtx: boolean, optional (default=False)\n",
    "            Whether to print the confusion matrix at each epoch.\n",
    "            \n",
    "        Returns\n",
    "        -------\n",
    "        eval_losses: list\n",
    "            List of the evaluation average batch losses.\n",
    "        avg_loss: float\n",
    "            Average loss on the entire evaluation set.\n",
    "        accuracy: float\n",
    "            Models accuracy on the entire evaluation set.\n",
    "        conf_matrix: list\n",
    "            Confusion matrix.\n",
    "            \n",
    "        \"\"\"\n",
    "        self.eval()\n",
    "        \n",
    "        eval_losses = []\n",
    "        losses = []\n",
    "        losses_list = []\n",
    "        num_seq = 0\n",
    "        batch_correct = 0\n",
    "        pred_total = torch.LongTensor()\n",
    "        target_total = torch.LongTensor()\n",
    "        \n",
    "        with torch.no_grad():\n",
    "            for i, batches in tqdm_notebook(enumerate(eval_iterator, 1), total=len(eval_iterator), desc='Evaluation'):\n",
    "                input_seq, target, x_lengths = batches['input_seq'], batches['target'], batches['x_lengths']\n",
    "                \n",
    "                input_seq.to(self.device)\n",
    "                target.to(self.device)\n",
    "                x_lengths.to(self.device)\n",
    "\n",
    "                pred = self.forward(input_seq, x_lengths)\n",
    "                loss = self.loss_fn(pred, target)\n",
    "                losses.append(loss.data.cpu().numpy())\n",
    "                losses_list.append(loss.data.cpu().numpy())\n",
    "                \n",
    "                pred = torch.argmax(pred, 1)\n",
    "                                \n",
    "                if self.device.type == 'cpu':\n",
    "                    batch_correct += (pred.cpu() == target.cpu()).sum().item()\n",
    "                    \n",
    "                else:\n",
    "                    batch_correct += (pred == target).sum().item()\n",
    "                    \n",
    "                num_seq += len(input_seq)     \n",
    "                \n",
    "                pred_total = torch.cat([pred_total, pred], dim=0)\n",
    "                target_total = torch.cat([target_total, target], dim=0)\n",
    "                \n",
    "                if i % 100 == 0:\n",
    "                    avg_batch_eval_loss = np.mean(losses)\n",
    "                    eval_losses.append(avg_batch_eval_loss)\n",
    "                    \n",
    "                    accuracy = batch_correct / num_seq\n",
    "                    \n",
    "                    print('Iteration: {}. Average evaluation loss: {:.4f}. Accuracy: {:.2f}'\\\n",
    "                          .format(i, avg_batch_eval_loss, accuracy))\n",
    "\n",
    "                    losses = []\n",
    "                    \n",
    "            avg_loss_list = []\n",
    "                    \n",
    "            avg_loss = np.mean(losses_list)\n",
    "            accuracy = batch_correct / num_seq\n",
    "            \n",
    "            conf_matrix = confusion_matrix(target_total.view(-1), pred_total.view(-1))\n",
    "        \n",
    "        if conf_mtx:\n",
    "            print('\\tConfusion matrix: ', conf_matrix)\n",
    "            \n",
    "        return eval_losses, avg_loss, accuracy, conf_matrix\n",
    "    "
   ]
  },
  {
   "cell_type": "code",
   "execution_count": 15,
   "metadata": {},
   "outputs": [
    {
     "name": "stdout",
     "output_type": "stream",
     "text": [
      "\n",
      "Start epoch [1/30]\n"
     ]
    },
    {
     "data": {
      "application/vnd.jupyter.widget-view+json": {
       "model_id": "9a9a5fb49d08461a8f0250cd364399ec",
       "version_major": 2,
       "version_minor": 0
      },
      "text/plain": [
       "Training:   0%|          | 0/1415 [00:00<?, ?it/s]"
      ]
     },
     "metadata": {},
     "output_type": "display_data"
    },
    {
     "name": "stdout",
     "output_type": "stream",
     "text": [
      "Iteration: 100. Average training loss: 0.1552. Accuracy: 0.733\n",
      "Iteration: 200. Average training loss: 0.1445. Accuracy: 0.740\n",
      "Iteration: 300. Average training loss: 0.1430. Accuracy: 0.743\n",
      "Iteration: 400. Average training loss: 0.1416. Accuracy: 0.745\n",
      "Iteration: 500. Average training loss: 0.1431. Accuracy: 0.745\n",
      "Iteration: 600. Average training loss: 0.1328. Accuracy: 0.747\n",
      "Iteration: 700. Average training loss: 0.1289. Accuracy: 0.750\n",
      "Iteration: 800. Average training loss: 0.1332. Accuracy: 0.749\n",
      "Iteration: 900. Average training loss: 0.1351. Accuracy: 0.749\n",
      "Iteration: 1000. Average training loss: 0.1273. Accuracy: 0.750\n",
      "Iteration: 1100. Average training loss: 0.1298. Accuracy: 0.751\n",
      "Iteration: 1200. Average training loss: 0.1270. Accuracy: 0.752\n",
      "Iteration: 1300. Average training loss: 0.1248. Accuracy: 0.754\n",
      "Iteration: 1400. Average training loss: 0.1238. Accuracy: 0.755\n"
     ]
    },
    {
     "data": {
      "application/vnd.jupyter.widget-view+json": {
       "model_id": "f3a8f0521ca942a7a102af2013c0aab6",
       "version_major": 2,
       "version_minor": 0
      },
      "text/plain": [
       "Evaluation:   0%|          | 0/357 [00:00<?, ?it/s]"
      ]
     },
     "metadata": {},
     "output_type": "display_data"
    },
    {
     "name": "stdout",
     "output_type": "stream",
     "text": [
      "Iteration: 100. Average evaluation loss: 0.1121. Accuracy: 0.79\n",
      "Iteration: 200. Average evaluation loss: 0.1172. Accuracy: 0.78\n",
      "Iteration: 300. Average evaluation loss: 0.1211. Accuracy: 0.78\n",
      "\n",
      "Epoch [1/30]: Train accuracy: 0.755. Train loss: 0.1349. Evaluation accuracy: 0.778. Evaluation loss: 0.1171\n",
      "\n",
      "Start epoch [2/30]\n"
     ]
    },
    {
     "data": {
      "application/vnd.jupyter.widget-view+json": {
       "model_id": "fca8888be0364529826d71509b57b2ee",
       "version_major": 2,
       "version_minor": 0
      },
      "text/plain": [
       "Training:   0%|          | 0/1415 [00:00<?, ?it/s]"
      ]
     },
     "metadata": {},
     "output_type": "display_data"
    },
    {
     "name": "stdout",
     "output_type": "stream",
     "text": [
      "Iteration: 100. Average training loss: 0.1278. Accuracy: 0.757\n",
      "Iteration: 200. Average training loss: 0.1258. Accuracy: 0.759\n",
      "Iteration: 300. Average training loss: 0.1244. Accuracy: 0.761\n",
      "Iteration: 400. Average training loss: 0.1183. Accuracy: 0.767\n",
      "Iteration: 500. Average training loss: 0.1212. Accuracy: 0.768\n",
      "Iteration: 600. Average training loss: 0.1177. Accuracy: 0.770\n",
      "Iteration: 700. Average training loss: 0.1162. Accuracy: 0.771\n",
      "Iteration: 800. Average training loss: 0.1231. Accuracy: 0.770\n",
      "Iteration: 900. Average training loss: 0.1178. Accuracy: 0.772\n",
      "Iteration: 1000. Average training loss: 0.1178. Accuracy: 0.773\n",
      "Iteration: 1100. Average training loss: 0.1155. Accuracy: 0.774\n",
      "Iteration: 1200. Average training loss: 0.1151. Accuracy: 0.775\n",
      "Iteration: 1300. Average training loss: 0.1137. Accuracy: 0.776\n",
      "Iteration: 1400. Average training loss: 0.1128. Accuracy: 0.777\n"
     ]
    },
    {
     "data": {
      "application/vnd.jupyter.widget-view+json": {
       "model_id": "104083858534440cab4b7095c2c044bc",
       "version_major": 2,
       "version_minor": 0
      },
      "text/plain": [
       "Evaluation:   0%|          | 0/357 [00:00<?, ?it/s]"
      ]
     },
     "metadata": {},
     "output_type": "display_data"
    },
    {
     "name": "stdout",
     "output_type": "stream",
     "text": [
      "Iteration: 100. Average evaluation loss: 0.1003. Accuracy: 0.81\n",
      "Iteration: 200. Average evaluation loss: 0.1066. Accuracy: 0.81\n",
      "Iteration: 300. Average evaluation loss: 0.1089. Accuracy: 0.80\n",
      "\n",
      "Epoch [2/30]: Train accuracy: 0.778. Train loss: 0.1190. Evaluation accuracy: 0.803. Evaluation loss: 0.1053\n",
      "\n",
      "Start epoch [3/30]\n"
     ]
    },
    {
     "data": {
      "application/vnd.jupyter.widget-view+json": {
       "model_id": "6a3e7495015b4d2ea00b94883a5c27a9",
       "version_major": 2,
       "version_minor": 0
      },
      "text/plain": [
       "Training:   0%|          | 0/1415 [00:00<?, ?it/s]"
      ]
     },
     "metadata": {},
     "output_type": "display_data"
    },
    {
     "name": "stdout",
     "output_type": "stream",
     "text": [
      "Iteration: 100. Average training loss: 0.1161. Accuracy: 0.777\n",
      "Iteration: 200. Average training loss: 0.1153. Accuracy: 0.783\n",
      "Iteration: 300. Average training loss: 0.1116. Accuracy: 0.787\n",
      "Iteration: 400. Average training loss: 0.1102. Accuracy: 0.790\n",
      "Iteration: 500. Average training loss: 0.1108. Accuracy: 0.791\n",
      "Iteration: 600. Average training loss: 0.1096. Accuracy: 0.792\n",
      "Iteration: 700. Average training loss: 0.1072. Accuracy: 0.795\n",
      "Iteration: 800. Average training loss: 0.1137. Accuracy: 0.795\n",
      "Iteration: 900. Average training loss: 0.1112. Accuracy: 0.794\n",
      "Iteration: 1000. Average training loss: 0.1073. Accuracy: 0.795\n",
      "Iteration: 1100. Average training loss: 0.1069. Accuracy: 0.797\n",
      "Iteration: 1200. Average training loss: 0.1067. Accuracy: 0.798\n",
      "Iteration: 1300. Average training loss: 0.1055. Accuracy: 0.798\n",
      "Iteration: 1400. Average training loss: 0.1075. Accuracy: 0.798\n"
     ]
    },
    {
     "data": {
      "application/vnd.jupyter.widget-view+json": {
       "model_id": "e7ba85d08f7c4f52acaf7455deb6d6f8",
       "version_major": 2,
       "version_minor": 0
      },
      "text/plain": [
       "Evaluation:   0%|          | 0/357 [00:00<?, ?it/s]"
      ]
     },
     "metadata": {},
     "output_type": "display_data"
    },
    {
     "name": "stdout",
     "output_type": "stream",
     "text": [
      "Iteration: 100. Average evaluation loss: 0.0971. Accuracy: 0.82\n",
      "Iteration: 200. Average evaluation loss: 0.1032. Accuracy: 0.81\n",
      "Iteration: 300. Average evaluation loss: 0.1056. Accuracy: 0.81\n",
      "\n",
      "Epoch [3/30]: Train accuracy: 0.798. Train loss: 0.1098. Evaluation accuracy: 0.810. Evaluation loss: 0.1021\n",
      "\n",
      "Start epoch [4/30]\n"
     ]
    },
    {
     "data": {
      "application/vnd.jupyter.widget-view+json": {
       "model_id": "d6d013c4b42e4e248dd1ad017e1f1894",
       "version_major": 2,
       "version_minor": 0
      },
      "text/plain": [
       "Training:   0%|          | 0/1415 [00:00<?, ?it/s]"
      ]
     },
     "metadata": {},
     "output_type": "display_data"
    },
    {
     "name": "stdout",
     "output_type": "stream",
     "text": [
      "Iteration: 100. Average training loss: 0.1088. Accuracy: 0.799\n",
      "Iteration: 200. Average training loss: 0.1093. Accuracy: 0.799\n",
      "Iteration: 300. Average training loss: 0.1067. Accuracy: 0.799\n",
      "Iteration: 400. Average training loss: 0.1066. Accuracy: 0.803\n",
      "Iteration: 500. Average training loss: 0.1034. Accuracy: 0.804\n",
      "Iteration: 600. Average training loss: 0.1042. Accuracy: 0.805\n",
      "Iteration: 700. Average training loss: 0.1011. Accuracy: 0.806\n",
      "Iteration: 800. Average training loss: 0.1088. Accuracy: 0.805\n",
      "Iteration: 900. Average training loss: 0.1023. Accuracy: 0.806\n",
      "Iteration: 1000. Average training loss: 0.1032. Accuracy: 0.806\n",
      "Iteration: 1100. Average training loss: 0.1016. Accuracy: 0.807\n",
      "Iteration: 1200. Average training loss: 0.1005. Accuracy: 0.808\n",
      "Iteration: 1300. Average training loss: 0.1017. Accuracy: 0.808\n",
      "Iteration: 1400. Average training loss: 0.1016. Accuracy: 0.809\n"
     ]
    },
    {
     "data": {
      "application/vnd.jupyter.widget-view+json": {
       "model_id": "66d37cfea84545ce95c6a42d959063c0",
       "version_major": 2,
       "version_minor": 0
      },
      "text/plain": [
       "Evaluation:   0%|          | 0/357 [00:00<?, ?it/s]"
      ]
     },
     "metadata": {},
     "output_type": "display_data"
    },
    {
     "name": "stdout",
     "output_type": "stream",
     "text": [
      "Iteration: 100. Average evaluation loss: 0.0963. Accuracy: 0.82\n",
      "Iteration: 200. Average evaluation loss: 0.1021. Accuracy: 0.82\n",
      "Iteration: 300. Average evaluation loss: 0.1034. Accuracy: 0.82\n",
      "\n",
      "Epoch [4/30]: Train accuracy: 0.809. Train loss: 0.1042. Evaluation accuracy: 0.817. Evaluation loss: 0.1007\n",
      "\n",
      "Start epoch [5/30]\n"
     ]
    },
    {
     "data": {
      "application/vnd.jupyter.widget-view+json": {
       "model_id": "6cc4e17da9df4f628b76e5e8f2e6ad83",
       "version_major": 2,
       "version_minor": 0
      },
      "text/plain": [
       "Training:   0%|          | 0/1415 [00:00<?, ?it/s]"
      ]
     },
     "metadata": {},
     "output_type": "display_data"
    },
    {
     "name": "stdout",
     "output_type": "stream",
     "text": [
      "Iteration: 100. Average training loss: 0.1036. Accuracy: 0.806\n",
      "Iteration: 200. Average training loss: 0.1035. Accuracy: 0.811\n",
      "Iteration: 300. Average training loss: 0.1021. Accuracy: 0.810\n",
      "Iteration: 400. Average training loss: 0.1007. Accuracy: 0.813\n",
      "Iteration: 500. Average training loss: 0.1000. Accuracy: 0.813\n",
      "Iteration: 600. Average training loss: 0.0996. Accuracy: 0.815\n",
      "Iteration: 700. Average training loss: 0.0994. Accuracy: 0.815\n",
      "Iteration: 800. Average training loss: 0.1041. Accuracy: 0.815\n",
      "Iteration: 900. Average training loss: 0.0984. Accuracy: 0.816\n",
      "Iteration: 1000. Average training loss: 0.1014. Accuracy: 0.815\n",
      "Iteration: 1100. Average training loss: 0.0983. Accuracy: 0.815\n",
      "Iteration: 1200. Average training loss: 0.0958. Accuracy: 0.816\n",
      "Iteration: 1300. Average training loss: 0.0992. Accuracy: 0.816\n",
      "Iteration: 1400. Average training loss: 0.0990. Accuracy: 0.816\n"
     ]
    },
    {
     "data": {
      "application/vnd.jupyter.widget-view+json": {
       "model_id": "4971035598094fd18f06208d027a64b9",
       "version_major": 2,
       "version_minor": 0
      },
      "text/plain": [
       "Evaluation:   0%|          | 0/357 [00:00<?, ?it/s]"
      ]
     },
     "metadata": {},
     "output_type": "display_data"
    },
    {
     "name": "stdout",
     "output_type": "stream",
     "text": [
      "Iteration: 100. Average evaluation loss: 0.0928. Accuracy: 0.83\n",
      "Iteration: 200. Average evaluation loss: 0.0985. Accuracy: 0.82\n",
      "Iteration: 300. Average evaluation loss: 0.1006. Accuracy: 0.82\n",
      "\n",
      "Epoch [5/30]: Train accuracy: 0.816. Train loss: 0.1003. Evaluation accuracy: 0.821. Evaluation loss: 0.0973\n",
      "\n",
      "Start epoch [6/30]\n"
     ]
    },
    {
     "data": {
      "application/vnd.jupyter.widget-view+json": {
       "model_id": "140fd8b3c41f4ee382eae2636fc8b2ac",
       "version_major": 2,
       "version_minor": 0
      },
      "text/plain": [
       "Training:   0%|          | 0/1415 [00:00<?, ?it/s]"
      ]
     },
     "metadata": {},
     "output_type": "display_data"
    },
    {
     "name": "stdout",
     "output_type": "stream",
     "text": [
      "Iteration: 100. Average training loss: 0.0972. Accuracy: 0.827\n",
      "Iteration: 200. Average training loss: 0.1000. Accuracy: 0.822\n",
      "Iteration: 300. Average training loss: 0.0994. Accuracy: 0.821\n",
      "Iteration: 400. Average training loss: 0.0963. Accuracy: 0.822\n",
      "Iteration: 500. Average training loss: 0.0968. Accuracy: 0.823\n",
      "Iteration: 600. Average training loss: 0.0963. Accuracy: 0.823\n",
      "Iteration: 700. Average training loss: 0.0960. Accuracy: 0.822\n",
      "Iteration: 800. Average training loss: 0.1022. Accuracy: 0.821\n",
      "Iteration: 900. Average training loss: 0.0978. Accuracy: 0.821\n",
      "Iteration: 1000. Average training loss: 0.0975. Accuracy: 0.820\n",
      "Iteration: 1100. Average training loss: 0.0945. Accuracy: 0.821\n",
      "Iteration: 1200. Average training loss: 0.0913. Accuracy: 0.822\n",
      "Iteration: 1300. Average training loss: 0.0947. Accuracy: 0.823\n",
      "Iteration: 1400. Average training loss: 0.0960. Accuracy: 0.823\n"
     ]
    },
    {
     "data": {
      "application/vnd.jupyter.widget-view+json": {
       "model_id": "d2384dbd021b4c168f6c5aa330b755d9",
       "version_major": 2,
       "version_minor": 0
      },
      "text/plain": [
       "Evaluation:   0%|          | 0/357 [00:00<?, ?it/s]"
      ]
     },
     "metadata": {},
     "output_type": "display_data"
    },
    {
     "name": "stdout",
     "output_type": "stream",
     "text": [
      "Iteration: 100. Average evaluation loss: 0.0915. Accuracy: 0.83\n",
      "Iteration: 200. Average evaluation loss: 0.0980. Accuracy: 0.83\n",
      "Iteration: 300. Average evaluation loss: 0.0996. Accuracy: 0.83\n",
      "\n",
      "Epoch [6/30]: Train accuracy: 0.823. Train loss: 0.0968. Evaluation accuracy: 0.824. Evaluation loss: 0.0966\n",
      "\n",
      "Start epoch [7/30]\n"
     ]
    },
    {
     "data": {
      "application/vnd.jupyter.widget-view+json": {
       "model_id": "330be6fcf6db4e7ab15d5a6f924352a9",
       "version_major": 2,
       "version_minor": 0
      },
      "text/plain": [
       "Training:   0%|          | 0/1415 [00:00<?, ?it/s]"
      ]
     },
     "metadata": {},
     "output_type": "display_data"
    },
    {
     "name": "stdout",
     "output_type": "stream",
     "text": [
      "Iteration: 100. Average training loss: 0.0985. Accuracy: 0.826\n",
      "Iteration: 200. Average training loss: 0.0992. Accuracy: 0.823\n",
      "Iteration: 300. Average training loss: 0.0960. Accuracy: 0.822\n",
      "Iteration: 400. Average training loss: 0.0953. Accuracy: 0.824\n",
      "Iteration: 500. Average training loss: 0.0920. Accuracy: 0.825\n",
      "Iteration: 600. Average training loss: 0.0941. Accuracy: 0.825\n",
      "Iteration: 700. Average training loss: 0.0901. Accuracy: 0.827\n",
      "Iteration: 800. Average training loss: 0.0988. Accuracy: 0.826\n",
      "Iteration: 900. Average training loss: 0.0938. Accuracy: 0.825\n",
      "Iteration: 1000. Average training loss: 0.0929. Accuracy: 0.825\n",
      "Iteration: 1100. Average training loss: 0.0896. Accuracy: 0.827\n",
      "Iteration: 1200. Average training loss: 0.0888. Accuracy: 0.828\n",
      "Iteration: 1300. Average training loss: 0.0911. Accuracy: 0.827\n",
      "Iteration: 1400. Average training loss: 0.0932. Accuracy: 0.828\n"
     ]
    },
    {
     "data": {
      "application/vnd.jupyter.widget-view+json": {
       "model_id": "9c623cc966174cf9911c7ec66cc1e859",
       "version_major": 2,
       "version_minor": 0
      },
      "text/plain": [
       "Evaluation:   0%|          | 0/357 [00:00<?, ?it/s]"
      ]
     },
     "metadata": {},
     "output_type": "display_data"
    },
    {
     "name": "stdout",
     "output_type": "stream",
     "text": [
      "Iteration: 100. Average evaluation loss: 0.0910. Accuracy: 0.83\n",
      "Iteration: 200. Average evaluation loss: 0.0972. Accuracy: 0.82\n",
      "Iteration: 300. Average evaluation loss: 0.0989. Accuracy: 0.82\n",
      "\n",
      "Epoch [7/30]: Train accuracy: 0.828. Train loss: 0.0938. Evaluation accuracy: 0.820. Evaluation loss: 0.0960\n",
      "\n",
      "Start epoch [8/30]\n"
     ]
    },
    {
     "data": {
      "application/vnd.jupyter.widget-view+json": {
       "model_id": "6d8099aef3244caf81d75a144bc6b10b",
       "version_major": 2,
       "version_minor": 0
      },
      "text/plain": [
       "Training:   0%|          | 0/1415 [00:00<?, ?it/s]"
      ]
     },
     "metadata": {},
     "output_type": "display_data"
    },
    {
     "name": "stdout",
     "output_type": "stream",
     "text": [
      "Iteration: 100. Average training loss: 0.0928. Accuracy: 0.826\n",
      "Iteration: 200. Average training loss: 0.0951. Accuracy: 0.829\n",
      "Iteration: 300. Average training loss: 0.0929. Accuracy: 0.829\n",
      "Iteration: 400. Average training loss: 0.0943. Accuracy: 0.830\n",
      "Iteration: 500. Average training loss: 0.0913. Accuracy: 0.831\n",
      "Iteration: 600. Average training loss: 0.0922. Accuracy: 0.832\n",
      "Iteration: 700. Average training loss: 0.0897. Accuracy: 0.832\n",
      "Iteration: 800. Average training loss: 0.0917. Accuracy: 0.832\n",
      "Iteration: 900. Average training loss: 0.0888. Accuracy: 0.832\n",
      "Iteration: 1000. Average training loss: 0.0929. Accuracy: 0.832\n",
      "Iteration: 1100. Average training loss: 0.0883. Accuracy: 0.833\n",
      "Iteration: 1200. Average training loss: 0.0877. Accuracy: 0.834\n",
      "Iteration: 1300. Average training loss: 0.0921. Accuracy: 0.833\n",
      "Iteration: 1400. Average training loss: 0.0901. Accuracy: 0.833\n"
     ]
    },
    {
     "data": {
      "application/vnd.jupyter.widget-view+json": {
       "model_id": "7dc181f4e77f4033aee4957016537583",
       "version_major": 2,
       "version_minor": 0
      },
      "text/plain": [
       "Evaluation:   0%|          | 0/357 [00:00<?, ?it/s]"
      ]
     },
     "metadata": {},
     "output_type": "display_data"
    },
    {
     "name": "stdout",
     "output_type": "stream",
     "text": [
      "Iteration: 100. Average evaluation loss: 0.0890. Accuracy: 0.84\n",
      "Iteration: 200. Average evaluation loss: 0.0933. Accuracy: 0.84\n",
      "Iteration: 300. Average evaluation loss: 0.0951. Accuracy: 0.83\n",
      "\n",
      "Epoch [8/30]: Train accuracy: 0.833. Train loss: 0.0914. Evaluation accuracy: 0.830. Evaluation loss: 0.0929\n",
      "\n",
      "Start epoch [9/30]\n"
     ]
    },
    {
     "data": {
      "application/vnd.jupyter.widget-view+json": {
       "model_id": "896e02934a744484854adf22c890bacd",
       "version_major": 2,
       "version_minor": 0
      },
      "text/plain": [
       "Training:   0%|          | 0/1415 [00:00<?, ?it/s]"
      ]
     },
     "metadata": {},
     "output_type": "display_data"
    },
    {
     "name": "stdout",
     "output_type": "stream",
     "text": [
      "Iteration: 100. Average training loss: 0.0898. Accuracy: 0.838\n",
      "Iteration: 200. Average training loss: 0.0908. Accuracy: 0.836\n",
      "Iteration: 300. Average training loss: 0.0888. Accuracy: 0.835\n",
      "Iteration: 400. Average training loss: 0.0901. Accuracy: 0.837\n",
      "Iteration: 500. Average training loss: 0.0876. Accuracy: 0.837\n",
      "Iteration: 600. Average training loss: 0.0907. Accuracy: 0.838\n",
      "Iteration: 700. Average training loss: 0.0886. Accuracy: 0.838\n",
      "Iteration: 800. Average training loss: 0.0954. Accuracy: 0.837\n",
      "Iteration: 900. Average training loss: 0.0892. Accuracy: 0.838\n",
      "Iteration: 1000. Average training loss: 0.0899. Accuracy: 0.837\n",
      "Iteration: 1100. Average training loss: 0.0860. Accuracy: 0.839\n",
      "Iteration: 1200. Average training loss: 0.0830. Accuracy: 0.840\n",
      "Iteration: 1300. Average training loss: 0.0904. Accuracy: 0.839\n",
      "Iteration: 1400. Average training loss: 0.0899. Accuracy: 0.839\n"
     ]
    },
    {
     "data": {
      "application/vnd.jupyter.widget-view+json": {
       "model_id": "2944f94df7754cc283ca2781af82e0f5",
       "version_major": 2,
       "version_minor": 0
      },
      "text/plain": [
       "Evaluation:   0%|          | 0/357 [00:00<?, ?it/s]"
      ]
     },
     "metadata": {},
     "output_type": "display_data"
    },
    {
     "name": "stdout",
     "output_type": "stream",
     "text": [
      "Iteration: 100. Average evaluation loss: 0.0899. Accuracy: 0.83\n",
      "Iteration: 200. Average evaluation loss: 0.0950. Accuracy: 0.83\n",
      "Iteration: 300. Average evaluation loss: 0.0961. Accuracy: 0.82\n",
      "\n",
      "Epoch [9/30]: Train accuracy: 0.839. Train loss: 0.0893. Evaluation accuracy: 0.823. Evaluation loss: 0.0941\n",
      "\n",
      "Start epoch [10/30]\n"
     ]
    },
    {
     "data": {
      "application/vnd.jupyter.widget-view+json": {
       "model_id": "7bc72e7e89fe42ed89678719ea806cb2",
       "version_major": 2,
       "version_minor": 0
      },
      "text/plain": [
       "Training:   0%|          | 0/1415 [00:00<?, ?it/s]"
      ]
     },
     "metadata": {},
     "output_type": "display_data"
    },
    {
     "name": "stdout",
     "output_type": "stream",
     "text": [
      "Iteration: 100. Average training loss: 0.0888. Accuracy: 0.840\n",
      "Iteration: 200. Average training loss: 0.0897. Accuracy: 0.837\n",
      "Iteration: 300. Average training loss: 0.0899. Accuracy: 0.836\n",
      "Iteration: 400. Average training loss: 0.0862. Accuracy: 0.839\n",
      "Iteration: 500. Average training loss: 0.0873. Accuracy: 0.839\n",
      "Iteration: 600. Average training loss: 0.0874. Accuracy: 0.839\n",
      "Iteration: 700. Average training loss: 0.0851. Accuracy: 0.840\n",
      "Iteration: 800. Average training loss: 0.0923. Accuracy: 0.839\n",
      "Iteration: 900. Average training loss: 0.0877. Accuracy: 0.839\n",
      "Iteration: 1000. Average training loss: 0.0904. Accuracy: 0.839\n",
      "Iteration: 1100. Average training loss: 0.0839. Accuracy: 0.840\n",
      "Iteration: 1200. Average training loss: 0.0823. Accuracy: 0.840\n",
      "Iteration: 1300. Average training loss: 0.0879. Accuracy: 0.840\n",
      "Iteration: 1400. Average training loss: 0.0891. Accuracy: 0.840\n"
     ]
    },
    {
     "data": {
      "application/vnd.jupyter.widget-view+json": {
       "model_id": "67fefa20e6b64e96b4643f6d62386f38",
       "version_major": 2,
       "version_minor": 0
      },
      "text/plain": [
       "Evaluation:   0%|          | 0/357 [00:00<?, ?it/s]"
      ]
     },
     "metadata": {},
     "output_type": "display_data"
    },
    {
     "name": "stdout",
     "output_type": "stream",
     "text": [
      "Iteration: 100. Average evaluation loss: 0.0874. Accuracy: 0.84\n",
      "Iteration: 200. Average evaluation loss: 0.0916. Accuracy: 0.84\n",
      "Iteration: 300. Average evaluation loss: 0.0939. Accuracy: 0.84\n",
      "\n",
      "Epoch [10/30]: Train accuracy: 0.840. Train loss: 0.0877. Evaluation accuracy: 0.834. Evaluation loss: 0.0913\n",
      "\n",
      "Start epoch [11/30]\n"
     ]
    },
    {
     "data": {
      "application/vnd.jupyter.widget-view+json": {
       "model_id": "124b04ba86ac40f9bec85f72cbddb98b",
       "version_major": 2,
       "version_minor": 0
      },
      "text/plain": [
       "Training:   0%|          | 0/1415 [00:00<?, ?it/s]"
      ]
     },
     "metadata": {},
     "output_type": "display_data"
    },
    {
     "name": "stdout",
     "output_type": "stream",
     "text": [
      "Iteration: 100. Average training loss: 0.0889. Accuracy: 0.842\n",
      "Iteration: 200. Average training loss: 0.0880. Accuracy: 0.843\n",
      "Iteration: 300. Average training loss: 0.0862. Accuracy: 0.844\n",
      "Iteration: 400. Average training loss: 0.0857. Accuracy: 0.845\n",
      "Iteration: 500. Average training loss: 0.0839. Accuracy: 0.846\n",
      "Iteration: 600. Average training loss: 0.0850. Accuracy: 0.847\n",
      "Iteration: 700. Average training loss: 0.0833. Accuracy: 0.848\n",
      "Iteration: 800. Average training loss: 0.0895. Accuracy: 0.847\n",
      "Iteration: 900. Average training loss: 0.0861. Accuracy: 0.846\n",
      "Iteration: 1000. Average training loss: 0.0870. Accuracy: 0.846\n",
      "Iteration: 1100. Average training loss: 0.0829. Accuracy: 0.847\n",
      "Iteration: 1200. Average training loss: 0.0797. Accuracy: 0.848\n",
      "Iteration: 1300. Average training loss: 0.0876. Accuracy: 0.848\n",
      "Iteration: 1400. Average training loss: 0.0873. Accuracy: 0.847\n"
     ]
    },
    {
     "data": {
      "application/vnd.jupyter.widget-view+json": {
       "model_id": "6162e3769d91427fa0ea532e05d430c5",
       "version_major": 2,
       "version_minor": 0
      },
      "text/plain": [
       "Evaluation:   0%|          | 0/357 [00:00<?, ?it/s]"
      ]
     },
     "metadata": {},
     "output_type": "display_data"
    },
    {
     "name": "stdout",
     "output_type": "stream",
     "text": [
      "Iteration: 100. Average evaluation loss: 0.0879. Accuracy: 0.84\n",
      "Iteration: 200. Average evaluation loss: 0.0927. Accuracy: 0.84\n",
      "Iteration: 300. Average evaluation loss: 0.0938. Accuracy: 0.84\n",
      "\n",
      "Epoch [11/30]: Train accuracy: 0.847. Train loss: 0.0858. Evaluation accuracy: 0.836. Evaluation loss: 0.0916\n",
      "\n",
      "Start epoch [12/30]\n"
     ]
    },
    {
     "data": {
      "application/vnd.jupyter.widget-view+json": {
       "model_id": "c3498fb42f9e4233a0dddd1bd95ce68d",
       "version_major": 2,
       "version_minor": 0
      },
      "text/plain": [
       "Training:   0%|          | 0/1415 [00:00<?, ?it/s]"
      ]
     },
     "metadata": {},
     "output_type": "display_data"
    },
    {
     "name": "stdout",
     "output_type": "stream",
     "text": [
      "Iteration: 100. Average training loss: 0.0832. Accuracy: 0.845\n",
      "Iteration: 200. Average training loss: 0.0864. Accuracy: 0.847\n",
      "Iteration: 300. Average training loss: 0.0839. Accuracy: 0.847\n",
      "Iteration: 400. Average training loss: 0.0858. Accuracy: 0.847\n",
      "Iteration: 500. Average training loss: 0.0836. Accuracy: 0.845\n",
      "Iteration: 600. Average training loss: 0.0827. Accuracy: 0.847\n",
      "Iteration: 700. Average training loss: 0.0824. Accuracy: 0.847\n",
      "Iteration: 800. Average training loss: 0.0873. Accuracy: 0.847\n",
      "Iteration: 900. Average training loss: 0.0849. Accuracy: 0.847\n",
      "Iteration: 1000. Average training loss: 0.0875. Accuracy: 0.846\n",
      "Iteration: 1100. Average training loss: 0.0798. Accuracy: 0.847\n",
      "Iteration: 1200. Average training loss: 0.0794. Accuracy: 0.848\n",
      "Iteration: 1300. Average training loss: 0.0853. Accuracy: 0.848\n",
      "Iteration: 1400. Average training loss: 0.0856. Accuracy: 0.848\n"
     ]
    },
    {
     "data": {
      "application/vnd.jupyter.widget-view+json": {
       "model_id": "d257811624e549ce8deae8c629f445c6",
       "version_major": 2,
       "version_minor": 0
      },
      "text/plain": [
       "Evaluation:   0%|          | 0/357 [00:00<?, ?it/s]"
      ]
     },
     "metadata": {},
     "output_type": "display_data"
    },
    {
     "name": "stdout",
     "output_type": "stream",
     "text": [
      "Iteration: 100. Average evaluation loss: 0.0875. Accuracy: 0.84\n",
      "Iteration: 200. Average evaluation loss: 0.0915. Accuracy: 0.84\n",
      "Iteration: 300. Average evaluation loss: 0.0930. Accuracy: 0.84\n",
      "\n",
      "Epoch [12/30]: Train accuracy: 0.847. Train loss: 0.0841. Evaluation accuracy: 0.833. Evaluation loss: 0.0909\n",
      "\n",
      "Start epoch [13/30]\n"
     ]
    },
    {
     "data": {
      "application/vnd.jupyter.widget-view+json": {
       "model_id": "4f693d45ed5344bcb3b9d11249c50c5f",
       "version_major": 2,
       "version_minor": 0
      },
      "text/plain": [
       "Training:   0%|          | 0/1415 [00:00<?, ?it/s]"
      ]
     },
     "metadata": {},
     "output_type": "display_data"
    },
    {
     "name": "stdout",
     "output_type": "stream",
     "text": [
      "Iteration: 100. Average training loss: 0.0846. Accuracy: 0.852\n",
      "Iteration: 200. Average training loss: 0.0838. Accuracy: 0.852\n",
      "Iteration: 300. Average training loss: 0.0849. Accuracy: 0.850\n",
      "Iteration: 400. Average training loss: 0.0844. Accuracy: 0.849\n",
      "Iteration: 500. Average training loss: 0.0818. Accuracy: 0.850\n",
      "Iteration: 600. Average training loss: 0.0796. Accuracy: 0.851\n",
      "Iteration: 700. Average training loss: 0.0799. Accuracy: 0.851\n",
      "Iteration: 800. Average training loss: 0.0863. Accuracy: 0.851\n",
      "Iteration: 900. Average training loss: 0.0816. Accuracy: 0.851\n",
      "Iteration: 1000. Average training loss: 0.0863. Accuracy: 0.850\n",
      "Iteration: 1100. Average training loss: 0.0795. Accuracy: 0.851\n",
      "Iteration: 1200. Average training loss: 0.0779. Accuracy: 0.852\n",
      "Iteration: 1300. Average training loss: 0.0813. Accuracy: 0.853\n",
      "Iteration: 1400. Average training loss: 0.0871. Accuracy: 0.852\n"
     ]
    },
    {
     "data": {
      "application/vnd.jupyter.widget-view+json": {
       "model_id": "5014aa82faf6450fa7eb03a1fc8adae0",
       "version_major": 2,
       "version_minor": 0
      },
      "text/plain": [
       "Evaluation:   0%|          | 0/357 [00:00<?, ?it/s]"
      ]
     },
     "metadata": {},
     "output_type": "display_data"
    },
    {
     "name": "stdout",
     "output_type": "stream",
     "text": [
      "Iteration: 100. Average evaluation loss: 0.0876. Accuracy: 0.84\n",
      "Iteration: 200. Average evaluation loss: 0.0914. Accuracy: 0.84\n",
      "Iteration: 300. Average evaluation loss: 0.0937. Accuracy: 0.84\n",
      "\n",
      "Epoch [13/30]: Train accuracy: 0.852. Train loss: 0.0827. Evaluation accuracy: 0.836. Evaluation loss: 0.0911\n",
      "\n",
      "Start epoch [14/30]\n"
     ]
    },
    {
     "data": {
      "application/vnd.jupyter.widget-view+json": {
       "model_id": "dbcffe33a60942bc81459d5bfb67242d",
       "version_major": 2,
       "version_minor": 0
      },
      "text/plain": [
       "Training:   0%|          | 0/1415 [00:00<?, ?it/s]"
      ]
     },
     "metadata": {},
     "output_type": "display_data"
    },
    {
     "name": "stdout",
     "output_type": "stream",
     "text": [
      "Iteration: 100. Average training loss: 0.0822. Accuracy: 0.853\n",
      "Iteration: 200. Average training loss: 0.0811. Accuracy: 0.858\n",
      "Iteration: 300. Average training loss: 0.0806. Accuracy: 0.856\n",
      "Iteration: 400. Average training loss: 0.0805. Accuracy: 0.856\n",
      "Iteration: 500. Average training loss: 0.0784. Accuracy: 0.857\n",
      "Iteration: 600. Average training loss: 0.0822. Accuracy: 0.856\n",
      "Iteration: 700. Average training loss: 0.0810. Accuracy: 0.855\n",
      "Iteration: 800. Average training loss: 0.0860. Accuracy: 0.855\n",
      "Iteration: 900. Average training loss: 0.0816. Accuracy: 0.855\n",
      "Iteration: 1000. Average training loss: 0.0838. Accuracy: 0.854\n",
      "Iteration: 1100. Average training loss: 0.0776. Accuracy: 0.855\n",
      "Iteration: 1200. Average training loss: 0.0761. Accuracy: 0.856\n",
      "Iteration: 1300. Average training loss: 0.0809. Accuracy: 0.855\n",
      "Iteration: 1400. Average training loss: 0.0840. Accuracy: 0.855\n"
     ]
    },
    {
     "data": {
      "application/vnd.jupyter.widget-view+json": {
       "model_id": "e1a64137aa6946749f10e80bb3989d32",
       "version_major": 2,
       "version_minor": 0
      },
      "text/plain": [
       "Evaluation:   0%|          | 0/357 [00:00<?, ?it/s]"
      ]
     },
     "metadata": {},
     "output_type": "display_data"
    },
    {
     "name": "stdout",
     "output_type": "stream",
     "text": [
      "Iteration: 100. Average evaluation loss: 0.0881. Accuracy: 0.84\n",
      "Iteration: 200. Average evaluation loss: 0.0924. Accuracy: 0.84\n",
      "Iteration: 300. Average evaluation loss: 0.0948. Accuracy: 0.83\n",
      "\n",
      "Epoch [14/30]: Train accuracy: 0.855. Train loss: 0.0811. Evaluation accuracy: 0.833. Evaluation loss: 0.0921\n",
      "\n",
      "Start epoch [15/30]\n"
     ]
    },
    {
     "data": {
      "application/vnd.jupyter.widget-view+json": {
       "model_id": "59b2432d81f24c5c9d3af1f84bee2f02",
       "version_major": 2,
       "version_minor": 0
      },
      "text/plain": [
       "Training:   0%|          | 0/1415 [00:00<?, ?it/s]"
      ]
     },
     "metadata": {},
     "output_type": "display_data"
    },
    {
     "name": "stdout",
     "output_type": "stream",
     "text": [
      "Iteration: 100. Average training loss: 0.0805. Accuracy: 0.853\n",
      "Iteration: 200. Average training loss: 0.0816. Accuracy: 0.855\n",
      "Iteration: 300. Average training loss: 0.0807. Accuracy: 0.854\n",
      "Iteration: 400. Average training loss: 0.0802. Accuracy: 0.853\n",
      "Iteration: 500. Average training loss: 0.0786. Accuracy: 0.855\n",
      "Iteration: 600. Average training loss: 0.0761. Accuracy: 0.856\n",
      "Iteration: 700. Average training loss: 0.0791. Accuracy: 0.856\n",
      "Iteration: 800. Average training loss: 0.0849. Accuracy: 0.856\n",
      "Iteration: 900. Average training loss: 0.0768. Accuracy: 0.857\n",
      "Iteration: 1000. Average training loss: 0.0845. Accuracy: 0.856\n",
      "Iteration: 1100. Average training loss: 0.0783. Accuracy: 0.856\n",
      "Iteration: 1200. Average training loss: 0.0748. Accuracy: 0.857\n",
      "Iteration: 1300. Average training loss: 0.0807. Accuracy: 0.856\n",
      "Iteration: 1400. Average training loss: 0.0805. Accuracy: 0.856\n"
     ]
    },
    {
     "data": {
      "application/vnd.jupyter.widget-view+json": {
       "model_id": "37c990a4eff84109bd10bdf0a7fdbd69",
       "version_major": 2,
       "version_minor": 0
      },
      "text/plain": [
       "Evaluation:   0%|          | 0/357 [00:00<?, ?it/s]"
      ]
     },
     "metadata": {},
     "output_type": "display_data"
    },
    {
     "name": "stdout",
     "output_type": "stream",
     "text": [
      "Iteration: 100. Average evaluation loss: 0.0874. Accuracy: 0.84\n",
      "Iteration: 200. Average evaluation loss: 0.0914. Accuracy: 0.84\n",
      "Iteration: 300. Average evaluation loss: 0.0941. Accuracy: 0.83\n",
      "\n",
      "Epoch [15/30]: Train accuracy: 0.856. Train loss: 0.0797. Evaluation accuracy: 0.832. Evaluation loss: 0.0914\n",
      "\n",
      "Start epoch [16/30]\n"
     ]
    },
    {
     "data": {
      "application/vnd.jupyter.widget-view+json": {
       "model_id": "ecf8b150908e498c94454397d361af23",
       "version_major": 2,
       "version_minor": 0
      },
      "text/plain": [
       "Training:   0%|          | 0/1415 [00:00<?, ?it/s]"
      ]
     },
     "metadata": {},
     "output_type": "display_data"
    },
    {
     "name": "stdout",
     "output_type": "stream",
     "text": [
      "Iteration: 100. Average training loss: 0.0785. Accuracy: 0.863\n",
      "Iteration: 200. Average training loss: 0.0818. Accuracy: 0.861\n",
      "Iteration: 300. Average training loss: 0.0784. Accuracy: 0.860\n",
      "Iteration: 400. Average training loss: 0.0794. Accuracy: 0.860\n",
      "Iteration: 500. Average training loss: 0.0752. Accuracy: 0.861\n",
      "Iteration: 600. Average training loss: 0.0771. Accuracy: 0.861\n",
      "Iteration: 700. Average training loss: 0.0770. Accuracy: 0.862\n",
      "Iteration: 800. Average training loss: 0.0831. Accuracy: 0.861\n",
      "Iteration: 900. Average training loss: 0.0746. Accuracy: 0.862\n",
      "Iteration: 1000. Average training loss: 0.0806. Accuracy: 0.861\n",
      "Iteration: 1100. Average training loss: 0.0768. Accuracy: 0.861\n",
      "Iteration: 1200. Average training loss: 0.0733. Accuracy: 0.862\n",
      "Iteration: 1300. Average training loss: 0.0761. Accuracy: 0.862\n",
      "Iteration: 1400. Average training loss: 0.0803. Accuracy: 0.862\n"
     ]
    },
    {
     "data": {
      "application/vnd.jupyter.widget-view+json": {
       "model_id": "8f5e6d1f4c3d4ee1a530817da72c2dec",
       "version_major": 2,
       "version_minor": 0
      },
      "text/plain": [
       "Evaluation:   0%|          | 0/357 [00:00<?, ?it/s]"
      ]
     },
     "metadata": {},
     "output_type": "display_data"
    },
    {
     "name": "stdout",
     "output_type": "stream",
     "text": [
      "Iteration: 100. Average evaluation loss: 0.0871. Accuracy: 0.84\n",
      "Iteration: 200. Average evaluation loss: 0.0903. Accuracy: 0.84\n",
      "Iteration: 300. Average evaluation loss: 0.0934. Accuracy: 0.84\n",
      "\n",
      "Epoch [16/30]: Train accuracy: 0.862. Train loss: 0.0780. Evaluation accuracy: 0.836. Evaluation loss: 0.0906\n",
      "\n",
      "Start epoch [17/30]\n"
     ]
    },
    {
     "data": {
      "application/vnd.jupyter.widget-view+json": {
       "model_id": "cbaf32c360d2417fadc6c5be08d85456",
       "version_major": 2,
       "version_minor": 0
      },
      "text/plain": [
       "Training:   0%|          | 0/1415 [00:00<?, ?it/s]"
      ]
     },
     "metadata": {},
     "output_type": "display_data"
    },
    {
     "name": "stdout",
     "output_type": "stream",
     "text": [
      "Iteration: 100. Average training loss: 0.0796. Accuracy: 0.858\n",
      "Iteration: 200. Average training loss: 0.0785. Accuracy: 0.859\n",
      "Iteration: 300. Average training loss: 0.0804. Accuracy: 0.858\n",
      "Iteration: 400. Average training loss: 0.0805. Accuracy: 0.858\n",
      "Iteration: 500. Average training loss: 0.0745. Accuracy: 0.860\n",
      "Iteration: 600. Average training loss: 0.0755. Accuracy: 0.861\n",
      "Iteration: 700. Average training loss: 0.0771. Accuracy: 0.861\n",
      "Iteration: 800. Average training loss: 0.0821. Accuracy: 0.861\n",
      "Iteration: 900. Average training loss: 0.0795. Accuracy: 0.860\n",
      "Iteration: 1000. Average training loss: 0.0789. Accuracy: 0.859\n",
      "Iteration: 1100. Average training loss: 0.0736. Accuracy: 0.860\n",
      "Iteration: 1200. Average training loss: 0.0732. Accuracy: 0.861\n",
      "Iteration: 1300. Average training loss: 0.0756. Accuracy: 0.861\n",
      "Iteration: 1400. Average training loss: 0.0796. Accuracy: 0.860\n"
     ]
    },
    {
     "data": {
      "application/vnd.jupyter.widget-view+json": {
       "model_id": "45a3b0846df0408ca27d2a5241860f94",
       "version_major": 2,
       "version_minor": 0
      },
      "text/plain": [
       "Evaluation:   0%|          | 0/357 [00:00<?, ?it/s]"
      ]
     },
     "metadata": {},
     "output_type": "display_data"
    },
    {
     "name": "stdout",
     "output_type": "stream",
     "text": [
      "Iteration: 100. Average evaluation loss: 0.0883. Accuracy: 0.84\n",
      "Iteration: 200. Average evaluation loss: 0.0922. Accuracy: 0.84\n",
      "Iteration: 300. Average evaluation loss: 0.0947. Accuracy: 0.84\n",
      "\n",
      "Epoch [17/30]: Train accuracy: 0.860. Train loss: 0.0777. Evaluation accuracy: 0.834. Evaluation loss: 0.0922\n",
      "\n",
      "Start epoch [18/30]\n"
     ]
    },
    {
     "data": {
      "application/vnd.jupyter.widget-view+json": {
       "model_id": "525c54021c6448e9803d86d67447347c",
       "version_major": 2,
       "version_minor": 0
      },
      "text/plain": [
       "Training:   0%|          | 0/1415 [00:00<?, ?it/s]"
      ]
     },
     "metadata": {},
     "output_type": "display_data"
    },
    {
     "name": "stdout",
     "output_type": "stream",
     "text": [
      "Iteration: 100. Average training loss: 0.0777. Accuracy: 0.861\n",
      "Iteration: 200. Average training loss: 0.0778. Accuracy: 0.863\n",
      "Iteration: 300. Average training loss: 0.0777. Accuracy: 0.862\n",
      "Iteration: 400. Average training loss: 0.0771. Accuracy: 0.862\n",
      "Iteration: 500. Average training loss: 0.0767. Accuracy: 0.862\n",
      "Iteration: 600. Average training loss: 0.0760. Accuracy: 0.862\n",
      "Iteration: 700. Average training loss: 0.0771. Accuracy: 0.862\n",
      "Iteration: 800. Average training loss: 0.0809. Accuracy: 0.861\n",
      "Iteration: 900. Average training loss: 0.0746. Accuracy: 0.862\n",
      "Iteration: 1000. Average training loss: 0.0790. Accuracy: 0.861\n",
      "Iteration: 1100. Average training loss: 0.0712. Accuracy: 0.862\n",
      "Iteration: 1200. Average training loss: 0.0728. Accuracy: 0.863\n",
      "Iteration: 1300. Average training loss: 0.0768. Accuracy: 0.863\n",
      "Iteration: 1400. Average training loss: 0.0803. Accuracy: 0.862\n"
     ]
    },
    {
     "data": {
      "application/vnd.jupyter.widget-view+json": {
       "model_id": "e0acd6b7260f4479a72a5ba3c80b692e",
       "version_major": 2,
       "version_minor": 0
      },
      "text/plain": [
       "Evaluation:   0%|          | 0/357 [00:00<?, ?it/s]"
      ]
     },
     "metadata": {},
     "output_type": "display_data"
    },
    {
     "name": "stdout",
     "output_type": "stream",
     "text": [
      "Iteration: 100. Average evaluation loss: 0.0890. Accuracy: 0.84\n",
      "Iteration: 200. Average evaluation loss: 0.0928. Accuracy: 0.84\n",
      "Iteration: 300. Average evaluation loss: 0.0946. Accuracy: 0.84\n",
      "\n",
      "Epoch [18/30]: Train accuracy: 0.862. Train loss: 0.0768. Evaluation accuracy: 0.835. Evaluation loss: 0.0925\n",
      "\n",
      "Start epoch [19/30]\n"
     ]
    },
    {
     "data": {
      "application/vnd.jupyter.widget-view+json": {
       "model_id": "0854fc28ad7c4ec6a5e1c9b58b23f4ee",
       "version_major": 2,
       "version_minor": 0
      },
      "text/plain": [
       "Training:   0%|          | 0/1415 [00:00<?, ?it/s]"
      ]
     },
     "metadata": {},
     "output_type": "display_data"
    },
    {
     "name": "stdout",
     "output_type": "stream",
     "text": [
      "Iteration: 100. Average training loss: 0.0771. Accuracy: 0.863\n",
      "Iteration: 200. Average training loss: 0.0774. Accuracy: 0.866\n",
      "Iteration: 300. Average training loss: 0.0760. Accuracy: 0.864\n",
      "Iteration: 400. Average training loss: 0.0760. Accuracy: 0.866\n",
      "Iteration: 500. Average training loss: 0.0754. Accuracy: 0.865\n",
      "Iteration: 600. Average training loss: 0.0743. Accuracy: 0.866\n",
      "Iteration: 700. Average training loss: 0.0749. Accuracy: 0.866\n",
      "Iteration: 800. Average training loss: 0.0786. Accuracy: 0.866\n",
      "Iteration: 900. Average training loss: 0.0764. Accuracy: 0.865\n",
      "Iteration: 1000. Average training loss: 0.0787. Accuracy: 0.865\n",
      "Iteration: 1100. Average training loss: 0.0702. Accuracy: 0.866\n",
      "Iteration: 1200. Average training loss: 0.0716. Accuracy: 0.866\n",
      "Iteration: 1300. Average training loss: 0.0730. Accuracy: 0.867\n",
      "Iteration: 1400. Average training loss: 0.0795. Accuracy: 0.866\n"
     ]
    },
    {
     "data": {
      "application/vnd.jupyter.widget-view+json": {
       "model_id": "03ebe0778ed146c19c78d4a6fabf2795",
       "version_major": 2,
       "version_minor": 0
      },
      "text/plain": [
       "Evaluation:   0%|          | 0/357 [00:00<?, ?it/s]"
      ]
     },
     "metadata": {},
     "output_type": "display_data"
    },
    {
     "name": "stdout",
     "output_type": "stream",
     "text": [
      "Iteration: 100. Average evaluation loss: 0.0887. Accuracy: 0.84\n",
      "Iteration: 200. Average evaluation loss: 0.0923. Accuracy: 0.84\n",
      "Iteration: 300. Average evaluation loss: 0.0949. Accuracy: 0.84\n",
      "\n",
      "Epoch [19/30]: Train accuracy: 0.866. Train loss: 0.0756. Evaluation accuracy: 0.835. Evaluation loss: 0.0926\n",
      "\n",
      "Training stoped by EarlyStopping\n"
     ]
    }
   ],
   "source": [
    "# Initialize parameters\n",
    "vocab_size = len(train_iterator.word2index)\n",
    "dmodel = 64\n",
    "output_size = 2\n",
    "padding_idx = train_iterator.word2index['<PAD>']\n",
    "n_layers = 4\n",
    "ffnn_hidden_size = dmodel * 2\n",
    "heads = 8\n",
    "pooling = 'max'\n",
    "dropout = 0.5\n",
    "label_smoothing = 0.1\n",
    "learning_rate = 0.001\n",
    "epochs = 30\n",
    "\n",
    "# Check whether system supports CUDA\n",
    "CUDA = torch.cuda.is_available()\n",
    "\n",
    "model = Transformer(vocab_size, dmodel, output_size, max_len, padding_idx, n_layers,\\\n",
    "                    ffnn_hidden_size, heads, pooling, dropout)\n",
    "\n",
    "# Move the model to GPU if possible\n",
    "if CUDA:\n",
    "    model.cuda()\n",
    "    \n",
    "# Add loss function    \n",
    "if label_smoothing:\n",
    "    loss_fn = LabelSmoothingLoss(output_size, label_smoothing)\n",
    "else:\n",
    "    loss_fn = nn.NLLLoss()\n",
    "    \n",
    "model.add_loss_fn(loss_fn)\n",
    "\n",
    "optimizer = torch.optim.Adam(model.parameters(), lr=learning_rate)\n",
    "model.add_optimizer(optimizer)\n",
    "\n",
    "device = torch.device('cuda' if CUDA else 'cpu')\n",
    "\n",
    "model.add_device(device)\n",
    "\n",
    "# Create the parameters dictionary and instantiate the tensorboardX SummaryWriter\n",
    "params = {'batch_size': batch_size,\n",
    "          'dmodel': dmodel,\n",
    "          'n_layers': n_layers,\n",
    "          'ffnn_hidden_size': ffnn_hidden_size,\n",
    "          'heads': heads,\n",
    "          'pooling': pooling,\n",
    "          'dropout': dropout,\n",
    "          'label_smoothing': label_smoothing,\n",
    "          'learning_rate': learning_rate}\n",
    "\n",
    "train_writer = SummaryWriter(comment=f' Training, batch_size={batch_size}, dmodel={dmodel}, n_layers={n_layers},\\\n",
    "ffnn_hidden_size={ffnn_hidden_size}, heads={heads}, pooling={pooling}, dropout={dropout}, \\\n",
    "label_smoothing={label_smoothing}, learning_rate={learning_rate}'.format(**params))\n",
    "\n",
    "val_writer = SummaryWriter(comment=f' Validation, batch_size={batch_size}, dmodel={dmodel}, n_layers={n_layers},\\\n",
    "ffnn_hidden_size={ffnn_hidden_size}, heads={heads}, pooling={pooling}, dropout={dropout}, \\\n",
    "label_smoothing={label_smoothing}, learning_rate={learning_rate}'.format(**params))\n",
    "\n",
    "# Instantiate the EarlyStopping\n",
    "early_stop = EarlyStopping(wait_epochs=3)\n",
    "\n",
    "train_losses_list, train_avg_loss_list, train_accuracy_list = [], [], []\n",
    "eval_avg_loss_list, eval_accuracy_list, conf_matrix_list = [], [], []\n",
    "\n",
    "for epoch in range(epochs):\n",
    "    \n",
    "    try:\n",
    "        print('\\nStart epoch [{}/{}]'.format(epoch+1, epochs))\n",
    "\n",
    "        train_losses, train_avg_loss, train_accuracy = model.train_model(train_iterator)\n",
    "\n",
    "        train_losses_list.append(train_losses)\n",
    "        train_avg_loss_list.append(train_avg_loss)\n",
    "        train_accuracy_list.append(train_accuracy)\n",
    "\n",
    "        _, eval_avg_loss, eval_accuracy, conf_matrix = model.evaluate_model(val_iterator)\n",
    "\n",
    "        eval_avg_loss_list.append(eval_avg_loss)\n",
    "        eval_accuracy_list.append(eval_accuracy)\n",
    "        conf_matrix_list.append(conf_matrix)\n",
    "\n",
    "        print('\\nEpoch [{}/{}]: Train accuracy: {:.3f}. Train loss: {:.4f}. Evaluation accuracy: {:.3f}. Evaluation loss: {:.4f}'\\\n",
    "              .format(epoch+1, epochs, train_accuracy, train_avg_loss, eval_accuracy, eval_avg_loss))\n",
    "\n",
    "        train_writer.add_scalar('Training loss', train_avg_loss, epoch)\n",
    "        val_writer.add_scalar('Validation loss', eval_avg_loss, epoch)\n",
    "\n",
    "        if early_stop.stop(eval_avg_loss, model, delta=0.003):\n",
    "            break\n",
    "\n",
    "    finally:\n",
    "        train_writer.close()\n",
    "        val_writer.close()\n"
   ]
  },
  {
   "cell_type": "code",
   "execution_count": 16,
   "metadata": {},
   "outputs": [
    {
     "data": {
      "image/png": "[encoded data removed]",
      "text/plain": [
       "<Figure size 432x432 with 2 Axes>"
      ]
     },
     "metadata": {
      "needs_background": "light"
     },
     "output_type": "display_data"
    }
   ],
   "source": [
    "# Confusion matrix\n",
    "plt.figure(figsize=(6,6))\n",
    "ax = sns.heatmap(conf_matrix, fmt='d', annot=True, linewidths=1, square=True)\n",
    "ax.set_xlabel('Predictions', size=12)\n",
    "ax.set_ylabel('True labels', size=12) \n",
    "ax.set_title('Confusion Matrix', size=12); \n",
    "ax.xaxis.set_ticklabels(['True', 'False'])\n",
    "ax.yaxis.set_ticklabels(['True', 'False'])\n",
    "ax.set_ylim(2,0)\n",
    "plt.show()"
   ]
  },
  {
   "cell_type": "markdown",
   "metadata": {},
   "source": [
    "### The generalization error"
   ]
  },
  {
   "cell_type": "code",
   "execution_count": 17,
   "metadata": {},
   "outputs": [],
   "source": [
    "# Import the dataset. Use clean_review and label columns\n",
    "test_dataset = pd.read_csv('drugreview/drugreview_feat_clean/test_feat_clean.csv',\n",
    "                          usecols=['clean_review', 'rating'])\n",
    "\n",
    "# Change columns order\n",
    "test_dataset['label'] = test_dataset.rating >= 5\n",
    "test_dataset = test_dataset[['clean_review', 'label']]"
   ]
  },
  {
   "cell_type": "code",
   "execution_count": 18,
   "metadata": {},
   "outputs": [
    {
     "data": {
      "text/html": [
       "<div>\n",
       "<style scoped>\n",
       "    .dataframe tbody tr th:only-of-type {\n",
       "        vertical-align: middle;\n",
       "    }\n",
       "\n",
       "    .dataframe tbody tr th {\n",
       "        vertical-align: top;\n",
       "    }\n",
       "\n",
       "    .dataframe thead th {\n",
       "        text-align: right;\n",
       "    }\n",
       "</style>\n",
       "<table border=\"1\" class=\"dataframe\">\n",
       "  <thead>\n",
       "    <tr style=\"text-align: right;\">\n",
       "      <th></th>\n",
       "      <th>clean_review</th>\n",
       "      <th>label</th>\n",
       "    </tr>\n",
       "  </thead>\n",
       "  <tbody>\n",
       "    <tr>\n",
       "      <td>0</td>\n",
       "      <td>i&amp;#039;ve tried antidepressants years citalopr...</td>\n",
       "      <td>True</td>\n",
       "    </tr>\n",
       "    <tr>\n",
       "      <td>1</td>\n",
       "      <td>son crohn&amp;#039;s disease asacol complaints sho...</td>\n",
       "      <td>True</td>\n",
       "    </tr>\n",
       "    <tr>\n",
       "      <td>2</td>\n",
       "      <td>quick reduction symptoms</td>\n",
       "      <td>True</td>\n",
       "    </tr>\n",
       "    <tr>\n",
       "      <td>3</td>\n",
       "      <td>contrave combines drugs alcohol smoking opioid...</td>\n",
       "      <td>True</td>\n",
       "    </tr>\n",
       "    <tr>\n",
       "      <td>4</td>\n",
       "      <td>birth control cycle reading reviews type simil...</td>\n",
       "      <td>True</td>\n",
       "    </tr>\n",
       "  </tbody>\n",
       "</table>\n",
       "</div>"
      ],
      "text/plain": [
       "                                        clean_review  label\n",
       "0  i&#039;ve tried antidepressants years citalopr...   True\n",
       "1  son crohn&#039;s disease asacol complaints sho...   True\n",
       "2                           quick reduction symptoms   True\n",
       "3  contrave combines drugs alcohol smoking opioid...   True\n",
       "4  birth control cycle reading reviews type simil...   True"
      ]
     },
     "execution_count": 18,
     "metadata": {},
     "output_type": "execute_result"
    }
   ],
   "source": [
    "test_dataset = test_dataset.dropna()\n",
    "test_dataset.head()"
   ]
  },
  {
   "cell_type": "code",
   "execution_count": 20,
   "metadata": {},
   "outputs": [
    {
     "name": "stdout",
     "output_type": "stream",
     "text": [
      "Trimmed vocabulary using as minimum count threashold: count = 3.00\n",
      "15210/40911 tokens has been retained\n",
      "Trimmed input strings vocabulary\n",
      "Trimmed input sequences lengths to the length of: 59\n",
      "Mapped words to indices\n",
      "Start creating glove_word2vector dictionary\n",
      "Extracted 13890/17168 of pre-trained word vectors.\n",
      "3278 vectors initialized to random numbers\n",
      "Weights vectors saved into glove/weights_train.npy\n",
      "Batches created\n"
     ]
    }
   ],
   "source": [
    "test_iterator = BatchIterator(test_dataset, batch_size=256, vocab_created=False, vocab=None, target_col=None,\n",
    "                              word2index=train_iterator.word2index, sos_token='<SOS>', eos_token='<EOS>',\n",
    "                              unk_token='<UNK>', pad_token='<PAD>', min_word_count=3, max_vocab_size=None,\n",
    "                              max_seq_len=0.9, use_pretrained_vectors=True, glove_path='glove/',\n",
    "                              glove_name='glove.6B.100d.txt', weights_file_name='glove/weights_train.npy')"
   ]
  },
  {
   "cell_type": "code",
   "execution_count": 21,
   "metadata": {},
   "outputs": [
    {
     "data": {
      "application/vnd.jupyter.widget-view+json": {
       "model_id": "c42d0261ec8841eeba36c3efdecdbfb1",
       "version_major": 2,
       "version_minor": 0
      },
      "text/plain": [
       "Evaluation:   0%|          | 0/189 [00:00<?, ?it/s]"
      ]
     },
     "metadata": {},
     "output_type": "display_data"
    },
    {
     "name": "stdout",
     "output_type": "stream",
     "text": [
      "Iteration: 100. Average evaluation loss: 0.0836. Accuracy: 0.85\n"
     ]
    }
   ],
   "source": [
    "_, test_avg_loss, test_accuracy, test_conf_matrix = model.evaluate_model(test_iterator)"
   ]
  },
  {
   "cell_type": "code",
   "execution_count": 22,
   "metadata": {},
   "outputs": [
    {
     "name": "stdout",
     "output_type": "stream",
     "text": [
      "Test accuracy: 0.852. Test error: 0.082\n"
     ]
    }
   ],
   "source": [
    "print('Test accuracy: {:.3f}. Test error: {:.3f}'.format(test_accuracy, test_avg_loss))"
   ]
  },
  {
   "cell_type": "code",
   "execution_count": 23,
   "metadata": {},
   "outputs": [
    {
     "data": {
      "image/png": "[encoded data removed]",
      "text/plain": [
       "<Figure size 432x432 with 2 Axes>"
      ]
     },
     "metadata": {
      "needs_background": "light"
     },
     "output_type": "display_data"
    }
   ],
   "source": [
    "# Confusion matrix\n",
    "plt.figure(figsize=(6,6))\n",
    "ax = sns.heatmap(test_conf_matrix, fmt='d', annot=True, linewidths=1, square=True)\n",
    "ax.set_xlabel('Predictions', size=12)\n",
    "ax.set_ylabel('True labels', size=12) \n",
    "ax.set_title('Confusion Matrix', size=12); \n",
    "ax.xaxis.set_ticklabels(['True', 'False'])\n",
    "ax.yaxis.set_ticklabels(['True', 'False'])\n",
    "ax.set_ylim(2,0)\n",
    "plt.show()"
   ]
  },
  {
   "cell_type": "code",
   "execution_count": null,
   "metadata": {},
   "outputs": [],
   "source": []
  },
  {
   "cell_type": "code",
   "execution_count": null,
   "metadata": {},
   "outputs": [],
   "source": []
  }
 ],
 "metadata": {
  "kernelspec": {
   "display_name": "py3.7",
   "language": "python",
   "name": "py3.7"
  },
  "language_info": {
   "codemirror_mode": {
    "name": "ipython",
    "version": 3
   },
   "file_extension": ".py",
   "mimetype": "text/x-python",
   "name": "python",
   "nbconvert_exporter": "python",
   "pygments_lexer": "ipython3",
   "version": "3.7.10"
  }
 },
 "nbformat": 4,
 "nbformat_minor": 2
}
