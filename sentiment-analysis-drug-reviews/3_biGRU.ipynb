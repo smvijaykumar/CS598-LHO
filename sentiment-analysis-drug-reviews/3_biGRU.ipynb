{
 "cells": [
  {
   "cell_type": "markdown",
   "metadata": {},
   "source": [
    "After the GRU layer we will concatenate both, the average pooling and max pooling of the hidden representation and the last hidden state of GRU in order to prevent our model from forgetting infromations. This architecture is described in the following paper: https://arxiv.org/pdf/1801.06146.pdf. There is also the possibility to get rid of the last hidden state from our model at all, this kind of architecture, that uses max-pooling or avg-pooling is depicted in the paper: https://arxiv.org/pdf/1705.02364.pdf."
   ]
  },
  {
   "cell_type": "markdown",
   "metadata": {},
   "source": [
    "### Building and training the model\n",
    "\n",
    "Let's start with importing all indispensable libraries."
   ]
  },
  {
   "cell_type": "code",
   "execution_count": 2,
   "metadata": {},
   "outputs": [],
   "source": [
    "from batch_iterator import BatchIterator\n",
    "from early_stopping import EarlyStopping\n",
    "import pandas as pd\n",
    "import torch\n",
    "import torch.nn as nn\n",
    "import torch.nn.functional as F\n",
    "from torch import device\n",
    "from tqdm import tqdm_notebook\n",
    "import numpy as np\n",
    "import matplotlib.pyplot as plt\n",
    "import seaborn as sns\n",
    "from sklearn.metrics import confusion_matrix\n",
    "from tensorboardX import SummaryWriter"
   ]
  },
  {
   "cell_type": "markdown",
   "metadata": {},
   "source": [
    "Now, we are going to load the tarining and validation sets, but we will use only the clean_review column and label column."
   ]
  },
  {
   "cell_type": "code",
   "execution_count": 3,
   "metadata": {},
   "outputs": [],
   "source": [
    "# Import the dataset. Use clean_review and label columns\n",
    "train_dataset = pd.read_csv('drugreview/drugreview_feat_clean/train_feat_clean.csv', \n",
    "                            usecols=['clean_review', 'rating'])\n",
    "\n",
    "# Change columns order\n",
    "train_dataset['label'] = train_dataset.rating >= 5\n",
    "train_dataset = train_dataset[['clean_review', 'label']]"
   ]
  },
  {
   "cell_type": "code",
   "execution_count": 4,
   "metadata": {},
   "outputs": [
    {
     "data": {
      "text/html": [
       "<div>\n",
       "<style scoped>\n",
       "    .dataframe tbody tr th:only-of-type {\n",
       "        vertical-align: middle;\n",
       "    }\n",
       "\n",
       "    .dataframe tbody tr th {\n",
       "        vertical-align: top;\n",
       "    }\n",
       "\n",
       "    .dataframe thead th {\n",
       "        text-align: right;\n",
       "    }\n",
       "</style>\n",
       "<table border=\"1\" class=\"dataframe\">\n",
       "  <thead>\n",
       "    <tr style=\"text-align: right;\">\n",
       "      <th></th>\n",
       "      <th>clean_review</th>\n",
       "      <th>label</th>\n",
       "    </tr>\n",
       "  </thead>\n",
       "  <tbody>\n",
       "    <tr>\n",
       "      <td>1</td>\n",
       "      <td>okay anxiety gotten worse past couple years po...</td>\n",
       "      <td>True</td>\n",
       "    </tr>\n",
       "    <tr>\n",
       "      <td>6</td>\n",
       "      <td>reading possible effects scary medicine gave l...</td>\n",
       "      <td>True</td>\n",
       "    </tr>\n",
       "    <tr>\n",
       "      <td>9</td>\n",
       "      <td>clonazepam effective controlling agitation pro...</td>\n",
       "      <td>True</td>\n",
       "    </tr>\n",
       "    <tr>\n",
       "      <td>11</td>\n",
       "      <td>experienced effects considering anorexia nervo...</td>\n",
       "      <td>True</td>\n",
       "    </tr>\n",
       "    <tr>\n",
       "      <td>12</td>\n",
       "      <td>i&amp;#039;ve gianvi months skin clear didn&amp;#039;t...</td>\n",
       "      <td>True</td>\n",
       "    </tr>\n",
       "  </tbody>\n",
       "</table>\n",
       "</div>"
      ],
      "text/plain": [
       "                                         clean_review  label\n",
       "1   okay anxiety gotten worse past couple years po...   True\n",
       "6   reading possible effects scary medicine gave l...   True\n",
       "9   clonazepam effective controlling agitation pro...   True\n",
       "11  experienced effects considering anorexia nervo...   True\n",
       "12  i&#039;ve gianvi months skin clear didn&#039;t...   True"
      ]
     },
     "execution_count": 4,
     "metadata": {},
     "output_type": "execute_result"
    }
   ],
   "source": [
    "# Depict the first 5 rows of the training set\n",
    "train_dataset = train_dataset.dropna()\n",
    "train_dataset.head()"
   ]
  },
  {
   "cell_type": "code",
   "execution_count": 6,
   "metadata": {},
   "outputs": [],
   "source": [
    "# Import the dataset. Use clean_review and label columns\n",
    "val_dataset = pd.read_csv('drugreview/drugreview_feat_clean/val_feat_clean.csv',\n",
    "                          usecols=['clean_review', 'rating'])\n",
    "\n",
    "# Change columns order\n",
    "\n",
    "val_dataset['label'] = val_dataset.rating >= 5\n",
    "val_dataset = val_dataset[['clean_review', 'label']]"
   ]
  },
  {
   "cell_type": "code",
   "execution_count": 7,
   "metadata": {},
   "outputs": [
    {
     "data": {
      "text/html": [
       "<div>\n",
       "<style scoped>\n",
       "    .dataframe tbody tr th:only-of-type {\n",
       "        vertical-align: middle;\n",
       "    }\n",
       "\n",
       "    .dataframe tbody tr th {\n",
       "        vertical-align: top;\n",
       "    }\n",
       "\n",
       "    .dataframe thead th {\n",
       "        text-align: right;\n",
       "    }\n",
       "</style>\n",
       "<table border=\"1\" class=\"dataframe\">\n",
       "  <thead>\n",
       "    <tr style=\"text-align: right;\">\n",
       "      <th></th>\n",
       "      <th>clean_review</th>\n",
       "      <th>label</th>\n",
       "    </tr>\n",
       "  </thead>\n",
       "  <tbody>\n",
       "    <tr>\n",
       "      <td>1</td>\n",
       "      <td>4yrs having nexaplon implant mental physical h...</td>\n",
       "      <td>False</td>\n",
       "    </tr>\n",
       "    <tr>\n",
       "      <td>4</td>\n",
       "      <td>l5 s1 lumbar herniated disc surgery weeks surg...</td>\n",
       "      <td>True</td>\n",
       "    </tr>\n",
       "    <tr>\n",
       "      <td>5</td>\n",
       "      <td>far lot acne clear tea tree broke decided birt...</td>\n",
       "      <td>True</td>\n",
       "    </tr>\n",
       "    <tr>\n",
       "      <td>6</td>\n",
       "      <td>insulin works fine trouble pen pain pen jammed...</td>\n",
       "      <td>False</td>\n",
       "    </tr>\n",
       "    <tr>\n",
       "      <td>7</td>\n",
       "      <td>nexplanon option work iud painful insert pills...</td>\n",
       "      <td>True</td>\n",
       "    </tr>\n",
       "  </tbody>\n",
       "</table>\n",
       "</div>"
      ],
      "text/plain": [
       "                                        clean_review  label\n",
       "1  4yrs having nexaplon implant mental physical h...  False\n",
       "4  l5 s1 lumbar herniated disc surgery weeks surg...   True\n",
       "5  far lot acne clear tea tree broke decided birt...   True\n",
       "6  insulin works fine trouble pen pain pen jammed...  False\n",
       "7  nexplanon option work iud painful insert pills...   True"
      ]
     },
     "execution_count": 7,
     "metadata": {},
     "output_type": "execute_result"
    }
   ],
   "source": [
    "# Depict the first 5 rows of the validation set\n",
    "val_dataset = val_dataset.dropna()\n",
    "val_dataset.head()"
   ]
  },
  {
   "cell_type": "markdown",
   "metadata": {},
   "source": [
    "Below we will use the BatchIterator class defined in the previous notebook to create the vocabulary, trim sequences in terms of the rare word occurrence and the length, map words to their numerical representation (word2index), furthermore BatchIterator sorts dataset examples, generates batches, performs sequence padding and enables to use it instance to iterate through all batches."
   ]
  },
  {
   "cell_type": "code",
   "execution_count": 9,
   "metadata": {},
   "outputs": [
    {
     "name": "stdout",
     "output_type": "stream",
     "text": [
      "Trimmed vocabulary using as minimum count threashold: count = 3.00\n",
      "14773/39267 tokens has been retained\n",
      "Trimmed input strings vocabulary\n",
      "Trimmed input sequences lengths to the length of: 59\n",
      "Mapped words to indices\n",
      "Start creating glove_word2vector dictionary\n",
      "Extracted 12312/14777 of pre-trained word vectors.\n",
      "2465 vectors initialized to random numbers\n",
      "Weights vectors saved into glove/weights_train.npy\n",
      "Batches created\n"
     ]
    }
   ],
   "source": [
    "train_iterator = BatchIterator(train_dataset, batch_size=256, vocab_created=False, vocab=None, target_col=None,\n",
    "                               word2index=None, sos_token='<SOS>', eos_token='<EOS>', unk_token='<UNK>',\n",
    "                               pad_token='<PAD>', min_word_count=3, max_vocab_size=None, max_seq_len=0.9,\n",
    "                               use_pretrained_vectors=True, glove_path='glove/', glove_name='glove.6B.100d.txt',\n",
    "                               weights_file_name='glove/weights_train.npy')"
   ]
  },
  {
   "cell_type": "code",
   "execution_count": 10,
   "metadata": {},
   "outputs": [
    {
     "name": "stdout",
     "output_type": "stream",
     "text": [
      "Trimmed vocabulary using as minimum count threashold: count = 3.00\n",
      "7720/19770 tokens has been retained\n",
      "Trimmed input strings vocabulary\n",
      "Trimmed input sequences lengths to the length of: 58\n",
      "Mapped words to indices\n",
      "Start creating glove_word2vector dictionary\n",
      "Extracted 12475/15036 of pre-trained word vectors.\n",
      "2561 vectors initialized to random numbers\n",
      "Weights vectors saved into glove/weights_val.npy\n",
      "Batches created\n"
     ]
    }
   ],
   "source": [
    "val_iterator = BatchIterator(val_dataset, batch_size=256, vocab_created=False, vocab=None, target_col=None,\n",
    "                             word2index=train_iterator.word2index, sos_token='<SOS>', eos_token='<EOS>',\n",
    "                             unk_token='<UNK>', pad_token='<PAD>', min_word_count=3, max_vocab_size=None,\n",
    "                             max_seq_len=0.9, use_pretrained_vectors=True, glove_path='glove/',\n",
    "                             glove_name='glove.6B.100d.txt', weights_file_name='glove/weights_val.npy')"
   ]
  },
  {
   "cell_type": "markdown",
   "metadata": {},
   "source": [
    "We have to check out how batches that we created look like before we pass them into the model. For the record, the set of batches for input and output variables is returned as a dictionary, thus we will just look at the dictionary keys to find out how to extract particular variables."
   ]
  },
  {
   "cell_type": "code",
   "execution_count": 11,
   "metadata": {},
   "outputs": [
    {
     "name": "stdout",
     "output_type": "stream",
     "text": [
      "dict_keys(['input_seq', 'target', 'x_lengths'])\n"
     ]
    }
   ],
   "source": [
    "for batches in train_iterator:\n",
    "    print(batches.keys())\n",
    "    break"
   ]
  },
  {
   "cell_type": "markdown",
   "metadata": {},
   "source": [
    "Notice that the output batch has the dimensions: (batch_size, seq_len)"
   ]
  },
  {
   "cell_type": "code",
   "execution_count": 12,
   "metadata": {},
   "outputs": [
    {
     "name": "stdout",
     "output_type": "stream",
     "text": [
      "input_seq shape:  torch.Size([256, 16])\n",
      "target shape:  torch.Size([256])\n",
      "x_lengths shape:  torch.Size([256])\n"
     ]
    }
   ],
   "source": [
    "for batches in train_iterator:\n",
    "    # Unpack the dictionary of batches\n",
    "    input_seq, target, x_lengths = batches['input_seq'], batches['target'], batches['x_lengths']\n",
    "    print('input_seq shape: ', input_seq.size())\n",
    "    print('target shape: ', target.size())\n",
    "    print('x_lengths shape: ', x_lengths.size())\n",
    "    break"
   ]
  },
  {
   "cell_type": "code",
   "execution_count": 13,
   "metadata": {},
   "outputs": [
    {
     "name": "stdout",
     "output_type": "stream",
     "text": [
      "input_seq shape:  torch.Size([256, 17])\n",
      "target shape:  torch.Size([256])\n",
      "x_lengths shape:  torch.Size([256])\n"
     ]
    }
   ],
   "source": [
    "for batches in val_iterator:\n",
    "    # Unpack the dictionary of batches\n",
    "    input_seq, target, x_lengths = batches['input_seq'], batches['target'], batches['x_lengths']\n",
    "    print('input_seq shape: ', input_seq.size())\n",
    "    print('target shape: ', target.size())\n",
    "    print('x_lengths shape: ', x_lengths.size())\n",
    "    break"
   ]
  },
  {
   "cell_type": "markdown",
   "metadata": {},
   "source": [
    "Next step is to build the biGRU model."
   ]
  },
  {
   "cell_type": "code",
   "execution_count": 21,
   "metadata": {},
   "outputs": [],
   "source": [
    "class BiGRU(nn.Module):\n",
    "    \"\"\"BiDirectional GRU neural network model.\n",
    "        \n",
    "    Parameters\n",
    "    ----------\n",
    "    hidden_size: int\n",
    "        Number of features in the hidden state.\n",
    "    vocab_size: int\n",
    "        The size of the vocabulary.\n",
    "    embedding_dim: int\n",
    "        The size of each embedding vector.\n",
    "    output_size: int\n",
    "        Number of classes.\n",
    "    n_layers: int, optional (default=1)\n",
    "        Number of stacked recurrent layers.\n",
    "    dropout: float, optional (default=0.2)\n",
    "        Probability of an element of the tensor to be zeroed.\n",
    "    spatial_dropout: boolean, optional (default=True)\n",
    "        Whether to use the spatial dropout.\n",
    "    bidirectional: boolean, optional (default=True)\n",
    "        Whether to use the bidirectional GRU.\n",
    "\n",
    "    \"\"\"\n",
    "    \n",
    "    def __init__(self, hidden_size, vocab_size, embedding_dim, output_size, n_layers=1, dropout=0.2,\n",
    "                 spatial_dropout=True, bidirectional=True):\n",
    "        \n",
    "        # Inherit everything from the nn.Module\n",
    "        super(BiGRU, self).__init__()\n",
    "        \n",
    "        # Initialize attributes\n",
    "        self.hidden_size = hidden_size\n",
    "        self.vocab_size = vocab_size\n",
    "        self.embedding_dim = embedding_dim\n",
    "        self.output_size = output_size\n",
    "        self.n_layers = n_layers\n",
    "        self.dropout_p = dropout\n",
    "        self.spatial_dropout = spatial_dropout\n",
    "        self.bidirectional = bidirectional\n",
    "        self.n_directions = 2 if self.bidirectional else 1\n",
    "        \n",
    "        # Initialize layers\n",
    "        self.embedding = nn.Embedding(self.vocab_size, self.embedding_dim)\n",
    "        self.dropout = nn.Dropout(self.dropout_p)\n",
    "        if self.spatial_dropout:\n",
    "            self.spatial_dropout1d = nn.Dropout2d(self.dropout_p)\n",
    "        self.gru = nn.GRU(self.embedding_dim, self.hidden_size, num_layers=self.n_layers, \n",
    "                          dropout=(0 if n_layers == 1 else self.dropout_p), batch_first=True,\n",
    "                          bidirectional=self.bidirectional)\n",
    "        # Linear layer input size is equal to hidden_size * 3, becuase\n",
    "        # we will concatenate max_pooling ,avg_pooling and last hidden state\n",
    "        self.linear = nn.Linear(self.hidden_size * 3, self.output_size)\n",
    "\n",
    "        \n",
    "    def forward(self, input_seq, input_lengths, hidden=None):\n",
    "        \"\"\"Forward propagate through the neural network model.\n",
    "        \n",
    "        Parameters\n",
    "        ----------\n",
    "        input_seq: torch.Tensor\n",
    "            Batch of input sequences.\n",
    "        input_lengths: torch.LongTensor\n",
    "            Batch containing sequences lengths.\n",
    "        hidden: torch.FloatTensor, optional (default=None)\n",
    "            Tensor containing initial hidden state.\n",
    "            \n",
    "        Returns\n",
    "        -------\n",
    "        torch.Tensor\n",
    "            Logarithm of softmaxed input tensor.\n",
    "        \n",
    "        \"\"\"\n",
    "        # Extract batch_size\n",
    "        self.batch_size = input_seq.size(0)\n",
    "        \n",
    "        # Embeddings shapes\n",
    "        # Input: (batch_size,  seq_length)\n",
    "        # Output: (batch_size, seq_length, embedding_dim)\n",
    "        emb_out = self.embedding(input_seq)\n",
    "        \n",
    "        if self.spatial_dropout:\n",
    "            # Convert to (batch_size, embedding_dim, seq_length)\n",
    "            emb_out = emb_out.permute(0, 2, 1)\n",
    "            emb_out = self.spatial_dropout1d(emb_out)\n",
    "            # Convert back to (batch_size, seq_length, embedding_dim)\n",
    "            emb_out = emb_out.permute(0, 2, 1)\n",
    "        else:\n",
    "            emb_out = self.dropout(emb_out)\n",
    "        \n",
    "        # Pack padded batch of sequences for RNN module\n",
    "        packed_emb = nn.utils.rnn.pack_padded_sequence(emb_out, input_lengths, batch_first=True)\n",
    "                \n",
    "        # GRU input/output shapes, if batch_first=True\n",
    "        # Input: (batch_size, seq_len, embedding_dim)\n",
    "        # Output: (batch_size, seq_len, hidden_size*num_directions)\n",
    "        # Number of directions = 2 when used bidirectional, otherwise 1\n",
    "        # shape of hidden: (n_layers x num_directions, batch_size, hidden_size)\n",
    "        # Hidden state defaults to zero if not provided\n",
    "        gru_out, hidden = self.gru(packed_emb, hidden)\n",
    "        # gru_out: tensor containing the output features h_t from the last layer of the GRU\n",
    "        # gru_out comprises all the hidden states in the last layer (\"last\" depth-wise, not time-wise)\n",
    "        # For biGRu gru_out is the concatenation of a forward GRU representation and a backward GRU representation\n",
    "        # hidden (h_n) comprises the hidden states after the last timestep\n",
    "        \n",
    "        # Extract and sum last hidden state\n",
    "        # Input hidden shape: (n_layers x num_directions, batch_size, hidden_size)\n",
    "        # Separate hidden state layers\n",
    "        hidden = hidden.view(self.n_layers, self.n_directions, self.batch_size, self.hidden_size)\n",
    "        last_hidden = hidden[-1]\n",
    "        # last hidden shape (num_directions, batch_size, hidden_size)\n",
    "        # Sum the last hidden state of forward and backward layer\n",
    "        last_hidden = torch.sum(last_hidden, dim=0)\n",
    "        # Summed last hidden shape (batch_size, hidden_size)\n",
    "        \n",
    "        # Pad a packed batch\n",
    "        # gru_out output shape: (batch_size, seq_len, hidden_size*num_directions)\n",
    "        gru_out, lengths = nn.utils.rnn.pad_packed_sequence(gru_out, batch_first=True)\n",
    "              \n",
    "        # Sum the gru_out along the num_directions\n",
    "        if self.bidirectional:\n",
    "            gru_out = gru_out[:,:,:self.hidden_size] + gru_out[:,:,self.hidden_size:]\n",
    "        \n",
    "        # Select the maximum value over each dimension of the hidden representation (max pooling)\n",
    "        # Permute the input tensor to dimensions: (batch_size, hidden, seq_len)\n",
    "        # Output dimensions: (batch_size, hidden_size)\n",
    "        max_pool = F.adaptive_max_pool1d(gru_out.permute(0,2,1), (1,)).view(self.batch_size,-1)\n",
    "        \n",
    "        # Consider the average of the representations (mean pooling)\n",
    "        # Sum along the batch axis and divide by the corresponding lengths (FloatTensor)\n",
    "        # Output shape: (batch_size, hidden_size)\n",
    "        avg_pool = torch.sum(gru_out, dim=1) / lengths.view(-1,1).type(torch.FloatTensor) \n",
    "\n",
    "        # Concatenate max_pooling, avg_pooling and last hidden state tensors\n",
    "        concat_out = torch.cat([last_hidden, max_pool, avg_pool], dim=1)\n",
    "\n",
    "        #concat_out = self.dropout(concat_out)\n",
    "        out = self.linear(concat_out)\n",
    "        return F.log_softmax(out, dim=-1)\n",
    "    \n",
    "    \n",
    "    def add_loss_fn(self, loss_fn):\n",
    "        \"\"\"Add loss function to the model.\n",
    "        \n",
    "        \"\"\"\n",
    "        self.loss_fn = loss_fn\n",
    "        \n",
    "\n",
    "    def add_optimizer(self, optimizer):\n",
    "        \"\"\"Add optimizer to the model.\n",
    "        \n",
    "        \"\"\"\n",
    "        self.optimizer = optimizer\n",
    "        \n",
    "        \n",
    "    def add_device(self, device=torch.device('cpu')):\n",
    "        \"\"\"Specify the device.\n",
    "        \n",
    "        \"\"\"\n",
    "        self.device = device\n",
    "    \n",
    "    \n",
    "    def train_model(self, train_iterator):\n",
    "        \"\"\"Perform single training epoch.\n",
    "        \n",
    "        Parameters\n",
    "        ----------\n",
    "        train_iterator: BatchIterator\n",
    "            BatchIterator class object containing training batches.\n",
    "            \n",
    "        Returns\n",
    "        -------\n",
    "        train_losses: list\n",
    "            List of the training average batch losses.\n",
    "        avg_loss: float\n",
    "            Average loss on the entire training set.\n",
    "        accuracy: float\n",
    "            Models accuracy on the entire training set.\n",
    "            \n",
    "        \"\"\"\n",
    "        self.train()\n",
    "        \n",
    "        train_losses = []\n",
    "        losses = []\n",
    "        losses_list = []\n",
    "        num_seq = 0\n",
    "        batch_correct = 0\n",
    "            \n",
    "        for i, batches in tqdm_notebook(enumerate(train_iterator, 1), total=len(train_iterator), desc='Training'):\n",
    "            input_seq, target, x_lengths = batches['input_seq'], batches['target'], batches['x_lengths']\n",
    "            \n",
    "            input_seq.to(self.device)\n",
    "            target.to(self.device)\n",
    "            x_lengths.to(self.device)\n",
    "            \n",
    "            self.optimizer.zero_grad()\n",
    "\n",
    "            pred = self.forward(input_seq, x_lengths)\n",
    "            loss = self.loss_fn(pred, target)\n",
    "            loss.backward()\n",
    "            losses.append(loss.data.cpu().numpy())\n",
    "            self.optimizer.step()\n",
    "            \n",
    "            losses_list.append(loss.data.cpu().numpy())\n",
    "            \n",
    "            pred = torch.argmax(pred, 1)\n",
    "\n",
    "            if self.device.type == 'cpu':\n",
    "                batch_correct += (pred.cpu() == target.cpu()).sum().item()\n",
    "\n",
    "            else:\n",
    "                batch_correct += (pred == target).sum().item()\n",
    "\n",
    "            num_seq += len(input_seq)     \n",
    "    \n",
    "            if i % 100 == 0:\n",
    "                avg_train_loss = np.mean(losses)\n",
    "                train_losses.append(avg_train_loss)\n",
    "                \n",
    "                accuracy = batch_correct / num_seq\n",
    "                \n",
    "                print('Iteration: {}. Average training loss: {:.4f}. Accuracy: {:.3f}'\\\n",
    "                      .format(i, avg_train_loss, accuracy))\n",
    "                \n",
    "                losses = []\n",
    "                \n",
    "            avg_loss = np.mean(losses_list)\n",
    "            accuracy = batch_correct / num_seq\n",
    "                              \n",
    "        return train_losses, avg_loss, accuracy\n",
    "    \n",
    "    \n",
    "    def evaluate_model(self, eval_iterator, conf_mtx=False):\n",
    "        \"\"\"Perform the one evaluation epoch.\n",
    "        \n",
    "        Parameters\n",
    "        ----------\n",
    "        eval_iterator: BatchIterator\n",
    "            BatchIterator class object containing evaluation batches.\n",
    "        conf_mtx: boolean, optional (default=False)\n",
    "            Whether to print the confusion matrix at each epoch.\n",
    "            \n",
    "        Returns\n",
    "        -------\n",
    "        eval_losses: list\n",
    "            List of the evaluation average batch losses.\n",
    "        avg_loss: float\n",
    "            Average loss on the entire evaluation set.\n",
    "        accuracy: float\n",
    "            Models accuracy on the entire evaluation set.\n",
    "        conf_matrix: list\n",
    "            Confusion matrix.\n",
    "            \n",
    "        \"\"\"\n",
    "        self.eval()\n",
    "        \n",
    "        eval_losses = []\n",
    "        losses = []\n",
    "        losses_list = []\n",
    "        num_seq = 0\n",
    "        batch_correct = 0\n",
    "        pred_total = torch.LongTensor()\n",
    "        target_total = torch.LongTensor()\n",
    "        \n",
    "        with torch.no_grad():\n",
    "            for i, batches in tqdm_notebook(enumerate(eval_iterator, 1), total=len(eval_iterator), desc='Evaluation'):\n",
    "                input_seq, target, x_lengths = batches['input_seq'], batches['target'], batches['x_lengths']\n",
    "                \n",
    "                input_seq.to(self.device)\n",
    "                target.to(self.device)\n",
    "                x_lengths.to(self.device)\n",
    "\n",
    "                pred = self.forward(input_seq, x_lengths)\n",
    "                loss = self.loss_fn(pred, target)\n",
    "                losses.append(loss.data.cpu().numpy())\n",
    "                losses_list.append(loss.data.cpu().numpy())\n",
    "                \n",
    "                pred = torch.argmax(pred, 1)\n",
    "                                \n",
    "                if self.device.type == 'cpu':\n",
    "                    batch_correct += (pred.cpu() == target.cpu()).sum().item()\n",
    "                    \n",
    "                else:\n",
    "                    batch_correct += (pred == target).sum().item()\n",
    "                    \n",
    "                num_seq += len(input_seq)     \n",
    "                \n",
    "                pred_total = torch.cat([pred_total, pred], dim=0)\n",
    "                target_total = torch.cat([target_total, target], dim=0)\n",
    "                \n",
    "                if i % 100 == 0:\n",
    "                    avg_batch_eval_loss = np.mean(losses)\n",
    "                    eval_losses.append(avg_batch_eval_loss)\n",
    "                    \n",
    "                    accuracy = batch_correct / num_seq\n",
    "                    \n",
    "                    print('Iteration: {}. Average evaluation loss: {:.4f}. Accuracy: {:.2f}'\\\n",
    "                          .format(i, avg_batch_eval_loss, accuracy))\n",
    "\n",
    "                    losses = []\n",
    "                    \n",
    "            avg_loss_list = []\n",
    "                    \n",
    "            avg_loss = np.mean(losses_list)\n",
    "            accuracy = batch_correct / num_seq\n",
    "            \n",
    "            conf_matrix = confusion_matrix(target_total.view(-1), pred_total.view(-1))\n",
    "        \n",
    "        if conf_mtx:\n",
    "            print('\\tConfusion matrix: ', conf_matrix)\n",
    "            \n",
    "        return eval_losses, avg_loss, accuracy, conf_matrix\n"
   ]
  },
  {
   "cell_type": "markdown",
   "metadata": {},
   "source": [
    "Now we will instantiate the model, add loss function, optimizer, and device to it and begin the training."
   ]
  },
  {
   "cell_type": "code",
   "execution_count": 22,
   "metadata": {},
   "outputs": [
    {
     "name": "stdout",
     "output_type": "stream",
     "text": [
      "\n",
      "Start epoch [1/20]\n"
     ]
    },
    {
     "data": {
      "application/vnd.jupyter.widget-view+json": {
       "model_id": "3d483b428c774e39b2010ff0dda92b63",
       "version_major": 2,
       "version_minor": 0
      },
      "text/plain": [
       "Training:   0%|          | 0/177 [00:00<?, ?it/s]"
      ]
     },
     "metadata": {},
     "output_type": "display_data"
    },
    {
     "name": "stdout",
     "output_type": "stream",
     "text": [
      "Iteration: 100. Average training loss: 0.5867. Accuracy: 0.723\n"
     ]
    },
    {
     "data": {
      "application/vnd.jupyter.widget-view+json": {
       "model_id": "242a7f18db204807a44613826b103bb7",
       "version_major": 2,
       "version_minor": 0
      },
      "text/plain": [
       "Evaluation:   0%|          | 0/45 [00:00<?, ?it/s]"
      ]
     },
     "metadata": {},
     "output_type": "display_data"
    },
    {
     "name": "stdout",
     "output_type": "stream",
     "text": [
      "\n",
      "Epoch [1/20]: Train accuracy: 0.735. Train loss: 0.5738. Evaluation accuracy: 0.750. Evaluation loss: 0.5389\n",
      "\n",
      "Start epoch [2/20]\n"
     ]
    },
    {
     "data": {
      "application/vnd.jupyter.widget-view+json": {
       "model_id": "d4173b68f578415fa0cac7bc2f0652ee",
       "version_major": 2,
       "version_minor": 0
      },
      "text/plain": [
       "Training:   0%|          | 0/177 [00:00<?, ?it/s]"
      ]
     },
     "metadata": {},
     "output_type": "display_data"
    },
    {
     "name": "stdout",
     "output_type": "stream",
     "text": [
      "Iteration: 100. Average training loss: 0.5449. Accuracy: 0.752\n"
     ]
    },
    {
     "data": {
      "application/vnd.jupyter.widget-view+json": {
       "model_id": "a608a059099c4cf3b6afd56ea02de701",
       "version_major": 2,
       "version_minor": 0
      },
      "text/plain": [
       "Evaluation:   0%|          | 0/45 [00:00<?, ?it/s]"
      ]
     },
     "metadata": {},
     "output_type": "display_data"
    },
    {
     "name": "stdout",
     "output_type": "stream",
     "text": [
      "\n",
      "Epoch [2/20]: Train accuracy: 0.753. Train loss: 0.5382. Evaluation accuracy: 0.760. Evaluation loss: 0.4951\n",
      "\n",
      "Start epoch [3/20]\n"
     ]
    },
    {
     "data": {
      "application/vnd.jupyter.widget-view+json": {
       "model_id": "b74d185c95aa4221b42b80730974ec4b",
       "version_major": 2,
       "version_minor": 0
      },
      "text/plain": [
       "Training:   0%|          | 0/177 [00:00<?, ?it/s]"
      ]
     },
     "metadata": {},
     "output_type": "display_data"
    },
    {
     "name": "stdout",
     "output_type": "stream",
     "text": [
      "Iteration: 100. Average training loss: 0.5167. Accuracy: 0.758\n"
     ]
    },
    {
     "data": {
      "application/vnd.jupyter.widget-view+json": {
       "model_id": "96b7edc3eae348889b580ace049b10e4",
       "version_major": 2,
       "version_minor": 0
      },
      "text/plain": [
       "Evaluation:   0%|          | 0/45 [00:00<?, ?it/s]"
      ]
     },
     "metadata": {},
     "output_type": "display_data"
    },
    {
     "name": "stdout",
     "output_type": "stream",
     "text": [
      "\n",
      "Epoch [3/20]: Train accuracy: 0.763. Train loss: 0.5071. Evaluation accuracy: 0.788. Evaluation loss: 0.4516\n",
      "\n",
      "Start epoch [4/20]\n"
     ]
    },
    {
     "data": {
      "application/vnd.jupyter.widget-view+json": {
       "model_id": "65e8f4042a454f0d9a39f95a1ae12ecb",
       "version_major": 2,
       "version_minor": 0
      },
      "text/plain": [
       "Training:   0%|          | 0/177 [00:00<?, ?it/s]"
      ]
     },
     "metadata": {},
     "output_type": "display_data"
    },
    {
     "name": "stdout",
     "output_type": "stream",
     "text": [
      "Iteration: 100. Average training loss: 0.4851. Accuracy: 0.773\n"
     ]
    },
    {
     "data": {
      "application/vnd.jupyter.widget-view+json": {
       "model_id": "9ff9c4bc8cee4d1e97f06ab5e6807eef",
       "version_major": 2,
       "version_minor": 0
      },
      "text/plain": [
       "Evaluation:   0%|          | 0/45 [00:00<?, ?it/s]"
      ]
     },
     "metadata": {},
     "output_type": "display_data"
    },
    {
     "name": "stdout",
     "output_type": "stream",
     "text": [
      "\n",
      "Epoch [4/20]: Train accuracy: 0.778. Train loss: 0.4778. Evaluation accuracy: 0.805. Evaluation loss: 0.4267\n",
      "\n",
      "Start epoch [5/20]\n"
     ]
    },
    {
     "data": {
      "application/vnd.jupyter.widget-view+json": {
       "model_id": "bf871ccd10a6465ebc9749ae18941268",
       "version_major": 2,
       "version_minor": 0
      },
      "text/plain": [
       "Training:   0%|          | 0/177 [00:00<?, ?it/s]"
      ]
     },
     "metadata": {},
     "output_type": "display_data"
    },
    {
     "name": "stdout",
     "output_type": "stream",
     "text": [
      "Iteration: 100. Average training loss: 0.4601. Accuracy: 0.787\n"
     ]
    },
    {
     "data": {
      "application/vnd.jupyter.widget-view+json": {
       "model_id": "59f7d98fe04046b49445e00db526c375",
       "version_major": 2,
       "version_minor": 0
      },
      "text/plain": [
       "Evaluation:   0%|          | 0/45 [00:00<?, ?it/s]"
      ]
     },
     "metadata": {},
     "output_type": "display_data"
    },
    {
     "name": "stdout",
     "output_type": "stream",
     "text": [
      "\n",
      "Epoch [5/20]: Train accuracy: 0.790. Train loss: 0.4553. Evaluation accuracy: 0.814. Evaluation loss: 0.4139\n",
      "\n",
      "Start epoch [6/20]\n"
     ]
    },
    {
     "data": {
      "application/vnd.jupyter.widget-view+json": {
       "model_id": "b400c3c66fac45448426e6abb77f6844",
       "version_major": 2,
       "version_minor": 0
      },
      "text/plain": [
       "Training:   0%|          | 0/177 [00:00<?, ?it/s]"
      ]
     },
     "metadata": {},
     "output_type": "display_data"
    },
    {
     "name": "stdout",
     "output_type": "stream",
     "text": [
      "Iteration: 100. Average training loss: 0.4396. Accuracy: 0.798\n"
     ]
    },
    {
     "data": {
      "application/vnd.jupyter.widget-view+json": {
       "model_id": "0c541dbce9dc4e0885c8cc48161cb237",
       "version_major": 2,
       "version_minor": 0
      },
      "text/plain": [
       "Evaluation:   0%|          | 0/45 [00:00<?, ?it/s]"
      ]
     },
     "metadata": {},
     "output_type": "display_data"
    },
    {
     "name": "stdout",
     "output_type": "stream",
     "text": [
      "\n",
      "Epoch [6/20]: Train accuracy: 0.801. Train loss: 0.4363. Evaluation accuracy: 0.821. Evaluation loss: 0.4061\n",
      "\n",
      "Start epoch [7/20]\n"
     ]
    },
    {
     "data": {
      "application/vnd.jupyter.widget-view+json": {
       "model_id": "f7fbd75f853f48b7b6975b5ab4500b8f",
       "version_major": 2,
       "version_minor": 0
      },
      "text/plain": [
       "Training:   0%|          | 0/177 [00:00<?, ?it/s]"
      ]
     },
     "metadata": {},
     "output_type": "display_data"
    },
    {
     "name": "stdout",
     "output_type": "stream",
     "text": [
      "Iteration: 100. Average training loss: 0.4240. Accuracy: 0.806\n"
     ]
    },
    {
     "data": {
      "application/vnd.jupyter.widget-view+json": {
       "model_id": "78c049e651454c3b8bbd14733e519509",
       "version_major": 2,
       "version_minor": 0
      },
      "text/plain": [
       "Evaluation:   0%|          | 0/45 [00:00<?, ?it/s]"
      ]
     },
     "metadata": {},
     "output_type": "display_data"
    },
    {
     "name": "stdout",
     "output_type": "stream",
     "text": [
      "\n",
      "Epoch [7/20]: Train accuracy: 0.808. Train loss: 0.4216. Evaluation accuracy: 0.825. Evaluation loss: 0.4018\n",
      "\n",
      "Start epoch [8/20]\n"
     ]
    },
    {
     "data": {
      "application/vnd.jupyter.widget-view+json": {
       "model_id": "279e30bd7a2147f89338253de695e427",
       "version_major": 2,
       "version_minor": 0
      },
      "text/plain": [
       "Training:   0%|          | 0/177 [00:00<?, ?it/s]"
      ]
     },
     "metadata": {},
     "output_type": "display_data"
    },
    {
     "name": "stdout",
     "output_type": "stream",
     "text": [
      "Iteration: 100. Average training loss: 0.4152. Accuracy: 0.812\n"
     ]
    },
    {
     "data": {
      "application/vnd.jupyter.widget-view+json": {
       "model_id": "cd4fb1674f7b4cdd9c9b9a957d07f316",
       "version_major": 2,
       "version_minor": 0
      },
      "text/plain": [
       "Evaluation:   0%|          | 0/45 [00:00<?, ?it/s]"
      ]
     },
     "metadata": {},
     "output_type": "display_data"
    },
    {
     "name": "stdout",
     "output_type": "stream",
     "text": [
      "\n",
      "Epoch [8/20]: Train accuracy: 0.813. Train loss: 0.4121. Evaluation accuracy: 0.826. Evaluation loss: 0.3997\n",
      "\n",
      "Start epoch [9/20]\n"
     ]
    },
    {
     "data": {
      "application/vnd.jupyter.widget-view+json": {
       "model_id": "bf487367e5ab4b8daf5e1bfc434b6730",
       "version_major": 2,
       "version_minor": 0
      },
      "text/plain": [
       "Training:   0%|          | 0/177 [00:00<?, ?it/s]"
      ]
     },
     "metadata": {},
     "output_type": "display_data"
    },
    {
     "name": "stdout",
     "output_type": "stream",
     "text": [
      "Iteration: 100. Average training loss: 0.4039. Accuracy: 0.816\n"
     ]
    },
    {
     "data": {
      "application/vnd.jupyter.widget-view+json": {
       "model_id": "b20d0faa53464705bf69525dad9bb6b7",
       "version_major": 2,
       "version_minor": 0
      },
      "text/plain": [
       "Evaluation:   0%|          | 0/45 [00:00<?, ?it/s]"
      ]
     },
     "metadata": {},
     "output_type": "display_data"
    },
    {
     "name": "stdout",
     "output_type": "stream",
     "text": [
      "\n",
      "Epoch [9/20]: Train accuracy: 0.819. Train loss: 0.4022. Evaluation accuracy: 0.828. Evaluation loss: 0.3982\n",
      "\n",
      "Start epoch [10/20]\n"
     ]
    },
    {
     "data": {
      "application/vnd.jupyter.widget-view+json": {
       "model_id": "aeeee91158764c9a963afa51e3071769",
       "version_major": 2,
       "version_minor": 0
      },
      "text/plain": [
       "Training:   0%|          | 0/177 [00:00<?, ?it/s]"
      ]
     },
     "metadata": {},
     "output_type": "display_data"
    },
    {
     "name": "stdout",
     "output_type": "stream",
     "text": [
      "Iteration: 100. Average training loss: 0.3968. Accuracy: 0.821\n"
     ]
    },
    {
     "data": {
      "application/vnd.jupyter.widget-view+json": {
       "model_id": "497784df911244f0b3097b523368d6db",
       "version_major": 2,
       "version_minor": 0
      },
      "text/plain": [
       "Evaluation:   0%|          | 0/45 [00:00<?, ?it/s]"
      ]
     },
     "metadata": {},
     "output_type": "display_data"
    },
    {
     "name": "stdout",
     "output_type": "stream",
     "text": [
      "\n",
      "Epoch [10/20]: Train accuracy: 0.824. Train loss: 0.3946. Evaluation accuracy: 0.828. Evaluation loss: 0.3959\n",
      "\n",
      "Start epoch [11/20]\n"
     ]
    },
    {
     "data": {
      "application/vnd.jupyter.widget-view+json": {
       "model_id": "b41fa43f060b49eb98b5004d5267ef06",
       "version_major": 2,
       "version_minor": 0
      },
      "text/plain": [
       "Training:   0%|          | 0/177 [00:00<?, ?it/s]"
      ]
     },
     "metadata": {},
     "output_type": "display_data"
    },
    {
     "name": "stdout",
     "output_type": "stream",
     "text": [
      "Iteration: 100. Average training loss: 0.3872. Accuracy: 0.824\n"
     ]
    },
    {
     "data": {
      "application/vnd.jupyter.widget-view+json": {
       "model_id": "7ee68cd4bb9f4f3795c1b9b739d16d40",
       "version_major": 2,
       "version_minor": 0
      },
      "text/plain": [
       "Evaluation:   0%|          | 0/45 [00:00<?, ?it/s]"
      ]
     },
     "metadata": {},
     "output_type": "display_data"
    },
    {
     "name": "stdout",
     "output_type": "stream",
     "text": [
      "\n",
      "Epoch [11/20]: Train accuracy: 0.825. Train loss: 0.3870. Evaluation accuracy: 0.828. Evaluation loss: 0.3939\n",
      "\n",
      "Start epoch [12/20]\n"
     ]
    },
    {
     "data": {
      "application/vnd.jupyter.widget-view+json": {
       "model_id": "63fdbbe4d25c403ab824a606959bec0b",
       "version_major": 2,
       "version_minor": 0
      },
      "text/plain": [
       "Training:   0%|          | 0/177 [00:00<?, ?it/s]"
      ]
     },
     "metadata": {},
     "output_type": "display_data"
    },
    {
     "name": "stdout",
     "output_type": "stream",
     "text": [
      "Iteration: 100. Average training loss: 0.3840. Accuracy: 0.828\n"
     ]
    },
    {
     "data": {
      "application/vnd.jupyter.widget-view+json": {
       "model_id": "1c1594045d974e89b2d49d24c17764c5",
       "version_major": 2,
       "version_minor": 0
      },
      "text/plain": [
       "Evaluation:   0%|          | 0/45 [00:00<?, ?it/s]"
      ]
     },
     "metadata": {},
     "output_type": "display_data"
    },
    {
     "name": "stdout",
     "output_type": "stream",
     "text": [
      "\n",
      "Epoch [12/20]: Train accuracy: 0.830. Train loss: 0.3817. Evaluation accuracy: 0.829. Evaluation loss: 0.3938\n",
      "\n",
      "Start epoch [13/20]\n"
     ]
    },
    {
     "data": {
      "application/vnd.jupyter.widget-view+json": {
       "model_id": "62e231c119354b6787c6a5699bf3e650",
       "version_major": 2,
       "version_minor": 0
      },
      "text/plain": [
       "Training:   0%|          | 0/177 [00:00<?, ?it/s]"
      ]
     },
     "metadata": {},
     "output_type": "display_data"
    },
    {
     "name": "stdout",
     "output_type": "stream",
     "text": [
      "Iteration: 100. Average training loss: 0.3726. Accuracy: 0.834\n"
     ]
    },
    {
     "data": {
      "application/vnd.jupyter.widget-view+json": {
       "model_id": "19f04389e8f44f99a8d2871a279c4d51",
       "version_major": 2,
       "version_minor": 0
      },
      "text/plain": [
       "Evaluation:   0%|          | 0/45 [00:00<?, ?it/s]"
      ]
     },
     "metadata": {},
     "output_type": "display_data"
    },
    {
     "name": "stdout",
     "output_type": "stream",
     "text": [
      "\n",
      "Epoch [13/20]: Train accuracy: 0.834. Train loss: 0.3723. Evaluation accuracy: 0.830. Evaluation loss: 0.3944\n",
      "\n",
      "Start epoch [14/20]\n"
     ]
    },
    {
     "data": {
      "application/vnd.jupyter.widget-view+json": {
       "model_id": "be7ff1d8dee6456390ac940a9112df1b",
       "version_major": 2,
       "version_minor": 0
      },
      "text/plain": [
       "Training:   0%|          | 0/177 [00:00<?, ?it/s]"
      ]
     },
     "metadata": {},
     "output_type": "display_data"
    },
    {
     "name": "stdout",
     "output_type": "stream",
     "text": [
      "Iteration: 100. Average training loss: 0.3689. Accuracy: 0.836\n"
     ]
    },
    {
     "data": {
      "application/vnd.jupyter.widget-view+json": {
       "model_id": "c9b234fd979f4f9eb80d34f692345cdc",
       "version_major": 2,
       "version_minor": 0
      },
      "text/plain": [
       "Evaluation:   0%|          | 0/45 [00:00<?, ?it/s]"
      ]
     },
     "metadata": {},
     "output_type": "display_data"
    },
    {
     "name": "stdout",
     "output_type": "stream",
     "text": [
      "\n",
      "Epoch [14/20]: Train accuracy: 0.836. Train loss: 0.3685. Evaluation accuracy: 0.830. Evaluation loss: 0.3942\n",
      "\n",
      "Start epoch [15/20]\n"
     ]
    },
    {
     "data": {
      "application/vnd.jupyter.widget-view+json": {
       "model_id": "42e3342cde1d4482b8fe22df5d2dc387",
       "version_major": 2,
       "version_minor": 0
      },
      "text/plain": [
       "Training:   0%|          | 0/177 [00:00<?, ?it/s]"
      ]
     },
     "metadata": {},
     "output_type": "display_data"
    },
    {
     "name": "stdout",
     "output_type": "stream",
     "text": [
      "Iteration: 100. Average training loss: 0.3642. Accuracy: 0.836\n"
     ]
    },
    {
     "data": {
      "application/vnd.jupyter.widget-view+json": {
       "model_id": "b12afc82928a4f0aa58dd8c06808a560",
       "version_major": 2,
       "version_minor": 0
      },
      "text/plain": [
       "Evaluation:   0%|          | 0/45 [00:00<?, ?it/s]"
      ]
     },
     "metadata": {},
     "output_type": "display_data"
    },
    {
     "name": "stdout",
     "output_type": "stream",
     "text": [
      "\n",
      "Epoch [15/20]: Train accuracy: 0.839. Train loss: 0.3631. Evaluation accuracy: 0.832. Evaluation loss: 0.3922\n",
      "\n",
      "Start epoch [16/20]\n"
     ]
    },
    {
     "data": {
      "application/vnd.jupyter.widget-view+json": {
       "model_id": "201b4dec5efb48c5ab2ce2a88547f83c",
       "version_major": 2,
       "version_minor": 0
      },
      "text/plain": [
       "Training:   0%|          | 0/177 [00:00<?, ?it/s]"
      ]
     },
     "metadata": {},
     "output_type": "display_data"
    },
    {
     "name": "stdout",
     "output_type": "stream",
     "text": [
      "Iteration: 100. Average training loss: 0.3588. Accuracy: 0.840\n"
     ]
    },
    {
     "data": {
      "application/vnd.jupyter.widget-view+json": {
       "model_id": "81fc461a9e964e3badb3dc0c20a3f449",
       "version_major": 2,
       "version_minor": 0
      },
      "text/plain": [
       "Evaluation:   0%|          | 0/45 [00:00<?, ?it/s]"
      ]
     },
     "metadata": {},
     "output_type": "display_data"
    },
    {
     "name": "stdout",
     "output_type": "stream",
     "text": [
      "\n",
      "Epoch [16/20]: Train accuracy: 0.842. Train loss: 0.3582. Evaluation accuracy: 0.831. Evaluation loss: 0.3933\n",
      "\n",
      "Start epoch [17/20]\n"
     ]
    },
    {
     "data": {
      "application/vnd.jupyter.widget-view+json": {
       "model_id": "d565bf8144e54cdf8ac4793cb62bc8ea",
       "version_major": 2,
       "version_minor": 0
      },
      "text/plain": [
       "Training:   0%|          | 0/177 [00:00<?, ?it/s]"
      ]
     },
     "metadata": {},
     "output_type": "display_data"
    },
    {
     "name": "stdout",
     "output_type": "stream",
     "text": [
      "Iteration: 100. Average training loss: 0.3548. Accuracy: 0.843\n"
     ]
    },
    {
     "data": {
      "application/vnd.jupyter.widget-view+json": {
       "model_id": "f89ca49bb2eb4ca48abebd269649c1d3",
       "version_major": 2,
       "version_minor": 0
      },
      "text/plain": [
       "Evaluation:   0%|          | 0/45 [00:00<?, ?it/s]"
      ]
     },
     "metadata": {},
     "output_type": "display_data"
    },
    {
     "name": "stdout",
     "output_type": "stream",
     "text": [
      "\n",
      "Epoch [17/20]: Train accuracy: 0.844. Train loss: 0.3533. Evaluation accuracy: 0.831. Evaluation loss: 0.3951\n",
      "\n",
      "Training stoped by EarlyStopping\n"
     ]
    }
   ],
   "source": [
    "# Initialize parameters\n",
    "hidden_size = 8\n",
    "vocab_size = len(train_iterator.word2index)\n",
    "embedding_dim = 200\n",
    "output_size = 2\n",
    "n_layers = 1\n",
    "dropout = 0.5\n",
    "learning_rate = 0.001\n",
    "epochs = 20\n",
    "spatial_dropout = True\n",
    "\n",
    "# Check whether system supports CUDA\n",
    "CUDA = torch.cuda.is_available()\n",
    "\n",
    "model = BiGRU(hidden_size, vocab_size, embedding_dim, output_size, n_layers, dropout,\n",
    "              spatial_dropout, bidirectional=True)\n",
    "\n",
    "# Move the model to GPU if possible\n",
    "if CUDA:\n",
    "    model.cuda()\n",
    "\n",
    "model.add_loss_fn(nn.NLLLoss())\n",
    "\n",
    "optimizer = torch.optim.Adam(model.parameters(), lr=learning_rate)\n",
    "model.add_optimizer(optimizer)\n",
    "\n",
    "device = torch.device('cuda' if CUDA else 'cpu')\n",
    "\n",
    "model.add_device(device)\n",
    "\n",
    "# Instantiate the EarlyStopping\n",
    "early_stop = EarlyStopping(wait_epochs=1)\n",
    "\n",
    "train_losses_list, train_avg_loss_list, train_accuracy_list = [], [], []\n",
    "eval_avg_loss_list, eval_accuracy_list, conf_matrix_list = [], [], []\n",
    "\n",
    "for epoch in range(epochs):\n",
    "    \n",
    "    print('\\nStart epoch [{}/{}]'.format(epoch+1, epochs))\n",
    "    \n",
    "    train_losses, train_avg_loss, train_accuracy = model.train_model(train_iterator)\n",
    "    \n",
    "    train_losses_list.append(train_losses)\n",
    "    train_avg_loss_list.append(train_avg_loss)\n",
    "    train_accuracy_list.append(train_accuracy)\n",
    "    \n",
    "    _, eval_avg_loss, eval_accuracy, conf_matrix = model.evaluate_model(val_iterator)\n",
    "    \n",
    "    eval_avg_loss_list.append(eval_avg_loss)\n",
    "    eval_accuracy_list.append(eval_accuracy)\n",
    "    conf_matrix_list.append(conf_matrix)\n",
    "    \n",
    "    print('\\nEpoch [{}/{}]: Train accuracy: {:.3f}. Train loss: {:.4f}. Evaluation accuracy: {:.3f}. Evaluation loss: {:.4f}'\\\n",
    "          .format(epoch+1, epochs, train_accuracy, train_avg_loss, eval_accuracy, eval_avg_loss))\n",
    "    \n",
    "    if early_stop.stop(eval_avg_loss, model, delta=0.003):\n",
    "        break\n",
    "\n",
    "    "
   ]
  },
  {
   "cell_type": "code",
   "execution_count": 19,
   "metadata": {},
   "outputs": [
    {
     "ename": "TypeError",
     "evalue": "'builtin_function_or_method' object does not support item deletion",
     "output_type": "error",
     "traceback": [
      "\u001b[0;31m---------------------------------------------------------------------------\u001b[0m",
      "\u001b[0;31mTypeError\u001b[0m                                 Traceback (most recent call last)",
      "\u001b[0;32m<ipython-input-19-24f2f9e83acb>\u001b[0m in \u001b[0;36m<module>\u001b[0;34m\u001b[0m\n\u001b[1;32m      4\u001b[0m \u001b[0;31m#eval_avg_loss_list.insert(0, train_losses_list[0])\u001b[0m\u001b[0;34m\u001b[0m\u001b[0;34m\u001b[0m\u001b[0;34m\u001b[0m\u001b[0m\n\u001b[1;32m      5\u001b[0m \u001b[0;32mdel\u001b[0m \u001b[0meval_avg_loss_list\u001b[0m\u001b[0;34m[\u001b[0m\u001b[0;36m0\u001b[0m\u001b[0;34m]\u001b[0m\u001b[0;34m\u001b[0m\u001b[0;34m\u001b[0m\u001b[0m\n\u001b[0;32m----> 6\u001b[0;31m \u001b[0;32mdel\u001b[0m \u001b[0mtrain_avg_loss_list\u001b[0m\u001b[0;34m.\u001b[0m\u001b[0mremove\u001b[0m\u001b[0;34m[\u001b[0m\u001b[0;36m0\u001b[0m\u001b[0;34m]\u001b[0m\u001b[0;34m\u001b[0m\u001b[0;34m\u001b[0m\u001b[0m\n\u001b[0m",
      "\u001b[0;31mTypeError\u001b[0m: 'builtin_function_or_method' object does not support item deletion"
     ]
    }
   ],
   "source": [
    "# Add the dataset initial loss\n",
    "#print(len(train_losses_list))\n",
    "#train_avg_loss_list.insert(0, train_losses_list[0])\n",
    "#eval_avg_loss_list.insert(0, train_losses_list[0])\n",
    "#del eval_avg_loss_list[0]\n",
    "#del train_avg_loss_list.remove[0]"
   ]
  },
  {
   "cell_type": "code",
   "execution_count": 23,
   "metadata": {},
   "outputs": [
    {
     "data": {
      "image/png": "[encoded data removed]",
      "text/plain": [
       "<Figure size 576x360 with 1 Axes>"
      ]
     },
     "metadata": {
      "needs_background": "light"
     },
     "output_type": "display_data"
    }
   ],
   "source": [
    "# Plot the training and the validation learning curve\n",
    "plt.figure(figsize=(8,5))\n",
    "plt.plot(train_avg_loss_list, label='Training loss')\n",
    "plt.plot(eval_avg_loss_list, label='Evaluation loss')\n",
    "plt.xlabel('Epoch', size=12)\n",
    "plt.ylabel('Loss', size=12)\n",
    "plt.title('biGRU model learning curves')\n",
    "plt.xticks(ticks=range(21))\n",
    "plt.legend()\n",
    "plt.show()"
   ]
  },
  {
   "cell_type": "code",
   "execution_count": 24,
   "metadata": {},
   "outputs": [
    {
     "data": {
      "image/png": "[encoded data removed]",
      "text/plain": [
       "<Figure size 432x432 with 2 Axes>"
      ]
     },
     "metadata": {
      "needs_background": "light"
     },
     "output_type": "display_data"
    }
   ],
   "source": [
    "# Confusion matrix\n",
    "plt.figure(figsize=(6,6))\n",
    "ax = sns.heatmap(conf_matrix, fmt='d', annot=True, linewidths=1, square=True)\n",
    "ax.set_xlabel('Predictions', size=12)\n",
    "ax.set_ylabel('True labels', size=12) \n",
    "ax.set_title('Confusion Matrix', size=12); \n",
    "ax.xaxis.set_ticklabels(['True', 'False'])\n",
    "ax.yaxis.set_ticklabels(['True', 'False'])\n",
    "ax.set_ylim(2,0)\n",
    "plt.show()"
   ]
  },
  {
   "cell_type": "markdown",
   "metadata": {},
   "source": [
    "The model achieved the validation accuracy of 0.878, while the training accuracy was 0.908. The model's best state was saved to the *checkpoint.pt* file in the current directory. The training wasn't stopped by EarlyStopping object because the validation loss changes were too small and fluctuated near the same value.\n",
    "\n",
    "The training process that is presented above regards the model with the tuned hyperparameters. The steps we went through when doing hyperparameters fine-tuning are listed in the next section."
   ]
  },
  {
   "cell_type": "markdown",
   "metadata": {},
   "source": [
    "#### The summary - final set of hyperparameters\n",
    "\n",
    "Considering all above training trials, we can draw the following conclusions:\n",
    "- increasing the dropout probability helps in reducing the model's overfitting.\n",
    "- spatial dropout works better in terms of decreasing the variance problem than the traditional dropout.\n",
    "- the most improvement in reducing overfitting is due to the reduction of hidden_size.\n",
    "- using stacked GRU doesn't improve in our case the model's performance.\n",
    "- reducing the batch_size doesn't significantly affect the model's learning ability what is rather unexpected while increasing the batch_size does improve a bit the model's performance.\n",
    "\n",
    "The following are the hyperparameters that will be used to finaly train our neural network:\n",
    "- hidden_size = 8 <br>\n",
    "- embedding_dim = 200 <br>\n",
    "- n_layers = 1 <br>\n",
    "- dropout = 0.5 <br>\n",
    "- learning_rate = 0.001 <br>\n",
    "- epochs = 20 <br>\n",
    "- spatial_dropout = True <br>\n",
    "- batch_size = 256 <br>\n",
    "- min_word_count = 3 <br>\n",
    "- max_seq_len = 0.9 <br>"
   ]
  },
  {
   "cell_type": "markdown",
   "metadata": {},
   "source": [
    "Below we will use the *tensorboardX* to create the graph of our neural network model that has been depicted at the top of this notebook. You can encounter torch._C.Value issue while using *add.graph()* method, to tackle that I recommend following the *github* thread devoted to this topic:\n",
    "<br>https://github.com/lanpa/tensorboardX/issues/483<br>\n",
    "namely, you can try to build tensorboardX from source with:\n",
    "<br>*git clone https://github.com/lanpa/tensorboardX && cd tensorboardX && python setup.py install*"
   ]
  },
  {
   "cell_type": "code",
   "execution_count": 25,
   "metadata": {},
   "outputs": [
    {
     "name": "stdout",
     "output_type": "stream",
     "text": [
      "graph(%self : ClassType<BiGRU>,\n",
      "      %input_seq : Long(256, 50),\n",
      "      %lengths.1 : Long(256)):\n",
      "  %1 : ClassType<Embedding> = prim::GetAttr[name=\"embedding\"](%self)\n",
      "  %weight.1 : Tensor = prim::GetAttr[name=\"weight\"](%1)\n",
      "  %5 : ClassType<GRU> = prim::GetAttr[name=\"gru\"](%self)\n",
      "  %6 : Tensor = prim::GetAttr[name=\"weight_ih_l0\"](%5)\n",
      "  %7 : Tensor = prim::GetAttr[name=\"weight_hh_l0\"](%5)\n",
      "  %8 : Tensor = prim::GetAttr[name=\"bias_ih_l0\"](%5)\n",
      "  %9 : Tensor = prim::GetAttr[name=\"bias_hh_l0\"](%5)\n",
      "  %10 : Tensor = prim::GetAttr[name=\"weight_ih_l0_reverse\"](%5)\n",
      "  %11 : Tensor = prim::GetAttr[name=\"weight_hh_l0_reverse\"](%5)\n",
      "  %12 : Tensor = prim::GetAttr[name=\"bias_ih_l0_reverse\"](%5)\n",
      "  %13 : Tensor = prim::GetAttr[name=\"bias_hh_l0_reverse\"](%5)\n",
      "  %14 : Tensor = prim::GetAttr[name=\"weight_ih_l1\"](%5)\n",
      "  %15 : Tensor = prim::GetAttr[name=\"weight_hh_l1\"](%5)\n",
      "  %16 : Tensor = prim::GetAttr[name=\"bias_ih_l1\"](%5)\n",
      "  %17 : Tensor = prim::GetAttr[name=\"bias_hh_l1\"](%5)\n",
      "  %18 : Tensor = prim::GetAttr[name=\"weight_ih_l1_reverse\"](%5)\n",
      "  %19 : Tensor = prim::GetAttr[name=\"weight_hh_l1_reverse\"](%5)\n",
      "  %20 : Tensor = prim::GetAttr[name=\"bias_ih_l1_reverse\"](%5)\n",
      "  %21 : Tensor = prim::GetAttr[name=\"bias_hh_l1_reverse\"](%5)\n",
      "  %22 : ClassType<Linear> = prim::GetAttr[name=\"linear\"](%self)\n",
      "  %weight : Tensor = prim::GetAttr[name=\"weight\"](%22)\n",
      "  %bias : Tensor = prim::GetAttr[name=\"bias\"](%22)\n",
      "  %27 : int = prim::Constant[value=0](), scope: BiGRU # <ipython-input-21-5f3ae3dfaec2>:74:0\n",
      "  %28 : int = aten::size(%input_seq, %27), scope: BiGRU # <ipython-input-21-5f3ae3dfaec2>:74:0\n",
      "  %29 : Long() = prim::NumToTensor(%28), scope: BiGRU\n",
      "  %161 : int = aten::Int(%29), scope: BiGRU\n",
      "  %98 : int = aten::Int(%29), scope: BiGRU\n",
      "  %30 : int = prim::Constant[value=-1](), scope: BiGRU/Embedding[embedding] # /Users/vsitham/opt/anaconda3/envs/py3.7/lib/python3.7/site-packages/torch/nn/functional.py:1467:0\n",
      "  %31 : bool = prim::Constant[value=0](), scope: BiGRU/Embedding[embedding] # /Users/vsitham/opt/anaconda3/envs/py3.7/lib/python3.7/site-packages/torch/nn/functional.py:1467:0\n",
      "  %32 : bool = prim::Constant[value=0](), scope: BiGRU/Embedding[embedding] # /Users/vsitham/opt/anaconda3/envs/py3.7/lib/python3.7/site-packages/torch/nn/functional.py:1467:0\n",
      "  %emb_out.1 : Float(256, 50, 200) = aten::embedding(%weight.1, %input_seq, %30, %31, %32), scope: BiGRU/Embedding[embedding] # /Users/vsitham/opt/anaconda3/envs/py3.7/lib/python3.7/site-packages/torch/nn/functional.py:1467:0\n",
      "  %34 : int = prim::Constant[value=0](), scope: BiGRU # <ipython-input-21-5f3ae3dfaec2>:83:0\n",
      "  %35 : int = prim::Constant[value=2](), scope: BiGRU # <ipython-input-21-5f3ae3dfaec2>:83:0\n",
      "  %36 : int = prim::Constant[value=1](), scope: BiGRU # <ipython-input-21-5f3ae3dfaec2>:83:0\n",
      "  %37 : int[] = prim::ListConstruct(%34, %35, %36), scope: BiGRU\n",
      "  %input.1 : Float(256!, 200!, 50!) = aten::permute(%emb_out.1, %37), scope: BiGRU # <ipython-input-21-5f3ae3dfaec2>:83:0\n",
      "  %39 : float = prim::Constant[value=0.5](), scope: BiGRU/Dropout2d[spatial_dropout1d] # /Users/vsitham/opt/anaconda3/envs/py3.7/lib/python3.7/site-packages/torch/nn/functional.py:844:0\n",
      "  %40 : bool = prim::Constant[value=0](), scope: BiGRU/Dropout2d[spatial_dropout1d] # /Users/vsitham/opt/anaconda3/envs/py3.7/lib/python3.7/site-packages/torch/nn/functional.py:844:0\n",
      "  %emb_out : Float(256!, 200!, 50!) = aten::feature_dropout(%input.1, %39, %40), scope: BiGRU/Dropout2d[spatial_dropout1d] # /Users/vsitham/opt/anaconda3/envs/py3.7/lib/python3.7/site-packages/torch/nn/functional.py:844:0\n",
      "  %42 : int = prim::Constant[value=0](), scope: BiGRU # <ipython-input-21-5f3ae3dfaec2>:86:0\n",
      "  %43 : int = prim::Constant[value=2](), scope: BiGRU # <ipython-input-21-5f3ae3dfaec2>:86:0\n",
      "  %44 : int = prim::Constant[value=1](), scope: BiGRU # <ipython-input-21-5f3ae3dfaec2>:86:0\n",
      "  %45 : int[] = prim::ListConstruct(%42, %43, %44), scope: BiGRU\n",
      "  %input.2 : Float(256, 50, 200) = aten::permute(%emb_out, %45), scope: BiGRU # <ipython-input-21-5f3ae3dfaec2>:86:0\n",
      "  %47 : Device = prim::Constant[value=\"cpu\"](), scope: BiGRU # /Users/vsitham/opt/anaconda3/envs/py3.7/lib/python3.7/site-packages/torch/nn/utils/rnn.py:265:0\n",
      "  %48 : int = prim::Constant[value=4](), scope: BiGRU # /Users/vsitham/opt/anaconda3/envs/py3.7/lib/python3.7/site-packages/torch/nn/utils/rnn.py:265:0\n",
      "  %49 : bool = prim::Constant[value=0](), scope: BiGRU # /Users/vsitham/opt/anaconda3/envs/py3.7/lib/python3.7/site-packages/torch/nn/utils/rnn.py:265:0\n",
      "  %50 : bool = prim::Constant[value=0](), scope: BiGRU # /Users/vsitham/opt/anaconda3/envs/py3.7/lib/python3.7/site-packages/torch/nn/utils/rnn.py:265:0\n",
      "  %lengths.2 : Long(256) = aten::to(%lengths.1, %47, %48, %49, %50), scope: BiGRU # /Users/vsitham/opt/anaconda3/envs/py3.7/lib/python3.7/site-packages/torch/nn/utils/rnn.py:265:0\n",
      "  %52 : bool = prim::Constant[value=1](), scope: BiGRU # /Users/vsitham/opt/anaconda3/envs/py3.7/lib/python3.7/site-packages/torch/nn/utils/rnn.py:275:0\n",
      "  %input.3 : Float(12800, 200), %batch_sizes : Long(50) = aten::_pack_padded_sequence(%input.2, %lengths.2, %52), scope: BiGRU # /Users/vsitham/opt/anaconda3/envs/py3.7/lib/python3.7/site-packages/torch/nn/utils/rnn.py:275:0\n",
      "  %58 : int = prim::Constant[value=4](), scope: BiGRU/GRU[gru] # /Users/vsitham/opt/anaconda3/envs/py3.7/lib/python3.7/site-packages/torch/nn/modules/rnn.py:691:0\n",
      "  %59 : int = prim::Constant[value=256](), scope: BiGRU/GRU[gru] # /Users/vsitham/opt/anaconda3/envs/py3.7/lib/python3.7/site-packages/torch/nn/modules/rnn.py:691:0\n",
      "  %60 : int = prim::Constant[value=4](), scope: BiGRU/GRU[gru] # /Users/vsitham/opt/anaconda3/envs/py3.7/lib/python3.7/site-packages/torch/nn/modules/rnn.py:691:0\n",
      "  %61 : int[] = prim::ListConstruct(%58, %59, %60), scope: BiGRU/GRU[gru]\n",
      "  %62 : int = prim::Constant[value=6](), scope: BiGRU/GRU[gru] # /Users/vsitham/opt/anaconda3/envs/py3.7/lib/python3.7/site-packages/torch/nn/modules/rnn.py:691:0\n",
      "  %63 : int = prim::Constant[value=0](), scope: BiGRU/GRU[gru] # /Users/vsitham/opt/anaconda3/envs/py3.7/lib/python3.7/site-packages/torch/nn/modules/rnn.py:691:0\n",
      "  %64 : Device = prim::Constant[value=\"cpu\"](), scope: BiGRU/GRU[gru] # /Users/vsitham/opt/anaconda3/envs/py3.7/lib/python3.7/site-packages/torch/nn/modules/rnn.py:691:0\n",
      "  %65 : bool = prim::Constant[value=0](), scope: BiGRU/GRU[gru] # /Users/vsitham/opt/anaconda3/envs/py3.7/lib/python3.7/site-packages/torch/nn/modules/rnn.py:691:0\n",
      "  %hx : Float(4, 256, 4) = aten::zeros(%61, %62, %63, %64, %65), scope: BiGRU/GRU[gru] # /Users/vsitham/opt/anaconda3/envs/py3.7/lib/python3.7/site-packages/torch/nn/modules/rnn.py:691:0\n",
      "  %90 : Tensor[] = prim::ListConstruct(%6, %7, %8, %9, %10, %11, %12, %13, %14, %15, %16, %17, %18, %19, %20, %21), scope: BiGRU/GRU[gru]\n",
      "  %91 : bool = prim::Constant[value=1](), scope: BiGRU/GRU[gru] # /Users/vsitham/opt/anaconda3/envs/py3.7/lib/python3.7/site-packages/torch/nn/modules/rnn.py:682:0\n",
      "  %92 : int = prim::Constant[value=2](), scope: BiGRU/GRU[gru] # /Users/vsitham/opt/anaconda3/envs/py3.7/lib/python3.7/site-packages/torch/nn/modules/rnn.py:682:0\n",
      "  %93 : float = prim::Constant[value=0.5](), scope: BiGRU/GRU[gru] # /Users/vsitham/opt/anaconda3/envs/py3.7/lib/python3.7/site-packages/torch/nn/modules/rnn.py:682:0\n",
      "  %94 : bool = prim::Constant[value=0](), scope: BiGRU/GRU[gru] # /Users/vsitham/opt/anaconda3/envs/py3.7/lib/python3.7/site-packages/torch/nn/modules/rnn.py:682:0\n",
      "  %95 : bool = prim::Constant[value=1](), scope: BiGRU/GRU[gru] # /Users/vsitham/opt/anaconda3/envs/py3.7/lib/python3.7/site-packages/torch/nn/modules/rnn.py:682:0\n",
      "  %96 : Float(12800, 8), %hidden.1 : Float(4, 256, 4) = aten::gru(%input.3, %batch_sizes, %hx, %90, %91, %92, %93, %94, %95), scope: BiGRU/GRU[gru] # /Users/vsitham/opt/anaconda3/envs/py3.7/lib/python3.7/site-packages/torch/nn/modules/rnn.py:682:0\n",
      "  %99 : int = prim::Constant[value=2](), scope: BiGRU # <ipython-input-21-5f3ae3dfaec2>:108:0\n",
      "  %100 : int = prim::Constant[value=2](), scope: BiGRU # <ipython-input-21-5f3ae3dfaec2>:108:0\n",
      "  %101 : int = prim::Constant[value=4](), scope: BiGRU # <ipython-input-21-5f3ae3dfaec2>:108:0\n",
      "  %102 : int[] = prim::ListConstruct(%99, %100, %98, %101), scope: BiGRU\n",
      "  %hidden : Float(2, 2, 256, 4) = aten::view(%hidden.1, %102), scope: BiGRU # <ipython-input-21-5f3ae3dfaec2>:108:0\n",
      "  %104 : int = prim::Constant[value=0](), scope: BiGRU # <ipython-input-21-5f3ae3dfaec2>:109:0\n",
      "  %105 : int = prim::Constant[value=-1](), scope: BiGRU # <ipython-input-21-5f3ae3dfaec2>:109:0\n",
      "  %last_hidden.1 : Float(2, 256, 4) = aten::select(%hidden, %104, %105), scope: BiGRU # <ipython-input-21-5f3ae3dfaec2>:109:0\n",
      "  %107 : int = prim::Constant[value=0](), scope: BiGRU # <ipython-input-21-5f3ae3dfaec2>:112:0\n",
      "  %108 : int[] = prim::ListConstruct(%107), scope: BiGRU\n",
      "  %109 : bool = prim::Constant[value=0](), scope: BiGRU # <ipython-input-21-5f3ae3dfaec2>:112:0\n",
      "  %110 : int? = prim::Constant(), scope: BiGRU\n",
      "  %last_hidden : Float(256, 4) = aten::sum(%last_hidden.1, %108, %109, %110), scope: BiGRU # <ipython-input-21-5f3ae3dfaec2>:112:0\n",
      "  %112 : int = prim::Constant[value=0](), scope: BiGRU # /Users/vsitham/opt/anaconda3/envs/py3.7/lib/python3.7/site-packages/torch/nn/utils/rnn.py:313:0\n",
      "  %113 : int = aten::size(%batch_sizes, %112), scope: BiGRU # /Users/vsitham/opt/anaconda3/envs/py3.7/lib/python3.7/site-packages/torch/nn/utils/rnn.py:313:0\n",
      "  %max_seq_length : Long() = prim::NumToTensor(%113), scope: BiGRU\n",
      "  %115 : int = aten::Int(%max_seq_length), scope: BiGRU\n",
      "  %116 : bool = prim::Constant[value=1](), scope: BiGRU # /Users/vsitham/opt/anaconda3/envs/py3.7/lib/python3.7/site-packages/torch/nn/utils/rnn.py:322:0\n",
      "  %117 : float = prim::Constant[value=0](), scope: BiGRU # /Users/vsitham/opt/anaconda3/envs/py3.7/lib/python3.7/site-packages/torch/nn/utils/rnn.py:322:0\n",
      "  %gru_out.1 : Float(256!, 50!, 8), %lengths : Long(256) = aten::_pad_packed_sequence(%96, %batch_sizes, %116, %117, %115), scope: BiGRU # /Users/vsitham/opt/anaconda3/envs/py3.7/lib/python3.7/site-packages/torch/nn/utils/rnn.py:322:0\n",
      "  %120 : int = prim::Constant[value=0](), scope: BiGRU # <ipython-input-21-5f3ae3dfaec2>:121:0\n",
      "  %121 : int = prim::Constant[value=0](), scope: BiGRU # <ipython-input-21-5f3ae3dfaec2>:121:0\n",
      "  %122 : int = prim::Constant[value=9223372036854775807](), scope: BiGRU # <ipython-input-21-5f3ae3dfaec2>:121:0\n",
      "  %123 : int = prim::Constant[value=1](), scope: BiGRU # <ipython-input-21-5f3ae3dfaec2>:121:0\n",
      "  %124 : Float(256!, 50!, 8) = aten::slice(%gru_out.1, %120, %121, %122, %123), scope: BiGRU # <ipython-input-21-5f3ae3dfaec2>:121:0\n",
      "  %125 : int = prim::Constant[value=1](), scope: BiGRU # <ipython-input-21-5f3ae3dfaec2>:121:0\n",
      "  %126 : int = prim::Constant[value=0](), scope: BiGRU # <ipython-input-21-5f3ae3dfaec2>:121:0\n",
      "  %127 : int = prim::Constant[value=9223372036854775807](), scope: BiGRU # <ipython-input-21-5f3ae3dfaec2>:121:0\n",
      "  %128 : int = prim::Constant[value=1](), scope: BiGRU # <ipython-input-21-5f3ae3dfaec2>:121:0\n",
      "  %129 : Float(256!, 50!, 8) = aten::slice(%124, %125, %126, %127, %128), scope: BiGRU # <ipython-input-21-5f3ae3dfaec2>:121:0\n",
      "  %130 : int = prim::Constant[value=2](), scope: BiGRU # <ipython-input-21-5f3ae3dfaec2>:121:0\n",
      "  %131 : int = prim::Constant[value=0](), scope: BiGRU # <ipython-input-21-5f3ae3dfaec2>:121:0\n",
      "  %132 : int = prim::Constant[value=4](), scope: BiGRU # <ipython-input-21-5f3ae3dfaec2>:121:0\n",
      "  %133 : int = prim::Constant[value=1](), scope: BiGRU # <ipython-input-21-5f3ae3dfaec2>:121:0\n",
      "  %134 : Float(256!, 50!, 4) = aten::slice(%129, %130, %131, %132, %133), scope: BiGRU # <ipython-input-21-5f3ae3dfaec2>:121:0\n",
      "  %135 : int = prim::Constant[value=0](), scope: BiGRU # <ipython-input-21-5f3ae3dfaec2>:121:0\n",
      "  %136 : int = prim::Constant[value=0](), scope: BiGRU # <ipython-input-21-5f3ae3dfaec2>:121:0\n",
      "  %137 : int = prim::Constant[value=9223372036854775807](), scope: BiGRU # <ipython-input-21-5f3ae3dfaec2>:121:0\n",
      "  %138 : int = prim::Constant[value=1](), scope: BiGRU # <ipython-input-21-5f3ae3dfaec2>:121:0\n",
      "  %139 : Float(256!, 50!, 8) = aten::slice(%gru_out.1, %135, %136, %137, %138), scope: BiGRU # <ipython-input-21-5f3ae3dfaec2>:121:0\n",
      "  %140 : int = prim::Constant[value=1](), scope: BiGRU # <ipython-input-21-5f3ae3dfaec2>:121:0\n",
      "  %141 : int = prim::Constant[value=0](), scope: BiGRU # <ipython-input-21-5f3ae3dfaec2>:121:0\n",
      "  %142 : int = prim::Constant[value=9223372036854775807](), scope: BiGRU # <ipython-input-21-5f3ae3dfaec2>:121:0\n",
      "  %143 : int = prim::Constant[value=1](), scope: BiGRU # <ipython-input-21-5f3ae3dfaec2>:121:0\n",
      "  %144 : Float(256!, 50!, 8) = aten::slice(%139, %140, %141, %142, %143), scope: BiGRU # <ipython-input-21-5f3ae3dfaec2>:121:0\n",
      "  %145 : int = prim::Constant[value=2](), scope: BiGRU # <ipython-input-21-5f3ae3dfaec2>:121:0\n",
      "  %146 : int = prim::Constant[value=4](), scope: BiGRU # <ipython-input-21-5f3ae3dfaec2>:121:0\n",
      "  %147 : int = prim::Constant[value=9223372036854775807](), scope: BiGRU # <ipython-input-21-5f3ae3dfaec2>:121:0\n",
      "  %148 : int = prim::Constant[value=1](), scope: BiGRU # <ipython-input-21-5f3ae3dfaec2>:121:0\n",
      "  %149 : Float(256!, 50!, 4) = aten::slice(%144, %145, %146, %147, %148), scope: BiGRU # <ipython-input-21-5f3ae3dfaec2>:121:0\n",
      "  %150 : int = prim::Constant[value=1](), scope: BiGRU # <ipython-input-21-5f3ae3dfaec2>:121:0\n",
      "  %gru_out : Float(256!, 50!, 4) = aten::add(%134, %149, %150), scope: BiGRU # <ipython-input-21-5f3ae3dfaec2>:121:0\n",
      "  %152 : int = prim::Constant[value=0](), scope: BiGRU # <ipython-input-21-5f3ae3dfaec2>:126:0\n",
      "  %153 : int = prim::Constant[value=2](), scope: BiGRU # <ipython-input-21-5f3ae3dfaec2>:126:0\n",
      "  %154 : int = prim::Constant[value=1](), scope: BiGRU # <ipython-input-21-5f3ae3dfaec2>:126:0\n",
      "  %155 : int[] = prim::ListConstruct(%152, %153, %154), scope: BiGRU\n",
      "  %input.4 : Float(256, 4!, 50!) = aten::permute(%gru_out, %155), scope: BiGRU # <ipython-input-21-5f3ae3dfaec2>:126:0\n",
      "  %157 : int = prim::Constant[value=1](), scope: BiGRU # /Users/vsitham/opt/anaconda3/envs/py3.7/lib/python3.7/site-packages/torch/nn/functional.py:664:0\n",
      "  %158 : int[] = prim::ListConstruct(%157), scope: BiGRU\n",
      "  %159 : Float(256, 4, 1), %160 : Long(256, 4, 1) = aten::adaptive_max_pool1d(%input.4, %158), scope: BiGRU # /Users/vsitham/opt/anaconda3/envs/py3.7/lib/python3.7/site-packages/torch/nn/functional.py:664:0\n",
      "  %162 : int = prim::Constant[value=-1](), scope: BiGRU # <ipython-input-21-5f3ae3dfaec2>:126:0\n",
      "  %163 : int[] = prim::ListConstruct(%161, %162), scope: BiGRU\n",
      "  %max_pool : Float(256, 4) = aten::view(%159, %163), scope: BiGRU # <ipython-input-21-5f3ae3dfaec2>:126:0\n",
      "  %165 : int = prim::Constant[value=1](), scope: BiGRU # <ipython-input-21-5f3ae3dfaec2>:131:0\n",
      "  %166 : int[] = prim::ListConstruct(%165), scope: BiGRU\n",
      "  %167 : bool = prim::Constant[value=0](), scope: BiGRU # <ipython-input-21-5f3ae3dfaec2>:131:0\n",
      "  %168 : int? = prim::Constant(), scope: BiGRU\n",
      "  %169 : Float(256, 4) = aten::sum(%gru_out, %166, %167, %168), scope: BiGRU # <ipython-input-21-5f3ae3dfaec2>:131:0\n",
      "  %170 : int = prim::Constant[value=-1](), scope: BiGRU # <ipython-input-21-5f3ae3dfaec2>:131:0\n",
      "  %171 : int = prim::Constant[value=1](), scope: BiGRU # <ipython-input-21-5f3ae3dfaec2>:131:0\n",
      "  %172 : int[] = prim::ListConstruct(%170, %171), scope: BiGRU\n",
      "  %173 : Long(256, 1) = aten::view(%lengths, %172), scope: BiGRU # <ipython-input-21-5f3ae3dfaec2>:131:0\n",
      "  %174 : Device = prim::Constant[value=\"cpu\"](), scope: BiGRU # <ipython-input-21-5f3ae3dfaec2>:131:0\n",
      "  %175 : int = prim::Constant[value=6](), scope: BiGRU # <ipython-input-21-5f3ae3dfaec2>:131:0\n",
      "  %176 : bool = prim::Constant[value=0](), scope: BiGRU # <ipython-input-21-5f3ae3dfaec2>:131:0\n",
      "  %177 : bool = prim::Constant[value=0](), scope: BiGRU # <ipython-input-21-5f3ae3dfaec2>:131:0\n",
      "  %178 : Float(256, 1) = aten::to(%173, %174, %175, %176, %177), scope: BiGRU # <ipython-input-21-5f3ae3dfaec2>:131:0\n",
      "  %avg_pool : Float(256, 4) = aten::div(%169, %178), scope: BiGRU # <ipython-input-21-5f3ae3dfaec2>:131:0\n",
      "  %180 : Tensor[] = prim::ListConstruct(%last_hidden, %max_pool, %avg_pool), scope: BiGRU\n",
      "  %181 : int = prim::Constant[value=1](), scope: BiGRU # <ipython-input-21-5f3ae3dfaec2>:134:0\n",
      "  %input.5 : Float(256, 12) = aten::cat(%180, %181), scope: BiGRU # <ipython-input-21-5f3ae3dfaec2>:134:0\n",
      "  %183 : Float(12!, 2!) = aten::t(%weight), scope: BiGRU/Linear[linear] # /Users/vsitham/opt/anaconda3/envs/py3.7/lib/python3.7/site-packages/torch/nn/functional.py:1369:0\n",
      "  %184 : int = prim::Constant[value=1](), scope: BiGRU/Linear[linear] # /Users/vsitham/opt/anaconda3/envs/py3.7/lib/python3.7/site-packages/torch/nn/functional.py:1369:0\n",
      "  %185 : int = prim::Constant[value=1](), scope: BiGRU/Linear[linear] # /Users/vsitham/opt/anaconda3/envs/py3.7/lib/python3.7/site-packages/torch/nn/functional.py:1369:0\n",
      "  %input : Float(256, 2) = aten::addmm(%bias, %input.5, %183, %184, %185), scope: BiGRU/Linear[linear] # /Users/vsitham/opt/anaconda3/envs/py3.7/lib/python3.7/site-packages/torch/nn/functional.py:1369:0\n",
      "  %187 : int = prim::Constant[value=-1](), scope: BiGRU # /Users/vsitham/opt/anaconda3/envs/py3.7/lib/python3.7/site-packages/torch/nn/functional.py:1316:0\n",
      "  %188 : int? = prim::Constant(), scope: BiGRU\n",
      "  %189 : Float(256, 2) = aten::log_softmax(%input, %187, %188), scope: BiGRU # /Users/vsitham/opt/anaconda3/envs/py3.7/lib/python3.7/site-packages/torch/nn/functional.py:1316:0\n",
      "  return (%189)\n",
      "\n"
     ]
    }
   ],
   "source": [
    "hidden_size = 4\n",
    "vocab_size = len(train_iterator.word2index)\n",
    "embedding_dim = 200\n",
    "n_layers = 2\n",
    "output_size = 2\n",
    "spatial_dropout = True\n",
    "dropout = 0.5\n",
    "\n",
    "writer = SummaryWriter('runs/exp-1')\n",
    "\n",
    "for batch in train_iterator:\n",
    "    input_seq, _, x_lengths = batch['input_seq'], batch['target'], batch['x_lengths']\n",
    "\n",
    "with SummaryWriter(comment='Model graph') as w:\n",
    "    w.add_graph(BiGRU(hidden_size, vocab_size, embedding_dim, output_size, n_layers, dropout,\n",
    "                      spatial_dropout, bidirectional=True), (input_seq, x_lengths), True)"
   ]
  },
  {
   "cell_type": "markdown",
   "metadata": {},
   "source": [
    "### The generalization error"
   ]
  },
  {
   "cell_type": "code",
   "execution_count": 26,
   "metadata": {},
   "outputs": [],
   "source": [
    "# Import the dataset. Use clean_review and label columns\n",
    "test_dataset = pd.read_csv('drugreview/drugreview_feat_clean/test_feat_clean.csv',\n",
    "                          usecols=['clean_review', 'rating'])\n",
    "\n",
    "# Change columns order\n",
    "test_dataset['label'] = test_dataset.rating >= 5\n",
    "test_dataset = test_dataset[['clean_review', 'label']]"
   ]
  },
  {
   "cell_type": "code",
   "execution_count": 27,
   "metadata": {},
   "outputs": [
    {
     "data": {
      "text/html": [
       "<div>\n",
       "<style scoped>\n",
       "    .dataframe tbody tr th:only-of-type {\n",
       "        vertical-align: middle;\n",
       "    }\n",
       "\n",
       "    .dataframe tbody tr th {\n",
       "        vertical-align: top;\n",
       "    }\n",
       "\n",
       "    .dataframe thead th {\n",
       "        text-align: right;\n",
       "    }\n",
       "</style>\n",
       "<table border=\"1\" class=\"dataframe\">\n",
       "  <thead>\n",
       "    <tr style=\"text-align: right;\">\n",
       "      <th></th>\n",
       "      <th>clean_review</th>\n",
       "      <th>label</th>\n",
       "    </tr>\n",
       "  </thead>\n",
       "  <tbody>\n",
       "    <tr>\n",
       "      <td>0</td>\n",
       "      <td>i&amp;#039;ve tried antidepressants years citalopr...</td>\n",
       "      <td>True</td>\n",
       "    </tr>\n",
       "    <tr>\n",
       "      <td>1</td>\n",
       "      <td>son crohn&amp;#039;s disease asacol complaints sho...</td>\n",
       "      <td>True</td>\n",
       "    </tr>\n",
       "    <tr>\n",
       "      <td>2</td>\n",
       "      <td>quick reduction symptoms</td>\n",
       "      <td>True</td>\n",
       "    </tr>\n",
       "    <tr>\n",
       "      <td>3</td>\n",
       "      <td>contrave combines drugs alcohol smoking opioid...</td>\n",
       "      <td>True</td>\n",
       "    </tr>\n",
       "    <tr>\n",
       "      <td>4</td>\n",
       "      <td>birth control cycle reading reviews type simil...</td>\n",
       "      <td>True</td>\n",
       "    </tr>\n",
       "  </tbody>\n",
       "</table>\n",
       "</div>"
      ],
      "text/plain": [
       "                                        clean_review  label\n",
       "0  i&#039;ve tried antidepressants years citalopr...   True\n",
       "1  son crohn&#039;s disease asacol complaints sho...   True\n",
       "2                           quick reduction symptoms   True\n",
       "3  contrave combines drugs alcohol smoking opioid...   True\n",
       "4  birth control cycle reading reviews type simil...   True"
      ]
     },
     "execution_count": 27,
     "metadata": {},
     "output_type": "execute_result"
    }
   ],
   "source": [
    "test_dataset = test_dataset.dropna()\n",
    "test_dataset.head()"
   ]
  },
  {
   "cell_type": "code",
   "execution_count": 29,
   "metadata": {},
   "outputs": [
    {
     "name": "stdout",
     "output_type": "stream",
     "text": [
      "Trimmed vocabulary using as minimum count threashold: count = 3.00\n",
      "15210/40911 tokens has been retained\n",
      "Trimmed input strings vocabulary\n",
      "Trimmed input sequences lengths to the length of: 59\n",
      "Mapped words to indices\n",
      "Batches created\n"
     ]
    }
   ],
   "source": [
    "test_iterator = BatchIterator(test_dataset, batch_size=256, vocab_created=False, vocab=None, target_col=None,\n",
    "                              word2index=train_iterator.word2index, sos_token='<SOS>', eos_token='<EOS>',\n",
    "                              unk_token='<UNK>', pad_token='<PAD>', min_word_count=3, max_vocab_size=None,\n",
    "                              max_seq_len=0.9, use_pretrained_vectors=False, glove_path='glove/',\n",
    "                              glove_name='glove.6B.100d.txt', weights_file_name='glove/weights_train.npy')"
   ]
  },
  {
   "cell_type": "code",
   "execution_count": 30,
   "metadata": {},
   "outputs": [
    {
     "data": {
      "application/vnd.jupyter.widget-view+json": {
       "model_id": "b80c93b5057c4d50840feb654ef6d199",
       "version_major": 2,
       "version_minor": 0
      },
      "text/plain": [
       "Evaluation:   0%|          | 0/189 [00:00<?, ?it/s]"
      ]
     },
     "metadata": {},
     "output_type": "display_data"
    },
    {
     "name": "stdout",
     "output_type": "stream",
     "text": [
      "Iteration: 100. Average evaluation loss: 0.3597. Accuracy: 0.84\n"
     ]
    }
   ],
   "source": [
    "_, test_avg_loss, test_accuracy, test_conf_matrix = model.evaluate_model(test_iterator)"
   ]
  },
  {
   "cell_type": "code",
   "execution_count": 31,
   "metadata": {},
   "outputs": [
    {
     "name": "stdout",
     "output_type": "stream",
     "text": [
      "Test accuracy: 0.845. Test error: 0.358\n"
     ]
    }
   ],
   "source": [
    "print('Test accuracy: {:.3f}. Test error: {:.3f}'.format(test_accuracy, test_avg_loss))"
   ]
  },
  {
   "cell_type": "code",
   "execution_count": 32,
   "metadata": {},
   "outputs": [
    {
     "data": {
      "image/png": "[encoded data removed]",
      "text/plain": [
       "<Figure size 432x432 with 2 Axes>"
      ]
     },
     "metadata": {
      "needs_background": "light"
     },
     "output_type": "display_data"
    }
   ],
   "source": [
    "# Confusion matrix\n",
    "plt.figure(figsize=(6,6))\n",
    "ax = sns.heatmap(test_conf_matrix, fmt='d', annot=True, linewidths=1, square=True)\n",
    "ax.set_xlabel('Predictions', size=12)\n",
    "ax.set_ylabel('True labels', size=12) \n",
    "ax.set_title('Confusion Matrix', size=12); \n",
    "ax.xaxis.set_ticklabels(['True', 'False'])\n",
    "ax.yaxis.set_ticklabels(['True', 'False'])\n",
    "ax.set_ylim(2,0)\n",
    "plt.show()"
   ]
  },
  {
   "cell_type": "markdown",
   "metadata": {},
   "source": [
    "The generalization accuracy of the biGRU model equals 0.845. As we can see on the above plot of the confusion matrix the both, positive and negative classes were similarly numerous, and the prediction mistakes amount (TN, FP) is also very similar, so model learned both classes in the same detail. "
   ]
  },
  {
   "cell_type": "code",
   "execution_count": null,
   "metadata": {},
   "outputs": [],
   "source": []
  }
 ],
 "metadata": {
  "kernelspec": {
   "display_name": "py3.7",
   "language": "python",
   "name": "py3.7"
  },
  "language_info": {
   "codemirror_mode": {
    "name": "ipython",
    "version": 3
   },
   "file_extension": ".py",
   "mimetype": "text/x-python",
   "name": "python",
   "nbconvert_exporter": "python",
   "pygments_lexer": "ipython3",
   "version": "3.7.10"
  }
 },
 "nbformat": 4,
 "nbformat_minor": 2
}
