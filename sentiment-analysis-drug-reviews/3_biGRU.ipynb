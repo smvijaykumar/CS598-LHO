{
 "cells": [
  {
   "cell_type": "markdown",
   "metadata": {},
   "source": [
    "After the GRU layer we will concatenate both, the average pooling and max pooling of the hidden representation and the last hidden state of GRU in order to prevent our model from forgetting infromations. This architecture is described in the following paper: https://arxiv.org/pdf/1801.06146.pdf. There is also the possibility to get rid of the last hidden state from our model at all, this kind of architecture, that uses max-pooling or avg-pooling is depicted in the paper: https://arxiv.org/pdf/1705.02364.pdf."
   ]
  },
  {
   "cell_type": "markdown",
   "metadata": {},
   "source": [
    "### Building and training the model\n",
    "\n",
    "Let's start with importing all indispensable libraries."
   ]
  },
  {
   "cell_type": "code",
   "execution_count": 1,
   "metadata": {},
   "outputs": [],
   "source": [
    "from batch_iterator import BatchIterator\n",
    "from early_stopping import EarlyStopping\n",
    "import pandas as pd\n",
    "import torch\n",
    "import torch.nn as nn\n",
    "import torch.nn.functional as F\n",
    "from torch import device\n",
    "from tqdm import tqdm_notebook\n",
    "import numpy as np\n",
    "import matplotlib.pyplot as plt\n",
    "import seaborn as sns\n",
    "from sklearn.metrics import confusion_matrix\n",
    "from tensorboardX import SummaryWriter"
   ]
  },
  {
   "cell_type": "markdown",
   "metadata": {},
   "source": [
    "Now, we are going to load the tarining and validation sets, but we will use only the clean_review column and label column."
   ]
  },
  {
   "cell_type": "code",
   "execution_count": 2,
   "metadata": {},
   "outputs": [],
   "source": [
    "# Import the dataset. Use clean_review and label columns\n",
    "train_dataset = pd.read_csv('dataset/drugreview_feat_clean/train_feat_clean.csv', \n",
    "                            usecols=['clean_review', 'rating'])\n",
    "\n",
    "# Change columns order\n",
    "train_dataset['label'] = train_dataset.rating >= 5\n",
    "train_dataset = train_dataset[['clean_review', 'label']]"
   ]
  },
  {
   "cell_type": "code",
   "execution_count": 3,
   "metadata": {},
   "outputs": [
    {
     "data": {
      "text/html": [
       "<div>\n",
       "<style scoped>\n",
       "    .dataframe tbody tr th:only-of-type {\n",
       "        vertical-align: middle;\n",
       "    }\n",
       "\n",
       "    .dataframe tbody tr th {\n",
       "        vertical-align: top;\n",
       "    }\n",
       "\n",
       "    .dataframe thead th {\n",
       "        text-align: right;\n",
       "    }\n",
       "</style>\n",
       "<table border=\"1\" class=\"dataframe\">\n",
       "  <thead>\n",
       "    <tr style=\"text-align: right;\">\n",
       "      <th></th>\n",
       "      <th>clean_review</th>\n",
       "      <th>label</th>\n",
       "    </tr>\n",
       "  </thead>\n",
       "  <tbody>\n",
       "    <tr>\n",
       "      <td>2</td>\n",
       "      <td>young suffering severe extreme neck pain resul...</td>\n",
       "      <td>True</td>\n",
       "    </tr>\n",
       "    <tr>\n",
       "      <td>5</td>\n",
       "      <td>found work helping good nights sleep don&amp;#039;...</td>\n",
       "      <td>True</td>\n",
       "    </tr>\n",
       "    <tr>\n",
       "      <td>9</td>\n",
       "      <td>given medication gastroenterologist office wor...</td>\n",
       "      <td>False</td>\n",
       "    </tr>\n",
       "    <tr>\n",
       "      <td>12</td>\n",
       "      <td>recently laparoscopic hysterectomy know anesth...</td>\n",
       "      <td>True</td>\n",
       "    </tr>\n",
       "    <tr>\n",
       "      <td>13</td>\n",
       "      <td>mirena year experienced effects effects watch ...</td>\n",
       "      <td>False</td>\n",
       "    </tr>\n",
       "  </tbody>\n",
       "</table>\n",
       "</div>"
      ],
      "text/plain": [
       "                                         clean_review  label\n",
       "2   young suffering severe extreme neck pain resul...   True\n",
       "5   found work helping good nights sleep don&#039;...   True\n",
       "9   given medication gastroenterologist office wor...  False\n",
       "12  recently laparoscopic hysterectomy know anesth...   True\n",
       "13  mirena year experienced effects effects watch ...  False"
      ]
     },
     "execution_count": 3,
     "metadata": {},
     "output_type": "execute_result"
    }
   ],
   "source": [
    "# Depict the first 5 rows of the training set\n",
    "train_dataset = train_dataset.dropna()\n",
    "train_dataset.head()"
   ]
  },
  {
   "cell_type": "code",
   "execution_count": 4,
   "metadata": {},
   "outputs": [],
   "source": [
    "# Import the dataset. Use clean_review and label columns\n",
    "val_dataset = pd.read_csv('dataset/drugreview_feat_clean/val_feat_clean.csv',\n",
    "                          usecols=['clean_review', 'rating'])\n",
    "\n",
    "# Change columns order\n",
    "\n",
    "val_dataset['label'] = val_dataset.rating >= 5\n",
    "val_dataset = val_dataset[['clean_review', 'label']]"
   ]
  },
  {
   "cell_type": "code",
   "execution_count": 5,
   "metadata": {},
   "outputs": [
    {
     "data": {
      "text/html": [
       "<div>\n",
       "<style scoped>\n",
       "    .dataframe tbody tr th:only-of-type {\n",
       "        vertical-align: middle;\n",
       "    }\n",
       "\n",
       "    .dataframe tbody tr th {\n",
       "        vertical-align: top;\n",
       "    }\n",
       "\n",
       "    .dataframe thead th {\n",
       "        text-align: right;\n",
       "    }\n",
       "</style>\n",
       "<table border=\"1\" class=\"dataframe\">\n",
       "  <thead>\n",
       "    <tr style=\"text-align: right;\">\n",
       "      <th></th>\n",
       "      <th>clean_review</th>\n",
       "      <th>label</th>\n",
       "    </tr>\n",
       "  </thead>\n",
       "  <tbody>\n",
       "    <tr>\n",
       "      <td>0</td>\n",
       "      <td>year old son took night went deep sea fishing ...</td>\n",
       "      <td>True</td>\n",
       "    </tr>\n",
       "    <tr>\n",
       "      <td>1</td>\n",
       "      <td>daughter epiduo grade junior year work wonders...</td>\n",
       "      <td>True</td>\n",
       "    </tr>\n",
       "    <tr>\n",
       "      <td>2</td>\n",
       "      <td>i&amp;#039;ve implant months day got totally felt ...</td>\n",
       "      <td>True</td>\n",
       "    </tr>\n",
       "    <tr>\n",
       "      <td>3</td>\n",
       "      <td>wanted wait days post couldn&amp;#039;t results am...</td>\n",
       "      <td>True</td>\n",
       "    </tr>\n",
       "    <tr>\n",
       "      <td>4</td>\n",
       "      <td>colonoscopy best prep far morning took prep pm...</td>\n",
       "      <td>True</td>\n",
       "    </tr>\n",
       "  </tbody>\n",
       "</table>\n",
       "</div>"
      ],
      "text/plain": [
       "                                        clean_review  label\n",
       "0  year old son took night went deep sea fishing ...   True\n",
       "1  daughter epiduo grade junior year work wonders...   True\n",
       "2  i&#039;ve implant months day got totally felt ...   True\n",
       "3  wanted wait days post couldn&#039;t results am...   True\n",
       "4  colonoscopy best prep far morning took prep pm...   True"
      ]
     },
     "execution_count": 5,
     "metadata": {},
     "output_type": "execute_result"
    }
   ],
   "source": [
    "# Depict the first 5 rows of the validation set\n",
    "val_dataset = val_dataset.dropna()\n",
    "val_dataset.head()"
   ]
  },
  {
   "cell_type": "markdown",
   "metadata": {},
   "source": [
    "Below we will use the BatchIterator class defined in the previous notebook to create the vocabulary, trim sequences in terms of the rare word occurrence and the length, map words to their numerical representation (word2index), furthermore BatchIterator sorts dataset examples, generates batches, performs sequence padding and enables to use it instance to iterate through all batches."
   ]
  },
  {
   "cell_type": "code",
   "execution_count": 6,
   "metadata": {},
   "outputs": [
    {
     "name": "stdout",
     "output_type": "stream",
     "text": [
      "Trimmed vocabulary using as minimum count threashold: count = 3.00\n",
      "8674/21861 tokens has been retained\n",
      "Trimmed input strings vocabulary\n",
      "Trimmed input sequences lengths to the length of: 58\n",
      "Mapped words to indices\n",
      "Batches created\n"
     ]
    }
   ],
   "source": [
    "train_iterator = BatchIterator(train_dataset, batch_size=256, vocab_created=False, vocab=None, target_col=None,\n",
    "                               word2index=None, sos_token='<SOS>', eos_token='<EOS>', unk_token='<UNK>',\n",
    "                               pad_token='<PAD>', min_word_count=3, max_vocab_size=None, max_seq_len=0.9,\n",
    "                               use_pretrained_vectors=False, glove_path='glove/', glove_name='glove.6B.100d.txt',\n",
    "                               weights_file_name='glove/weights.npy')"
   ]
  },
  {
   "cell_type": "code",
   "execution_count": 7,
   "metadata": {},
   "outputs": [
    {
     "name": "stdout",
     "output_type": "stream",
     "text": [
      "Trimmed vocabulary using as minimum count threashold: count = 3.00\n",
      "4655/11853 tokens has been retained\n",
      "Trimmed input strings vocabulary\n",
      "Trimmed input sequences lengths to the length of: 57\n",
      "Mapped words to indices\n",
      "Batches created\n"
     ]
    }
   ],
   "source": [
    "val_iterator = BatchIterator(val_dataset, batch_size=256, vocab_created=False, vocab=None, target_col=None,\n",
    "                             word2index=train_iterator.word2index, sos_token='<SOS>', eos_token='<EOS>',\n",
    "                             unk_token='<UNK>', pad_token='<PAD>', min_word_count=3, max_vocab_size=None,\n",
    "                             max_seq_len=0.9, use_pretrained_vectors=False, glove_path='glove/',\n",
    "                             glove_name='glove.6B.100d.txt', weights_file_name='glove/weights.npy')"
   ]
  },
  {
   "cell_type": "markdown",
   "metadata": {},
   "source": [
    "We have to check out how batches that we created look like before we pass them into the model. For the record, the set of batches for input and output variables is returned as a dictionary, thus we will just look at the dictionary keys to find out how to extract particular variables."
   ]
  },
  {
   "cell_type": "code",
   "execution_count": 8,
   "metadata": {},
   "outputs": [
    {
     "name": "stdout",
     "output_type": "stream",
     "text": [
      "dict_keys(['input_seq', 'target', 'x_lengths'])\n"
     ]
    }
   ],
   "source": [
    "for batches in train_iterator:\n",
    "    print(batches.keys())\n",
    "    break"
   ]
  },
  {
   "cell_type": "markdown",
   "metadata": {},
   "source": [
    "Notice that the output batch has the dimensions: (batch_size, seq_len)"
   ]
  },
  {
   "cell_type": "code",
   "execution_count": 9,
   "metadata": {},
   "outputs": [
    {
     "name": "stdout",
     "output_type": "stream",
     "text": [
      "input_seq shape:  torch.Size([256, 36])\n",
      "target shape:  torch.Size([256])\n",
      "x_lengths shape:  torch.Size([256])\n"
     ]
    }
   ],
   "source": [
    "for batches in train_iterator:\n",
    "    # Unpack the dictionary of batches\n",
    "    input_seq, target, x_lengths = batches['input_seq'], batches['target'], batches['x_lengths']\n",
    "    print('input_seq shape: ', input_seq.size())\n",
    "    print('target shape: ', target.size())\n",
    "    print('x_lengths shape: ', x_lengths.size())\n",
    "    break"
   ]
  },
  {
   "cell_type": "code",
   "execution_count": 10,
   "metadata": {},
   "outputs": [
    {
     "name": "stdout",
     "output_type": "stream",
     "text": [
      "input_seq shape:  torch.Size([256, 31])\n",
      "target shape:  torch.Size([256])\n",
      "x_lengths shape:  torch.Size([256])\n"
     ]
    }
   ],
   "source": [
    "for batches in val_iterator:\n",
    "    # Unpack the dictionary of batches\n",
    "    input_seq, target, x_lengths = batches['input_seq'], batches['target'], batches['x_lengths']\n",
    "    print('input_seq shape: ', input_seq.size())\n",
    "    print('target shape: ', target.size())\n",
    "    print('x_lengths shape: ', x_lengths.size())\n",
    "    break"
   ]
  },
  {
   "cell_type": "markdown",
   "metadata": {},
   "source": [
    "Next step is to build the biGRU model."
   ]
  },
  {
   "cell_type": "code",
   "execution_count": 11,
   "metadata": {},
   "outputs": [],
   "source": [
    "class BiGRU(nn.Module):\n",
    "    \"\"\"BiDirectional GRU neural network model.\n",
    "        \n",
    "    Parameters\n",
    "    ----------\n",
    "    hidden_size: int\n",
    "        Number of features in the hidden state.\n",
    "    vocab_size: int\n",
    "        The size of the vocabulary.\n",
    "    embedding_dim: int\n",
    "        The size of each embedding vector.\n",
    "    output_size: int\n",
    "        Number of classes.\n",
    "    n_layers: int, optional (default=1)\n",
    "        Number of stacked recurrent layers.\n",
    "    dropout: float, optional (default=0.2)\n",
    "        Probability of an element of the tensor to be zeroed.\n",
    "    spatial_dropout: boolean, optional (default=True)\n",
    "        Whether to use the spatial dropout.\n",
    "    bidirectional: boolean, optional (default=True)\n",
    "        Whether to use the bidirectional GRU.\n",
    "\n",
    "    \"\"\"\n",
    "    \n",
    "    def __init__(self, hidden_size, vocab_size, embedding_dim, output_size, n_layers=1, dropout=0.2,\n",
    "                 spatial_dropout=True, bidirectional=True):\n",
    "        \n",
    "        # Inherit everything from the nn.Module\n",
    "        super(BiGRU, self).__init__()\n",
    "        \n",
    "        # Initialize attributes\n",
    "        self.hidden_size = hidden_size\n",
    "        self.vocab_size = vocab_size\n",
    "        self.embedding_dim = embedding_dim\n",
    "        self.output_size = output_size\n",
    "        self.n_layers = n_layers\n",
    "        self.dropout_p = dropout\n",
    "        self.spatial_dropout = spatial_dropout\n",
    "        self.bidirectional = bidirectional\n",
    "        self.n_directions = 2 if self.bidirectional else 1\n",
    "        \n",
    "        # Initialize layers\n",
    "        self.embedding = nn.Embedding(self.vocab_size, self.embedding_dim)\n",
    "        self.dropout = nn.Dropout(self.dropout_p)\n",
    "        if self.spatial_dropout:\n",
    "            self.spatial_dropout1d = nn.Dropout2d(self.dropout_p)\n",
    "        self.gru = nn.GRU(self.embedding_dim, self.hidden_size, num_layers=self.n_layers, \n",
    "                          dropout=(0 if n_layers == 1 else self.dropout_p), batch_first=True,\n",
    "                          bidirectional=self.bidirectional)\n",
    "        # Linear layer input size is equal to hidden_size * 3, becuase\n",
    "        # we will concatenate max_pooling ,avg_pooling and last hidden state\n",
    "        self.linear = nn.Linear(self.hidden_size * 3, self.output_size)\n",
    "\n",
    "        \n",
    "    def forward(self, input_seq, input_lengths, hidden=None):\n",
    "        \"\"\"Forward propagate through the neural network model.\n",
    "        \n",
    "        Parameters\n",
    "        ----------\n",
    "        input_seq: torch.Tensor\n",
    "            Batch of input sequences.\n",
    "        input_lengths: torch.LongTensor\n",
    "            Batch containing sequences lengths.\n",
    "        hidden: torch.FloatTensor, optional (default=None)\n",
    "            Tensor containing initial hidden state.\n",
    "            \n",
    "        Returns\n",
    "        -------\n",
    "        torch.Tensor\n",
    "            Logarithm of softmaxed input tensor.\n",
    "        \n",
    "        \"\"\"\n",
    "        # Extract batch_size\n",
    "        self.batch_size = input_seq.size(0)\n",
    "        \n",
    "        # Embeddings shapes\n",
    "        # Input: (batch_size,  seq_length)\n",
    "        # Output: (batch_size, seq_length, embedding_dim)\n",
    "        emb_out = self.embedding(input_seq)\n",
    "        \n",
    "        if self.spatial_dropout:\n",
    "            # Convert to (batch_size, embedding_dim, seq_length)\n",
    "            emb_out = emb_out.permute(0, 2, 1)\n",
    "            emb_out = self.spatial_dropout1d(emb_out)\n",
    "            # Convert back to (batch_size, seq_length, embedding_dim)\n",
    "            emb_out = emb_out.permute(0, 2, 1)\n",
    "        else:\n",
    "            emb_out = self.dropout(emb_out)\n",
    "        \n",
    "        # Pack padded batch of sequences for RNN module\n",
    "        packed_emb = nn.utils.rnn.pack_padded_sequence(emb_out, input_lengths, batch_first=True)\n",
    "                \n",
    "        # GRU input/output shapes, if batch_first=True\n",
    "        # Input: (batch_size, seq_len, embedding_dim)\n",
    "        # Output: (batch_size, seq_len, hidden_size*num_directions)\n",
    "        # Number of directions = 2 when used bidirectional, otherwise 1\n",
    "        # shape of hidden: (n_layers x num_directions, batch_size, hidden_size)\n",
    "        # Hidden state defaults to zero if not provided\n",
    "        gru_out, hidden = self.gru(packed_emb, hidden)\n",
    "        # gru_out: tensor containing the output features h_t from the last layer of the GRU\n",
    "        # gru_out comprises all the hidden states in the last layer (\"last\" depth-wise, not time-wise)\n",
    "        # For biGRu gru_out is the concatenation of a forward GRU representation and a backward GRU representation\n",
    "        # hidden (h_n) comprises the hidden states after the last timestep\n",
    "        \n",
    "        # Extract and sum last hidden state\n",
    "        # Input hidden shape: (n_layers x num_directions, batch_size, hidden_size)\n",
    "        # Separate hidden state layers\n",
    "        hidden = hidden.view(self.n_layers, self.n_directions, self.batch_size, self.hidden_size)\n",
    "        last_hidden = hidden[-1]\n",
    "        # last hidden shape (num_directions, batch_size, hidden_size)\n",
    "        # Sum the last hidden state of forward and backward layer\n",
    "        last_hidden = torch.sum(last_hidden, dim=0)\n",
    "        # Summed last hidden shape (batch_size, hidden_size)\n",
    "        \n",
    "        # Pad a packed batch\n",
    "        # gru_out output shape: (batch_size, seq_len, hidden_size*num_directions)\n",
    "        gru_out, lengths = nn.utils.rnn.pad_packed_sequence(gru_out, batch_first=True)\n",
    "              \n",
    "        # Sum the gru_out along the num_directions\n",
    "        if self.bidirectional:\n",
    "            gru_out = gru_out[:,:,:self.hidden_size] + gru_out[:,:,self.hidden_size:]\n",
    "        \n",
    "        # Select the maximum value over each dimension of the hidden representation (max pooling)\n",
    "        # Permute the input tensor to dimensions: (batch_size, hidden, seq_len)\n",
    "        # Output dimensions: (batch_size, hidden_size)\n",
    "        max_pool = F.adaptive_max_pool1d(gru_out.permute(0,2,1), (1,)).view(self.batch_size,-1)\n",
    "        \n",
    "        # Consider the average of the representations (mean pooling)\n",
    "        # Sum along the batch axis and divide by the corresponding lengths (FloatTensor)\n",
    "        # Output shape: (batch_size, hidden_size)\n",
    "        avg_pool = torch.sum(gru_out, dim=1) / lengths.view(-1,1).type(torch.FloatTensor) \n",
    "\n",
    "        # Concatenate max_pooling, avg_pooling and last hidden state tensors\n",
    "        concat_out = torch.cat([last_hidden, max_pool, avg_pool], dim=1)\n",
    "\n",
    "        #concat_out = self.dropout(concat_out)\n",
    "        out = self.linear(concat_out)\n",
    "        return F.log_softmax(out, dim=-1)\n",
    "    \n",
    "    \n",
    "    def add_loss_fn(self, loss_fn):\n",
    "        \"\"\"Add loss function to the model.\n",
    "        \n",
    "        \"\"\"\n",
    "        self.loss_fn = loss_fn\n",
    "        \n",
    "\n",
    "    def add_optimizer(self, optimizer):\n",
    "        \"\"\"Add optimizer to the model.\n",
    "        \n",
    "        \"\"\"\n",
    "        self.optimizer = optimizer\n",
    "        \n",
    "        \n",
    "    def add_device(self, device=torch.device('cpu')):\n",
    "        \"\"\"Specify the device.\n",
    "        \n",
    "        \"\"\"\n",
    "        self.device = device\n",
    "    \n",
    "    \n",
    "    def train_model(self, train_iterator):\n",
    "        \"\"\"Perform single training epoch.\n",
    "        \n",
    "        Parameters\n",
    "        ----------\n",
    "        train_iterator: BatchIterator\n",
    "            BatchIterator class object containing training batches.\n",
    "            \n",
    "        Returns\n",
    "        -------\n",
    "        train_losses: list\n",
    "            List of the training average batch losses.\n",
    "        avg_loss: float\n",
    "            Average loss on the entire training set.\n",
    "        accuracy: float\n",
    "            Models accuracy on the entire training set.\n",
    "            \n",
    "        \"\"\"\n",
    "        self.train()\n",
    "        \n",
    "        train_losses = []\n",
    "        losses = []\n",
    "        losses_list = []\n",
    "        num_seq = 0\n",
    "        batch_correct = 0\n",
    "            \n",
    "        for i, batches in tqdm_notebook(enumerate(train_iterator, 1), total=len(train_iterator), desc='Training'):\n",
    "            input_seq, target, x_lengths = batches['input_seq'], batches['target'], batches['x_lengths']\n",
    "            \n",
    "            input_seq.to(self.device)\n",
    "            target.to(self.device)\n",
    "            x_lengths.to(self.device)\n",
    "            \n",
    "            self.optimizer.zero_grad()\n",
    "\n",
    "            pred = self.forward(input_seq, x_lengths)\n",
    "            loss = self.loss_fn(pred, target)\n",
    "            loss.backward()\n",
    "            losses.append(loss.data.cpu().numpy())\n",
    "            self.optimizer.step()\n",
    "            \n",
    "            losses_list.append(loss.data.cpu().numpy())\n",
    "            \n",
    "            pred = torch.argmax(pred, 1)\n",
    "\n",
    "            if self.device.type == 'cpu':\n",
    "                batch_correct += (pred.cpu() == target.cpu()).sum().item()\n",
    "\n",
    "            else:\n",
    "                batch_correct += (pred == target).sum().item()\n",
    "\n",
    "            num_seq += len(input_seq)     \n",
    "    \n",
    "            if i % 100 == 0:\n",
    "                avg_train_loss = np.mean(losses)\n",
    "                train_losses.append(avg_train_loss)\n",
    "                \n",
    "                accuracy = batch_correct / num_seq\n",
    "                \n",
    "                print('Iteration: {}. Average training loss: {:.4f}. Accuracy: {:.3f}'\\\n",
    "                      .format(i, avg_train_loss, accuracy))\n",
    "                \n",
    "                losses = []\n",
    "                \n",
    "            avg_loss = np.mean(losses_list)\n",
    "            accuracy = batch_correct / num_seq\n",
    "                              \n",
    "        return train_losses, avg_loss, accuracy\n",
    "    \n",
    "    \n",
    "    def evaluate_model(self, eval_iterator, conf_mtx=False):\n",
    "        \"\"\"Perform the one evaluation epoch.\n",
    "        \n",
    "        Parameters\n",
    "        ----------\n",
    "        eval_iterator: BatchIterator\n",
    "            BatchIterator class object containing evaluation batches.\n",
    "        conf_mtx: boolean, optional (default=False)\n",
    "            Whether to print the confusion matrix at each epoch.\n",
    "            \n",
    "        Returns\n",
    "        -------\n",
    "        eval_losses: list\n",
    "            List of the evaluation average batch losses.\n",
    "        avg_loss: float\n",
    "            Average loss on the entire evaluation set.\n",
    "        accuracy: float\n",
    "            Models accuracy on the entire evaluation set.\n",
    "        conf_matrix: list\n",
    "            Confusion matrix.\n",
    "            \n",
    "        \"\"\"\n",
    "        self.eval()\n",
    "        \n",
    "        eval_losses = []\n",
    "        losses = []\n",
    "        losses_list = []\n",
    "        num_seq = 0\n",
    "        batch_correct = 0\n",
    "        pred_total = torch.LongTensor()\n",
    "        target_total = torch.LongTensor()\n",
    "        \n",
    "        with torch.no_grad():\n",
    "            for i, batches in tqdm_notebook(enumerate(eval_iterator, 1), total=len(eval_iterator), desc='Evaluation'):\n",
    "                input_seq, target, x_lengths = batches['input_seq'], batches['target'], batches['x_lengths']\n",
    "                \n",
    "                input_seq.to(self.device)\n",
    "                target.to(self.device)\n",
    "                x_lengths.to(self.device)\n",
    "\n",
    "                pred = self.forward(input_seq, x_lengths)\n",
    "                loss = self.loss_fn(pred, target)\n",
    "                losses.append(loss.data.cpu().numpy())\n",
    "                losses_list.append(loss.data.cpu().numpy())\n",
    "                \n",
    "                pred = torch.argmax(pred, 1)\n",
    "                                \n",
    "                if self.device.type == 'cpu':\n",
    "                    batch_correct += (pred.cpu() == target.cpu()).sum().item()\n",
    "                    \n",
    "                else:\n",
    "                    batch_correct += (pred == target).sum().item()\n",
    "                    \n",
    "                num_seq += len(input_seq)     \n",
    "                \n",
    "                pred_total = torch.cat([pred_total, pred], dim=0)\n",
    "                target_total = torch.cat([target_total, target], dim=0)\n",
    "                \n",
    "                if i % 100 == 0:\n",
    "                    avg_batch_eval_loss = np.mean(losses)\n",
    "                    eval_losses.append(avg_batch_eval_loss)\n",
    "                    \n",
    "                    accuracy = batch_correct / num_seq\n",
    "                    \n",
    "                    print('Iteration: {}. Average evaluation loss: {:.4f}. Accuracy: {:.2f}'\\\n",
    "                          .format(i, avg_batch_eval_loss, accuracy))\n",
    "\n",
    "                    losses = []\n",
    "                    \n",
    "            avg_loss_list = []\n",
    "                    \n",
    "            avg_loss = np.mean(losses_list)\n",
    "            accuracy = batch_correct / num_seq\n",
    "            \n",
    "            conf_matrix = confusion_matrix(target_total.view(-1), pred_total.view(-1))\n",
    "        \n",
    "        if conf_mtx:\n",
    "            print('\\tConfusion matrix: ', conf_matrix)\n",
    "            \n",
    "        return eval_losses, avg_loss, accuracy, conf_matrix\n"
   ]
  },
  {
   "cell_type": "markdown",
   "metadata": {},
   "source": [
    "Now we will instantiate the model, add loss function, optimizer, and device to it and begin the training."
   ]
  },
  {
   "cell_type": "code",
   "execution_count": 23,
   "metadata": {},
   "outputs": [
    {
     "name": "stdout",
     "output_type": "stream",
     "text": [
      "\n",
      "Start epoch [1/20]\n"
     ]
    },
    {
     "data": {
      "application/vnd.jupyter.widget-view+json": {
       "model_id": "614bff6a7f1549ca881fff146bb70f6a",
       "version_major": 2,
       "version_minor": 0
      },
      "text/plain": [
       "Training:   0%|          | 0/57 [00:00<?, ?it/s]"
      ]
     },
     "metadata": {},
     "output_type": "display_data"
    },
    {
     "data": {
      "application/vnd.jupyter.widget-view+json": {
       "model_id": "54c7212c84784bc48b34bd9b01f78984",
       "version_major": 2,
       "version_minor": 0
      },
      "text/plain": [
       "Evaluation:   0%|          | 0/17 [00:00<?, ?it/s]"
      ]
     },
     "metadata": {},
     "output_type": "display_data"
    },
    {
     "name": "stdout",
     "output_type": "stream",
     "text": [
      "\n",
      "Epoch [1/20]: Train accuracy: 0.675. Train loss: 0.6227. Evaluation accuracy: 0.757. Evaluation loss: 0.5564\n",
      "\n",
      "Start epoch [2/20]\n"
     ]
    },
    {
     "data": {
      "application/vnd.jupyter.widget-view+json": {
       "model_id": "dc2c12464b2c40a6b659243e98d735e2",
       "version_major": 2,
       "version_minor": 0
      },
      "text/plain": [
       "Training:   0%|          | 0/57 [00:00<?, ?it/s]"
      ]
     },
     "metadata": {},
     "output_type": "display_data"
    },
    {
     "data": {
      "application/vnd.jupyter.widget-view+json": {
       "model_id": "ae16fea0e07c43b7aedd2774022554f8",
       "version_major": 2,
       "version_minor": 0
      },
      "text/plain": [
       "Evaluation:   0%|          | 0/17 [00:00<?, ?it/s]"
      ]
     },
     "metadata": {},
     "output_type": "display_data"
    },
    {
     "name": "stdout",
     "output_type": "stream",
     "text": [
      "\n",
      "Epoch [2/20]: Train accuracy: 0.747. Train loss: 0.5696. Evaluation accuracy: 0.757. Evaluation loss: 0.5481\n",
      "\n",
      "Start epoch [3/20]\n"
     ]
    },
    {
     "data": {
      "application/vnd.jupyter.widget-view+json": {
       "model_id": "1783ace1fa264a27b9e992afa6f3f4ae",
       "version_major": 2,
       "version_minor": 0
      },
      "text/plain": [
       "Training:   0%|          | 0/57 [00:00<?, ?it/s]"
      ]
     },
     "metadata": {},
     "output_type": "display_data"
    },
    {
     "data": {
      "application/vnd.jupyter.widget-view+json": {
       "model_id": "cf5d49c09bd24b00ad054446f37d9227",
       "version_major": 2,
       "version_minor": 0
      },
      "text/plain": [
       "Evaluation:   0%|          | 0/17 [00:00<?, ?it/s]"
      ]
     },
     "metadata": {},
     "output_type": "display_data"
    },
    {
     "name": "stdout",
     "output_type": "stream",
     "text": [
      "\n",
      "Epoch [3/20]: Train accuracy: 0.747. Train loss: 0.5650. Evaluation accuracy: 0.757. Evaluation loss: 0.5423\n",
      "\n",
      "Start epoch [4/20]\n"
     ]
    },
    {
     "data": {
      "application/vnd.jupyter.widget-view+json": {
       "model_id": "60ed6fa65ad14f2999154dd18b5249d0",
       "version_major": 2,
       "version_minor": 0
      },
      "text/plain": [
       "Training:   0%|          | 0/57 [00:00<?, ?it/s]"
      ]
     },
     "metadata": {},
     "output_type": "display_data"
    },
    {
     "data": {
      "application/vnd.jupyter.widget-view+json": {
       "model_id": "c5ae5b7ed15b4abca85349a3a837206e",
       "version_major": 2,
       "version_minor": 0
      },
      "text/plain": [
       "Evaluation:   0%|          | 0/17 [00:00<?, ?it/s]"
      ]
     },
     "metadata": {},
     "output_type": "display_data"
    },
    {
     "name": "stdout",
     "output_type": "stream",
     "text": [
      "\n",
      "Epoch [4/20]: Train accuracy: 0.748. Train loss: 0.5588. Evaluation accuracy: 0.757. Evaluation loss: 0.5362\n",
      "\n",
      "Start epoch [5/20]\n"
     ]
    },
    {
     "data": {
      "application/vnd.jupyter.widget-view+json": {
       "model_id": "070e6676ec5f45aeba6a8b876a01fc72",
       "version_major": 2,
       "version_minor": 0
      },
      "text/plain": [
       "Training:   0%|          | 0/57 [00:00<?, ?it/s]"
      ]
     },
     "metadata": {},
     "output_type": "display_data"
    },
    {
     "data": {
      "application/vnd.jupyter.widget-view+json": {
       "model_id": "8cf493c876b34d41b36eaa369bf8f6b5",
       "version_major": 2,
       "version_minor": 0
      },
      "text/plain": [
       "Evaluation:   0%|          | 0/17 [00:00<?, ?it/s]"
      ]
     },
     "metadata": {},
     "output_type": "display_data"
    },
    {
     "name": "stdout",
     "output_type": "stream",
     "text": [
      "\n",
      "Epoch [5/20]: Train accuracy: 0.748. Train loss: 0.5520. Evaluation accuracy: 0.757. Evaluation loss: 0.5283\n",
      "\n",
      "Start epoch [6/20]\n"
     ]
    },
    {
     "data": {
      "application/vnd.jupyter.widget-view+json": {
       "model_id": "7864a0fdc5644c6098f038dfe7a4e9be",
       "version_major": 2,
       "version_minor": 0
      },
      "text/plain": [
       "Training:   0%|          | 0/57 [00:00<?, ?it/s]"
      ]
     },
     "metadata": {},
     "output_type": "display_data"
    },
    {
     "data": {
      "application/vnd.jupyter.widget-view+json": {
       "model_id": "ad6c1fde63c846edb09527dc4f81ade7",
       "version_major": 2,
       "version_minor": 0
      },
      "text/plain": [
       "Evaluation:   0%|          | 0/17 [00:00<?, ?it/s]"
      ]
     },
     "metadata": {},
     "output_type": "display_data"
    },
    {
     "name": "stdout",
     "output_type": "stream",
     "text": [
      "\n",
      "Epoch [6/20]: Train accuracy: 0.748. Train loss: 0.5467. Evaluation accuracy: 0.758. Evaluation loss: 0.5184\n",
      "\n",
      "Start epoch [7/20]\n"
     ]
    },
    {
     "data": {
      "application/vnd.jupyter.widget-view+json": {
       "model_id": "c1326aa0182843c48218fbd9a819c126",
       "version_major": 2,
       "version_minor": 0
      },
      "text/plain": [
       "Training:   0%|          | 0/57 [00:00<?, ?it/s]"
      ]
     },
     "metadata": {},
     "output_type": "display_data"
    },
    {
     "data": {
      "application/vnd.jupyter.widget-view+json": {
       "model_id": "2b8c06cff9e84e9d94deb33c60328b01",
       "version_major": 2,
       "version_minor": 0
      },
      "text/plain": [
       "Evaluation:   0%|          | 0/17 [00:00<?, ?it/s]"
      ]
     },
     "metadata": {},
     "output_type": "display_data"
    },
    {
     "name": "stdout",
     "output_type": "stream",
     "text": [
      "\n",
      "Epoch [7/20]: Train accuracy: 0.749. Train loss: 0.5382. Evaluation accuracy: 0.761. Evaluation loss: 0.5074\n",
      "\n",
      "Start epoch [8/20]\n"
     ]
    },
    {
     "data": {
      "application/vnd.jupyter.widget-view+json": {
       "model_id": "5b00634e9817401c9061acc1b2edb817",
       "version_major": 2,
       "version_minor": 0
      },
      "text/plain": [
       "Training:   0%|          | 0/57 [00:00<?, ?it/s]"
      ]
     },
     "metadata": {},
     "output_type": "display_data"
    },
    {
     "data": {
      "application/vnd.jupyter.widget-view+json": {
       "model_id": "a333dbbf8e354173862c090772965815",
       "version_major": 2,
       "version_minor": 0
      },
      "text/plain": [
       "Evaluation:   0%|          | 0/17 [00:00<?, ?it/s]"
      ]
     },
     "metadata": {},
     "output_type": "display_data"
    },
    {
     "name": "stdout",
     "output_type": "stream",
     "text": [
      "\n",
      "Epoch [8/20]: Train accuracy: 0.751. Train loss: 0.5249. Evaluation accuracy: 0.763. Evaluation loss: 0.4938\n",
      "\n",
      "Start epoch [9/20]\n"
     ]
    },
    {
     "data": {
      "application/vnd.jupyter.widget-view+json": {
       "model_id": "83e904bc331443a0bb8b00cecab1e58f",
       "version_major": 2,
       "version_minor": 0
      },
      "text/plain": [
       "Training:   0%|          | 0/57 [00:00<?, ?it/s]"
      ]
     },
     "metadata": {},
     "output_type": "display_data"
    },
    {
     "data": {
      "application/vnd.jupyter.widget-view+json": {
       "model_id": "3e16d1576de74f3f9c338a8f5056579a",
       "version_major": 2,
       "version_minor": 0
      },
      "text/plain": [
       "Evaluation:   0%|          | 0/17 [00:00<?, ?it/s]"
      ]
     },
     "metadata": {},
     "output_type": "display_data"
    },
    {
     "name": "stdout",
     "output_type": "stream",
     "text": [
      "\n",
      "Epoch [9/20]: Train accuracy: 0.756. Train loss: 0.5122. Evaluation accuracy: 0.773. Evaluation loss: 0.4799\n",
      "\n",
      "Start epoch [10/20]\n"
     ]
    },
    {
     "data": {
      "application/vnd.jupyter.widget-view+json": {
       "model_id": "2575bdc1e5d14ad88ca9e6e2b9333124",
       "version_major": 2,
       "version_minor": 0
      },
      "text/plain": [
       "Training:   0%|          | 0/57 [00:00<?, ?it/s]"
      ]
     },
     "metadata": {},
     "output_type": "display_data"
    },
    {
     "data": {
      "application/vnd.jupyter.widget-view+json": {
       "model_id": "3e53879cd1b64b94b29ce2534259fdc1",
       "version_major": 2,
       "version_minor": 0
      },
      "text/plain": [
       "Evaluation:   0%|          | 0/17 [00:00<?, ?it/s]"
      ]
     },
     "metadata": {},
     "output_type": "display_data"
    },
    {
     "name": "stdout",
     "output_type": "stream",
     "text": [
      "\n",
      "Epoch [10/20]: Train accuracy: 0.762. Train loss: 0.5000. Evaluation accuracy: 0.779. Evaluation loss: 0.4675\n",
      "\n",
      "Start epoch [11/20]\n"
     ]
    },
    {
     "data": {
      "application/vnd.jupyter.widget-view+json": {
       "model_id": "e8af2ce1db5447b6a0fbd5036f650d6c",
       "version_major": 2,
       "version_minor": 0
      },
      "text/plain": [
       "Training:   0%|          | 0/57 [00:00<?, ?it/s]"
      ]
     },
     "metadata": {},
     "output_type": "display_data"
    },
    {
     "data": {
      "application/vnd.jupyter.widget-view+json": {
       "model_id": "575fd3f4b8434837974904477e0bdd1f",
       "version_major": 2,
       "version_minor": 0
      },
      "text/plain": [
       "Evaluation:   0%|          | 0/17 [00:00<?, ?it/s]"
      ]
     },
     "metadata": {},
     "output_type": "display_data"
    },
    {
     "name": "stdout",
     "output_type": "stream",
     "text": [
      "\n",
      "Epoch [11/20]: Train accuracy: 0.772. Train loss: 0.4855. Evaluation accuracy: 0.788. Evaluation loss: 0.4560\n",
      "\n",
      "Start epoch [12/20]\n"
     ]
    },
    {
     "data": {
      "application/vnd.jupyter.widget-view+json": {
       "model_id": "7b1b16fcfa174896be762e1701f1034d",
       "version_major": 2,
       "version_minor": 0
      },
      "text/plain": [
       "Training:   0%|          | 0/57 [00:00<?, ?it/s]"
      ]
     },
     "metadata": {},
     "output_type": "display_data"
    },
    {
     "data": {
      "application/vnd.jupyter.widget-view+json": {
       "model_id": "572cef06cf2e4c02bb5a8d2b7adcada4",
       "version_major": 2,
       "version_minor": 0
      },
      "text/plain": [
       "Evaluation:   0%|          | 0/17 [00:00<?, ?it/s]"
      ]
     },
     "metadata": {},
     "output_type": "display_data"
    },
    {
     "name": "stdout",
     "output_type": "stream",
     "text": [
      "\n",
      "Epoch [12/20]: Train accuracy: 0.780. Train loss: 0.4688. Evaluation accuracy: 0.795. Evaluation loss: 0.4491\n",
      "\n",
      "Start epoch [13/20]\n"
     ]
    },
    {
     "data": {
      "application/vnd.jupyter.widget-view+json": {
       "model_id": "1a01dffd4fc546ca995345b72407591a",
       "version_major": 2,
       "version_minor": 0
      },
      "text/plain": [
       "Training:   0%|          | 0/57 [00:00<?, ?it/s]"
      ]
     },
     "metadata": {},
     "output_type": "display_data"
    },
    {
     "data": {
      "application/vnd.jupyter.widget-view+json": {
       "model_id": "2ee70d9807054d18ad126ffe3acfb64e",
       "version_major": 2,
       "version_minor": 0
      },
      "text/plain": [
       "Evaluation:   0%|          | 0/17 [00:00<?, ?it/s]"
      ]
     },
     "metadata": {},
     "output_type": "display_data"
    },
    {
     "name": "stdout",
     "output_type": "stream",
     "text": [
      "\n",
      "Epoch [13/20]: Train accuracy: 0.787. Train loss: 0.4546. Evaluation accuracy: 0.799. Evaluation loss: 0.4436\n",
      "\n",
      "Start epoch [14/20]\n"
     ]
    },
    {
     "data": {
      "application/vnd.jupyter.widget-view+json": {
       "model_id": "1fcf5d4e2fa246a98236b0c347560706",
       "version_major": 2,
       "version_minor": 0
      },
      "text/plain": [
       "Training:   0%|          | 0/57 [00:00<?, ?it/s]"
      ]
     },
     "metadata": {},
     "output_type": "display_data"
    },
    {
     "data": {
      "application/vnd.jupyter.widget-view+json": {
       "model_id": "32a5898ce7c24e05b383b63d978ad175",
       "version_major": 2,
       "version_minor": 0
      },
      "text/plain": [
       "Evaluation:   0%|          | 0/17 [00:00<?, ?it/s]"
      ]
     },
     "metadata": {},
     "output_type": "display_data"
    },
    {
     "name": "stdout",
     "output_type": "stream",
     "text": [
      "\n",
      "Epoch [14/20]: Train accuracy: 0.795. Train loss: 0.4422. Evaluation accuracy: 0.803. Evaluation loss: 0.4386\n",
      "\n",
      "Start epoch [15/20]\n"
     ]
    },
    {
     "data": {
      "application/vnd.jupyter.widget-view+json": {
       "model_id": "46418bb2939d41d4ac91727b4ea4c63c",
       "version_major": 2,
       "version_minor": 0
      },
      "text/plain": [
       "Training:   0%|          | 0/57 [00:00<?, ?it/s]"
      ]
     },
     "metadata": {},
     "output_type": "display_data"
    },
    {
     "data": {
      "application/vnd.jupyter.widget-view+json": {
       "model_id": "e110fc1275ed4636b3287a0e02fcc57d",
       "version_major": 2,
       "version_minor": 0
      },
      "text/plain": [
       "Evaluation:   0%|          | 0/17 [00:00<?, ?it/s]"
      ]
     },
     "metadata": {},
     "output_type": "display_data"
    },
    {
     "name": "stdout",
     "output_type": "stream",
     "text": [
      "\n",
      "Epoch [15/20]: Train accuracy: 0.799. Train loss: 0.4339. Evaluation accuracy: 0.803. Evaluation loss: 0.4362\n",
      "\n",
      "Start epoch [16/20]\n"
     ]
    },
    {
     "data": {
      "application/vnd.jupyter.widget-view+json": {
       "model_id": "367be769407a4ad1a034503ac4826176",
       "version_major": 2,
       "version_minor": 0
      },
      "text/plain": [
       "Training:   0%|          | 0/57 [00:00<?, ?it/s]"
      ]
     },
     "metadata": {},
     "output_type": "display_data"
    },
    {
     "data": {
      "application/vnd.jupyter.widget-view+json": {
       "model_id": "b8b8d417637044d8b5236915e2cee28a",
       "version_major": 2,
       "version_minor": 0
      },
      "text/plain": [
       "Evaluation:   0%|          | 0/17 [00:00<?, ?it/s]"
      ]
     },
     "metadata": {},
     "output_type": "display_data"
    },
    {
     "name": "stdout",
     "output_type": "stream",
     "text": [
      "\n",
      "Epoch [16/20]: Train accuracy: 0.808. Train loss: 0.4240. Evaluation accuracy: 0.805. Evaluation loss: 0.4346\n",
      "\n",
      "Start epoch [17/20]\n"
     ]
    },
    {
     "data": {
      "application/vnd.jupyter.widget-view+json": {
       "model_id": "65f2cf741ed341e9ba392e0900495247",
       "version_major": 2,
       "version_minor": 0
      },
      "text/plain": [
       "Training:   0%|          | 0/57 [00:00<?, ?it/s]"
      ]
     },
     "metadata": {},
     "output_type": "display_data"
    },
    {
     "data": {
      "application/vnd.jupyter.widget-view+json": {
       "model_id": "0050c725ff374b61b3477a3cd4397699",
       "version_major": 2,
       "version_minor": 0
      },
      "text/plain": [
       "Evaluation:   0%|          | 0/17 [00:00<?, ?it/s]"
      ]
     },
     "metadata": {},
     "output_type": "display_data"
    },
    {
     "name": "stdout",
     "output_type": "stream",
     "text": [
      "\n",
      "Epoch [17/20]: Train accuracy: 0.812. Train loss: 0.4155. Evaluation accuracy: 0.808. Evaluation loss: 0.4332\n",
      "\n",
      "Start epoch [18/20]\n"
     ]
    },
    {
     "data": {
      "application/vnd.jupyter.widget-view+json": {
       "model_id": "ca9a22e0ee234b3c82f54a4cf5ad99c5",
       "version_major": 2,
       "version_minor": 0
      },
      "text/plain": [
       "Training:   0%|          | 0/57 [00:00<?, ?it/s]"
      ]
     },
     "metadata": {},
     "output_type": "display_data"
    },
    {
     "data": {
      "application/vnd.jupyter.widget-view+json": {
       "model_id": "d00207e44b304ffe96fbec2370e11d53",
       "version_major": 2,
       "version_minor": 0
      },
      "text/plain": [
       "Evaluation:   0%|          | 0/17 [00:00<?, ?it/s]"
      ]
     },
     "metadata": {},
     "output_type": "display_data"
    },
    {
     "name": "stdout",
     "output_type": "stream",
     "text": [
      "\n",
      "Epoch [18/20]: Train accuracy: 0.813. Train loss: 0.4064. Evaluation accuracy: 0.811. Evaluation loss: 0.4332\n",
      "\n",
      "Start epoch [19/20]\n"
     ]
    },
    {
     "data": {
      "application/vnd.jupyter.widget-view+json": {
       "model_id": "27d97b761a2c485490d081ac4ef833ec",
       "version_major": 2,
       "version_minor": 0
      },
      "text/plain": [
       "Training:   0%|          | 0/57 [00:00<?, ?it/s]"
      ]
     },
     "metadata": {},
     "output_type": "display_data"
    },
    {
     "data": {
      "application/vnd.jupyter.widget-view+json": {
       "model_id": "f9c984340ed342b58cd7c4471c09fa85",
       "version_major": 2,
       "version_minor": 0
      },
      "text/plain": [
       "Evaluation:   0%|          | 0/17 [00:00<?, ?it/s]"
      ]
     },
     "metadata": {},
     "output_type": "display_data"
    },
    {
     "name": "stdout",
     "output_type": "stream",
     "text": [
      "\n",
      "Epoch [19/20]: Train accuracy: 0.824. Train loss: 0.3958. Evaluation accuracy: 0.811. Evaluation loss: 0.4339\n",
      "\n",
      "Start epoch [20/20]\n"
     ]
    },
    {
     "data": {
      "application/vnd.jupyter.widget-view+json": {
       "model_id": "2c24262938744c6caa530fda3e767a8d",
       "version_major": 2,
       "version_minor": 0
      },
      "text/plain": [
       "Training:   0%|          | 0/57 [00:00<?, ?it/s]"
      ]
     },
     "metadata": {},
     "output_type": "display_data"
    },
    {
     "data": {
      "application/vnd.jupyter.widget-view+json": {
       "model_id": "4de0e6eda64b4366b0d8452fa7f435de",
       "version_major": 2,
       "version_minor": 0
      },
      "text/plain": [
       "Evaluation:   0%|          | 0/17 [00:00<?, ?it/s]"
      ]
     },
     "metadata": {},
     "output_type": "display_data"
    },
    {
     "name": "stdout",
     "output_type": "stream",
     "text": [
      "\n",
      "Epoch [20/20]: Train accuracy: 0.822. Train loss: 0.3902. Evaluation accuracy: 0.813. Evaluation loss: 0.4340\n"
     ]
    }
   ],
   "source": [
    "# Initialize parameters\n",
    "hidden_size = 8\n",
    "vocab_size = len(train_iterator.word2index)\n",
    "embedding_dim = 200\n",
    "output_size = 2\n",
    "n_layers = 1\n",
    "dropout = 0.5\n",
    "learning_rate = 0.001\n",
    "epochs = 20\n",
    "spatial_dropout = True\n",
    "\n",
    "# Check whether system supports CUDA\n",
    "CUDA = torch.cuda.is_available()\n",
    "\n",
    "model = BiGRU(hidden_size, vocab_size, embedding_dim, output_size, n_layers, dropout,\n",
    "              spatial_dropout, bidirectional=True)\n",
    "\n",
    "# Move the model to GPU if possible\n",
    "if CUDA:\n",
    "    model.cuda()\n",
    "\n",
    "model.add_loss_fn(nn.NLLLoss())\n",
    "\n",
    "optimizer = torch.optim.Adam(model.parameters(), lr=learning_rate)\n",
    "model.add_optimizer(optimizer)\n",
    "\n",
    "device = torch.device('cuda' if CUDA else 'cpu')\n",
    "\n",
    "model.add_device(device)\n",
    "\n",
    "# Instantiate the EarlyStopping\n",
    "early_stop = EarlyStopping(wait_epochs=1)\n",
    "\n",
    "train_losses_list, train_avg_loss_list, train_accuracy_list = [], [], []\n",
    "eval_avg_loss_list, eval_accuracy_list, conf_matrix_list = [], [], []\n",
    "\n",
    "for epoch in range(epochs):\n",
    "    \n",
    "    print('\\nStart epoch [{}/{}]'.format(epoch+1, epochs))\n",
    "    \n",
    "    train_losses, train_avg_loss, train_accuracy = model.train_model(train_iterator)\n",
    "    \n",
    "    train_losses_list.append(train_losses)\n",
    "    train_avg_loss_list.append(train_avg_loss)\n",
    "    train_accuracy_list.append(train_accuracy)\n",
    "    \n",
    "    _, eval_avg_loss, eval_accuracy, conf_matrix = model.evaluate_model(val_iterator)\n",
    "    \n",
    "    eval_avg_loss_list.append(eval_avg_loss)\n",
    "    eval_accuracy_list.append(eval_accuracy)\n",
    "    conf_matrix_list.append(conf_matrix)\n",
    "    \n",
    "    print('\\nEpoch [{}/{}]: Train accuracy: {:.3f}. Train loss: {:.4f}. Evaluation accuracy: {:.3f}. Evaluation loss: {:.4f}'\\\n",
    "          .format(epoch+1, epochs, train_accuracy, train_avg_loss, eval_accuracy, eval_avg_loss))\n",
    "    \n",
    "    if early_stop.stop(eval_avg_loss, model, delta=0.003):\n",
    "        break\n",
    "\n",
    "    "
   ]
  },
  {
   "cell_type": "code",
   "execution_count": 20,
   "metadata": {},
   "outputs": [
    {
     "name": "stdout",
     "output_type": "stream",
     "text": [
      "20\n"
     ]
    }
   ],
   "source": [
    "# Add the dataset initial loss\n",
    "#print(len(train_losses_list))\n",
    "#train_avg_loss_list.insert(0, train_losses_list[0])\n",
    "#eval_avg_loss_list.insert(0, train_losses_list[0])"
   ]
  },
  {
   "cell_type": "code",
   "execution_count": 24,
   "metadata": {},
   "outputs": [
    {
     "data": {
      "image/png": "[encoded data removed]",
      "text/plain": [
       "<Figure size 576x360 with 1 Axes>"
      ]
     },
     "metadata": {
      "needs_background": "light"
     },
     "output_type": "display_data"
    }
   ],
   "source": [
    "# Plot the training and the validation learning curve\n",
    "plt.figure(figsize=(8,5))\n",
    "plt.plot(train_avg_loss_list, label='Training loss')\n",
    "plt.plot(eval_avg_loss_list, label='Evaluation loss')\n",
    "plt.xlabel('Epoch', size=12)\n",
    "plt.ylabel('Loss', size=12)\n",
    "plt.title('biGRU model learning curves')\n",
    "plt.xticks(ticks=range(21))\n",
    "plt.legend()\n",
    "plt.show()"
   ]
  },
  {
   "cell_type": "code",
   "execution_count": 25,
   "metadata": {},
   "outputs": [
    {
     "data": {
      "image/png": "[encoded data removed]",
      "text/plain": [
       "<Figure size 432x432 with 2 Axes>"
      ]
     },
     "metadata": {
      "needs_background": "light"
     },
     "output_type": "display_data"
    }
   ],
   "source": [
    "# Confusion matrix\n",
    "plt.figure(figsize=(6,6))\n",
    "ax = sns.heatmap(conf_matrix, fmt='d', annot=True, linewidths=1, square=True)\n",
    "ax.set_xlabel('Predictions', size=12)\n",
    "ax.set_ylabel('True labels', size=12) \n",
    "ax.set_title('Confusion Matrix', size=12); \n",
    "ax.xaxis.set_ticklabels(['True', 'False'])\n",
    "ax.yaxis.set_ticklabels(['True', 'False'])\n",
    "ax.set_ylim(2,0)\n",
    "plt.show()"
   ]
  },
  {
   "cell_type": "markdown",
   "metadata": {},
   "source": [
    "The model achieved the validation accuracy of 0.878, while the training accuracy was 0.908. The model's best state was saved to the *checkpoint.pt* file in the current directory. The training wasn't stopped by EarlyStopping object because the validation loss changes were too small and fluctuated near the same value.\n",
    "\n",
    "The training process that is presented above regards the model with the tuned hyperparameters. The steps we went through when doing hyperparameters fine-tuning are listed in the next section."
   ]
  },
  {
   "cell_type": "markdown",
   "metadata": {},
   "source": [
    "#### The summary - final set of hyperparameters\n",
    "\n",
    "Considering all above training trials, we can draw the following conclusions:\n",
    "- increasing the dropout probability helps in reducing the model's overfitting.\n",
    "- spatial dropout works better in terms of decreasing the variance problem than the traditional dropout.\n",
    "- the most improvement in reducing overfitting is due to the reduction of hidden_size.\n",
    "- using stacked GRU doesn't improve in our case the model's performance.\n",
    "- reducing the batch_size doesn't significantly affect the model's learning ability what is rather unexpected while increasing the batch_size does improve a bit the model's performance.\n",
    "\n",
    "The following are the hyperparameters that will be used to finaly train our neural network:\n",
    "- hidden_size = 8 <br>\n",
    "- embedding_dim = 200 <br>\n",
    "- n_layers = 1 <br>\n",
    "- dropout = 0.5 <br>\n",
    "- learning_rate = 0.001 <br>\n",
    "- epochs = 20 <br>\n",
    "- spatial_dropout = True <br>\n",
    "- batch_size = 256 <br>\n",
    "- min_word_count = 3 <br>\n",
    "- max_seq_len = 0.9 <br>"
   ]
  },
  {
   "cell_type": "markdown",
   "metadata": {},
   "source": [
    "Below we will use the *tensorboardX* to create the graph of our neural network model that has been depicted at the top of this notebook. You can encounter torch._C.Value issue while using *add.graph()* method, to tackle that I recommend following the *github* thread devoted to this topic:\n",
    "<br>https://github.com/lanpa/tensorboardX/issues/483<br>\n",
    "namely, you can try to build tensorboardX from source with:\n",
    "<br>*git clone https://github.com/lanpa/tensorboardX && cd tensorboardX && python setup.py install*"
   ]
  },
  {
   "cell_type": "code",
   "execution_count": 26,
   "metadata": {},
   "outputs": [
    {
     "name": "stdout",
     "output_type": "stream",
     "text": [
      "graph(%self : ClassType<BiGRU>,\n",
      "      %input_seq : Long(256, 28),\n",
      "      %lengths.1 : Long(256)):\n",
      "  %1 : ClassType<Embedding> = prim::GetAttr[name=\"embedding\"](%self)\n",
      "  %weight.1 : Tensor = prim::GetAttr[name=\"weight\"](%1)\n",
      "  %5 : ClassType<GRU> = prim::GetAttr[name=\"gru\"](%self)\n",
      "  %6 : Tensor = prim::GetAttr[name=\"weight_ih_l0\"](%5)\n",
      "  %7 : Tensor = prim::GetAttr[name=\"weight_hh_l0\"](%5)\n",
      "  %8 : Tensor = prim::GetAttr[name=\"bias_ih_l0\"](%5)\n",
      "  %9 : Tensor = prim::GetAttr[name=\"bias_hh_l0\"](%5)\n",
      "  %10 : Tensor = prim::GetAttr[name=\"weight_ih_l0_reverse\"](%5)\n",
      "  %11 : Tensor = prim::GetAttr[name=\"weight_hh_l0_reverse\"](%5)\n",
      "  %12 : Tensor = prim::GetAttr[name=\"bias_ih_l0_reverse\"](%5)\n",
      "  %13 : Tensor = prim::GetAttr[name=\"bias_hh_l0_reverse\"](%5)\n",
      "  %14 : Tensor = prim::GetAttr[name=\"weight_ih_l1\"](%5)\n",
      "  %15 : Tensor = prim::GetAttr[name=\"weight_hh_l1\"](%5)\n",
      "  %16 : Tensor = prim::GetAttr[name=\"bias_ih_l1\"](%5)\n",
      "  %17 : Tensor = prim::GetAttr[name=\"bias_hh_l1\"](%5)\n",
      "  %18 : Tensor = prim::GetAttr[name=\"weight_ih_l1_reverse\"](%5)\n",
      "  %19 : Tensor = prim::GetAttr[name=\"weight_hh_l1_reverse\"](%5)\n",
      "  %20 : Tensor = prim::GetAttr[name=\"bias_ih_l1_reverse\"](%5)\n",
      "  %21 : Tensor = prim::GetAttr[name=\"bias_hh_l1_reverse\"](%5)\n",
      "  %22 : ClassType<Linear> = prim::GetAttr[name=\"linear\"](%self)\n",
      "  %weight : Tensor = prim::GetAttr[name=\"weight\"](%22)\n",
      "  %bias : Tensor = prim::GetAttr[name=\"bias\"](%22)\n",
      "  %27 : int = prim::Constant[value=0](), scope: BiGRU # <ipython-input-11-5f3ae3dfaec2>:74:0\n",
      "  %28 : int = aten::size(%input_seq, %27), scope: BiGRU # <ipython-input-11-5f3ae3dfaec2>:74:0\n",
      "  %29 : Long() = prim::NumToTensor(%28), scope: BiGRU\n",
      "  %161 : int = aten::Int(%29), scope: BiGRU\n",
      "  %98 : int = aten::Int(%29), scope: BiGRU\n",
      "  %30 : int = prim::Constant[value=-1](), scope: BiGRU/Embedding[embedding] # /Users/vsitham/opt/anaconda3/envs/py3.7/lib/python3.7/site-packages/torch/nn/functional.py:1467:0\n",
      "  %31 : bool = prim::Constant[value=0](), scope: BiGRU/Embedding[embedding] # /Users/vsitham/opt/anaconda3/envs/py3.7/lib/python3.7/site-packages/torch/nn/functional.py:1467:0\n",
      "  %32 : bool = prim::Constant[value=0](), scope: BiGRU/Embedding[embedding] # /Users/vsitham/opt/anaconda3/envs/py3.7/lib/python3.7/site-packages/torch/nn/functional.py:1467:0\n",
      "  %emb_out.1 : Float(256, 28, 200) = aten::embedding(%weight.1, %input_seq, %30, %31, %32), scope: BiGRU/Embedding[embedding] # /Users/vsitham/opt/anaconda3/envs/py3.7/lib/python3.7/site-packages/torch/nn/functional.py:1467:0\n",
      "  %34 : int = prim::Constant[value=0](), scope: BiGRU # <ipython-input-11-5f3ae3dfaec2>:83:0\n",
      "  %35 : int = prim::Constant[value=2](), scope: BiGRU # <ipython-input-11-5f3ae3dfaec2>:83:0\n",
      "  %36 : int = prim::Constant[value=1](), scope: BiGRU # <ipython-input-11-5f3ae3dfaec2>:83:0\n",
      "  %37 : int[] = prim::ListConstruct(%34, %35, %36), scope: BiGRU\n",
      "  %input.1 : Float(256!, 200!, 28!) = aten::permute(%emb_out.1, %37), scope: BiGRU # <ipython-input-11-5f3ae3dfaec2>:83:0\n",
      "  %39 : float = prim::Constant[value=0.5](), scope: BiGRU/Dropout2d[spatial_dropout1d] # /Users/vsitham/opt/anaconda3/envs/py3.7/lib/python3.7/site-packages/torch/nn/functional.py:844:0\n",
      "  %40 : bool = prim::Constant[value=0](), scope: BiGRU/Dropout2d[spatial_dropout1d] # /Users/vsitham/opt/anaconda3/envs/py3.7/lib/python3.7/site-packages/torch/nn/functional.py:844:0\n",
      "  %emb_out : Float(256!, 200!, 28!) = aten::feature_dropout(%input.1, %39, %40), scope: BiGRU/Dropout2d[spatial_dropout1d] # /Users/vsitham/opt/anaconda3/envs/py3.7/lib/python3.7/site-packages/torch/nn/functional.py:844:0\n",
      "  %42 : int = prim::Constant[value=0](), scope: BiGRU # <ipython-input-11-5f3ae3dfaec2>:86:0\n",
      "  %43 : int = prim::Constant[value=2](), scope: BiGRU # <ipython-input-11-5f3ae3dfaec2>:86:0\n",
      "  %44 : int = prim::Constant[value=1](), scope: BiGRU # <ipython-input-11-5f3ae3dfaec2>:86:0\n",
      "  %45 : int[] = prim::ListConstruct(%42, %43, %44), scope: BiGRU\n",
      "  %input.2 : Float(256, 28, 200) = aten::permute(%emb_out, %45), scope: BiGRU # <ipython-input-11-5f3ae3dfaec2>:86:0\n",
      "  %47 : Device = prim::Constant[value=\"cpu\"](), scope: BiGRU # /Users/vsitham/opt/anaconda3/envs/py3.7/lib/python3.7/site-packages/torch/nn/utils/rnn.py:265:0\n",
      "  %48 : int = prim::Constant[value=4](), scope: BiGRU # /Users/vsitham/opt/anaconda3/envs/py3.7/lib/python3.7/site-packages/torch/nn/utils/rnn.py:265:0\n",
      "  %49 : bool = prim::Constant[value=0](), scope: BiGRU # /Users/vsitham/opt/anaconda3/envs/py3.7/lib/python3.7/site-packages/torch/nn/utils/rnn.py:265:0\n",
      "  %50 : bool = prim::Constant[value=0](), scope: BiGRU # /Users/vsitham/opt/anaconda3/envs/py3.7/lib/python3.7/site-packages/torch/nn/utils/rnn.py:265:0\n",
      "  %lengths.2 : Long(256) = aten::to(%lengths.1, %47, %48, %49, %50), scope: BiGRU # /Users/vsitham/opt/anaconda3/envs/py3.7/lib/python3.7/site-packages/torch/nn/utils/rnn.py:265:0\n",
      "  %52 : bool = prim::Constant[value=1](), scope: BiGRU # /Users/vsitham/opt/anaconda3/envs/py3.7/lib/python3.7/site-packages/torch/nn/utils/rnn.py:275:0\n",
      "  %input.3 : Float(6948, 200), %batch_sizes : Long(28) = aten::_pack_padded_sequence(%input.2, %lengths.2, %52), scope: BiGRU # /Users/vsitham/opt/anaconda3/envs/py3.7/lib/python3.7/site-packages/torch/nn/utils/rnn.py:275:0\n",
      "  %58 : int = prim::Constant[value=4](), scope: BiGRU/GRU[gru] # /Users/vsitham/opt/anaconda3/envs/py3.7/lib/python3.7/site-packages/torch/nn/modules/rnn.py:691:0\n",
      "  %59 : int = prim::Constant[value=256](), scope: BiGRU/GRU[gru] # /Users/vsitham/opt/anaconda3/envs/py3.7/lib/python3.7/site-packages/torch/nn/modules/rnn.py:691:0\n",
      "  %60 : int = prim::Constant[value=4](), scope: BiGRU/GRU[gru] # /Users/vsitham/opt/anaconda3/envs/py3.7/lib/python3.7/site-packages/torch/nn/modules/rnn.py:691:0\n",
      "  %61 : int[] = prim::ListConstruct(%58, %59, %60), scope: BiGRU/GRU[gru]\n",
      "  %62 : int = prim::Constant[value=6](), scope: BiGRU/GRU[gru] # /Users/vsitham/opt/anaconda3/envs/py3.7/lib/python3.7/site-packages/torch/nn/modules/rnn.py:691:0\n",
      "  %63 : int = prim::Constant[value=0](), scope: BiGRU/GRU[gru] # /Users/vsitham/opt/anaconda3/envs/py3.7/lib/python3.7/site-packages/torch/nn/modules/rnn.py:691:0\n",
      "  %64 : Device = prim::Constant[value=\"cpu\"](), scope: BiGRU/GRU[gru] # /Users/vsitham/opt/anaconda3/envs/py3.7/lib/python3.7/site-packages/torch/nn/modules/rnn.py:691:0\n",
      "  %65 : bool = prim::Constant[value=0](), scope: BiGRU/GRU[gru] # /Users/vsitham/opt/anaconda3/envs/py3.7/lib/python3.7/site-packages/torch/nn/modules/rnn.py:691:0\n",
      "  %hx : Float(4, 256, 4) = aten::zeros(%61, %62, %63, %64, %65), scope: BiGRU/GRU[gru] # /Users/vsitham/opt/anaconda3/envs/py3.7/lib/python3.7/site-packages/torch/nn/modules/rnn.py:691:0\n",
      "  %90 : Tensor[] = prim::ListConstruct(%6, %7, %8, %9, %10, %11, %12, %13, %14, %15, %16, %17, %18, %19, %20, %21), scope: BiGRU/GRU[gru]\n",
      "  %91 : bool = prim::Constant[value=1](), scope: BiGRU/GRU[gru] # /Users/vsitham/opt/anaconda3/envs/py3.7/lib/python3.7/site-packages/torch/nn/modules/rnn.py:682:0\n",
      "  %92 : int = prim::Constant[value=2](), scope: BiGRU/GRU[gru] # /Users/vsitham/opt/anaconda3/envs/py3.7/lib/python3.7/site-packages/torch/nn/modules/rnn.py:682:0\n",
      "  %93 : float = prim::Constant[value=0.5](), scope: BiGRU/GRU[gru] # /Users/vsitham/opt/anaconda3/envs/py3.7/lib/python3.7/site-packages/torch/nn/modules/rnn.py:682:0\n",
      "  %94 : bool = prim::Constant[value=0](), scope: BiGRU/GRU[gru] # /Users/vsitham/opt/anaconda3/envs/py3.7/lib/python3.7/site-packages/torch/nn/modules/rnn.py:682:0\n",
      "  %95 : bool = prim::Constant[value=1](), scope: BiGRU/GRU[gru] # /Users/vsitham/opt/anaconda3/envs/py3.7/lib/python3.7/site-packages/torch/nn/modules/rnn.py:682:0\n",
      "  %96 : Float(6948, 8), %hidden.1 : Float(4, 256, 4) = aten::gru(%input.3, %batch_sizes, %hx, %90, %91, %92, %93, %94, %95), scope: BiGRU/GRU[gru] # /Users/vsitham/opt/anaconda3/envs/py3.7/lib/python3.7/site-packages/torch/nn/modules/rnn.py:682:0\n",
      "  %99 : int = prim::Constant[value=2](), scope: BiGRU # <ipython-input-11-5f3ae3dfaec2>:108:0\n",
      "  %100 : int = prim::Constant[value=2](), scope: BiGRU # <ipython-input-11-5f3ae3dfaec2>:108:0\n",
      "  %101 : int = prim::Constant[value=4](), scope: BiGRU # <ipython-input-11-5f3ae3dfaec2>:108:0\n",
      "  %102 : int[] = prim::ListConstruct(%99, %100, %98, %101), scope: BiGRU\n",
      "  %hidden : Float(2, 2, 256, 4) = aten::view(%hidden.1, %102), scope: BiGRU # <ipython-input-11-5f3ae3dfaec2>:108:0\n",
      "  %104 : int = prim::Constant[value=0](), scope: BiGRU # <ipython-input-11-5f3ae3dfaec2>:109:0\n",
      "  %105 : int = prim::Constant[value=-1](), scope: BiGRU # <ipython-input-11-5f3ae3dfaec2>:109:0\n",
      "  %last_hidden.1 : Float(2, 256, 4) = aten::select(%hidden, %104, %105), scope: BiGRU # <ipython-input-11-5f3ae3dfaec2>:109:0\n",
      "  %107 : int = prim::Constant[value=0](), scope: BiGRU # <ipython-input-11-5f3ae3dfaec2>:112:0\n",
      "  %108 : int[] = prim::ListConstruct(%107), scope: BiGRU\n",
      "  %109 : bool = prim::Constant[value=0](), scope: BiGRU # <ipython-input-11-5f3ae3dfaec2>:112:0\n",
      "  %110 : int? = prim::Constant(), scope: BiGRU\n",
      "  %last_hidden : Float(256, 4) = aten::sum(%last_hidden.1, %108, %109, %110), scope: BiGRU # <ipython-input-11-5f3ae3dfaec2>:112:0\n",
      "  %112 : int = prim::Constant[value=0](), scope: BiGRU # /Users/vsitham/opt/anaconda3/envs/py3.7/lib/python3.7/site-packages/torch/nn/utils/rnn.py:313:0\n",
      "  %113 : int = aten::size(%batch_sizes, %112), scope: BiGRU # /Users/vsitham/opt/anaconda3/envs/py3.7/lib/python3.7/site-packages/torch/nn/utils/rnn.py:313:0\n",
      "  %max_seq_length : Long() = prim::NumToTensor(%113), scope: BiGRU\n",
      "  %115 : int = aten::Int(%max_seq_length), scope: BiGRU\n",
      "  %116 : bool = prim::Constant[value=1](), scope: BiGRU # /Users/vsitham/opt/anaconda3/envs/py3.7/lib/python3.7/site-packages/torch/nn/utils/rnn.py:322:0\n",
      "  %117 : float = prim::Constant[value=0](), scope: BiGRU # /Users/vsitham/opt/anaconda3/envs/py3.7/lib/python3.7/site-packages/torch/nn/utils/rnn.py:322:0\n",
      "  %gru_out.1 : Float(256!, 28!, 8), %lengths : Long(256) = aten::_pad_packed_sequence(%96, %batch_sizes, %116, %117, %115), scope: BiGRU # /Users/vsitham/opt/anaconda3/envs/py3.7/lib/python3.7/site-packages/torch/nn/utils/rnn.py:322:0\n",
      "  %120 : int = prim::Constant[value=0](), scope: BiGRU # <ipython-input-11-5f3ae3dfaec2>:121:0\n",
      "  %121 : int = prim::Constant[value=0](), scope: BiGRU # <ipython-input-11-5f3ae3dfaec2>:121:0\n",
      "  %122 : int = prim::Constant[value=9223372036854775807](), scope: BiGRU # <ipython-input-11-5f3ae3dfaec2>:121:0\n",
      "  %123 : int = prim::Constant[value=1](), scope: BiGRU # <ipython-input-11-5f3ae3dfaec2>:121:0\n",
      "  %124 : Float(256!, 28!, 8) = aten::slice(%gru_out.1, %120, %121, %122, %123), scope: BiGRU # <ipython-input-11-5f3ae3dfaec2>:121:0\n",
      "  %125 : int = prim::Constant[value=1](), scope: BiGRU # <ipython-input-11-5f3ae3dfaec2>:121:0\n",
      "  %126 : int = prim::Constant[value=0](), scope: BiGRU # <ipython-input-11-5f3ae3dfaec2>:121:0\n",
      "  %127 : int = prim::Constant[value=9223372036854775807](), scope: BiGRU # <ipython-input-11-5f3ae3dfaec2>:121:0\n",
      "  %128 : int = prim::Constant[value=1](), scope: BiGRU # <ipython-input-11-5f3ae3dfaec2>:121:0\n",
      "  %129 : Float(256!, 28!, 8) = aten::slice(%124, %125, %126, %127, %128), scope: BiGRU # <ipython-input-11-5f3ae3dfaec2>:121:0\n",
      "  %130 : int = prim::Constant[value=2](), scope: BiGRU # <ipython-input-11-5f3ae3dfaec2>:121:0\n",
      "  %131 : int = prim::Constant[value=0](), scope: BiGRU # <ipython-input-11-5f3ae3dfaec2>:121:0\n",
      "  %132 : int = prim::Constant[value=4](), scope: BiGRU # <ipython-input-11-5f3ae3dfaec2>:121:0\n",
      "  %133 : int = prim::Constant[value=1](), scope: BiGRU # <ipython-input-11-5f3ae3dfaec2>:121:0\n",
      "  %134 : Float(256!, 28!, 4) = aten::slice(%129, %130, %131, %132, %133), scope: BiGRU # <ipython-input-11-5f3ae3dfaec2>:121:0\n",
      "  %135 : int = prim::Constant[value=0](), scope: BiGRU # <ipython-input-11-5f3ae3dfaec2>:121:0\n",
      "  %136 : int = prim::Constant[value=0](), scope: BiGRU # <ipython-input-11-5f3ae3dfaec2>:121:0\n",
      "  %137 : int = prim::Constant[value=9223372036854775807](), scope: BiGRU # <ipython-input-11-5f3ae3dfaec2>:121:0\n",
      "  %138 : int = prim::Constant[value=1](), scope: BiGRU # <ipython-input-11-5f3ae3dfaec2>:121:0\n",
      "  %139 : Float(256!, 28!, 8) = aten::slice(%gru_out.1, %135, %136, %137, %138), scope: BiGRU # <ipython-input-11-5f3ae3dfaec2>:121:0\n",
      "  %140 : int = prim::Constant[value=1](), scope: BiGRU # <ipython-input-11-5f3ae3dfaec2>:121:0\n",
      "  %141 : int = prim::Constant[value=0](), scope: BiGRU # <ipython-input-11-5f3ae3dfaec2>:121:0\n",
      "  %142 : int = prim::Constant[value=9223372036854775807](), scope: BiGRU # <ipython-input-11-5f3ae3dfaec2>:121:0\n",
      "  %143 : int = prim::Constant[value=1](), scope: BiGRU # <ipython-input-11-5f3ae3dfaec2>:121:0\n",
      "  %144 : Float(256!, 28!, 8) = aten::slice(%139, %140, %141, %142, %143), scope: BiGRU # <ipython-input-11-5f3ae3dfaec2>:121:0\n",
      "  %145 : int = prim::Constant[value=2](), scope: BiGRU # <ipython-input-11-5f3ae3dfaec2>:121:0\n",
      "  %146 : int = prim::Constant[value=4](), scope: BiGRU # <ipython-input-11-5f3ae3dfaec2>:121:0\n",
      "  %147 : int = prim::Constant[value=9223372036854775807](), scope: BiGRU # <ipython-input-11-5f3ae3dfaec2>:121:0\n",
      "  %148 : int = prim::Constant[value=1](), scope: BiGRU # <ipython-input-11-5f3ae3dfaec2>:121:0\n",
      "  %149 : Float(256!, 28!, 4) = aten::slice(%144, %145, %146, %147, %148), scope: BiGRU # <ipython-input-11-5f3ae3dfaec2>:121:0\n",
      "  %150 : int = prim::Constant[value=1](), scope: BiGRU # <ipython-input-11-5f3ae3dfaec2>:121:0\n",
      "  %gru_out : Float(256!, 28!, 4) = aten::add(%134, %149, %150), scope: BiGRU # <ipython-input-11-5f3ae3dfaec2>:121:0\n",
      "  %152 : int = prim::Constant[value=0](), scope: BiGRU # <ipython-input-11-5f3ae3dfaec2>:126:0\n",
      "  %153 : int = prim::Constant[value=2](), scope: BiGRU # <ipython-input-11-5f3ae3dfaec2>:126:0\n",
      "  %154 : int = prim::Constant[value=1](), scope: BiGRU # <ipython-input-11-5f3ae3dfaec2>:126:0\n",
      "  %155 : int[] = prim::ListConstruct(%152, %153, %154), scope: BiGRU\n",
      "  %input.4 : Float(256, 4!, 28!) = aten::permute(%gru_out, %155), scope: BiGRU # <ipython-input-11-5f3ae3dfaec2>:126:0\n",
      "  %157 : int = prim::Constant[value=1](), scope: BiGRU # /Users/vsitham/opt/anaconda3/envs/py3.7/lib/python3.7/site-packages/torch/nn/functional.py:664:0\n",
      "  %158 : int[] = prim::ListConstruct(%157), scope: BiGRU\n",
      "  %159 : Float(256, 4, 1), %160 : Long(256, 4, 1) = aten::adaptive_max_pool1d(%input.4, %158), scope: BiGRU # /Users/vsitham/opt/anaconda3/envs/py3.7/lib/python3.7/site-packages/torch/nn/functional.py:664:0\n",
      "  %162 : int = prim::Constant[value=-1](), scope: BiGRU # <ipython-input-11-5f3ae3dfaec2>:126:0\n",
      "  %163 : int[] = prim::ListConstruct(%161, %162), scope: BiGRU\n",
      "  %max_pool : Float(256, 4) = aten::view(%159, %163), scope: BiGRU # <ipython-input-11-5f3ae3dfaec2>:126:0\n",
      "  %165 : int = prim::Constant[value=1](), scope: BiGRU # <ipython-input-11-5f3ae3dfaec2>:131:0\n",
      "  %166 : int[] = prim::ListConstruct(%165), scope: BiGRU\n",
      "  %167 : bool = prim::Constant[value=0](), scope: BiGRU # <ipython-input-11-5f3ae3dfaec2>:131:0\n",
      "  %168 : int? = prim::Constant(), scope: BiGRU\n",
      "  %169 : Float(256, 4) = aten::sum(%gru_out, %166, %167, %168), scope: BiGRU # <ipython-input-11-5f3ae3dfaec2>:131:0\n",
      "  %170 : int = prim::Constant[value=-1](), scope: BiGRU # <ipython-input-11-5f3ae3dfaec2>:131:0\n",
      "  %171 : int = prim::Constant[value=1](), scope: BiGRU # <ipython-input-11-5f3ae3dfaec2>:131:0\n",
      "  %172 : int[] = prim::ListConstruct(%170, %171), scope: BiGRU\n",
      "  %173 : Long(256, 1) = aten::view(%lengths, %172), scope: BiGRU # <ipython-input-11-5f3ae3dfaec2>:131:0\n",
      "  %174 : Device = prim::Constant[value=\"cpu\"](), scope: BiGRU # <ipython-input-11-5f3ae3dfaec2>:131:0\n",
      "  %175 : int = prim::Constant[value=6](), scope: BiGRU # <ipython-input-11-5f3ae3dfaec2>:131:0\n",
      "  %176 : bool = prim::Constant[value=0](), scope: BiGRU # <ipython-input-11-5f3ae3dfaec2>:131:0\n",
      "  %177 : bool = prim::Constant[value=0](), scope: BiGRU # <ipython-input-11-5f3ae3dfaec2>:131:0\n",
      "  %178 : Float(256, 1) = aten::to(%173, %174, %175, %176, %177), scope: BiGRU # <ipython-input-11-5f3ae3dfaec2>:131:0\n",
      "  %avg_pool : Float(256, 4) = aten::div(%169, %178), scope: BiGRU # <ipython-input-11-5f3ae3dfaec2>:131:0\n",
      "  %180 : Tensor[] = prim::ListConstruct(%last_hidden, %max_pool, %avg_pool), scope: BiGRU\n",
      "  %181 : int = prim::Constant[value=1](), scope: BiGRU # <ipython-input-11-5f3ae3dfaec2>:134:0\n",
      "  %input.5 : Float(256, 12) = aten::cat(%180, %181), scope: BiGRU # <ipython-input-11-5f3ae3dfaec2>:134:0\n",
      "  %183 : Float(12!, 2!) = aten::t(%weight), scope: BiGRU/Linear[linear] # /Users/vsitham/opt/anaconda3/envs/py3.7/lib/python3.7/site-packages/torch/nn/functional.py:1369:0\n",
      "  %184 : int = prim::Constant[value=1](), scope: BiGRU/Linear[linear] # /Users/vsitham/opt/anaconda3/envs/py3.7/lib/python3.7/site-packages/torch/nn/functional.py:1369:0\n",
      "  %185 : int = prim::Constant[value=1](), scope: BiGRU/Linear[linear] # /Users/vsitham/opt/anaconda3/envs/py3.7/lib/python3.7/site-packages/torch/nn/functional.py:1369:0\n",
      "  %input : Float(256, 2) = aten::addmm(%bias, %input.5, %183, %184, %185), scope: BiGRU/Linear[linear] # /Users/vsitham/opt/anaconda3/envs/py3.7/lib/python3.7/site-packages/torch/nn/functional.py:1369:0\n",
      "  %187 : int = prim::Constant[value=-1](), scope: BiGRU # /Users/vsitham/opt/anaconda3/envs/py3.7/lib/python3.7/site-packages/torch/nn/functional.py:1316:0\n",
      "  %188 : int? = prim::Constant(), scope: BiGRU\n",
      "  %189 : Float(256, 2) = aten::log_softmax(%input, %187, %188), scope: BiGRU # /Users/vsitham/opt/anaconda3/envs/py3.7/lib/python3.7/site-packages/torch/nn/functional.py:1316:0\n",
      "  return (%189)\n",
      "\n"
     ]
    }
   ],
   "source": [
    "hidden_size = 4\n",
    "vocab_size = len(train_iterator.word2index)\n",
    "embedding_dim = 200\n",
    "n_layers = 2\n",
    "output_size = 2\n",
    "spatial_dropout = True\n",
    "dropout = 0.5\n",
    "\n",
    "writer = SummaryWriter('runs/exp-1')\n",
    "\n",
    "for batch in train_iterator:\n",
    "    input_seq, _, x_lengths = batch['input_seq'], batch['target'], batch['x_lengths']\n",
    "\n",
    "with SummaryWriter(comment='Model graph') as w:\n",
    "    w.add_graph(BiGRU(hidden_size, vocab_size, embedding_dim, output_size, n_layers, dropout,\n",
    "                      spatial_dropout, bidirectional=True), (input_seq, x_lengths), True)"
   ]
  },
  {
   "cell_type": "markdown",
   "metadata": {},
   "source": [
    "### The generalization error"
   ]
  },
  {
   "cell_type": "code",
   "execution_count": 27,
   "metadata": {},
   "outputs": [],
   "source": [
    "# Import the dataset. Use clean_review and label columns\n",
    "test_dataset = pd.read_csv('dataset/drugreview_feat_clean/test_feat_clean.csv',\n",
    "                          usecols=['clean_review', 'rating'])\n",
    "\n",
    "# Change columns order\n",
    "test_dataset['label'] = test_dataset.rating >= 5\n",
    "test_dataset = test_dataset[['clean_review', 'label']]"
   ]
  },
  {
   "cell_type": "code",
   "execution_count": 28,
   "metadata": {},
   "outputs": [
    {
     "data": {
      "text/html": [
       "<div>\n",
       "<style scoped>\n",
       "    .dataframe tbody tr th:only-of-type {\n",
       "        vertical-align: middle;\n",
       "    }\n",
       "\n",
       "    .dataframe tbody tr th {\n",
       "        vertical-align: top;\n",
       "    }\n",
       "\n",
       "    .dataframe thead th {\n",
       "        text-align: right;\n",
       "    }\n",
       "</style>\n",
       "<table border=\"1\" class=\"dataframe\">\n",
       "  <thead>\n",
       "    <tr style=\"text-align: right;\">\n",
       "      <th></th>\n",
       "      <th>clean_review</th>\n",
       "      <th>label</th>\n",
       "    </tr>\n",
       "  </thead>\n",
       "  <tbody>\n",
       "    <tr>\n",
       "      <td>2</td>\n",
       "      <td>given sample doctor mg hours lower abdominal g...</td>\n",
       "      <td>False</td>\n",
       "    </tr>\n",
       "    <tr>\n",
       "      <td>3</td>\n",
       "      <td>given medication post hysteroscopy suffered se...</td>\n",
       "      <td>True</td>\n",
       "    </tr>\n",
       "    <tr>\n",
       "      <td>4</td>\n",
       "      <td>loperamide helpful diarrhea fewer caplets help...</td>\n",
       "      <td>True</td>\n",
       "    </tr>\n",
       "    <tr>\n",
       "      <td>10</td>\n",
       "      <td>use claritin d seasonal allergies started taki...</td>\n",
       "      <td>True</td>\n",
       "    </tr>\n",
       "    <tr>\n",
       "      <td>15</td>\n",
       "      <td>worked immediate effects noticeable long term</td>\n",
       "      <td>True</td>\n",
       "    </tr>\n",
       "  </tbody>\n",
       "</table>\n",
       "</div>"
      ],
      "text/plain": [
       "                                         clean_review  label\n",
       "2   given sample doctor mg hours lower abdominal g...  False\n",
       "3   given medication post hysteroscopy suffered se...   True\n",
       "4   loperamide helpful diarrhea fewer caplets help...   True\n",
       "10  use claritin d seasonal allergies started taki...   True\n",
       "15      worked immediate effects noticeable long term   True"
      ]
     },
     "execution_count": 28,
     "metadata": {},
     "output_type": "execute_result"
    }
   ],
   "source": [
    "test_dataset = test_dataset.dropna()\n",
    "test_dataset.head()"
   ]
  },
  {
   "cell_type": "code",
   "execution_count": 29,
   "metadata": {},
   "outputs": [
    {
     "name": "stdout",
     "output_type": "stream",
     "text": [
      "Trimmed vocabulary using as minimum count threashold: count = 3.00\n",
      "3069/8377 tokens has been retained\n",
      "Trimmed input strings vocabulary\n",
      "Trimmed input sequences lengths to the length of: 54\n",
      "Mapped words to indices\n",
      "Batches created\n"
     ]
    }
   ],
   "source": [
    "test_iterator = BatchIterator(test_dataset, batch_size=256, vocab_created=False, vocab=None, target_col=None,\n",
    "                              word2index=train_iterator.word2index, sos_token='<SOS>', eos_token='<EOS>',\n",
    "                              unk_token='<UNK>', pad_token='<PAD>', min_word_count=3, max_vocab_size=None,\n",
    "                              max_seq_len=0.9, use_pretrained_vectors=False, glove_path='glove/',\n",
    "                              glove_name='glove.6B.100d.txt', weights_file_name='glove/weights.npy')"
   ]
  },
  {
   "cell_type": "code",
   "execution_count": 30,
   "metadata": {},
   "outputs": [
    {
     "data": {
      "application/vnd.jupyter.widget-view+json": {
       "model_id": "21d325c4b9324f5a80b784523fbb19b9",
       "version_major": 2,
       "version_minor": 0
      },
      "text/plain": [
       "Evaluation:   0%|          | 0/9 [00:00<?, ?it/s]"
      ]
     },
     "metadata": {},
     "output_type": "display_data"
    }
   ],
   "source": [
    "_, test_avg_loss, test_accuracy, test_conf_matrix = model.evaluate_model(test_iterator)"
   ]
  },
  {
   "cell_type": "code",
   "execution_count": 31,
   "metadata": {},
   "outputs": [
    {
     "name": "stdout",
     "output_type": "stream",
     "text": [
      "Test accuracy: 0.813. Test error: 0.429\n"
     ]
    }
   ],
   "source": [
    "print('Test accuracy: {:.3f}. Test error: {:.3f}'.format(test_accuracy, test_avg_loss))"
   ]
  },
  {
   "cell_type": "code",
   "execution_count": 32,
   "metadata": {},
   "outputs": [
    {
     "data": {
      "image/png": "[encoded data removed]",
      "text/plain": [
       "<Figure size 432x432 with 2 Axes>"
      ]
     },
     "metadata": {
      "needs_background": "light"
     },
     "output_type": "display_data"
    }
   ],
   "source": [
    "# Confusion matrix\n",
    "plt.figure(figsize=(6,6))\n",
    "ax = sns.heatmap(test_conf_matrix, fmt='d', annot=True, linewidths=1, square=True)\n",
    "ax.set_xlabel('Predictions', size=12)\n",
    "ax.set_ylabel('True labels', size=12) \n",
    "ax.set_title('Confusion Matrix', size=12); \n",
    "ax.xaxis.set_ticklabels(['True', 'False'])\n",
    "ax.yaxis.set_ticklabels(['True', 'False'])\n",
    "ax.set_ylim(2,0)\n",
    "plt.show()"
   ]
  },
  {
   "cell_type": "markdown",
   "metadata": {},
   "source": [
    "The generalization accuracy of the biGRU model equals 0.813. As we can see on the above plot of the confusion matrix the both, positive and negative classes were similarly numerous, and the prediction mistakes amount (TN, FP) is also very similar, so model learned both classes in the same detail. "
   ]
  },
  {
   "cell_type": "code",
   "execution_count": null,
   "metadata": {},
   "outputs": [],
   "source": []
  }
 ],
 "metadata": {
  "kernelspec": {
   "display_name": "py3.7",
   "language": "python",
   "name": "py3.7"
  },
  "language_info": {
   "codemirror_mode": {
    "name": "ipython",
    "version": 3
   },
   "file_extension": ".py",
   "mimetype": "text/x-python",
   "name": "python",
   "nbconvert_exporter": "python",
   "pygments_lexer": "ipython3",
   "version": "3.7.10"
  }
 },
 "nbformat": 4,
 "nbformat_minor": 2
}
