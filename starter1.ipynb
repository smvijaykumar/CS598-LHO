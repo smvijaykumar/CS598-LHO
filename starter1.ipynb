{
 "cells": [
  {
   "cell_type": "code",
   "execution_count": 9,
   "id": "7e0d44d4",
   "metadata": {},
   "outputs": [],
   "source": [
    "import pandas as pd\n",
    "import numpy as np\n",
    "import matplotlib.pyplot as plt\n",
    "import matplotlib.image as mpimg\n",
    "import seaborn as sns\n",
    "from textblob import TextBlob\n",
    "from  sklearn.feature_extraction.text import CountVectorizer\n",
    "import pdb \n",
    "from nltk.stem import *\n",
    "from nltk.corpus import stopwords\n",
    "import re\n",
    "import string\n",
    "from collections import Counter\n",
    "#from gensim import matutils, models\n",
    "import scipy.sparse\n",
    "from sklearn.feature_extraction import text \n",
    "from wordcloud import WordCloud"
   ]
  },
  {
   "cell_type": "code",
   "execution_count": 10,
   "id": "a441a14a",
   "metadata": {},
   "outputs": [],
   "source": [
    "data1 = pd.read_csv(\"drugsComTrain_raw.tsv\",sep='\\t')"
   ]
  },
  {
   "cell_type": "code",
   "execution_count": 11,
   "id": "e788aa2e",
   "metadata": {},
   "outputs": [],
   "source": [
    "data2 = pd.read_csv(\"drugsComTest_raw.tsv\",sep='\\t')"
   ]
  },
  {
   "cell_type": "code",
   "execution_count": 86,
   "id": "e86324f1",
   "metadata": {},
   "outputs": [
    {
     "data": {
      "text/html": [
       "<div>\n",
       "<style scoped>\n",
       "    .dataframe tbody tr th:only-of-type {\n",
       "        vertical-align: middle;\n",
       "    }\n",
       "\n",
       "    .dataframe tbody tr th {\n",
       "        vertical-align: top;\n",
       "    }\n",
       "\n",
       "    .dataframe thead th {\n",
       "        text-align: right;\n",
       "    }\n",
       "</style>\n",
       "<table border=\"1\" class=\"dataframe\">\n",
       "  <thead>\n",
       "    <tr style=\"text-align: right;\">\n",
       "      <th></th>\n",
       "      <th>Unnamed: 0</th>\n",
       "      <th>drugName</th>\n",
       "      <th>condition</th>\n",
       "      <th>review</th>\n",
       "      <th>rating</th>\n",
       "      <th>date</th>\n",
       "      <th>usefulCount</th>\n",
       "    </tr>\n",
       "  </thead>\n",
       "  <tbody>\n",
       "    <tr>\n",
       "      <th>0</th>\n",
       "      <td>206461</td>\n",
       "      <td>Valsartan</td>\n",
       "      <td>Left Ventricular Dysfunction</td>\n",
       "      <td>\"It has no side effect, I take it in combinati...</td>\n",
       "      <td>9.0</td>\n",
       "      <td>May 20, 2012</td>\n",
       "      <td>27</td>\n",
       "    </tr>\n",
       "    <tr>\n",
       "      <th>1</th>\n",
       "      <td>95260</td>\n",
       "      <td>Guanfacine</td>\n",
       "      <td>ADHD</td>\n",
       "      <td>\"My son is halfway through his fourth week of ...</td>\n",
       "      <td>8.0</td>\n",
       "      <td>April 27, 2010</td>\n",
       "      <td>192</td>\n",
       "    </tr>\n",
       "    <tr>\n",
       "      <th>2</th>\n",
       "      <td>92703</td>\n",
       "      <td>Lybrel</td>\n",
       "      <td>Birth Control</td>\n",
       "      <td>\"I used to take another oral contraceptive, wh...</td>\n",
       "      <td>5.0</td>\n",
       "      <td>December 14, 2009</td>\n",
       "      <td>17</td>\n",
       "    </tr>\n",
       "    <tr>\n",
       "      <th>3</th>\n",
       "      <td>138000</td>\n",
       "      <td>Ortho Evra</td>\n",
       "      <td>Birth Control</td>\n",
       "      <td>\"This is my first time using any form of birth...</td>\n",
       "      <td>8.0</td>\n",
       "      <td>November 3, 2015</td>\n",
       "      <td>10</td>\n",
       "    </tr>\n",
       "    <tr>\n",
       "      <th>4</th>\n",
       "      <td>35696</td>\n",
       "      <td>Buprenorphine / naloxone</td>\n",
       "      <td>Opiate Dependence</td>\n",
       "      <td>\"Suboxone has completely turned my life around...</td>\n",
       "      <td>9.0</td>\n",
       "      <td>November 27, 2016</td>\n",
       "      <td>37</td>\n",
       "    </tr>\n",
       "  </tbody>\n",
       "</table>\n",
       "</div>"
      ],
      "text/plain": [
       "   Unnamed: 0                  drugName                     condition  \\\n",
       "0      206461                 Valsartan  Left Ventricular Dysfunction   \n",
       "1       95260                Guanfacine                          ADHD   \n",
       "2       92703                    Lybrel                 Birth Control   \n",
       "3      138000                Ortho Evra                 Birth Control   \n",
       "4       35696  Buprenorphine / naloxone             Opiate Dependence   \n",
       "\n",
       "                                              review  rating  \\\n",
       "0  \"It has no side effect, I take it in combinati...     9.0   \n",
       "1  \"My son is halfway through his fourth week of ...     8.0   \n",
       "2  \"I used to take another oral contraceptive, wh...     5.0   \n",
       "3  \"This is my first time using any form of birth...     8.0   \n",
       "4  \"Suboxone has completely turned my life around...     9.0   \n",
       "\n",
       "                date  usefulCount  \n",
       "0       May 20, 2012           27  \n",
       "1     April 27, 2010          192  \n",
       "2  December 14, 2009           17  \n",
       "3   November 3, 2015           10  \n",
       "4  November 27, 2016           37  "
      ]
     },
     "execution_count": 86,
     "metadata": {},
     "output_type": "execute_result"
    }
   ],
   "source": [
    "data = pd.concat([data1,data2])\n",
    "data.head()"
   ]
  },
  {
   "cell_type": "code",
   "execution_count": 87,
   "id": "2720146b",
   "metadata": {},
   "outputs": [
    {
     "data": {
      "text/plain": [
       "(215063, 7)"
      ]
     },
     "execution_count": 87,
     "metadata": {},
     "output_type": "execute_result"
    }
   ],
   "source": [
    "data.shape"
   ]
  },
  {
   "cell_type": "code",
   "execution_count": 88,
   "id": "609bcdf4",
   "metadata": {},
   "outputs": [],
   "source": [
    "def aggregateReviewsByCondition(data): \n",
    "   \n",
    "    variable = list(data.condition.unique())\n",
    "    conditionList , drugnameList,chunkList, ratingList,usefulCountList = [],[],[],[],[]\n",
    "    \n",
    "    #iterating through a condition\n",
    "    for i in range(len(variable)):        \n",
    "        conditionVariable= data.loc[data['condition']==variable[i]]\n",
    "        #iterating through each drug in the condition\n",
    "        for t in list(conditionVariable.drugName.unique()):\n",
    "            drugname = conditionVariable.loc[conditionVariable['drugName']==t]\n",
    "            rating = data.rating[(data.drugName==t) & (data.condition ==variable[i])].mean()\n",
    "            usefulcount = data.usefulCount[(data.drugName==t) & (data.condition ==variable[i])].sum()\n",
    "            #appending each review of each drug under one condition into one big chunk of text\n",
    "            chunk = ''.join(drugname.review)\n",
    "            #Storing my data into a list and then a dictionary for my dataframe\n",
    "            conditionList.append(variable[i])\n",
    "            drugnameList.append(t)\n",
    "            chunkList.append(chunk)\n",
    "            ratingList.append(round(rating,2))\n",
    "            usefulCountList.append(usefulcount)\n",
    "    final_dict ={\"Conditions\":conditionList,\"drugNames\":drugnameList,\"reviews\":chunkList,\"averageRating\":ratingList,\"counts\":usefulCountList}\n",
    "    aggregated_df = pd.DataFrame(final_dict)\n",
    "    return(aggregated_df)"
   ]
  },
  {
   "cell_type": "code",
   "execution_count": 89,
   "id": "d6a863f1",
   "metadata": {},
   "outputs": [],
   "source": [
    "def removeSpecialCharacters(data):\n",
    "    \n",
    "    clean = data.reviews\n",
    "    clean = clean.str.lower()\n",
    "    clean = clean.str.replace('\\[.,*?\\]', '')\n",
    "    clean = clean.str.replace('\\w*\\d\\w*', '')\n",
    "    clean = clean.str.replace('[%s]' % re.escape(string.punctuation), '')\n",
    "    clean = clean.str.replace('\\n','')\n",
    "    clean = clean.str.replace('[‘’“”…]', '')\n",
    "    return clean\n"
   ]
  },
  {
   "cell_type": "code",
   "execution_count": 90,
   "id": "c5a177bc",
   "metadata": {},
   "outputs": [],
   "source": [
    "stemmer = PorterStemmer()    \n",
    "lemmatizer = WordNetLemmatizer()\n",
    "def word_stemmer(text):\n",
    "    stem_text = \"\".join([stemmer.stem(i) for i in text])\n",
    "    return stem_text \n",
    "\n",
    "\n",
    "def word_lemmatizer(text):\n",
    "    lem_text = \"\".join([lemmatizer.lemmatize(i) for i in text])\n",
    "    return lem_text\n"
   ]
  },
  {
   "cell_type": "code",
   "execution_count": 91,
   "id": "3037405d",
   "metadata": {},
   "outputs": [],
   "source": [
    "def remove_stopwords(text):\n",
    "    words = [w for w in text if w not in stopwords.words('english')]\n",
    "    return words\n"
   ]
  },
  {
   "cell_type": "code",
   "execution_count": 46,
   "id": "9d53b4c1",
   "metadata": {},
   "outputs": [],
   "source": [
    "def createDTM(data,stopword):\n",
    " \n",
    "    cv = CountVectorizer(stop_words=stopword)\n",
    "\n",
    "    data_cv = cv.fit_transform(data.reviews)\n",
    "        #temp[i]= data_cv\n",
    "        \n",
    "    data_dtm =pd.DataFrame(data_cv.toarray(),columns=cv.get_feature_names())\n",
    "    data_info = data[['Conditions','drugNames']]\n",
    "    #data_merged = pd.concat([data_info,test],axis=1)\n",
    "    \n",
    "    data_dtm.index = pd.MultiIndex.from_frame(data_info)\n",
    "    return data_dtm"
   ]
  },
  {
   "cell_type": "code",
   "execution_count": 92,
   "id": "8defaad1",
   "metadata": {},
   "outputs": [
    {
     "data": {
      "text/html": [
       "<div>\n",
       "<style scoped>\n",
       "    .dataframe tbody tr th:only-of-type {\n",
       "        vertical-align: middle;\n",
       "    }\n",
       "\n",
       "    .dataframe tbody tr th {\n",
       "        vertical-align: top;\n",
       "    }\n",
       "\n",
       "    .dataframe thead th {\n",
       "        text-align: right;\n",
       "    }\n",
       "</style>\n",
       "<table border=\"1\" class=\"dataframe\">\n",
       "  <thead>\n",
       "    <tr style=\"text-align: right;\">\n",
       "      <th></th>\n",
       "      <th>Conditions</th>\n",
       "      <th>drugNames</th>\n",
       "      <th>reviews</th>\n",
       "      <th>averageRating</th>\n",
       "      <th>counts</th>\n",
       "    </tr>\n",
       "  </thead>\n",
       "  <tbody>\n",
       "    <tr>\n",
       "      <th>0</th>\n",
       "      <td>Left Ventricular Dysfunction</td>\n",
       "      <td>Valsartan</td>\n",
       "      <td>\"It has no side effect, I take it in combinati...</td>\n",
       "      <td>9.50</td>\n",
       "      <td>58</td>\n",
       "    </tr>\n",
       "    <tr>\n",
       "      <th>1</th>\n",
       "      <td>Left Ventricular Dysfunction</td>\n",
       "      <td>Coreg</td>\n",
       "      <td>\"My heart rate was speeding up to the point I ...</td>\n",
       "      <td>8.83</td>\n",
       "      <td>204</td>\n",
       "    </tr>\n",
       "    <tr>\n",
       "      <th>2</th>\n",
       "      <td>Left Ventricular Dysfunction</td>\n",
       "      <td>Metoprolol</td>\n",
       "      <td>\"Very nice, helped heart, now do sports easy, ...</td>\n",
       "      <td>6.50</td>\n",
       "      <td>25</td>\n",
       "    </tr>\n",
       "    <tr>\n",
       "      <th>3</th>\n",
       "      <td>Left Ventricular Dysfunction</td>\n",
       "      <td>Diovan</td>\n",
       "      <td>\"It has no side effect, I take it in combinati...</td>\n",
       "      <td>9.50</td>\n",
       "      <td>58</td>\n",
       "    </tr>\n",
       "    <tr>\n",
       "      <th>4</th>\n",
       "      <td>Left Ventricular Dysfunction</td>\n",
       "      <td>Carvedilol</td>\n",
       "      <td>\"My LVEF was about 20 when I started on Coreg ...</td>\n",
       "      <td>9.12</td>\n",
       "      <td>254</td>\n",
       "    </tr>\n",
       "    <tr>\n",
       "      <th>5</th>\n",
       "      <td>Left Ventricular Dysfunction</td>\n",
       "      <td>Enalapril</td>\n",
       "      <td>\"This medication worked great for me as far as...</td>\n",
       "      <td>6.67</td>\n",
       "      <td>41</td>\n",
       "    </tr>\n",
       "    <tr>\n",
       "      <th>6</th>\n",
       "      <td>Left Ventricular Dysfunction</td>\n",
       "      <td>Toprol-XL</td>\n",
       "      <td>\"Very nice, helped heart, now do sports easy, ...</td>\n",
       "      <td>8.00</td>\n",
       "      <td>9</td>\n",
       "    </tr>\n",
       "    <tr>\n",
       "      <th>7</th>\n",
       "      <td>Left Ventricular Dysfunction</td>\n",
       "      <td>Benazepril</td>\n",
       "      <td>\"It&amp;#039;s working fine for me in controlling ...</td>\n",
       "      <td>8.00</td>\n",
       "      <td>18</td>\n",
       "    </tr>\n",
       "    <tr>\n",
       "      <th>8</th>\n",
       "      <td>Left Ventricular Dysfunction</td>\n",
       "      <td>Vasotec</td>\n",
       "      <td>\"This medication worked great for me as far as...</td>\n",
       "      <td>9.00</td>\n",
       "      <td>7</td>\n",
       "    </tr>\n",
       "    <tr>\n",
       "      <th>9</th>\n",
       "      <td>ADHD</td>\n",
       "      <td>Guanfacine</td>\n",
       "      <td>\"My son is halfway through his fourth week of ...</td>\n",
       "      <td>5.74</td>\n",
       "      <td>7870</td>\n",
       "    </tr>\n",
       "  </tbody>\n",
       "</table>\n",
       "</div>"
      ],
      "text/plain": [
       "                     Conditions   drugNames  \\\n",
       "0  Left Ventricular Dysfunction   Valsartan   \n",
       "1  Left Ventricular Dysfunction       Coreg   \n",
       "2  Left Ventricular Dysfunction  Metoprolol   \n",
       "3  Left Ventricular Dysfunction      Diovan   \n",
       "4  Left Ventricular Dysfunction  Carvedilol   \n",
       "5  Left Ventricular Dysfunction   Enalapril   \n",
       "6  Left Ventricular Dysfunction   Toprol-XL   \n",
       "7  Left Ventricular Dysfunction  Benazepril   \n",
       "8  Left Ventricular Dysfunction     Vasotec   \n",
       "9                          ADHD  Guanfacine   \n",
       "\n",
       "                                             reviews  averageRating  counts  \n",
       "0  \"It has no side effect, I take it in combinati...           9.50      58  \n",
       "1  \"My heart rate was speeding up to the point I ...           8.83     204  \n",
       "2  \"Very nice, helped heart, now do sports easy, ...           6.50      25  \n",
       "3  \"It has no side effect, I take it in combinati...           9.50      58  \n",
       "4  \"My LVEF was about 20 when I started on Coreg ...           9.12     254  \n",
       "5  \"This medication worked great for me as far as...           6.67      41  \n",
       "6  \"Very nice, helped heart, now do sports easy, ...           8.00       9  \n",
       "7  \"It&#039;s working fine for me in controlling ...           8.00      18  \n",
       "8  \"This medication worked great for me as far as...           9.00       7  \n",
       "9  \"My son is halfway through his fourth week of ...           5.74    7870  "
      ]
     },
     "execution_count": 92,
     "metadata": {},
     "output_type": "execute_result"
    }
   ],
   "source": [
    "combined_data = aggregateReviewsByCondition(data)\n",
    "\n",
    "combined_data.head(10)"
   ]
  },
  {
   "cell_type": "code",
   "execution_count": null,
   "id": "56f2bbc2",
   "metadata": {},
   "outputs": [],
   "source": [
    "combined_data.tail(10)"
   ]
  },
  {
   "cell_type": "code",
   "execution_count": null,
   "id": "f08ed61f",
   "metadata": {},
   "outputs": [],
   "source": [
    "print(combined_data[combined_data['Conditions'].str.contains(\"users found this\")].shape)\n",
    "print(combined_data[~combined_data['Conditions'].str.contains(\"Not Listed / Othe\")].shape)"
   ]
  },
  {
   "cell_type": "code",
   "execution_count": 49,
   "id": "3e1303ae",
   "metadata": {},
   "outputs": [
    {
     "data": {
      "text/html": [
       "<div>\n",
       "<style scoped>\n",
       "    .dataframe tbody tr th:only-of-type {\n",
       "        vertical-align: middle;\n",
       "    }\n",
       "\n",
       "    .dataframe tbody tr th {\n",
       "        vertical-align: top;\n",
       "    }\n",
       "\n",
       "    .dataframe thead th {\n",
       "        text-align: right;\n",
       "    }\n",
       "</style>\n",
       "<table border=\"1\" class=\"dataframe\">\n",
       "  <thead>\n",
       "    <tr style=\"text-align: right;\">\n",
       "      <th></th>\n",
       "      <th>Conditions</th>\n",
       "      <th>drugNames</th>\n",
       "      <th>reviews</th>\n",
       "      <th>averageRating</th>\n",
       "      <th>counts</th>\n",
       "    </tr>\n",
       "  </thead>\n",
       "  <tbody>\n",
       "    <tr>\n",
       "      <th>9431</th>\n",
       "      <td>Tympanostomy Tube Placement Surgery</td>\n",
       "      <td>Ciprofloxacin</td>\n",
       "      <td>\"No infection after tube removal from our 11 y...</td>\n",
       "      <td>7.0</td>\n",
       "      <td>1</td>\n",
       "    </tr>\n",
       "    <tr>\n",
       "      <th>9432</th>\n",
       "      <td>Pulmonary Edema</td>\n",
       "      <td>Furosemide</td>\n",
       "      <td>\"Right after surgery, I had a fever, confusion...</td>\n",
       "      <td>9.0</td>\n",
       "      <td>17</td>\n",
       "    </tr>\n",
       "    <tr>\n",
       "      <th>9433</th>\n",
       "      <td>Mantle Cell Lymphoma</td>\n",
       "      <td>Ibrutinib</td>\n",
       "      <td>\"For the first few months, I experienced some ...</td>\n",
       "      <td>10.0</td>\n",
       "      <td>5</td>\n",
       "    </tr>\n",
       "    <tr>\n",
       "      <th>9434</th>\n",
       "      <td>Mantle Cell Lymphoma</td>\n",
       "      <td>Imbruvica</td>\n",
       "      <td>\"For the first few months, I experienced some ...</td>\n",
       "      <td>10.0</td>\n",
       "      <td>5</td>\n",
       "    </tr>\n",
       "    <tr>\n",
       "      <th>9436</th>\n",
       "      <td>Lyme Disease, Erythema Chronicum Migrans</td>\n",
       "      <td>Azithromycin</td>\n",
       "      <td>\"For Lyme symptoms (which vary over months) I&amp;...</td>\n",
       "      <td>8.0</td>\n",
       "      <td>4</td>\n",
       "    </tr>\n",
       "    <tr>\n",
       "      <th>9438</th>\n",
       "      <td>Renal Tubular Acidosis</td>\n",
       "      <td>Potassium citrate</td>\n",
       "      <td>\"Minutes after taking this my lips started to ...</td>\n",
       "      <td>5.5</td>\n",
       "      <td>2</td>\n",
       "    </tr>\n",
       "    <tr>\n",
       "      <th>9439</th>\n",
       "      <td>Yellow Fever Prophylaxis</td>\n",
       "      <td>Yellow fever vaccine</td>\n",
       "      <td>\"I had yellow fever vaccination three weeks ag...</td>\n",
       "      <td>5.0</td>\n",
       "      <td>2</td>\n",
       "    </tr>\n",
       "    <tr>\n",
       "      <th>9440</th>\n",
       "      <td>Acute Otitis Externa</td>\n",
       "      <td>Ciprofloxacin</td>\n",
       "      <td>\"These drops ruined my hearing I developed hea...</td>\n",
       "      <td>1.0</td>\n",
       "      <td>3</td>\n",
       "    </tr>\n",
       "    <tr>\n",
       "      <th>9441</th>\n",
       "      <td>Steroid Responsive Inflammatory Conditions</td>\n",
       "      <td>Fluorometholone</td>\n",
       "      <td>\"I thought I had too much wine or was losing i...</td>\n",
       "      <td>8.0</td>\n",
       "      <td>0</td>\n",
       "    </tr>\n",
       "    <tr>\n",
       "      <th>9444</th>\n",
       "      <td>Pertussis Prophylaxis</td>\n",
       "      <td>Clarithromycin</td>\n",
       "      <td>\"So my 10 year old daughter has tested positiv...</td>\n",
       "      <td>5.0</td>\n",
       "      <td>1</td>\n",
       "    </tr>\n",
       "  </tbody>\n",
       "</table>\n",
       "</div>"
      ],
      "text/plain": [
       "                                      Conditions             drugNames  \\\n",
       "9431         Tympanostomy Tube Placement Surgery         Ciprofloxacin   \n",
       "9432                             Pulmonary Edema            Furosemide   \n",
       "9433                        Mantle Cell Lymphoma             Ibrutinib   \n",
       "9434                        Mantle Cell Lymphoma             Imbruvica   \n",
       "9436    Lyme Disease, Erythema Chronicum Migrans          Azithromycin   \n",
       "9438                      Renal Tubular Acidosis     Potassium citrate   \n",
       "9439                    Yellow Fever Prophylaxis  Yellow fever vaccine   \n",
       "9440                        Acute Otitis Externa         Ciprofloxacin   \n",
       "9441  Steroid Responsive Inflammatory Conditions       Fluorometholone   \n",
       "9444                       Pertussis Prophylaxis        Clarithromycin   \n",
       "\n",
       "                                                reviews  averageRating  counts  \n",
       "9431  \"No infection after tube removal from our 11 y...            7.0       1  \n",
       "9432  \"Right after surgery, I had a fever, confusion...            9.0      17  \n",
       "9433  \"For the first few months, I experienced some ...           10.0       5  \n",
       "9434  \"For the first few months, I experienced some ...           10.0       5  \n",
       "9436  \"For Lyme symptoms (which vary over months) I&...            8.0       4  \n",
       "9438  \"Minutes after taking this my lips started to ...            5.5       2  \n",
       "9439  \"I had yellow fever vaccination three weeks ag...            5.0       2  \n",
       "9440  \"These drops ruined my hearing I developed hea...            1.0       3  \n",
       "9441  \"I thought I had too much wine or was losing i...            8.0       0  \n",
       "9444  \"So my 10 year old daughter has tested positiv...            5.0       1  "
      ]
     },
     "execution_count": 49,
     "metadata": {},
     "output_type": "execute_result"
    }
   ],
   "source": [
    "combined_data = combined_data[~combined_data['Conditions'].str.contains(\"users found this\")] \n",
    "print(combined_data.shape)\n",
    "combined_data = combined_data[~combined_data['Conditions'].str.contains(\"Not Listed / Othe\")] \n",
    "print(combined_data.shape)\n",
    "#quick look at the data\n",
    "combined_data.head(10)\n"
   ]
  },
  {
   "cell_type": "code",
   "execution_count": null,
   "id": "8a1a7a29",
   "metadata": {},
   "outputs": [],
   "source": [
    "combined_data.tail(10)"
   ]
  },
  {
   "cell_type": "code",
   "execution_count": 50,
   "id": "f236dd81",
   "metadata": {},
   "outputs": [],
   "source": [
    "combined_data.reviews= removeSpecialCharacters(combined_data)\n",
    "#both lemmatizer and stemmer had almost same impact on cleaning\n",
    "#process so running either of any would do just fine\n",
    "combined_data.reviews = combined_data.reviews.apply(lambda x: word_stemmer(x))\n",
    "#combined_data.chunk = combined_data.chunk.apply(lambda x: word_lemmatizer(x))"
   ]
  },
  {
   "cell_type": "code",
   "execution_count": 51,
   "id": "beac868c",
   "metadata": {},
   "outputs": [],
   "source": [
    "new_stop_words =['im','like', 'just','ive', 'forwardyesterday', 'says','mei'\n",
    " ,'forwardthis', 'forwas','forwards', 'forwhat',\n",
    " 'forwhen', 'forwardmy','forwhile','did', 'took','wont','uti',\n",
    "'forwish','forworked','forwardmethadone', 'іt','didnt','let','aa','aaa','aaaaa',\n",
    "'zzzzzzzzthe','zzz','zzzzz', 'zzzzzzzzif','aaaaand', 'aaaaargmy', 'aaaand','aaahhi', 'aaand',\n",
    " 'aaddthis', 'aafter', 'aai', 'aam', 'aamp', 'aampb', 'aampd',\n",
    " 'aampe', 'aampee','aana', 'aap','aampeon', 'zzzzap','aampethe','abacavirlamivudinenevirapine',\n",
    " 'aaps','aarp','aatd','ab','abbvie','taking']\n",
    "stop_words = text.ENGLISH_STOP_WORDS.union(new_stop_words)\n",
    "test = createDTM(combined_data,stop_words) \n",
    "test = test.transpose()"
   ]
  },
  {
   "cell_type": "code",
   "execution_count": 52,
   "id": "afe55ffd",
   "metadata": {},
   "outputs": [],
   "source": [
    "def topwords(data,n):\n",
    "    top_dict = {}\n",
    "    for c in data.columns:\n",
    "        top = data[c].sort_values(ascending=False).head(n)\n",
    "        top_dict[c]= list(zip(top.index,top.values))\n",
    "\n",
    "    return top_dict"
   ]
  },
  {
   "cell_type": "code",
   "execution_count": 53,
   "id": "c920295c",
   "metadata": {},
   "outputs": [
    {
     "name": "stdout",
     "output_type": "stream",
     "text": [
      "('Left Ventricular Dysfunction', 'Valsartan')\n",
      "issues, daily, edema, mg, oili, norvasc, effect, combination, medicine, diovan, relief, fish, bystolic, forwardim\n",
      "---\n",
      "('Left Ventricular Dysfunction', 'Coreg')\n",
      "heart, medicine, coreg, left, knees, started, used, improved, lvef, better, daily, mg, month, good\n",
      "---\n",
      "('Left Ventricular Dysfunction', 'Metoprolol')\n",
      "mg, diltiazem, days, pvcs, er, symptoms, helped, getting, pulmonary, ativan, suffered, share, steadily, clots\n",
      "---\n",
      "('Left Ventricular Dysfunction', 'Diovan')\n",
      "issues, daily, edema, mg, oili, norvasc, effect, combination, medicine, diovan, relief, fish, bystolic, forwardim\n",
      "---\n",
      "('Left Ventricular Dysfunction', 'Carvedilol')\n",
      "ef, coreg, heart, medicine, started, drug, day, left, knees, forget, better, lvef, pressure, attack\n",
      "---\n",
      "('Left Ventricular Dysfunction', 'Enalapril')\n",
      "days, weeks, heart, medication, years, coughing, fluids, son, pancreatitis, remodeling, angioedema, dizziness, hope, works\n",
      "---\n",
      "('Left Ventricular Dysfunction', 'Toprol-XL')\n",
      "breathing, heart, hard, sports, nice, easy, helped, forumexperienced, forumi, forumage, forumim, forusemide, forumla, forums\n",
      "---\n",
      "('Left Ventricular Dysfunction', 'Benazepril')\n",
      "early, working, visit, need, wake, controlling, high, feel, doctor, blood, little, tired, pressure, discuss\n",
      "---\n",
      "('Left Ventricular Dysfunction', 'Vasotec')\n",
      "medication, years, mild, lip, coughing, different, told, recovered, symptoms, check, face, dizziness, keeping, fast\n",
      "---\n",
      "('ADHD', 'Guanfacine')\n",
      "intuniv, son, adhd, started, old, year, medication, school, mg, years, day, weeks, better, days\n",
      "---\n",
      "('ADHD', 'Daytrana')\n",
      "patch, daytrana, son, school, adhd, tried, year, medication, day, old, skin, started, hours, medicine\n",
      "---\n",
      "('ADHD', 'Intuniv')\n",
      "intuniv, son, adhd, started, old, year, school, mg, medication, night, day, weeks, years, week\n",
      "---\n",
      "('ADHD', 'Focalin')\n",
      "focalin, school, old, year, adhd, son, medication, xr, started, focus, day, feel, medicine, effects\n",
      "---\n",
      "('ADHD', 'Vyvanse')\n",
      "vyvanse, adhd, started, feel, medication, day, years, school, old, effects, year, life, time, work\n",
      "---\n"
     ]
    }
   ],
   "source": [
    "top_word = topwords(test,30)\n",
    "\n",
    "i =0\n",
    "for drugName, top_words in top_word.items():\n",
    "    if i !=14: #to visualize a hand few of the result \n",
    "        print(drugName)\n",
    "        print(', '.join([word for word, count in top_words[0:14]]))\n",
    "        print('---')\n",
    "        i+=1\n",
    "#this would be easily visualized using  word cloud later on"
   ]
  },
  {
   "cell_type": "code",
   "execution_count": 55,
   "id": "2906d808",
   "metadata": {},
   "outputs": [],
   "source": [
    "# pull out the top 30 words for each condition\n",
    "words = []\n",
    "\n",
    "for Condition in test.columns:\n",
    "    top = [word for (word, count) in top_word[drugName]]\n",
    "    \n",
    "    for t in top:\n",
    "        words.append(t)\n",
    "#This displays the number of unique rows (condition and drugname)  where each word was used.\n",
    "Counter(words).most_common()\n",
    "\n",
    "[(word,count) for word, count in Counter(words).most_common()]\n",
    "#Wordcloud can be used to visualize how customer perceive the effectiveness\n",
    "#of a medication for each medication\n",
    "wc = WordCloud(stopwords=stop_words,\n",
    "                       background_color='white',\n",
    "                       colormap='Dark2',\n",
    "                       max_font_size=300,\n",
    "                       max_words=30,\n",
    "                       random_state=42)\n",
    "combined_data[['Conditions','drugNames']]\n",
    "#Use this to randomly get a condition and drugname\n",
    "search =combined_data.loc[np.random.randint(0,combined_data.shape[0]),['Conditions','drugNames']]\n",
    "\n",
    "condition =search[0]\n",
    "drugname=search[1]"
   ]
  },
  {
   "cell_type": "code",
   "execution_count": 60,
   "id": "cc42206b",
   "metadata": {},
   "outputs": [
    {
     "name": "stdout",
     "output_type": "stream",
     "text": [
      "Report on Thorazine for Mania\n"
     ]
    },
    {
     "data": {
      "image/png": "[encoded data removed]",
      "text/plain": [
       "<Figure size 432x288 with 1 Axes>"
      ]
     },
     "metadata": {
      "needs_background": "light"
     },
     "output_type": "display_data"
    },
    {
     "name": "stdout",
     "output_type": "stream",
     "text": [
      "Average Rating of  : [5.5]\n",
      "\n",
      "\n",
      "Found Useful To(persons) : [38]\n",
      "\n",
      "\n",
      "List of other drugs also for Mania: ['Depakote', 'Divalproex sodium', 'Lithium', 'Stavzor', 'Risperidone', 'Haldol', 'Chlorpromazine', 'Depakote ER', 'Haloperidol', 'Risperdal', 'Depakote Sprinkles', 'Valproic acid']  \n",
      "\n",
      "\n",
      "Best medication  based on Average rating : Stavzor\n",
      "\n",
      "\n",
      "best Medication by number of person(s) that found it useful: Divalproex sodium\n",
      "\n"
     ]
    }
   ],
   "source": [
    "print(\"Report on {0} for {1}\".format(drugname,condition))\n",
    "wcdata = combined_data.reviews[(combined_data.Conditions == condition) & (combined_data.drugNames==drugname)]\n",
    "wc_topword= top_word[(condition,drugname)]\n",
    "wc.generate(str(wc_topword))\n",
    "wc.to_file('wc.jpeg')\n",
    "plt.show\n",
    "plt.show('wc.jpeg')\n",
    "img = mpimg.imread('wc.jpeg')\n",
    "imgplot = plt.imshow(img)\n",
    "plt.show()\n",
    "wc_topword= top_word[(condition,drugname)]\n",
    "wc.generate(str(wc_topword))\n",
    "\n",
    "\n",
    "'''\n",
    "You can easily see a high correlation between  (Number of people \n",
    "that found it useful and average rating) and positivity or negativity of \n",
    "words found in the word cloud\n",
    "'''\n",
    "#Note that max rating is a 10.\n",
    "realdata = data[['drugName', 'condition','rating','usefulCount']]\n",
    "realdata = realdata[data.condition == condition]\n",
    "\n",
    "alldrugs = combined_data[(combined_data.Conditions == condition)]\n",
    "requesteddrug = combined_data[(combined_data.Conditions ==condition) & (combined_data.drugNames == drugname)]\n",
    "relateddrugs =  combined_data[(combined_data.Conditions ==condition) & (combined_data.drugNames != drugname)]\n",
    "max_average_rating = list(alldrugs.drugNames[alldrugs.averageRating == alldrugs.averageRating.max()])[0]\n",
    "max_usefulTo =list(alldrugs.drugNames[alldrugs.counts == alldrugs.counts.max()])[0]\n",
    "\n",
    "print(\"Average Rating of  : {0}\\n\".format(list(requesteddrug.averageRating))+'\\n\\n'+\n",
    "\"Found Useful To(persons) : {0}\\n\".format(list(requesteddrug.counts))+'\\n\\n'+\n",
    "\"List of other drugs also for {1}: {0}  \\n\".format(list(relateddrugs.drugNames.unique()),condition)+'\\n\\n'+\n",
    "\"Best medication  based on Average rating : {0}\\n\".format(max_average_rating)+'\\n\\n'+\n",
    "\"best Medication by number of person(s) that found it useful: {0}\\n\".format(max_usefulTo))"
   ]
  },
  {
   "cell_type": "code",
   "execution_count": 61,
   "id": "97fb80ae",
   "metadata": {},
   "outputs": [],
   "source": [
    "def is_positive(reviews: str) -> bool:\n",
    "    return sia.polarity_scores(reviews)[\"compound\"] > 0"
   ]
  },
  {
   "cell_type": "code",
   "execution_count": 64,
   "id": "b0675b2a",
   "metadata": {},
   "outputs": [
    {
     "name": "stderr",
     "output_type": "stream",
     "text": [
      "[nltk_data] Downloading package names to\n",
      "[nltk_data]     C:\\Users\\smvijaykumar\\AppData\\Roaming\\nltk_data...\n",
      "[nltk_data]   Unzipping corpora\\names.zip.\n",
      "[nltk_data] Downloading package stopwords to\n",
      "[nltk_data]     C:\\Users\\smvijaykumar\\AppData\\Roaming\\nltk_data...\n",
      "[nltk_data]   Unzipping corpora\\stopwords.zip.\n",
      "[nltk_data] Downloading package averaged_perceptron_tagger to\n",
      "[nltk_data]     C:\\Users\\smvijaykumar\\AppData\\Roaming\\nltk_data...\n",
      "[nltk_data]   Unzipping taggers\\averaged_perceptron_tagger.zip.\n",
      "[nltk_data] Downloading package vader_lexicon to\n",
      "[nltk_data]     C:\\Users\\smvijaykumar\\AppData\\Roaming\\nltk_data...\n",
      "[nltk_data] Downloading package punkt to\n",
      "[nltk_data]     C:\\Users\\smvijaykumar\\AppData\\Roaming\\nltk_data...\n",
      "[nltk_data]   Unzipping tokenizers\\punkt.zip.\n"
     ]
    },
    {
     "data": {
      "text/plain": [
       "True"
      ]
     },
     "execution_count": 64,
     "metadata": {},
     "output_type": "execute_result"
    }
   ],
   "source": [
    "import nltk\n",
    "\n",
    "nltk.download([\n",
    " \"names\",\n",
    " \"stopwords\",\n",
    " \"averaged_perceptron_tagger\",\n",
    " \"vader_lexicon\",\n",
    " \"punkt\"\n",
    "])"
   ]
  },
  {
   "cell_type": "code",
   "execution_count": 75,
   "id": "5ccf79ef",
   "metadata": {},
   "outputs": [],
   "source": [
    "from nltk.sentiment import SentimentIntensityAnalyzer\n",
    "sia = SentimentIntensityAnalyzer()\n",
    "combined_data['is_positive'] = [is_positive(review) for review in combined_data.reviews]"
   ]
  },
  {
   "cell_type": "code",
   "execution_count": 84,
   "id": "257d8694",
   "metadata": {},
   "outputs": [
    {
     "name": "stdout",
     "output_type": "stream",
     "text": [
      "4754\n"
     ]
    }
   ],
   "source": [
    "print(len(combined_data[combined_data['is_positive'] == False]))"
   ]
  },
  {
   "cell_type": "code",
   "execution_count": 78,
   "id": "18eb2a78",
   "metadata": {},
   "outputs": [
    {
     "name": "stderr",
     "output_type": "stream",
     "text": [
      "ic| combined_data.shape: (8333, 6)\n",
      "ic| data1.shape: (161297, 7)\n",
      "ic| data2.shape: (53766, 7)\n"
     ]
    },
    {
     "data": {
      "text/plain": [
       "(53766, 7)"
      ]
     },
     "execution_count": 78,
     "metadata": {},
     "output_type": "execute_result"
    }
   ],
   "source": [
    "from icecream import ic\n",
    "ic(combined_data.shape)\n",
    "ic(data1.shape)\n",
    "ic(data2.shape)"
   ]
  },
  {
   "cell_type": "code",
   "execution_count": null,
   "id": "b6c349bd",
   "metadata": {},
   "outputs": [],
   "source": []
  }
 ],
 "metadata": {
  "kernelspec": {
   "display_name": "Python 3",
   "language": "python",
   "name": "python3"
  },
  "language_info": {
   "codemirror_mode": {
    "name": "ipython",
    "version": 3
   },
   "file_extension": ".py",
   "mimetype": "text/x-python",
   "name": "python",
   "nbconvert_exporter": "python",
   "pygments_lexer": "ipython3",
   "version": "3.6.13"
  }
 },
 "nbformat": 4,
 "nbformat_minor": 5
}
